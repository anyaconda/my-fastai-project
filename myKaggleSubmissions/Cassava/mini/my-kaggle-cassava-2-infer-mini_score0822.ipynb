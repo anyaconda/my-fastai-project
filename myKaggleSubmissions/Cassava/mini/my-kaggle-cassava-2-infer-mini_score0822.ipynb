{
 "cells": [
  {
   "cell_type": "code",
   "execution_count": 1,
   "metadata": {
    "execution": {
     "iopub.execute_input": "2021-02-08T09:33:19.512288Z",
     "iopub.status.busy": "2021-02-08T09:33:19.510331Z",
     "iopub.status.idle": "2021-02-08T09:33:19.513134Z",
     "shell.execute_reply": "2021-02-08T09:33:19.513785Z"
    },
    "papermill": {
     "duration": 0.021405,
     "end_time": "2021-02-08T09:33:19.514378",
     "exception": false,
     "start_time": "2021-02-08T09:33:19.492973",
     "status": "completed"
    },
    "tags": []
   },
   "outputs": [],
   "source": [
    "#meta 2/7/2021 Kaggle Cassava Module 2-Inference Mini (for rapid iteration)\n",
    "#fast.ai 2020 study group Kaggle Competition\n",
    "#src https://www.kaggle.com/c/cassava-leaf-disease-classification\n",
    "#prev competition src https://www.kaggle.com/c/cassava-disease\n",
    "#references https://arxiv.org/pdf/1908.02900.pdf\n",
    "\n",
    "#input: export.pkl\n",
    "#output: submission.csv\n",
    "#pwd: /kaggle/working\n",
    "#summary: Export a model and submit predictions on mini data.\n",
    "#based on version of my-kaggle-cassava-2-infer.ipynb -> my-kaggle-cassava-2-infer_bs56_score0884.ipynb\n",
    "\n",
    "\n",
    "#prev in my-kaggle-cassava-2-infer_bs56_score0884.ipynb\n",
    "#BEST 1/16/2020 MODEL 2-INFERENCE (GPU) FULL EXPORTED v2\n",
    "#      $params: DEBUG = 0\n",
    "#      $params: delta learn = load_learner($path_model=v2, cpu=False), $TTA params\n",
    "#               preds, _ = learn_inf.tta(dl=test_dl, n=4, beta=0.25)\n",
    "#      Score: 0.889  GPU submission time: 15 min Rank: 1434\n",
    "#      Note: Same model v2 submitted without TTA scored only .877 (see my-kaggle-cassava-1-model_0877a.ipynb)\n",
    "\n",
    "#latest 1/23/2020 MODEL 2-INFERENCE (GPU) FULL EXPORTED v2bs56\n",
    "#      $params: DEBUG = 0\n",
    "#      $params: learn = load_learner($path_model=v2bs56, cpu=False), $TTA params\n",
    "#               preds, _ = learn_inf.tta(dl=test_dl, n=4, beta=0.25)\n",
    "#      Score: .884  GPU submission time: 15 min Rank: n/a\n",
    "#lateset  \n",
    "#      $params: learn = load_learner($path_model=v2bs56, cpu=False), $TTA params\n",
    "#               preds, _ = learn_inf.tta(dl=test_dl, n=10, beta=0.75, use_max=True)\n",
    "#      Score: .881  GPU submission time: 15 min Rank: n/a (no GH)\n",
    "#      Note: Same model v2bs56 submitted without TTA scored only .881 (see my-kaggle-cassava-1-model_bs56_score0881.ipynb)\n",
    "\n",
    "#history\n",
    "#here 2/7/2021 MODULE 2-INFERENCE MINI EXPORTED v1bs64\n",
    "#      MINI = 1 no $param\n",
    "#      $params: learn = load_learner($path_model=v1bs64, cpu=False), $TTA params\n",
    "#               preds, _ = learn_inf.tta(dl=test_dl, n=4, beta=0.25)\n",
    "#      Score: .?  GPU submission time: 15 min Rank: n/a (no GH)\n",
    "#      Note: Same model v1bs64 submitted without TTA scored .812 (see my-kaggle-cassava-1-model-mini_score0812.ipynb)\n"
   ]
  },
  {
   "cell_type": "code",
   "execution_count": 2,
   "metadata": {
    "_cell_guid": "b1076dfc-b9ad-4769-8c92-a6c4dae69d19",
    "_uuid": "8f2839f25d086af736a60e9eeb907d3b93b6e0e5",
    "execution": {
     "iopub.execute_input": "2021-02-08T09:33:19.540550Z",
     "iopub.status.busy": "2021-02-08T09:33:19.539761Z",
     "iopub.status.idle": "2021-02-08T09:33:22.791637Z",
     "shell.execute_reply": "2021-02-08T09:33:22.791073Z"
    },
    "papermill": {
     "duration": 3.266608,
     "end_time": "2021-02-08T09:33:22.791841",
     "exception": false,
     "start_time": "2021-02-08T09:33:19.525233",
     "status": "completed"
    },
    "tags": []
   },
   "outputs": [],
   "source": [
    "# This Python 3 environment comes with many helpful analytics libraries installed\n",
    "# It is defined by the kaggle/python Docker image: https://github.com/kaggle/docker-python\n",
    "\n",
    "import os\n",
    "#import time #to track performance time\n",
    "import numpy as np # linear algebra\n",
    "import pandas as pd # data processing, CSV file I/O (e.g. pd.read_csv)\n",
    "\n",
    "#modeling\n",
    "from fastai.vision.all import *\n",
    "\n",
    "# Input data files are available in the read-only \"../input/\" directory\n",
    "# You can write up to 20GB to the current directory (/kaggle/working/) that gets preserved as output when you create a version using \"Save & Run All\" \n",
    "# You can also write temporary files to /kaggle/temp/, but they won't be saved outside of the current session"
   ]
  },
  {
   "cell_type": "code",
   "execution_count": 3,
   "metadata": {
    "execution": {
     "iopub.execute_input": "2021-02-08T09:33:22.818348Z",
     "iopub.status.busy": "2021-02-08T09:33:22.817467Z",
     "iopub.status.idle": "2021-02-08T09:33:22.820036Z",
     "shell.execute_reply": "2021-02-08T09:33:22.820533Z"
    },
    "papermill": {
     "duration": 0.018169,
     "end_time": "2021-02-08T09:33:22.820700",
     "exception": false,
     "start_time": "2021-02-08T09:33:22.802531",
     "status": "completed"
    },
    "tags": []
   },
   "outputs": [],
   "source": [
    "#--constants and variables\n",
    "\n",
    "#set paths\n",
    "path = Path('../input/cassava-leaf-disease-classification')\n",
    "\n",
    "#$params\n",
    "path_model = Path('../input/my-cassava-model-mini-v1bs64')\n",
    "\n",
    "#--functions\n",
    "def get_x(row): return path/'train_images'/row['image_id']\n",
    "def get_y(row): return row['label']\n"
   ]
  },
  {
   "cell_type": "markdown",
   "metadata": {
    "papermill": {
     "duration": 0.009912,
     "end_time": "2021-02-08T09:33:22.841104",
     "exception": false,
     "start_time": "2021-02-08T09:33:22.831192",
     "status": "completed"
    },
    "tags": []
   },
   "source": [
    "# Cassava Disease Classification - Inference\n",
    "##### Objective: Classify pictures of cassava leaves into 1 of 4 disease categories or healthy.\n",
    "\n",
    "Export saved model and create a submission.csv file, with predictions on test images.\n"
   ]
  },
  {
   "cell_type": "markdown",
   "metadata": {
    "papermill": {
     "duration": 0.010644,
     "end_time": "2021-02-08T09:33:22.861890",
     "exception": false,
     "start_time": "2021-02-08T09:33:22.851246",
     "status": "completed"
    },
    "tags": []
   },
   "source": [
    "## 0. Load Prepared Data and Model\n",
    "\n",
    "- Input(s): export.pkl\n"
   ]
  },
  {
   "cell_type": "code",
   "execution_count": 4,
   "metadata": {
    "execution": {
     "iopub.execute_input": "2021-02-08T09:33:22.887210Z",
     "iopub.status.busy": "2021-02-08T09:33:22.886588Z",
     "iopub.status.idle": "2021-02-08T09:33:28.925201Z",
     "shell.execute_reply": "2021-02-08T09:33:28.924442Z"
    },
    "papermill": {
     "duration": 6.052794,
     "end_time": "2021-02-08T09:33:28.925350",
     "exception": false,
     "start_time": "2021-02-08T09:33:22.872556",
     "status": "completed"
    },
    "tags": []
   },
   "outputs": [
    {
     "name": "stdout",
     "output_type": "stream",
     "text": [
      "../input/my-cassava-model-mini-v1bs64\n"
     ]
    }
   ],
   "source": [
    "#track time\n",
    "t0 = time.time()\n",
    "\n",
    "#check if loaded model exists and load it\n",
    "if path_model.ls(file_exts='.pkl'):\n",
    "    print(path_model)\n",
    "    learn_inf = load_learner(path_model/'export.pkl', cpu=False)\n",
    "    #learn_inf.to_native_fp32()\n",
    "else:\n",
    "    print(\"No model to export\")"
   ]
  },
  {
   "cell_type": "markdown",
   "metadata": {
    "papermill": {
     "duration": 0.010389,
     "end_time": "2021-02-08T09:33:28.947495",
     "exception": false,
     "start_time": "2021-02-08T09:33:28.937106",
     "status": "completed"
    },
    "tags": []
   },
   "source": [
    "## 3. Predict"
   ]
  },
  {
   "cell_type": "code",
   "execution_count": 5,
   "metadata": {
    "execution": {
     "iopub.execute_input": "2021-02-08T09:33:28.974502Z",
     "iopub.status.busy": "2021-02-08T09:33:28.972653Z",
     "iopub.status.idle": "2021-02-08T09:33:28.975217Z",
     "shell.execute_reply": "2021-02-08T09:33:28.975714Z"
    },
    "papermill": {
     "duration": 0.017605,
     "end_time": "2021-02-08T09:33:28.975885",
     "exception": false,
     "start_time": "2021-02-08T09:33:28.958280",
     "status": "completed"
    },
    "tags": []
   },
   "outputs": [],
   "source": [
    "##Predict on one file\n",
    "#view test images - only one\n",
    "#test_img = get_image_files(path/'test_images')\n",
    "#Image.open(test_img[0])\n",
    "\n",
    "#predict one, returns a tuple, get 0th item\n",
    "#y_hat = learn_inf.predict(test_img[0])\n",
    "#y_hat[0]"
   ]
  },
  {
   "cell_type": "markdown",
   "metadata": {
    "papermill": {
     "duration": 0.010161,
     "end_time": "2021-02-08T09:33:28.996859",
     "exception": false,
     "start_time": "2021-02-08T09:33:28.986698",
     "status": "completed"
    },
    "tags": []
   },
   "source": [
    "Test dataset"
   ]
  },
  {
   "cell_type": "code",
   "execution_count": 6,
   "metadata": {
    "execution": {
     "iopub.execute_input": "2021-02-08T09:33:29.023722Z",
     "iopub.status.busy": "2021-02-08T09:33:29.022994Z",
     "iopub.status.idle": "2021-02-08T09:33:29.036527Z",
     "shell.execute_reply": "2021-02-08T09:33:29.035699Z"
    },
    "papermill": {
     "duration": 0.029376,
     "end_time": "2021-02-08T09:33:29.036665",
     "exception": false,
     "start_time": "2021-02-08T09:33:29.007289",
     "status": "completed"
    },
    "tags": []
   },
   "outputs": [],
   "source": [
    "#template\n",
    "sample_submission = pd.read_csv(path/'sample_submission.csv')\n",
    "submission = sample_submission.copy()"
   ]
  },
  {
   "cell_type": "code",
   "execution_count": 7,
   "metadata": {
    "execution": {
     "iopub.execute_input": "2021-02-08T09:33:29.072512Z",
     "iopub.status.busy": "2021-02-08T09:33:29.066482Z",
     "iopub.status.idle": "2021-02-08T09:33:29.076090Z",
     "shell.execute_reply": "2021-02-08T09:33:29.076603Z"
    },
    "papermill": {
     "duration": 0.028886,
     "end_time": "2021-02-08T09:33:29.076757",
     "exception": false,
     "start_time": "2021-02-08T09:33:29.047871",
     "status": "completed"
    },
    "tags": []
   },
   "outputs": [
    {
     "data": {
      "text/plain": [
       "['../input/cassava-leaf-disease-classification/test_images/2216849948.jpg']"
      ]
     },
     "execution_count": 7,
     "metadata": {},
     "output_type": "execute_result"
    }
   ],
   "source": [
    "#create test images id\n",
    "test_img_id = [os.path.join(path/'test_images', x) for x in submission['image_id'].values]\n",
    "\n",
    "#images in test files\n",
    "test_img_id"
   ]
  },
  {
   "cell_type": "code",
   "execution_count": 8,
   "metadata": {
    "execution": {
     "iopub.execute_input": "2021-02-08T09:33:29.106027Z",
     "iopub.status.busy": "2021-02-08T09:33:29.105324Z",
     "iopub.status.idle": "2021-02-08T09:33:31.589760Z",
     "shell.execute_reply": "2021-02-08T09:33:31.589209Z"
    },
    "papermill": {
     "duration": 2.502269,
     "end_time": "2021-02-08T09:33:31.589923",
     "exception": false,
     "start_time": "2021-02-08T09:33:29.087654",
     "status": "completed"
    },
    "tags": []
   },
   "outputs": [
    {
     "name": "stdout",
     "output_type": "stream",
     "text": [
      "1\n"
     ]
    },
    {
     "data": {
      "text/html": [
       "\n",
       "    <div>\n",
       "        <style>\n",
       "            /* Turns off some styling */\n",
       "            progress {\n",
       "                /* gets rid of default border in Firefox and Opera. */\n",
       "                border: none;\n",
       "                /* Needs to be in here for Safari polyfill so background images work as expected. */\n",
       "                background-size: auto;\n",
       "            }\n",
       "            .progress-bar-interrupted, .progress-bar-interrupted::-webkit-progress-bar {\n",
       "                background: #F44336;\n",
       "            }\n",
       "        </style>\n",
       "      <progress value='0' class='' max='15' style='width:300px; height:20px; vertical-align: middle;'></progress>\n",
       "      \n",
       "    </div>\n",
       "    \n"
      ],
      "text/plain": [
       "<IPython.core.display.HTML object>"
      ]
     },
     "metadata": {},
     "output_type": "display_data"
    },
    {
     "data": {
      "text/html": [],
      "text/plain": [
       "<IPython.core.display.HTML object>"
      ]
     },
     "metadata": {},
     "output_type": "display_data"
    },
    {
     "data": {
      "text/html": [
       "<div>\n",
       "<style scoped>\n",
       "    .dataframe tbody tr th:only-of-type {\n",
       "        vertical-align: middle;\n",
       "    }\n",
       "\n",
       "    .dataframe tbody tr th {\n",
       "        vertical-align: top;\n",
       "    }\n",
       "\n",
       "    .dataframe thead th {\n",
       "        text-align: right;\n",
       "    }\n",
       "</style>\n",
       "<table border=\"1\" class=\"dataframe\">\n",
       "  <thead>\n",
       "    <tr style=\"text-align: right;\">\n",
       "      <th></th>\n",
       "      <th>image_id</th>\n",
       "      <th>label</th>\n",
       "    </tr>\n",
       "  </thead>\n",
       "  <tbody>\n",
       "    <tr>\n",
       "      <th>0</th>\n",
       "      <td>2216849948.jpg</td>\n",
       "      <td>4</td>\n",
       "    </tr>\n",
       "  </tbody>\n",
       "</table>\n",
       "</div>"
      ],
      "text/plain": [
       "         image_id  label\n",
       "0  2216849948.jpg      4"
      ]
     },
     "execution_count": 8,
     "metadata": {},
     "output_type": "execute_result"
    }
   ],
   "source": [
    "test_dl = learn_inf.dls.test_dl(test_img_id)\n",
    "print(len(test_dl))\n",
    "\n",
    "#predict\n",
    "#or our TTA we will be doing a 15x ensemble similar to what was performed there\n",
    "preds, _ = learn_inf.tta(dl=test_dl, n=4, beta=0.25) #$params\n",
    "#preds\n",
    "\n",
    "#submission\n",
    "submission['label'] = preds.argmax(dim=-1).numpy()\n",
    "submission.head()"
   ]
  },
  {
   "cell_type": "markdown",
   "metadata": {
    "papermill": {
     "duration": 0.014322,
     "end_time": "2021-02-08T09:33:31.617855",
     "exception": false,
     "start_time": "2021-02-08T09:33:31.603533",
     "status": "completed"
    },
    "tags": []
   },
   "source": [
    "## 4. Submit\n"
   ]
  },
  {
   "cell_type": "code",
   "execution_count": 9,
   "metadata": {
    "execution": {
     "iopub.execute_input": "2021-02-08T09:33:31.649176Z",
     "iopub.status.busy": "2021-02-08T09:33:31.648312Z",
     "iopub.status.idle": "2021-02-08T09:33:31.813439Z",
     "shell.execute_reply": "2021-02-08T09:33:31.814191Z"
    },
    "papermill": {
     "duration": 0.183812,
     "end_time": "2021-02-08T09:33:31.814413",
     "exception": false,
     "start_time": "2021-02-08T09:33:31.630601",
     "status": "completed"
    },
    "tags": []
   },
   "outputs": [
    {
     "name": "stdout",
     "output_type": "stream",
     "text": [
      "Inference time (in min) 0.1486992319424947\n"
     ]
    }
   ],
   "source": [
    "#save to csv\n",
    "submission.to_csv('submission.csv', index=False)\n",
    "\n",
    "#total inference time\n",
    "t1 = time.time()\n",
    "print (\"Inference time (in min)\", (time.time() - t0)/60)"
   ]
  }
 ],
 "metadata": {
  "kernelspec": {
   "display_name": "Python 3",
   "language": "python",
   "name": "python3"
  },
  "language_info": {
   "codemirror_mode": {
    "name": "ipython",
    "version": 3
   },
   "file_extension": ".py",
   "mimetype": "text/x-python",
   "name": "python",
   "nbconvert_exporter": "python",
   "pygments_lexer": "ipython3",
   "version": "3.7.9"
  },
  "papermill": {
   "default_parameters": {},
   "duration": 19.411706,
   "end_time": "2021-02-08T09:33:33.038775",
   "environment_variables": {},
   "exception": null,
   "input_path": "__notebook__.ipynb",
   "output_path": "__notebook__.ipynb",
   "parameters": {},
   "start_time": "2021-02-08T09:33:13.627069",
   "version": "2.2.2"
  }
 },
 "nbformat": 4,
 "nbformat_minor": 4
}
