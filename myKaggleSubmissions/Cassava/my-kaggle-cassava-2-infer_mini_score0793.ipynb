{
 "cells": [
  {
   "cell_type": "code",
   "execution_count": 1,
   "metadata": {
    "execution": {
     "iopub.execute_input": "2021-01-13T09:50:58.705167Z",
     "iopub.status.busy": "2021-01-13T09:50:58.704471Z",
     "iopub.status.idle": "2021-01-13T09:50:58.708422Z",
     "shell.execute_reply": "2021-01-13T09:50:58.707797Z"
    },
    "papermill": {
     "duration": 0.027818,
     "end_time": "2021-01-13T09:50:58.708554",
     "exception": false,
     "start_time": "2021-01-13T09:50:58.680736",
     "status": "completed"
    },
    "tags": []
   },
   "outputs": [],
   "source": [
    "#meta 12/12/2020 Kaggle Cassava Model - Inference\n",
    "#fast.ai 2020 study group Kaggle Competition\n",
    "#src https://www.kaggle.com/c/cassava-leaf-disease-classification\n",
    "#prev competition src https://www.kaggle.com/c/cassava-disease\n",
    "#references https://arxiv.org/pdf/1908.02900.pdf\n",
    "\n",
    "#input: df_train.pkl, export.pkl\n",
    "#output: submission.csv\n",
    "#pwd: /kaggle/working\n",
    "\n",
    "#history\n",
    "#here 1/10/2020 INFERENCE - ALPHA MODEL (POC)\n",
    "#      Export saved alpha dataframe & model and create submission.csv file\n",
    "#      Alpha model - manually tuned model\n",
    "#      POC export a model and make submissions.\n",
    "#      Successful submit with ? accuracy\n",
    "\n",
    "#was 1/9/2020 MODEL - BACK TO v15 SCORE0.877, TRAIN FT10. EXPORT FOR INFERENCE\n",
    "#      in FULL mode, train entire ds\n",
    "#      dataprep: dblocksplitter=ColSplitter(), item_tfms = CropPad(500), batch_tfms = aug_transforms(mult=2))\n",
    "#      model: learn = cnn_learner(dls, resnet18, loss_func=LabelSmoothingCrossEntropy(), metrics=accuracy)\n",
    "#      learn.fine_tune(10)\n",
    "#      export output for inference; no submission file output\n",
    "# 1/11/2020 MODEL - SAME AS ABOVE -> MINI, TRAIN FT1. EXPORT FOR INFERENCE\n",
    "#      MINI exports, trained on 50% subsample \n",
    "#      Mini model, test for inference on GPU during submission. Score .139\n",
    "# 1/11/2020 MODEL - SAME AS ABOVE -> EXPORT FULL DATA AND MODEL FOR INFERENCE\n",
    "#      FULL exports, trained on 100% train ds\n",
    "#      Full model, test for inference on GPU during submission. Score .139\n",
    "# 1/11/2020 MODEL - SAME AS ABOVE -> NO GPU. Score .139\n",
    "# 1/11/2020 MODEL - SAME AS ABOVE -> NO GPU. Added loop for test_img. Score .139\n",
    "#      Error: dls is not defined (because of CPU)\n",
    "# 1/11/2020 MODEL - SAME AS ABOVE -> GPU. Score .139\n",
    "#      RuntimeError: Input type (torch.cuda.FloatTensor) and weight type (torch.FloatTensor) should be the same\n",
    "\n",
    "#1/11/2020 MODEL - BACK TO v0 INFERENCE ONLY SUCCESSFUL SUBMIT. SCORE 0.652. ALPHA EXPORTS.\n",
    "#      FULL exports, trained on 100% train ds\n",
    "#      Full model?, alpha?, test for inference on CPU during submission. Same Score 0.652\n",
    "\n",
    "#1/12/2020 MODEL - BACK TO SUCCESSFUL v0 INFERENCE. SAME SCORE0.652. LATEST EXPORTS.\n",
    "#      FULL exports, trained on 100% train ds\n",
    "#      Full model?, switched from alpha to latest?, test for inference on CPU. Score 0.747\n",
    "#      Track inference time .1376 min but it really took at least an hour.\n",
    "#1/12/2020 MODEL - SAME AS ABOVE, ON GPU\n",
    "#      RuntimeError: Input type (torch.cuda.FloatTensor) and weight type (torch.FloatTensor) should be the same\n",
    "\n",
    "#1/12/2020 MODEL - INFERENCE (CPU). ADD TTA.\n",
    "#      Same as above, add TTA. Score ?\n",
    "\n",
    "#here 1/12/2020 MODEL - POC INFERENCE (CPU): REDO TEST IMAGES DATA ONLY. NO TTA FOR POC.\n",
    "#      Same as above, add DEBUG for testing mini model related exports. \n",
    "#      Redo test images data only -> no need for exported data, no need for dls with train data\n",
    "#      note: for now, previous code commented out.  if POC submission works, remove unnecessary code.\n",
    "#      Score ?"
   ]
  },
  {
   "cell_type": "code",
   "execution_count": 2,
   "metadata": {
    "_cell_guid": "b1076dfc-b9ad-4769-8c92-a6c4dae69d19",
    "_uuid": "8f2839f25d086af736a60e9eeb907d3b93b6e0e5",
    "execution": {
     "iopub.execute_input": "2021-01-13T09:50:58.743266Z",
     "iopub.status.busy": "2021-01-13T09:50:58.742507Z",
     "iopub.status.idle": "2021-01-13T09:51:01.718459Z",
     "shell.execute_reply": "2021-01-13T09:51:01.717711Z"
    },
    "papermill": {
     "duration": 2.995844,
     "end_time": "2021-01-13T09:51:01.718582",
     "exception": false,
     "start_time": "2021-01-13T09:50:58.722738",
     "status": "completed"
    },
    "tags": []
   },
   "outputs": [],
   "source": [
    "# This Python 3 environment comes with many helpful analytics libraries installed\n",
    "# It is defined by the kaggle/python Docker image: https://github.com/kaggle/docker-python\n",
    "\n",
    "import os\n",
    "#import time #to track performance time\n",
    "import numpy as np # linear algebra\n",
    "import pandas as pd # data processing, CSV file I/O (e.g. pd.read_csv)\n",
    "\n",
    "#modeling\n",
    "from fastai.vision.all import *\n",
    "\n",
    "# Input data files are available in the read-only \"../input/\" directory\n",
    "# You can write up to 20GB to the current directory (/kaggle/working/) that gets preserved as output when you create a version using \"Save & Run All\" \n",
    "# You can also write temporary files to /kaggle/temp/, but they won't be saved outside of the current session"
   ]
  },
  {
   "cell_type": "code",
   "execution_count": 3,
   "metadata": {
    "execution": {
     "iopub.execute_input": "2021-01-13T09:51:01.755523Z",
     "iopub.status.busy": "2021-01-13T09:51:01.754533Z",
     "iopub.status.idle": "2021-01-13T09:51:01.757585Z",
     "shell.execute_reply": "2021-01-13T09:51:01.756957Z"
    },
    "papermill": {
     "duration": 0.024965,
     "end_time": "2021-01-13T09:51:01.757711",
     "exception": false,
     "start_time": "2021-01-13T09:51:01.732746",
     "status": "completed"
    },
    "tags": []
   },
   "outputs": [],
   "source": [
    "#--constants and variables\n",
    "#SEED = 24\n",
    "DEBUG = 1\n",
    "\n",
    "#set paths\n",
    "path = Path('../input/cassava-leaf-disease-classification')\n",
    "if not DEBUG: \n",
    "    path_model = Path('../input/my-cassava-model')\n",
    "    #path_data = Path('../input/my-cassava-data')\n",
    "else:\n",
    "    path_model = Path('../input/my-cassava-mini')\n",
    "    #path_data = Path('../input/my-cassava-mini')\n",
    "\n",
    "#--functions\n",
    "def get_x(row): return path/'train_images'/row['image_id']\n",
    "def get_y(row): return row['label']\n"
   ]
  },
  {
   "cell_type": "markdown",
   "metadata": {
    "papermill": {
     "duration": 0.013845,
     "end_time": "2021-01-13T09:51:01.785802",
     "exception": false,
     "start_time": "2021-01-13T09:51:01.771957",
     "status": "completed"
    },
    "tags": []
   },
   "source": [
    "# Cassava Disease Classification - Inference\n",
    "##### Objective: Classify pictures of cassava leaves into 1 of 4 disease categories or healthy.\n",
    "\n",
    "Export saved data & model and create a submission.csv file, with predictions on test images.\n"
   ]
  },
  {
   "cell_type": "markdown",
   "metadata": {
    "papermill": {
     "duration": 0.014074,
     "end_time": "2021-01-13T09:51:01.813909",
     "exception": false,
     "start_time": "2021-01-13T09:51:01.799835",
     "status": "completed"
    },
    "tags": []
   },
   "source": [
    "## 0. Load Prepared Data and Model\n",
    "\n",
    "- Input(s): df_train.pkl and export.pkl\n"
   ]
  },
  {
   "cell_type": "code",
   "execution_count": 4,
   "metadata": {
    "execution": {
     "iopub.execute_input": "2021-01-13T09:51:01.850140Z",
     "iopub.status.busy": "2021-01-13T09:51:01.849455Z",
     "iopub.status.idle": "2021-01-13T09:51:01.855079Z",
     "shell.execute_reply": "2021-01-13T09:51:01.855779Z"
    },
    "papermill": {
     "duration": 0.027448,
     "end_time": "2021-01-13T09:51:01.855935",
     "exception": false,
     "start_time": "2021-01-13T09:51:01.828487",
     "status": "completed"
    },
    "tags": []
   },
   "outputs": [
    {
     "data": {
      "text/plain": [
       "\"$delete\\n#load prepared dataframe\\ndf_train = torch.load(path_data/'df_train.pkl')\\n\\n#dataloaders\\ndblock = DataBlock(blocks = (ImageBlock, CategoryBlock),\\n                 get_x = get_x,\\n                 get_y = get_y,\\n                 splitter=ColSplitter(),\\n                 item_tfms = CropPad(500), batch_tfms = aug_transforms(mult=2))\\n\\ndls = dblock.dataloaders(df_train, bs=64)\\n\""
      ]
     },
     "execution_count": 4,
     "metadata": {},
     "output_type": "execute_result"
    }
   ],
   "source": [
    "#track time\n",
    "t0 = time.time()\n",
    "\n",
    "'''$delete\n",
    "#load prepared dataframe\n",
    "df_train = torch.load(path_data/'df_train.pkl')\n",
    "\n",
    "#dataloaders\n",
    "dblock = DataBlock(blocks = (ImageBlock, CategoryBlock),\n",
    "                 get_x = get_x,\n",
    "                 get_y = get_y,\n",
    "                 splitter=ColSplitter(),\n",
    "                 item_tfms = CropPad(500), batch_tfms = aug_transforms(mult=2))\n",
    "\n",
    "dls = dblock.dataloaders(df_train, bs=64)\n",
    "'''"
   ]
  },
  {
   "cell_type": "code",
   "execution_count": 5,
   "metadata": {
    "execution": {
     "iopub.execute_input": "2021-01-13T09:51:01.891970Z",
     "iopub.status.busy": "2021-01-13T09:51:01.891317Z",
     "iopub.status.idle": "2021-01-13T09:51:03.783241Z",
     "shell.execute_reply": "2021-01-13T09:51:03.782568Z"
    },
    "papermill": {
     "duration": 1.911705,
     "end_time": "2021-01-13T09:51:03.783381",
     "exception": false,
     "start_time": "2021-01-13T09:51:01.871676",
     "status": "completed"
    },
    "tags": []
   },
   "outputs": [
    {
     "name": "stdout",
     "output_type": "stream",
     "text": [
      "../input/my-cassava-mini\n"
     ]
    }
   ],
   "source": [
    "#check if loaded model exists and load it\n",
    "if path_model.ls(file_exts='.pkl'):\n",
    "    print(path_model)\n",
    "    learn_inf = load_learner(path_model/'export.pkl')\n",
    "else:\n",
    "    print(\"No model to export\")"
   ]
  },
  {
   "cell_type": "markdown",
   "metadata": {
    "papermill": {
     "duration": 0.014718,
     "end_time": "2021-01-13T09:51:03.813262",
     "exception": false,
     "start_time": "2021-01-13T09:51:03.798544",
     "status": "completed"
    },
    "tags": []
   },
   "source": [
    "### 0.1 Images  \n",
    "1 test image"
   ]
  },
  {
   "cell_type": "code",
   "execution_count": 6,
   "metadata": {
    "execution": {
     "iopub.execute_input": "2021-01-13T09:51:03.848405Z",
     "iopub.status.busy": "2021-01-13T09:51:03.847348Z",
     "iopub.status.idle": "2021-01-13T09:51:03.851779Z",
     "shell.execute_reply": "2021-01-13T09:51:03.851105Z"
    },
    "papermill": {
     "duration": 0.023766,
     "end_time": "2021-01-13T09:51:03.851891",
     "exception": false,
     "start_time": "2021-01-13T09:51:03.828125",
     "status": "completed"
    },
    "tags": []
   },
   "outputs": [
    {
     "data": {
      "text/plain": [
       "'#load test images\\ntest_img = get_image_files(path/\\'test_images\\')\\n\\nprint(\"Number of files: \", len(test_img))\\n'"
      ]
     },
     "execution_count": 6,
     "metadata": {},
     "output_type": "execute_result"
    }
   ],
   "source": [
    "'''#load test images\n",
    "test_img = get_image_files(path/'test_images')\n",
    "\n",
    "print(\"Number of files: \", len(test_img))\n",
    "'''"
   ]
  },
  {
   "cell_type": "markdown",
   "metadata": {
    "papermill": {
     "duration": 0.015625,
     "end_time": "2021-01-13T09:51:03.883365",
     "exception": false,
     "start_time": "2021-01-13T09:51:03.867740",
     "status": "completed"
    },
    "tags": []
   },
   "source": [
    "## 3. Predict\n",
    "Predict on one file"
   ]
  },
  {
   "cell_type": "code",
   "execution_count": 7,
   "metadata": {
    "execution": {
     "iopub.execute_input": "2021-01-13T09:51:03.919150Z",
     "iopub.status.busy": "2021-01-13T09:51:03.918101Z",
     "iopub.status.idle": "2021-01-13T09:51:03.921352Z",
     "shell.execute_reply": "2021-01-13T09:51:03.920677Z"
    },
    "papermill": {
     "duration": 0.023116,
     "end_time": "2021-01-13T09:51:03.921465",
     "exception": false,
     "start_time": "2021-01-13T09:51:03.898349",
     "status": "completed"
    },
    "tags": []
   },
   "outputs": [],
   "source": [
    "#view test images - only one\n",
    "#Image.open(test_img[0])\n",
    "\n",
    "#predict one, returns a tuple, get 0th item\n",
    "#y_hat = learn_inf.predict(test_img[0])\n",
    "#y_hat[0]"
   ]
  },
  {
   "cell_type": "markdown",
   "metadata": {
    "papermill": {
     "duration": 0.016272,
     "end_time": "2021-01-13T09:51:03.954433",
     "exception": false,
     "start_time": "2021-01-13T09:51:03.938161",
     "status": "completed"
    },
    "tags": []
   },
   "source": [
    "Test dataset"
   ]
  },
  {
   "cell_type": "code",
   "execution_count": 8,
   "metadata": {
    "execution": {
     "iopub.execute_input": "2021-01-13T09:51:03.997422Z",
     "iopub.status.busy": "2021-01-13T09:51:03.996620Z",
     "iopub.status.idle": "2021-01-13T09:51:04.008151Z",
     "shell.execute_reply": "2021-01-13T09:51:04.007536Z"
    },
    "papermill": {
     "duration": 0.034147,
     "end_time": "2021-01-13T09:51:04.008308",
     "exception": false,
     "start_time": "2021-01-13T09:51:03.974161",
     "status": "completed"
    },
    "tags": []
   },
   "outputs": [],
   "source": [
    "#template\n",
    "sample_submission = pd.read_csv(path/'sample_submission.csv')\n",
    "submission = sample_submission.copy()\n"
   ]
  },
  {
   "cell_type": "code",
   "execution_count": 9,
   "metadata": {
    "execution": {
     "iopub.execute_input": "2021-01-13T09:51:04.054743Z",
     "iopub.status.busy": "2021-01-13T09:51:04.053931Z",
     "iopub.status.idle": "2021-01-13T09:51:04.058243Z",
     "shell.execute_reply": "2021-01-13T09:51:04.057646Z"
    },
    "papermill": {
     "duration": 0.033874,
     "end_time": "2021-01-13T09:51:04.058359",
     "exception": false,
     "start_time": "2021-01-13T09:51:04.024485",
     "status": "completed"
    },
    "tags": []
   },
   "outputs": [
    {
     "data": {
      "text/plain": [
       "['../input/cassava-leaf-disease-classification/test_images/2216849948.jpg']"
      ]
     },
     "execution_count": 9,
     "metadata": {},
     "output_type": "execute_result"
    }
   ],
   "source": [
    "#create test images id\n",
    "'''test_img_id = []\n",
    "\n",
    "[test_img_id.append(f) for f in test_img]    \n",
    "'''\n",
    "test_img_id = [os.path.join(path/'test_images', x) for x in submission['image_id'].values]\n",
    "\n",
    "#images in test files\n",
    "test_img_id"
   ]
  },
  {
   "cell_type": "code",
   "execution_count": 10,
   "metadata": {
    "execution": {
     "iopub.execute_input": "2021-01-13T09:51:04.101655Z",
     "iopub.status.busy": "2021-01-13T09:51:04.100901Z",
     "iopub.status.idle": "2021-01-13T09:51:04.106413Z",
     "shell.execute_reply": "2021-01-13T09:51:04.105716Z"
    },
    "papermill": {
     "duration": 0.030636,
     "end_time": "2021-01-13T09:51:04.106534",
     "exception": false,
     "start_time": "2021-01-13T09:51:04.075898",
     "status": "completed"
    },
    "tags": []
   },
   "outputs": [
    {
     "data": {
      "text/plain": [
       "1"
      ]
     },
     "execution_count": 10,
     "metadata": {},
     "output_type": "execute_result"
    }
   ],
   "source": [
    "#test_dl = dls.test_dl(test_img_id)\n",
    "test_dl = learn_inf.dls.test_dl(test_img_id)\n",
    "\n",
    "len(test_dl)"
   ]
  },
  {
   "cell_type": "markdown",
   "metadata": {
    "papermill": {
     "duration": 0.015738,
     "end_time": "2021-01-13T09:51:04.139810",
     "exception": false,
     "start_time": "2021-01-13T09:51:04.124072",
     "status": "completed"
    },
    "tags": []
   },
   "source": [
    "## 4. Submit\n"
   ]
  },
  {
   "cell_type": "code",
   "execution_count": 11,
   "metadata": {
    "execution": {
     "iopub.execute_input": "2021-01-13T09:51:04.180486Z",
     "iopub.status.busy": "2021-01-13T09:51:04.179750Z",
     "iopub.status.idle": "2021-01-13T09:51:04.810161Z",
     "shell.execute_reply": "2021-01-13T09:51:04.809329Z"
    },
    "papermill": {
     "duration": 0.654682,
     "end_time": "2021-01-13T09:51:04.810325",
     "exception": false,
     "start_time": "2021-01-13T09:51:04.155643",
     "status": "completed"
    },
    "tags": []
   },
   "outputs": [
    {
     "data": {
      "text/html": [],
      "text/plain": [
       "<IPython.core.display.HTML object>"
      ]
     },
     "metadata": {},
     "output_type": "display_data"
    },
    {
     "data": {
      "text/html": [
       "<div>\n",
       "<style scoped>\n",
       "    .dataframe tbody tr th:only-of-type {\n",
       "        vertical-align: middle;\n",
       "    }\n",
       "\n",
       "    .dataframe tbody tr th {\n",
       "        vertical-align: top;\n",
       "    }\n",
       "\n",
       "    .dataframe thead th {\n",
       "        text-align: right;\n",
       "    }\n",
       "</style>\n",
       "<table border=\"1\" class=\"dataframe\">\n",
       "  <thead>\n",
       "    <tr style=\"text-align: right;\">\n",
       "      <th></th>\n",
       "      <th>image_id</th>\n",
       "      <th>label</th>\n",
       "    </tr>\n",
       "  </thead>\n",
       "  <tbody>\n",
       "    <tr>\n",
       "      <th>0</th>\n",
       "      <td>2216849948.jpg</td>\n",
       "      <td>4</td>\n",
       "    </tr>\n",
       "  </tbody>\n",
       "</table>\n",
       "</div>"
      ],
      "text/plain": [
       "         image_id  label\n",
       "0  2216849948.jpg      4"
      ]
     },
     "execution_count": 11,
     "metadata": {},
     "output_type": "execute_result"
    }
   ],
   "source": [
    "#template\n",
    "#sample_submission = pd.read_csv(path/'sample_submission.csv')\n",
    "#submission = sample_submission.copy()\n",
    "\n",
    "#predict\n",
    "preds,_ = learn_inf.get_preds(dl=test_dl)\n",
    "#preds, _ = learn_inf.tta(dl=test_dl, n=5, beta=0) #n=15\n",
    "#preds\n",
    "\n",
    "#submission\n",
    "#submission['image_id'] = [ str(item).split(\"/\")[-1] for item in test_img_id]\n",
    "submission['label'] = preds.argmax(dim=-1).numpy()\n",
    "submission.head()\n"
   ]
  },
  {
   "cell_type": "code",
   "execution_count": 12,
   "metadata": {
    "execution": {
     "iopub.execute_input": "2021-01-13T09:51:04.857910Z",
     "iopub.status.busy": "2021-01-13T09:51:04.856821Z",
     "iopub.status.idle": "2021-01-13T09:51:05.178225Z",
     "shell.execute_reply": "2021-01-13T09:51:05.176713Z"
    },
    "papermill": {
     "duration": 0.345663,
     "end_time": "2021-01-13T09:51:05.178416",
     "exception": false,
     "start_time": "2021-01-13T09:51:04.832753",
     "status": "completed"
    },
    "tags": []
   },
   "outputs": [
    {
     "name": "stdout",
     "output_type": "stream",
     "text": [
      "Inference time (in min) 0.055401893456776936\n"
     ]
    }
   ],
   "source": [
    "#save to csv\n",
    "submission.to_csv('submission.csv', index=False)\n",
    "\n",
    "#total inference time\n",
    "t1 = time.time()\n",
    "print (\"Inference time (in min)\", (time.time() - t0)/60)"
   ]
  },
  {
   "cell_type": "markdown",
   "metadata": {
    "papermill": {
     "duration": 0.027496,
     "end_time": "2021-01-13T09:51:05.233201",
     "exception": false,
     "start_time": "2021-01-13T09:51:05.205705",
     "status": "completed"
    },
    "tags": []
   },
   "source": [
    "## Xtra"
   ]
  },
  {
   "cell_type": "code",
   "execution_count": 13,
   "metadata": {
    "execution": {
     "iopub.execute_input": "2021-01-13T09:51:05.284690Z",
     "iopub.status.busy": "2021-01-13T09:51:05.283692Z",
     "iopub.status.idle": "2021-01-13T09:51:05.287064Z",
     "shell.execute_reply": "2021-01-13T09:51:05.287885Z"
    },
    "papermill": {
     "duration": 0.031495,
     "end_time": "2021-01-13T09:51:05.288078",
     "exception": false,
     "start_time": "2021-01-13T09:51:05.256583",
     "status": "completed"
    },
    "tags": []
   },
   "outputs": [],
   "source": [
    "#$xtra\n",
    "#define label lookup \n",
    "#def lookup_label(image_id): return int(df_train[df_train['image_id']== image_id]['label'])\n",
    "\n",
    "#test function\n",
    "#lookup_label('100042118.jpg')"
   ]
  }
 ],
 "metadata": {
  "kernelspec": {
   "display_name": "Python 3",
   "language": "python",
   "name": "python3"
  },
  "language_info": {
   "codemirror_mode": {
    "name": "ipython",
    "version": 3
   },
   "file_extension": ".py",
   "mimetype": "text/x-python",
   "name": "python",
   "nbconvert_exporter": "python",
   "pygments_lexer": "ipython3",
   "version": "3.7.6"
  },
  "papermill": {
   "duration": 12.541575,
   "end_time": "2021-01-13T09:51:05.421463",
   "environment_variables": {},
   "exception": null,
   "input_path": "__notebook__.ipynb",
   "output_path": "__notebook__.ipynb",
   "parameters": {},
   "start_time": "2021-01-13T09:50:52.879888",
   "version": "2.1.0"
  }
 },
 "nbformat": 4,
 "nbformat_minor": 4
}
