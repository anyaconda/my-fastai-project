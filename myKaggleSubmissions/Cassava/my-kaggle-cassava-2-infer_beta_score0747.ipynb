{
 "cells": [
  {
   "cell_type": "code",
   "execution_count": 1,
   "metadata": {
    "execution": {
     "iopub.execute_input": "2021-01-13T06:29:50.141776Z",
     "iopub.status.busy": "2021-01-13T06:29:50.140760Z",
     "iopub.status.idle": "2021-01-13T06:29:50.146413Z",
     "shell.execute_reply": "2021-01-13T06:29:50.147037Z"
    },
    "papermill": {
     "duration": 0.033162,
     "end_time": "2021-01-13T06:29:50.147211",
     "exception": false,
     "start_time": "2021-01-13T06:29:50.114049",
     "status": "completed"
    },
    "tags": []
   },
   "outputs": [],
   "source": [
    "#meta 12/12/2020 Kaggle Cassava Model - Inference\n",
    "#fast.ai 2020 study group Kaggle Competition\n",
    "#src https://www.kaggle.com/c/cassava-leaf-disease-classification\n",
    "#prev competition src https://www.kaggle.com/c/cassava-disease\n",
    "#references https://arxiv.org/pdf/1908.02900.pdf\n",
    "\n",
    "#input: df_train.pkl, export.pkl\n",
    "#output: submission.csv\n",
    "#pwd: /kaggle/working\n",
    "\n",
    "#history\n",
    "#here 1/10/2020 INFERENCE - ALPHA MODEL (POC)\n",
    "#      Export saved alpha dataframe & model and create submission.csv file\n",
    "#      Alpha model - manually tuned model\n",
    "#      POC export a model and make submissions.\n",
    "#      Successful submit with ? accuracy\n",
    "\n",
    "#was 1/9/2020 MODEL - BACK TO v15 SCORE0.877, TRAIN FT10. EXPORT FOR INFERENCE\n",
    "#      in FULL mode, train entire ds\n",
    "#      dataprep: dblocksplitter=ColSplitter(), item_tfms = CropPad(500), batch_tfms = aug_transforms(mult=2))\n",
    "#      model: learn = cnn_learner(dls, resnet18, loss_func=LabelSmoothingCrossEntropy(), metrics=accuracy)\n",
    "#      learn.fine_tune(10)\n",
    "#      export output for inference; no submission file output\n",
    "# 1/11/2020 MODEL - SAME AS ABOVE -> MINI, TRAIN FT1. EXPORT FOR INFERENCE\n",
    "#      MINI exports, trained on 50% subsample \n",
    "#      Mini model, test for inference on GPU during submission. Score .139\n",
    "# 1/11/2020 MODEL - SAME AS ABOVE -> EXPORT FULL DATA AND MODEL FOR INFERENCE\n",
    "#      FULL exports, trained on 100% train ds\n",
    "#      Full model, test for inference on GPU during submission. Score .139\n",
    "# 1/11/2020 MODEL - SAME AS ABOVE -> NO GPU. Score .139\n",
    "# 1/11/2020 MODEL - SAME AS ABOVE -> NO GPU. Added loop for test_img. Score .139\n",
    "#      Error: dls is not defined (because of CPU)\n",
    "# 1/11/2020 MODEL - SAME AS ABOVE -> GPU. Score .139\n",
    "#      RuntimeError: Input type (torch.cuda.FloatTensor) and weight type (torch.FloatTensor) should be the same\n",
    "\n",
    "#1/11/2020 MODEL - BACK TO v0 INFERENCE ONLY SUCCESSFUL SUBMIT. SCORE 0.652. ALPHA EXPORTS.\n",
    "#      FULL exports, trained on 100% train ds\n",
    "#      Full model, alpha, test for inference on CPU during submission. Same Score 0.652\n",
    "\n",
    "#here 1/12/2020 MODEL - BACK TO SUCCESSFUL v0 INFERENCE. SAME SCORE0.652. LATEST EXPORTS.\n",
    "#      FULL exports, trained on 100% train ds\n",
    "#      Full model, switched from alpha to latest, test for inference on CPU. Score ?\n",
    "#      Track inference time"
   ]
  },
  {
   "cell_type": "code",
   "execution_count": 2,
   "metadata": {
    "_cell_guid": "b1076dfc-b9ad-4769-8c92-a6c4dae69d19",
    "_uuid": "8f2839f25d086af736a60e9eeb907d3b93b6e0e5",
    "execution": {
     "iopub.execute_input": "2021-01-13T06:29:50.182609Z",
     "iopub.status.busy": "2021-01-13T06:29:50.181796Z",
     "iopub.status.idle": "2021-01-13T06:29:53.390614Z",
     "shell.execute_reply": "2021-01-13T06:29:53.391187Z"
    },
    "papermill": {
     "duration": 3.229718,
     "end_time": "2021-01-13T06:29:53.391386",
     "exception": false,
     "start_time": "2021-01-13T06:29:50.161668",
     "status": "completed"
    },
    "tags": []
   },
   "outputs": [],
   "source": [
    "# This Python 3 environment comes with many helpful analytics libraries installed\n",
    "# It is defined by the kaggle/python Docker image: https://github.com/kaggle/docker-python\n",
    "\n",
    "import os\n",
    "#import time #to track performance time\n",
    "import numpy as np # linear algebra\n",
    "import pandas as pd # data processing, CSV file I/O (e.g. pd.read_csv)\n",
    "\n",
    "\n",
    "#modeling\n",
    "from fastai.vision.all import *\n",
    "\n",
    "\n",
    "# Input data files are available in the read-only \"../input/\" directory\n",
    "# You can write up to 20GB to the current directory (/kaggle/working/) that gets preserved as output when you create a version using \"Save & Run All\" \n",
    "# You can also write temporary files to /kaggle/temp/, but they won't be saved outside of the current session"
   ]
  },
  {
   "cell_type": "code",
   "execution_count": 3,
   "metadata": {
    "execution": {
     "iopub.execute_input": "2021-01-13T06:29:53.425800Z",
     "iopub.status.busy": "2021-01-13T06:29:53.424698Z",
     "iopub.status.idle": "2021-01-13T06:29:53.432555Z",
     "shell.execute_reply": "2021-01-13T06:29:53.433159Z"
    },
    "papermill": {
     "duration": 0.026548,
     "end_time": "2021-01-13T06:29:53.433322",
     "exception": false,
     "start_time": "2021-01-13T06:29:53.406774",
     "status": "completed"
    },
    "tags": []
   },
   "outputs": [],
   "source": [
    "#--constants and variables\n",
    "SEED = 24\n",
    "#DEBUG = 0\n",
    "\n",
    "#set paths\n",
    "path = Path('../input/cassava-leaf-disease-classification')\n",
    "#path_model = Path('../input/my-cassava-alpha')\n",
    "path_model = Path('../input/my-cassava-model')\n",
    "path_data = Path('../input/my-cassava-data')\n",
    "\n",
    "#--functions\n",
    "def get_x(row): return path/'train_images'/row['image_id']\n",
    "def get_y(row): return row['label']\n",
    "\n",
    "#--jic\n",
    "#define label lookup \n",
    "def lookup_label(image_id): return int(df_train[df_train['image_id']== image_id]['label'])\n",
    "\n",
    "#test function\n",
    "#lookup_label('100042118.jpg')"
   ]
  },
  {
   "cell_type": "markdown",
   "metadata": {
    "papermill": {
     "duration": 0.014428,
     "end_time": "2021-01-13T06:29:53.462160",
     "exception": false,
     "start_time": "2021-01-13T06:29:53.447732",
     "status": "completed"
    },
    "tags": []
   },
   "source": [
    "# Cassava Disease Classification - Inference\n",
    "##### Objective: Classify pictures of cassava leaves into 1 of 4 disease categories or healthy.\n",
    "\n",
    "Export saved data & model and create a submission.csv file, with predictions on test images.\n"
   ]
  },
  {
   "cell_type": "markdown",
   "metadata": {
    "papermill": {
     "duration": 0.014164,
     "end_time": "2021-01-13T06:29:53.490774",
     "exception": false,
     "start_time": "2021-01-13T06:29:53.476610",
     "status": "completed"
    },
    "tags": []
   },
   "source": [
    "## 0. Load Prepared Data and Model\n",
    "\n",
    "- Input(s): df_train.pkl and export.pkl\n"
   ]
  },
  {
   "cell_type": "code",
   "execution_count": 4,
   "metadata": {
    "execution": {
     "iopub.execute_input": "2021-01-13T06:29:53.525145Z",
     "iopub.status.busy": "2021-01-13T06:29:53.524133Z",
     "iopub.status.idle": "2021-01-13T06:29:58.408304Z",
     "shell.execute_reply": "2021-01-13T06:29:58.408997Z"
    },
    "papermill": {
     "duration": 4.902221,
     "end_time": "2021-01-13T06:29:58.409179",
     "exception": false,
     "start_time": "2021-01-13T06:29:53.506958",
     "status": "completed"
    },
    "tags": []
   },
   "outputs": [],
   "source": [
    "#track time\n",
    "t0 = time.time()\n",
    "\n",
    "#load prepared dataframe\n",
    "df_train = torch.load(path_data/'df_train.pkl')\n",
    "\n",
    "#dataloaders\n",
    "dblock = DataBlock(blocks = (ImageBlock, CategoryBlock),\n",
    "                 get_x = get_x,\n",
    "                 get_y = get_y,\n",
    "                 splitter=ColSplitter(),\n",
    "                 item_tfms = CropPad(500), batch_tfms = aug_transforms(mult=2))\n",
    "\n",
    "dls = dblock.dataloaders(df_train, bs=64)"
   ]
  },
  {
   "cell_type": "code",
   "execution_count": 5,
   "metadata": {
    "execution": {
     "iopub.execute_input": "2021-01-13T06:29:58.446462Z",
     "iopub.status.busy": "2021-01-13T06:29:58.445659Z",
     "iopub.status.idle": "2021-01-13T06:30:00.458341Z",
     "shell.execute_reply": "2021-01-13T06:30:00.456971Z"
    },
    "papermill": {
     "duration": 2.032534,
     "end_time": "2021-01-13T06:30:00.458492",
     "exception": false,
     "start_time": "2021-01-13T06:29:58.425958",
     "status": "completed"
    },
    "tags": []
   },
   "outputs": [
    {
     "name": "stdout",
     "output_type": "stream",
     "text": [
      "../input/my-cassava-model\n"
     ]
    }
   ],
   "source": [
    "#check if loaded model exists and load it\n",
    "if path_model.ls(file_exts='.pkl'):\n",
    "    print(path_model)\n",
    "    learn_inf = load_learner(path_model/'export.pkl')\n",
    "else:\n",
    "    print(\"No model to export\")"
   ]
  },
  {
   "cell_type": "markdown",
   "metadata": {
    "papermill": {
     "duration": 0.015526,
     "end_time": "2021-01-13T06:30:00.489678",
     "exception": false,
     "start_time": "2021-01-13T06:30:00.474152",
     "status": "completed"
    },
    "tags": []
   },
   "source": [
    "### 0.1 Images  \n",
    "1 test image"
   ]
  },
  {
   "cell_type": "code",
   "execution_count": 6,
   "metadata": {
    "execution": {
     "iopub.execute_input": "2021-01-13T06:30:00.525645Z",
     "iopub.status.busy": "2021-01-13T06:30:00.524771Z",
     "iopub.status.idle": "2021-01-13T06:30:00.534190Z",
     "shell.execute_reply": "2021-01-13T06:30:00.533515Z"
    },
    "papermill": {
     "duration": 0.029752,
     "end_time": "2021-01-13T06:30:00.534332",
     "exception": false,
     "start_time": "2021-01-13T06:30:00.504580",
     "status": "completed"
    },
    "tags": []
   },
   "outputs": [
    {
     "name": "stdout",
     "output_type": "stream",
     "text": [
      "Number of files:  1\n"
     ]
    }
   ],
   "source": [
    "#load test images\n",
    "test_img = get_image_files(path/'test_images')\n",
    "\n",
    "print(\"Number of files: \", len(test_img))"
   ]
  },
  {
   "cell_type": "markdown",
   "metadata": {
    "papermill": {
     "duration": 0.014728,
     "end_time": "2021-01-13T06:30:00.564145",
     "exception": false,
     "start_time": "2021-01-13T06:30:00.549417",
     "status": "completed"
    },
    "tags": []
   },
   "source": [
    "### 0.2 Disease Labels Mapping"
   ]
  },
  {
   "cell_type": "code",
   "execution_count": 7,
   "metadata": {
    "execution": {
     "iopub.execute_input": "2021-01-13T06:30:00.598282Z",
     "iopub.status.busy": "2021-01-13T06:30:00.597506Z",
     "iopub.status.idle": "2021-01-13T06:30:00.610308Z",
     "shell.execute_reply": "2021-01-13T06:30:00.609578Z"
    },
    "papermill": {
     "duration": 0.031083,
     "end_time": "2021-01-13T06:30:00.610427",
     "exception": false,
     "start_time": "2021-01-13T06:30:00.579344",
     "status": "completed"
    },
    "tags": []
   },
   "outputs": [
    {
     "name": "stdout",
     "output_type": "stream",
     "text": [
      "{'0': 'Cassava Bacterial Blight (CBB)', '1': 'Cassava Brown Streak Disease (CBSD)', '2': 'Cassava Green Mottle (CGM)', '3': 'Cassava Mosaic Disease (CMD)', '4': 'Healthy'}\n"
     ]
    }
   ],
   "source": [
    "with open((path/'label_num_to_disease_map.json')) as json_file:\n",
    "    target_map = json.load(json_file)\n",
    "    \n",
    "print(target_map)"
   ]
  },
  {
   "cell_type": "markdown",
   "metadata": {
    "papermill": {
     "duration": 0.015022,
     "end_time": "2021-01-13T06:30:00.641142",
     "exception": false,
     "start_time": "2021-01-13T06:30:00.626120",
     "status": "completed"
    },
    "tags": []
   },
   "source": [
    "## 3. Predict\n",
    "Predict on one file"
   ]
  },
  {
   "cell_type": "code",
   "execution_count": 8,
   "metadata": {
    "execution": {
     "iopub.execute_input": "2021-01-13T06:30:00.677921Z",
     "iopub.status.busy": "2021-01-13T06:30:00.677163Z",
     "iopub.status.idle": "2021-01-13T06:30:00.680722Z",
     "shell.execute_reply": "2021-01-13T06:30:00.680194Z"
    },
    "papermill": {
     "duration": 0.024394,
     "end_time": "2021-01-13T06:30:00.680863",
     "exception": false,
     "start_time": "2021-01-13T06:30:00.656469",
     "status": "completed"
    },
    "tags": []
   },
   "outputs": [],
   "source": [
    "#view test images - only one\n",
    "#Image.open(test_img[0])\n"
   ]
  },
  {
   "cell_type": "code",
   "execution_count": 9,
   "metadata": {
    "execution": {
     "iopub.execute_input": "2021-01-13T06:30:00.726596Z",
     "iopub.status.busy": "2021-01-13T06:30:00.725548Z",
     "iopub.status.idle": "2021-01-13T06:30:01.133240Z",
     "shell.execute_reply": "2021-01-13T06:30:01.133823Z"
    },
    "papermill": {
     "duration": 0.437518,
     "end_time": "2021-01-13T06:30:01.134038",
     "exception": false,
     "start_time": "2021-01-13T06:30:00.696520",
     "status": "completed"
    },
    "tags": []
   },
   "outputs": [
    {
     "data": {
      "text/html": [],
      "text/plain": [
       "<IPython.core.display.HTML object>"
      ]
     },
     "metadata": {},
     "output_type": "display_data"
    },
    {
     "data": {
      "text/plain": [
       "'4'"
      ]
     },
     "execution_count": 9,
     "metadata": {},
     "output_type": "execute_result"
    }
   ],
   "source": [
    "#predict one, returns a tuple, get 0th item\n",
    "y_hat = learn_inf.predict(test_img[0])\n",
    "y_hat[0]"
   ]
  },
  {
   "cell_type": "markdown",
   "metadata": {
    "papermill": {
     "duration": 0.016926,
     "end_time": "2021-01-13T06:30:01.171145",
     "exception": false,
     "start_time": "2021-01-13T06:30:01.154219",
     "status": "completed"
    },
    "tags": []
   },
   "source": [
    "Test dataset"
   ]
  },
  {
   "cell_type": "code",
   "execution_count": 10,
   "metadata": {
    "execution": {
     "iopub.execute_input": "2021-01-13T06:30:01.210951Z",
     "iopub.status.busy": "2021-01-13T06:30:01.210156Z",
     "iopub.status.idle": "2021-01-13T06:30:01.213501Z",
     "shell.execute_reply": "2021-01-13T06:30:01.214040Z"
    },
    "papermill": {
     "duration": 0.026563,
     "end_time": "2021-01-13T06:30:01.214197",
     "exception": false,
     "start_time": "2021-01-13T06:30:01.187634",
     "status": "completed"
    },
    "tags": []
   },
   "outputs": [
    {
     "data": {
      "text/plain": [
       "[Path('../input/cassava-leaf-disease-classification/test_images/2216849948.jpg')]"
      ]
     },
     "execution_count": 10,
     "metadata": {},
     "output_type": "execute_result"
    }
   ],
   "source": [
    "#create test images id\n",
    "test_img_id = []\n",
    "\n",
    "[test_img_id.append(f) for f in test_img]    \n",
    "\n",
    "#images in test files\n",
    "test_img_id"
   ]
  },
  {
   "cell_type": "code",
   "execution_count": 11,
   "metadata": {
    "execution": {
     "iopub.execute_input": "2021-01-13T06:30:01.252234Z",
     "iopub.status.busy": "2021-01-13T06:30:01.251500Z",
     "iopub.status.idle": "2021-01-13T06:30:01.262743Z",
     "shell.execute_reply": "2021-01-13T06:30:01.263331Z"
    },
    "papermill": {
     "duration": 0.032002,
     "end_time": "2021-01-13T06:30:01.263487",
     "exception": false,
     "start_time": "2021-01-13T06:30:01.231485",
     "status": "completed"
    },
    "tags": []
   },
   "outputs": [
    {
     "data": {
      "text/plain": [
       "1"
      ]
     },
     "execution_count": 11,
     "metadata": {},
     "output_type": "execute_result"
    }
   ],
   "source": [
    "test_dl = dls.test_dl(test_img_id)\n",
    "len(test_dl)"
   ]
  },
  {
   "cell_type": "markdown",
   "metadata": {
    "papermill": {
     "duration": 0.016837,
     "end_time": "2021-01-13T06:30:01.297744",
     "exception": false,
     "start_time": "2021-01-13T06:30:01.280907",
     "status": "completed"
    },
    "tags": []
   },
   "source": [
    "## 4. Submit\n"
   ]
  },
  {
   "cell_type": "code",
   "execution_count": 12,
   "metadata": {
    "execution": {
     "iopub.execute_input": "2021-01-13T06:30:01.336982Z",
     "iopub.status.busy": "2021-01-13T06:30:01.336192Z",
     "iopub.status.idle": "2021-01-13T06:30:01.797502Z",
     "shell.execute_reply": "2021-01-13T06:30:01.796775Z"
    },
    "papermill": {
     "duration": 0.482605,
     "end_time": "2021-01-13T06:30:01.797659",
     "exception": false,
     "start_time": "2021-01-13T06:30:01.315054",
     "status": "completed"
    },
    "tags": []
   },
   "outputs": [
    {
     "data": {
      "text/html": [],
      "text/plain": [
       "<IPython.core.display.HTML object>"
      ]
     },
     "metadata": {},
     "output_type": "display_data"
    },
    {
     "name": "stdout",
     "output_type": "stream",
     "text": [
      "Inference time (in min) 0.13765932321548463\n"
     ]
    }
   ],
   "source": [
    "#template\n",
    "sample_submission = pd.read_csv(path/'sample_submission.csv')\n",
    "submission = sample_submission.copy()\n",
    "\n",
    "#predict\n",
    "preds,_ = learn_inf.get_preds(dl=test_dl)\n",
    "#preds\n",
    "\n",
    "#submission\n",
    "submission['image_id'] = [ str(item).split(\"/\")[-1] for item in test_img_id]\n",
    "submission['label'] = preds.argmax(dim=-1).numpy()\n",
    "submission.head()\n",
    "\n",
    "t1 = time.time()\n",
    "print (\"Inference time (in min)\", (time.time() - t0)/60)"
   ]
  },
  {
   "cell_type": "code",
   "execution_count": 13,
   "metadata": {
    "execution": {
     "iopub.execute_input": "2021-01-13T06:30:01.844424Z",
     "iopub.status.busy": "2021-01-13T06:30:01.843542Z",
     "iopub.status.idle": "2021-01-13T06:30:02.181994Z",
     "shell.execute_reply": "2021-01-13T06:30:02.182502Z"
    },
    "papermill": {
     "duration": 0.362529,
     "end_time": "2021-01-13T06:30:02.182664",
     "exception": false,
     "start_time": "2021-01-13T06:30:01.820135",
     "status": "completed"
    },
    "tags": []
   },
   "outputs": [],
   "source": [
    "submission.to_csv('submission.csv', index=False)"
   ]
  }
 ],
 "metadata": {
  "kernelspec": {
   "display_name": "Python 3",
   "language": "python",
   "name": "python3"
  },
  "language_info": {
   "codemirror_mode": {
    "name": "ipython",
    "version": 3
   },
   "file_extension": ".py",
   "mimetype": "text/x-python",
   "name": "python",
   "nbconvert_exporter": "python",
   "pygments_lexer": "ipython3",
   "version": "3.7.6"
  },
  "papermill": {
   "duration": 17.823973,
   "end_time": "2021-01-13T06:30:02.309298",
   "environment_variables": {},
   "exception": null,
   "input_path": "__notebook__.ipynb",
   "output_path": "__notebook__.ipynb",
   "parameters": {},
   "start_time": "2021-01-13T06:29:44.485325",
   "version": "2.1.0"
  }
 },
 "nbformat": 4,
 "nbformat_minor": 4
}
