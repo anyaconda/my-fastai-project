{
 "cells": [
  {
   "cell_type": "code",
   "execution_count": 1,
   "metadata": {
    "execution": {
     "iopub.execute_input": "2021-02-17T04:26:30.778242Z",
     "iopub.status.busy": "2021-02-17T04:26:30.777298Z",
     "iopub.status.idle": "2021-02-17T04:26:30.780613Z",
     "shell.execute_reply": "2021-02-17T04:26:30.779895Z"
    },
    "papermill": {
     "duration": 0.02281,
     "end_time": "2021-02-17T04:26:30.780802",
     "exception": false,
     "start_time": "2021-02-17T04:26:30.757992",
     "status": "completed"
    },
    "tags": []
   },
   "outputs": [],
   "source": [
    "## meta 2/12/2021 Kaggle Cassava Module 2-Inference Mini K-fold(for rapid iteration)\n",
    "#fast.ai 2020 study group Kaggle Competition\n",
    "#src https://www.kaggle.com/c/cassava-leaf-disease-classification\n",
    "#prev competition src https://www.kaggle.com/c/cassava-disease\n",
    "#references https://arxiv.org/pdf/1908.02900.pdf\n",
    "\n",
    "#input: export.pkl\n",
    "#output: submission.csv\n",
    "#pwd: /kaggle/working\n",
    "#summary: Export a model and submit predictions on mini data.\n",
    "#based on version of my-kaggle-cassava-2-infer.ipynb -> my-kaggle-cassava-2-infer-mini_score0822.ipynb and\n",
    "#based on version of my-kaggle-cassava-1-model-kfold.ipynb -> my-kaggle-cassava-1-model-mini-kfold_score0825.ipynb\n",
    "\n",
    "\n",
    "#prev in my-kaggle-cassava-2-infer-mini_score0822.ipynb\n",
    "#BEST 2/7+/2020 MODEL 2-INFERENCE MINI\n",
    "#      $params: learn = load_learner($path_model, cpu=False), $TTA params\n",
    "#               preds, _ = learn_inf.tta(dl=test_dl, n=4, beta=0.25)\n",
    "#               [not preds, _ = learn_inf.tta(dl=test_dl, n=10, beta=0.75, use_max=True)]\n",
    "#      Score: 0.822, 0.824  GPU submission time: <1 min Rank: n/a (see Minii/my-kaggle-cassava-2-infer-mini_score0822.ipynb)\n",
    "#      Score better: 0.835, 0.840 with bs=32 models, GPU submission time: <1 min Rank: n/a (no GH)\n",
    "#      Note: Same model v2 MiniTrain, v2bs32 submitted without TTA scored only 0.822, 0825 (see Mini/my-kaggle-cassava-1-model-mini_score0822.ipynb)\n",
    "#prev in my-kaggle-cassava-1-model-mini-kfold_score0825.ipynb\n",
    "#latest 2/10/2021 ADD K-FOLD TO MODULE 1-MODEL MINI W/ INFERENCE + EXPORT, DELTA BS=32\n",
    "#      $params: MINI = 1, DS_OVERSAMPLED = 0\n",
    "#      5-fold mini modeling for rapid iteration, V1bs32 5 models\n",
    "#      in MINI mode, train mini ds (not oversampled) (exported from Module 0)\n",
    "#      preds,_ = learn.get_preds(dl=test_dl), no TTA\n",
    "#      Score: 0.825, 0.822  Time: 48min + submission time, Rank: n/a\n",
    "\n",
    "#history\n",
    "#2/13/2021 MODULE 2-INFERENCE MINI EXPORTED v1bs32 5 models\n",
    "#      MINI = 1 no $param\n",
    "#      $params: learn = load_learner($path_model=V1bs32 5 models, cpu=False), $TTA params\n",
    "#               preds, _ = learn_inf.tta(dl=test_dl, n=4, beta=0.25)\n",
    "#      Score: .845  submission time: <1 min+ submission time. Rank: n/a (to GH)\n",
    "#      Note: Same model v1 MiniTrain 5Fold. v1bs32, no TTA scored only 0.822, 0825 (see Mini/my-kaggle-cassava-1-model-mini_score0822.ipynb)\n",
    "\n",
    "#RESET - BASE FOR FINAL CODE\n",
    "#Res50\n",
    "#here 2/15/2021 MODULE 2-INFERENCE FULL EXPORTED 3 models from example\n",
    "#      Modified to fit ex $acd and run only on CPU\n",
    "#      $params: learn = load_learner($path_model=example 3 models, cpu=False), $TTA params\n",
    "#               preds, _ = learn_inf.get_preds(dl=test_dl) no tta params\n",
    "#               preds, _ = learn_inf.tta(dl=test_dl, n=4, beta=0.25)\n",
    "#               preds, _ = learn_inf.tta(dl=test_dl, n=10, beta=0.75) #no , use_max=True\n",
    "#      Score: .?  submission time: <1 min+ submission time. Rank: n/a (no GH)\n",
    "#      Note: Same models ex 5Fold -> only got 3 models, ran out of time. (no GH)"
   ]
  },
  {
   "cell_type": "code",
   "execution_count": 2,
   "metadata": {
    "_cell_guid": "b1076dfc-b9ad-4769-8c92-a6c4dae69d19",
    "_uuid": "8f2839f25d086af736a60e9eeb907d3b93b6e0e5",
    "execution": {
     "iopub.execute_input": "2021-02-17T04:26:30.812433Z",
     "iopub.status.busy": "2021-02-17T04:26:30.811652Z",
     "iopub.status.idle": "2021-02-17T04:26:34.021070Z",
     "shell.execute_reply": "2021-02-17T04:26:34.022393Z"
    },
    "papermill": {
     "duration": 3.228351,
     "end_time": "2021-02-17T04:26:34.022641",
     "exception": false,
     "start_time": "2021-02-17T04:26:30.794290",
     "status": "completed"
    },
    "tags": []
   },
   "outputs": [],
   "source": [
    "# This Python 3 environment comes with many helpful analytics libraries installed\n",
    "# It is defined by the kaggle/python Docker image: https://github.com/kaggle/docker-python\n",
    "\n",
    "import os\n",
    "#import time #to track performance time\n",
    "import numpy as np # linear algebra\n",
    "import pandas as pd # data processing, CSV file I/O (e.g. pd.read_csv)\n",
    "\n",
    "#modeling\n",
    "from fastai.vision.all import *\n",
    "\n",
    "# Input data files are available in the read-only \"../input/\" directory\n",
    "# You can write up to 20GB to the current directory (/kaggle/working/) that gets preserved as output when you create a version using \"Save & Run All\" \n",
    "# You can also write temporary files to /kaggle/temp/, but they won't be saved outside of the current session"
   ]
  },
  {
   "cell_type": "code",
   "execution_count": 3,
   "metadata": {
    "execution": {
     "iopub.execute_input": "2021-02-17T04:26:34.070251Z",
     "iopub.status.busy": "2021-02-17T04:26:34.069186Z",
     "iopub.status.idle": "2021-02-17T04:26:34.074516Z",
     "shell.execute_reply": "2021-02-17T04:26:34.075227Z"
    },
    "papermill": {
     "duration": 0.033317,
     "end_time": "2021-02-17T04:26:34.075480",
     "exception": false,
     "start_time": "2021-02-17T04:26:34.042163",
     "status": "completed"
    },
    "tags": []
   },
   "outputs": [],
   "source": [
    "#--constants and variables\n",
    "\n",
    "#set paths\n",
    "path = Path('../input/cassava-leaf-disease-classification')\n",
    "\n",
    "#$params\n",
    "path_model = Path('../input/my-cassava-k3-models-full')\n",
    "\n",
    "#--functions\n",
    "def get_x(row): return path/'train_images'/row['image_id']\n",
    "def get_y(row): return row['label']\n",
    "\n",
    "#$acd\n",
    "def get_label(labels, x):\n",
    "    x = Path(x)\n",
    "    return labels[x.name]\n"
   ]
  },
  {
   "cell_type": "markdown",
   "metadata": {
    "papermill": {
     "duration": 0.019047,
     "end_time": "2021-02-17T04:26:34.114195",
     "exception": false,
     "start_time": "2021-02-17T04:26:34.095148",
     "status": "completed"
    },
    "tags": []
   },
   "source": [
    "# Cassava Disease Classification - Inference\n",
    "##### Objective: Classify pictures of cassava leaves into 1 of 4 disease categories or healthy.\n",
    "\n",
    "Export saved model and create a submission.csv file, with predictions on test images.\n"
   ]
  },
  {
   "cell_type": "markdown",
   "metadata": {
    "papermill": {
     "duration": 0.018811,
     "end_time": "2021-02-17T04:26:34.152614",
     "exception": false,
     "start_time": "2021-02-17T04:26:34.133803",
     "status": "completed"
    },
    "tags": []
   },
   "source": [
    "## 0. Load K-models\n",
    "\n",
    "- Input(s): load k-models .pkl\n"
   ]
  },
  {
   "cell_type": "code",
   "execution_count": 4,
   "metadata": {
    "execution": {
     "iopub.execute_input": "2021-02-17T04:26:34.207483Z",
     "iopub.status.busy": "2021-02-17T04:26:34.206524Z",
     "iopub.status.idle": "2021-02-17T04:26:34.213849Z",
     "shell.execute_reply": "2021-02-17T04:26:34.214570Z"
    },
    "papermill": {
     "duration": 0.035998,
     "end_time": "2021-02-17T04:26:34.214774",
     "exception": false,
     "start_time": "2021-02-17T04:26:34.178776",
     "status": "completed"
    },
    "tags": []
   },
   "outputs": [
    {
     "data": {
      "text/plain": [
       "'was before k-folds\\n#track time\\nt0 = time.time()\\n\\n#check if loaded model exists and load it\\nif path_model.ls(file_exts=\\'.pkl\\'):\\n    print(path_model)\\n    learn_inf = load_learner(path_model/\\'export.pkl\\', cpu=False)\\n    #learn_inf.to_native_fp32()\\nelse:\\n    print(\"No model to export\")\\n'"
      ]
     },
     "execution_count": 4,
     "metadata": {},
     "output_type": "execute_result"
    }
   ],
   "source": [
    "'''was before k-folds\n",
    "#track time\n",
    "t0 = time.time()\n",
    "\n",
    "#check if loaded model exists and load it\n",
    "if path_model.ls(file_exts='.pkl'):\n",
    "    print(path_model)\n",
    "    learn_inf = load_learner(path_model/'export.pkl', cpu=False)\n",
    "    #learn_inf.to_native_fp32()\n",
    "else:\n",
    "    print(\"No model to export\")\n",
    "'''"
   ]
  },
  {
   "cell_type": "code",
   "execution_count": 5,
   "metadata": {
    "execution": {
     "iopub.execute_input": "2021-02-17T04:26:34.258912Z",
     "iopub.status.busy": "2021-02-17T04:26:34.257879Z",
     "iopub.status.idle": "2021-02-17T04:26:34.271274Z",
     "shell.execute_reply": "2021-02-17T04:26:34.272021Z"
    },
    "papermill": {
     "duration": 0.038252,
     "end_time": "2021-02-17T04:26:34.272216",
     "exception": false,
     "start_time": "2021-02-17T04:26:34.233964",
     "status": "completed"
    },
    "tags": []
   },
   "outputs": [
    {
     "data": {
      "text/plain": [
       "3"
      ]
     },
     "execution_count": 5,
     "metadata": {},
     "output_type": "execute_result"
    }
   ],
   "source": [
    "#get k-folds\n",
    "K_FOLDS = len(path_model.ls())\n",
    "K_FOLDS"
   ]
  },
  {
   "cell_type": "code",
   "execution_count": 6,
   "metadata": {
    "execution": {
     "iopub.execute_input": "2021-02-17T04:26:34.317397Z",
     "iopub.status.busy": "2021-02-17T04:26:34.316135Z",
     "iopub.status.idle": "2021-02-17T04:26:44.291392Z",
     "shell.execute_reply": "2021-02-17T04:26:44.290806Z"
    },
    "papermill": {
     "duration": 10.000875,
     "end_time": "2021-02-17T04:26:44.291561",
     "exception": false,
     "start_time": "2021-02-17T04:26:34.290686",
     "status": "completed"
    },
    "tags": []
   },
   "outputs": [
    {
     "name": "stdout",
     "output_type": "stream",
     "text": [
      "../input/my-cassava-k3-models-full\n"
     ]
    },
    {
     "data": {
      "text/plain": [
       "3"
      ]
     },
     "execution_count": 6,
     "metadata": {},
     "output_type": "execute_result"
    }
   ],
   "source": [
    "t0 = time.time()\n",
    "\n",
    "#check if loaded model exists and load it\n",
    "if path_model.ls(file_exts='.pkl'):\n",
    "    print(path_model)\n",
    "    \n",
    "    fold_learns_inf = [] #list of class fastai.learner.Learner\n",
    "    for i in range(K_FOLDS):\n",
    "        learn_inf = load_learner(path_model/f'model_{i}.pkl', cpu=False)\n",
    "        \n",
    "        #learn_inf.to_native_fp32()\n",
    "        #models\n",
    "        fold_learns_inf += [learn_inf]\n",
    "else:\n",
    "    print(\"No model to export\")\n",
    "    \n",
    "len(fold_learns_inf)"
   ]
  },
  {
   "cell_type": "markdown",
   "metadata": {
    "papermill": {
     "duration": 0.014545,
     "end_time": "2021-02-17T04:26:44.321473",
     "exception": false,
     "start_time": "2021-02-17T04:26:44.306928",
     "status": "completed"
    },
    "tags": []
   },
   "source": [
    "## 3. Predict with K-models"
   ]
  },
  {
   "cell_type": "code",
   "execution_count": 7,
   "metadata": {
    "execution": {
     "iopub.execute_input": "2021-02-17T04:26:44.358138Z",
     "iopub.status.busy": "2021-02-17T04:26:44.356217Z",
     "iopub.status.idle": "2021-02-17T04:26:44.358903Z",
     "shell.execute_reply": "2021-02-17T04:26:44.359434Z"
    },
    "papermill": {
     "duration": 0.023455,
     "end_time": "2021-02-17T04:26:44.359589",
     "exception": false,
     "start_time": "2021-02-17T04:26:44.336134",
     "status": "completed"
    },
    "tags": []
   },
   "outputs": [],
   "source": [
    "##Predict on one file with one model\n",
    "#view test images - only one\n",
    "#test_img = get_image_files(path/'test_images')\n",
    "#Image.open(test_img[0])\n",
    "\n",
    "#predict one, returns a tuple, get 0th item\n",
    "#y_hat = learn_inf.predict(test_img[0])\n",
    "#y_hat[0]"
   ]
  },
  {
   "cell_type": "markdown",
   "metadata": {
    "papermill": {
     "duration": 0.014299,
     "end_time": "2021-02-17T04:26:44.388605",
     "exception": false,
     "start_time": "2021-02-17T04:26:44.374306",
     "status": "completed"
    },
    "tags": []
   },
   "source": [
    "Test dataset"
   ]
  },
  {
   "cell_type": "code",
   "execution_count": 8,
   "metadata": {
    "execution": {
     "iopub.execute_input": "2021-02-17T04:26:44.423124Z",
     "iopub.status.busy": "2021-02-17T04:26:44.422514Z",
     "iopub.status.idle": "2021-02-17T04:26:44.433892Z",
     "shell.execute_reply": "2021-02-17T04:26:44.433289Z"
    },
    "papermill": {
     "duration": 0.030875,
     "end_time": "2021-02-17T04:26:44.434024",
     "exception": false,
     "start_time": "2021-02-17T04:26:44.403149",
     "status": "completed"
    },
    "tags": []
   },
   "outputs": [],
   "source": [
    "#template\n",
    "sample_submission = pd.read_csv(path/'sample_submission.csv')\n",
    "submission = sample_submission.copy()"
   ]
  },
  {
   "cell_type": "code",
   "execution_count": 9,
   "metadata": {
    "execution": {
     "iopub.execute_input": "2021-02-17T04:26:44.473577Z",
     "iopub.status.busy": "2021-02-17T04:26:44.472512Z",
     "iopub.status.idle": "2021-02-17T04:26:44.477725Z",
     "shell.execute_reply": "2021-02-17T04:26:44.477144Z"
    },
    "papermill": {
     "duration": 0.029275,
     "end_time": "2021-02-17T04:26:44.477873",
     "exception": false,
     "start_time": "2021-02-17T04:26:44.448598",
     "status": "completed"
    },
    "tags": []
   },
   "outputs": [
    {
     "data": {
      "text/plain": [
       "['../input/cassava-leaf-disease-classification/test_images/2216849948.jpg']"
      ]
     },
     "execution_count": 9,
     "metadata": {},
     "output_type": "execute_result"
    }
   ],
   "source": [
    "#create test images id\n",
    "test_img_id = [os.path.join(path/'test_images', x) for x in submission['image_id'].values]\n",
    "\n",
    "#images in test files\n",
    "test_img_id"
   ]
  },
  {
   "cell_type": "code",
   "execution_count": 10,
   "metadata": {
    "execution": {
     "iopub.execute_input": "2021-02-17T04:26:44.513815Z",
     "iopub.status.busy": "2021-02-17T04:26:44.512975Z",
     "iopub.status.idle": "2021-02-17T04:26:44.516802Z",
     "shell.execute_reply": "2021-02-17T04:26:44.517313Z"
    },
    "papermill": {
     "duration": 0.024065,
     "end_time": "2021-02-17T04:26:44.517468",
     "exception": false,
     "start_time": "2021-02-17T04:26:44.493403",
     "status": "completed"
    },
    "tags": []
   },
   "outputs": [
    {
     "data": {
      "text/plain": [
       "\"was without k-fold\\ntest_dl = learn_inf.dls.test_dl(test_img_id)\\nprint(len(test_dl))\\n\\n#predict\\n#or our TTA we will be doing a 15x ensemble similar to what was performed there\\npreds, _ = learn_inf.tta(dl=test_dl, n=4, beta=0.25) #$params\\n#preds\\n\\n#submission\\nsubmission['label'] = preds.argmax(dim=-1).numpy()\\nsubmission.head()\\n\""
      ]
     },
     "execution_count": 10,
     "metadata": {},
     "output_type": "execute_result"
    }
   ],
   "source": [
    "'''was without k-fold\n",
    "test_dl = learn_inf.dls.test_dl(test_img_id)\n",
    "print(len(test_dl))\n",
    "\n",
    "#predict\n",
    "#or our TTA we will be doing a 15x ensemble similar to what was performed there\n",
    "preds, _ = learn_inf.tta(dl=test_dl, n=4, beta=0.25) #$params\n",
    "#preds\n",
    "\n",
    "#submission\n",
    "submission['label'] = preds.argmax(dim=-1).numpy()\n",
    "submission.head()\n",
    "'''"
   ]
  },
  {
   "cell_type": "code",
   "execution_count": 11,
   "metadata": {
    "execution": {
     "iopub.execute_input": "2021-02-17T04:26:44.560086Z",
     "iopub.status.busy": "2021-02-17T04:26:44.559402Z",
     "iopub.status.idle": "2021-02-17T04:26:52.076878Z",
     "shell.execute_reply": "2021-02-17T04:26:52.075812Z"
    },
    "papermill": {
     "duration": 7.543357,
     "end_time": "2021-02-17T04:26:52.077038",
     "exception": false,
     "start_time": "2021-02-17T04:26:44.533681",
     "status": "completed"
    },
    "tags": []
   },
   "outputs": [
    {
     "data": {
      "text/html": [
       "\n",
       "    <div>\n",
       "        <style>\n",
       "            /* Turns off some styling */\n",
       "            progress {\n",
       "                /* gets rid of default border in Firefox and Opera. */\n",
       "                border: none;\n",
       "                /* Needs to be in here for Safari polyfill so background images work as expected. */\n",
       "                background-size: auto;\n",
       "            }\n",
       "            .progress-bar-interrupted, .progress-bar-interrupted::-webkit-progress-bar {\n",
       "                background: #F44336;\n",
       "            }\n",
       "        </style>\n",
       "      <progress value='0' class='' max='10' style='width:300px; height:20px; vertical-align: middle;'></progress>\n",
       "      \n",
       "    </div>\n",
       "    \n"
      ],
      "text/plain": [
       "<IPython.core.display.HTML object>"
      ]
     },
     "metadata": {},
     "output_type": "display_data"
    },
    {
     "data": {
      "text/html": [],
      "text/plain": [
       "<IPython.core.display.HTML object>"
      ]
     },
     "metadata": {},
     "output_type": "display_data"
    },
    {
     "data": {
      "text/html": [
       "\n",
       "    <div>\n",
       "        <style>\n",
       "            /* Turns off some styling */\n",
       "            progress {\n",
       "                /* gets rid of default border in Firefox and Opera. */\n",
       "                border: none;\n",
       "                /* Needs to be in here for Safari polyfill so background images work as expected. */\n",
       "                background-size: auto;\n",
       "            }\n",
       "            .progress-bar-interrupted, .progress-bar-interrupted::-webkit-progress-bar {\n",
       "                background: #F44336;\n",
       "            }\n",
       "        </style>\n",
       "      <progress value='0' class='' max='10' style='width:300px; height:20px; vertical-align: middle;'></progress>\n",
       "      \n",
       "    </div>\n",
       "    \n"
      ],
      "text/plain": [
       "<IPython.core.display.HTML object>"
      ]
     },
     "metadata": {},
     "output_type": "display_data"
    },
    {
     "data": {
      "text/html": [],
      "text/plain": [
       "<IPython.core.display.HTML object>"
      ]
     },
     "metadata": {},
     "output_type": "display_data"
    },
    {
     "data": {
      "text/html": [
       "\n",
       "    <div>\n",
       "        <style>\n",
       "            /* Turns off some styling */\n",
       "            progress {\n",
       "                /* gets rid of default border in Firefox and Opera. */\n",
       "                border: none;\n",
       "                /* Needs to be in here for Safari polyfill so background images work as expected. */\n",
       "                background-size: auto;\n",
       "            }\n",
       "            .progress-bar-interrupted, .progress-bar-interrupted::-webkit-progress-bar {\n",
       "                background: #F44336;\n",
       "            }\n",
       "        </style>\n",
       "      <progress value='0' class='' max='10' style='width:300px; height:20px; vertical-align: middle;'></progress>\n",
       "      \n",
       "    </div>\n",
       "    \n"
      ],
      "text/plain": [
       "<IPython.core.display.HTML object>"
      ]
     },
     "metadata": {},
     "output_type": "display_data"
    },
    {
     "data": {
      "text/html": [],
      "text/plain": [
       "<IPython.core.display.HTML object>"
      ]
     },
     "metadata": {},
     "output_type": "display_data"
    },
    {
     "data": {
      "text/html": [
       "<div>\n",
       "<style scoped>\n",
       "    .dataframe tbody tr th:only-of-type {\n",
       "        vertical-align: middle;\n",
       "    }\n",
       "\n",
       "    .dataframe tbody tr th {\n",
       "        vertical-align: top;\n",
       "    }\n",
       "\n",
       "    .dataframe thead th {\n",
       "        text-align: right;\n",
       "    }\n",
       "</style>\n",
       "<table border=\"1\" class=\"dataframe\">\n",
       "  <thead>\n",
       "    <tr style=\"text-align: right;\">\n",
       "      <th></th>\n",
       "      <th>image_id</th>\n",
       "      <th>label</th>\n",
       "    </tr>\n",
       "  </thead>\n",
       "  <tbody>\n",
       "    <tr>\n",
       "      <th>0</th>\n",
       "      <td>2216849948.jpg</td>\n",
       "      <td>2</td>\n",
       "    </tr>\n",
       "  </tbody>\n",
       "</table>\n",
       "</div>"
      ],
      "text/plain": [
       "         image_id  label\n",
       "0  2216849948.jpg      2"
      ]
     },
     "execution_count": 11,
     "metadata": {},
     "output_type": "execute_result"
    }
   ],
   "source": [
    "fold_preds = []\n",
    "for i in range(K_FOLDS):\n",
    "    test_dl = fold_learns_inf[i].dls.test_dl(test_img_id)\n",
    "    #print(len(test_dl))\n",
    "\n",
    "    #predict\n",
    "    #no TTA or TTA params\n",
    "    #preds, _ = learn_inf.get_preds(dl=test_dl) #$params\n",
    "    preds, _ = learn_inf.tta(dl=test_dl, n=4, beta=0.25)\n",
    "    #preds, _ = learn_inf.tta(dl=test_dl, n=10, beta=0.75)\n",
    "    #preds\n",
    "    \n",
    "    #preds\n",
    "    fold_preds += [preds]\n",
    "preds = torch.stack(fold_preds)\n",
    "\n",
    "#submission\n",
    "submission['label'] = preds.sum(axis=0).argmax(dim=-1).numpy() #preds.argmax(dim=-1).numpy()\n",
    "submission.head()"
   ]
  },
  {
   "cell_type": "markdown",
   "metadata": {
    "papermill": {
     "duration": 0.019219,
     "end_time": "2021-02-17T04:26:52.116177",
     "exception": false,
     "start_time": "2021-02-17T04:26:52.096958",
     "status": "completed"
    },
    "tags": []
   },
   "source": [
    "## 4. Submit\n"
   ]
  },
  {
   "cell_type": "code",
   "execution_count": 12,
   "metadata": {
    "execution": {
     "iopub.execute_input": "2021-02-17T04:26:52.160706Z",
     "iopub.status.busy": "2021-02-17T04:26:52.159861Z",
     "iopub.status.idle": "2021-02-17T04:26:52.444982Z",
     "shell.execute_reply": "2021-02-17T04:26:52.445510Z"
    },
    "papermill": {
     "duration": 0.310303,
     "end_time": "2021-02-17T04:26:52.445681",
     "exception": false,
     "start_time": "2021-02-17T04:26:52.135378",
     "status": "completed"
    },
    "tags": []
   },
   "outputs": [
    {
     "name": "stdout",
     "output_type": "stream",
     "text": [
      "Inference time (in min) 0.30208487510681153\n"
     ]
    }
   ],
   "source": [
    "#save to csv\n",
    "submission.to_csv('submission.csv', index=False)\n",
    "\n",
    "#total inference time\n",
    "t1 = time.time()\n",
    "print (\"Inference time (in min)\", (time.time() - t0)/60)"
   ]
  }
 ],
 "metadata": {
  "kernelspec": {
   "display_name": "Python 3",
   "language": "python",
   "name": "python3"
  },
  "language_info": {
   "codemirror_mode": {
    "name": "ipython",
    "version": 3
   },
   "file_extension": ".py",
   "mimetype": "text/x-python",
   "name": "python",
   "nbconvert_exporter": "python",
   "pygments_lexer": "ipython3",
   "version": "3.7.9"
  },
  "papermill": {
   "default_parameters": {},
   "duration": 28.519341,
   "end_time": "2021-02-17T04:26:53.982854",
   "environment_variables": {},
   "exception": null,
   "input_path": "__notebook__.ipynb",
   "output_path": "__notebook__.ipynb",
   "parameters": {},
   "start_time": "2021-02-17T04:26:25.463513",
   "version": "2.2.2"
  }
 },
 "nbformat": 4,
 "nbformat_minor": 4
}
