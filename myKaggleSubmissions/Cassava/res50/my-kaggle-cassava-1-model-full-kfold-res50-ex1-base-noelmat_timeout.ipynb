{
 "cells": [
  {
   "cell_type": "code",
   "execution_count": 1,
   "metadata": {
    "execution": {
     "iopub.execute_input": "2021-02-15T04:40:54.533911Z",
     "iopub.status.busy": "2021-02-15T04:40:54.533169Z",
     "iopub.status.idle": "2021-02-15T04:40:54.536081Z",
     "shell.execute_reply": "2021-02-15T04:40:54.535595Z"
    },
    "papermill": {
     "duration": 0.02176,
     "end_time": "2021-02-15T04:40:54.536274",
     "exception": false,
     "start_time": "2021-02-15T04:40:54.514514",
     "status": "completed"
    },
    "tags": []
   },
   "outputs": [],
   "source": [
    "#$note my changes\n",
    "BS_SIZE = 32 #delta from 64\n",
    "N_EPOCHS = 10 #delta $mini\n",
    "\n",
    "def free_gpu_cache():\n",
    "    torch.cuda.empty_cache()"
   ]
  },
  {
   "cell_type": "code",
   "execution_count": 2,
   "metadata": {
    "execution": {
     "iopub.execute_input": "2021-02-15T04:40:54.565781Z",
     "iopub.status.busy": "2021-02-15T04:40:54.565121Z",
     "iopub.status.idle": "2021-02-15T04:40:54.567966Z",
     "shell.execute_reply": "2021-02-15T04:40:54.567541Z"
    },
    "papermill": {
     "duration": 0.018626,
     "end_time": "2021-02-15T04:40:54.568086",
     "exception": false,
     "start_time": "2021-02-15T04:40:54.549460",
     "status": "completed"
    },
    "tags": []
   },
   "outputs": [],
   "source": [
    "#meta 2/14/2021 Kaggle Cassava Example Resnet 50 by noelmat \n",
    "#credit to noelmat\n",
    "#me: learning by example, this code looks concise -> errors out with CUDA, mitigate that"
   ]
  },
  {
   "cell_type": "code",
   "execution_count": 3,
   "metadata": {
    "_cell_guid": "79c7e3d0-c299-4dcb-8224-4455121ee9b0",
    "_uuid": "d629ff2d2480ee46fbb7e2d37f6b5fab8052498a",
    "execution": {
     "iopub.execute_input": "2021-02-15T04:40:54.597714Z",
     "iopub.status.busy": "2021-02-15T04:40:54.597153Z",
     "iopub.status.idle": "2021-02-15T04:40:57.743272Z",
     "shell.execute_reply": "2021-02-15T04:40:57.742204Z"
    },
    "papermill": {
     "duration": 3.162603,
     "end_time": "2021-02-15T04:40:57.743413",
     "exception": false,
     "start_time": "2021-02-15T04:40:54.580810",
     "status": "completed"
    },
    "tags": []
   },
   "outputs": [],
   "source": [
    "from fastai.vision.all import *"
   ]
  },
  {
   "cell_type": "code",
   "execution_count": 4,
   "metadata": {
    "execution": {
     "iopub.execute_input": "2021-02-15T04:40:57.773331Z",
     "iopub.status.busy": "2021-02-15T04:40:57.772762Z",
     "iopub.status.idle": "2021-02-15T04:40:57.780511Z",
     "shell.execute_reply": "2021-02-15T04:40:57.780097Z"
    },
    "papermill": {
     "duration": 0.023942,
     "end_time": "2021-02-15T04:40:57.780623",
     "exception": false,
     "start_time": "2021-02-15T04:40:57.756681",
     "status": "completed"
    },
    "tags": []
   },
   "outputs": [
    {
     "data": {
      "text/plain": [
       "(#7) [Path('/kaggle/input/cassava-leaf-disease-classification/train_tfrecords'),Path('/kaggle/input/cassava-leaf-disease-classification/sample_submission.csv'),Path('/kaggle/input/cassava-leaf-disease-classification/test_tfrecords'),Path('/kaggle/input/cassava-leaf-disease-classification/label_num_to_disease_map.json'),Path('/kaggle/input/cassava-leaf-disease-classification/train_images'),Path('/kaggle/input/cassava-leaf-disease-classification/train.csv'),Path('/kaggle/input/cassava-leaf-disease-classification/test_images')]"
      ]
     },
     "execution_count": 4,
     "metadata": {},
     "output_type": "execute_result"
    }
   ],
   "source": [
    "path = Path('/kaggle/input/cassava-leaf-disease-classification/')\n",
    "path.ls()"
   ]
  },
  {
   "cell_type": "code",
   "execution_count": 5,
   "metadata": {
    "execution": {
     "iopub.execute_input": "2021-02-15T04:40:57.811548Z",
     "iopub.status.busy": "2021-02-15T04:40:57.811048Z",
     "iopub.status.idle": "2021-02-15T04:40:57.848691Z",
     "shell.execute_reply": "2021-02-15T04:40:57.849134Z"
    },
    "papermill": {
     "duration": 0.055263,
     "end_time": "2021-02-15T04:40:57.849277",
     "exception": false,
     "start_time": "2021-02-15T04:40:57.794014",
     "status": "completed"
    },
    "tags": []
   },
   "outputs": [
    {
     "data": {
      "text/html": [
       "<div>\n",
       "<style scoped>\n",
       "    .dataframe tbody tr th:only-of-type {\n",
       "        vertical-align: middle;\n",
       "    }\n",
       "\n",
       "    .dataframe tbody tr th {\n",
       "        vertical-align: top;\n",
       "    }\n",
       "\n",
       "    .dataframe thead th {\n",
       "        text-align: right;\n",
       "    }\n",
       "</style>\n",
       "<table border=\"1\" class=\"dataframe\">\n",
       "  <thead>\n",
       "    <tr style=\"text-align: right;\">\n",
       "      <th></th>\n",
       "      <th>image_id</th>\n",
       "      <th>label</th>\n",
       "    </tr>\n",
       "  </thead>\n",
       "  <tbody>\n",
       "    <tr>\n",
       "      <th>0</th>\n",
       "      <td>1000015157.jpg</td>\n",
       "      <td>0</td>\n",
       "    </tr>\n",
       "    <tr>\n",
       "      <th>1</th>\n",
       "      <td>1000201771.jpg</td>\n",
       "      <td>3</td>\n",
       "    </tr>\n",
       "    <tr>\n",
       "      <th>2</th>\n",
       "      <td>100042118.jpg</td>\n",
       "      <td>1</td>\n",
       "    </tr>\n",
       "    <tr>\n",
       "      <th>3</th>\n",
       "      <td>1000723321.jpg</td>\n",
       "      <td>1</td>\n",
       "    </tr>\n",
       "    <tr>\n",
       "      <th>4</th>\n",
       "      <td>1000812911.jpg</td>\n",
       "      <td>3</td>\n",
       "    </tr>\n",
       "  </tbody>\n",
       "</table>\n",
       "</div>"
      ],
      "text/plain": [
       "         image_id  label\n",
       "0  1000015157.jpg      0\n",
       "1  1000201771.jpg      3\n",
       "2   100042118.jpg      1\n",
       "3  1000723321.jpg      1\n",
       "4  1000812911.jpg      3"
      ]
     },
     "execution_count": 5,
     "metadata": {},
     "output_type": "execute_result"
    }
   ],
   "source": [
    "train_df = pd.read_csv(path/'train.csv')\n",
    "train_df.head()"
   ]
  },
  {
   "cell_type": "code",
   "execution_count": 6,
   "metadata": {
    "execution": {
     "iopub.execute_input": "2021-02-15T04:40:57.880502Z",
     "iopub.status.busy": "2021-02-15T04:40:57.879985Z",
     "iopub.status.idle": "2021-02-15T04:40:57.887328Z",
     "shell.execute_reply": "2021-02-15T04:40:57.886781Z"
    },
    "papermill": {
     "duration": 0.024416,
     "end_time": "2021-02-15T04:40:57.887439",
     "exception": false,
     "start_time": "2021-02-15T04:40:57.863023",
     "status": "completed"
    },
    "tags": []
   },
   "outputs": [],
   "source": [
    "with open(path/'label_num_to_disease_map.json') as f:\n",
    "    label_dict = json.load(f)\n",
    "\n",
    "label_dict = {int(k):v for k,v in label_dict.items()}"
   ]
  },
  {
   "cell_type": "code",
   "execution_count": 7,
   "metadata": {
    "execution": {
     "iopub.execute_input": "2021-02-15T04:40:57.922638Z",
     "iopub.status.busy": "2021-02-15T04:40:57.921827Z",
     "iopub.status.idle": "2021-02-15T04:40:58.072479Z",
     "shell.execute_reply": "2021-02-15T04:40:58.072880Z"
    },
    "papermill": {
     "duration": 0.171524,
     "end_time": "2021-02-15T04:40:58.073057",
     "exception": false,
     "start_time": "2021-02-15T04:40:57.901533",
     "status": "completed"
    },
    "tags": []
   },
   "outputs": [
    {
     "data": {
      "text/plain": [
       "<AxesSubplot:>"
      ]
     },
     "execution_count": 7,
     "metadata": {},
     "output_type": "execute_result"
    },
    {
     "data": {
      "image/png": "[encoded data removed]",
      "text/plain": [
       "<Figure size 432x288 with 1 Axes>"
      ]
     },
     "metadata": {
      "needs_background": "light"
     },
     "output_type": "display_data"
    }
   ],
   "source": [
    "train_df['label'].value_counts(normalize=True).plot(kind='barh')"
   ]
  },
  {
   "cell_type": "code",
   "execution_count": 8,
   "metadata": {
    "execution": {
     "iopub.execute_input": "2021-02-15T04:40:58.107952Z",
     "iopub.status.busy": "2021-02-15T04:40:58.107188Z",
     "iopub.status.idle": "2021-02-15T04:40:58.115409Z",
     "shell.execute_reply": "2021-02-15T04:40:58.115001Z"
    },
    "papermill": {
     "duration": 0.027812,
     "end_time": "2021-02-15T04:40:58.115519",
     "exception": false,
     "start_time": "2021-02-15T04:40:58.087707",
     "status": "completed"
    },
    "tags": []
   },
   "outputs": [],
   "source": [
    "from sklearn.model_selection import StratifiedKFold\n",
    "\n",
    "cv = StratifiedKFold(n_splits=5, random_state=42, shuffle=True)\n",
    "splits = {}\n",
    "\n",
    "for i,(tr_idx,val_idx) in enumerate(cv.split(train_df, train_df['label'])):\n",
    "    splits[i] = [tr_idx, val_idx]"
   ]
  },
  {
   "cell_type": "code",
   "execution_count": 9,
   "metadata": {
    "execution": {
     "iopub.execute_input": "2021-02-15T04:40:58.148489Z",
     "iopub.status.busy": "2021-02-15T04:40:58.147698Z",
     "iopub.status.idle": "2021-02-15T04:40:58.159440Z",
     "shell.execute_reply": "2021-02-15T04:40:58.159020Z"
    },
    "papermill": {
     "duration": 0.029726,
     "end_time": "2021-02-15T04:40:58.159567",
     "exception": false,
     "start_time": "2021-02-15T04:40:58.129841",
     "status": "completed"
    },
    "tags": []
   },
   "outputs": [],
   "source": [
    "df = train_df.set_index('image_id')\n",
    "labels = df.to_dict()['label']"
   ]
  },
  {
   "cell_type": "code",
   "execution_count": 10,
   "metadata": {
    "execution": {
     "iopub.execute_input": "2021-02-15T04:40:58.193389Z",
     "iopub.status.busy": "2021-02-15T04:40:58.192514Z",
     "iopub.status.idle": "2021-02-15T04:40:58.197738Z",
     "shell.execute_reply": "2021-02-15T04:40:58.198324Z"
    },
    "papermill": {
     "duration": 0.024717,
     "end_time": "2021-02-15T04:40:58.198489",
     "exception": false,
     "start_time": "2021-02-15T04:40:58.173772",
     "status": "completed"
    },
    "tags": []
   },
   "outputs": [
    {
     "name": "stdout",
     "output_type": "stream",
     "text": [
      "CPU times: user 3 µs, sys: 1 µs, total: 4 µs\n",
      "Wall time: 7.39 µs\n"
     ]
    },
    {
     "data": {
      "text/plain": [
       "1"
      ]
     },
     "execution_count": 10,
     "metadata": {},
     "output_type": "execute_result"
    }
   ],
   "source": [
    "%%time\n",
    "labels['1000723321.jpg']"
   ]
  },
  {
   "cell_type": "code",
   "execution_count": 11,
   "metadata": {
    "execution": {
     "iopub.execute_input": "2021-02-15T04:40:58.232697Z",
     "iopub.status.busy": "2021-02-15T04:40:58.231984Z",
     "iopub.status.idle": "2021-02-15T04:40:58.234435Z",
     "shell.execute_reply": "2021-02-15T04:40:58.234864Z"
    },
    "papermill": {
     "duration": 0.021314,
     "end_time": "2021-02-15T04:40:58.235005",
     "exception": false,
     "start_time": "2021-02-15T04:40:58.213691",
     "status": "completed"
    },
    "tags": []
   },
   "outputs": [],
   "source": [
    "def get_label(labels, x):\n",
    "    x = Path(x)\n",
    "    return labels[x.name]"
   ]
  },
  {
   "cell_type": "code",
   "execution_count": 12,
   "metadata": {
    "execution": {
     "iopub.execute_input": "2021-02-15T04:40:58.269026Z",
     "iopub.status.busy": "2021-02-15T04:40:58.268400Z",
     "iopub.status.idle": "2021-02-15T04:40:58.271232Z",
     "shell.execute_reply": "2021-02-15T04:40:58.270784Z"
    },
    "papermill": {
     "duration": 0.021487,
     "end_time": "2021-02-15T04:40:58.271347",
     "exception": false,
     "start_time": "2021-02-15T04:40:58.249860",
     "status": "completed"
    },
    "tags": []
   },
   "outputs": [],
   "source": [
    "fn = train_df.iloc[0,0]"
   ]
  },
  {
   "cell_type": "code",
   "execution_count": 13,
   "metadata": {
    "execution": {
     "iopub.execute_input": "2021-02-15T04:40:58.306141Z",
     "iopub.status.busy": "2021-02-15T04:40:58.305293Z",
     "iopub.status.idle": "2021-02-15T04:40:58.310669Z",
     "shell.execute_reply": "2021-02-15T04:40:58.311264Z"
    },
    "papermill": {
     "duration": 0.025296,
     "end_time": "2021-02-15T04:40:58.311429",
     "exception": false,
     "start_time": "2021-02-15T04:40:58.286133",
     "status": "completed"
    },
    "tags": []
   },
   "outputs": [
    {
     "name": "stdout",
     "output_type": "stream",
     "text": [
      "CPU times: user 41 µs, sys: 10 µs, total: 51 µs\n",
      "Wall time: 55.1 µs\n"
     ]
    },
    {
     "data": {
      "text/plain": [
       "0"
      ]
     },
     "execution_count": 13,
     "metadata": {},
     "output_type": "execute_result"
    }
   ],
   "source": [
    "%%time\n",
    "get_label(labels,path/'train_images'/fn)"
   ]
  },
  {
   "cell_type": "code",
   "execution_count": 14,
   "metadata": {
    "execution": {
     "iopub.execute_input": "2021-02-15T04:40:58.346594Z",
     "iopub.status.busy": "2021-02-15T04:40:58.345846Z",
     "iopub.status.idle": "2021-02-15T04:40:58.348356Z",
     "shell.execute_reply": "2021-02-15T04:40:58.348783Z"
    },
    "papermill": {
     "duration": 0.021451,
     "end_time": "2021-02-15T04:40:58.348903",
     "exception": false,
     "start_time": "2021-02-15T04:40:58.327452",
     "status": "completed"
    },
    "tags": []
   },
   "outputs": [],
   "source": [
    "def get_splits(FOLD, x):\n",
    "    return splits[FOLD]"
   ]
  },
  {
   "cell_type": "code",
   "execution_count": 15,
   "metadata": {
    "execution": {
     "iopub.execute_input": "2021-02-15T04:40:58.386426Z",
     "iopub.status.busy": "2021-02-15T04:40:58.385692Z",
     "iopub.status.idle": "2021-02-15T04:40:58.387862Z",
     "shell.execute_reply": "2021-02-15T04:40:58.388376Z"
    },
    "papermill": {
     "duration": 0.024292,
     "end_time": "2021-02-15T04:40:58.388496",
     "exception": false,
     "start_time": "2021-02-15T04:40:58.364204",
     "status": "completed"
    },
    "tags": []
   },
   "outputs": [],
   "source": [
    "def get_data(labels,split,bs=BS_SIZE, presize=500, resize=384): #$mydelta\n",
    "    tfms = [Rotate(90), Warp(magnitude=0.4, p=1.),Zoom(min_zoom=0.9, max_zoom=1.3), Brightness(max_lighting=0.5), Flip(), Contrast(), Resize(resize)]\n",
    "    comp = setup_aug_tfms(tfms)\n",
    "    return DataBlock(blocks=(ImageBlock, CategoryBlock),\n",
    "        get_items=lambda p: get_image_files(p),\n",
    "        get_y=partial(get_label, labels),\n",
    "        splitter=partial(get_splits, split),\n",
    "        item_tfms=[Resize(presize)],\n",
    "        batch_tfms=[*comp, Normalize.from_stats(*imagenet_stats)]).dataloaders(path/'train_images',bs=bs,num_workers=8)"
   ]
  },
  {
   "cell_type": "code",
   "execution_count": 16,
   "metadata": {
    "execution": {
     "iopub.execute_input": "2021-02-15T04:40:58.422579Z",
     "iopub.status.busy": "2021-02-15T04:40:58.421925Z",
     "iopub.status.idle": "2021-02-15T04:40:58.424895Z",
     "shell.execute_reply": "2021-02-15T04:40:58.424490Z"
    },
    "papermill": {
     "duration": 0.021152,
     "end_time": "2021-02-15T04:40:58.425020",
     "exception": false,
     "start_time": "2021-02-15T04:40:58.403868",
     "status": "completed"
    },
    "tags": []
   },
   "outputs": [],
   "source": [
    "N_FOLDS=5"
   ]
  },
  {
   "cell_type": "code",
   "execution_count": 17,
   "metadata": {
    "execution": {
     "iopub.execute_input": "2021-02-15T04:40:58.459091Z",
     "iopub.status.busy": "2021-02-15T04:40:58.458426Z",
     "iopub.status.idle": "2021-02-15T04:40:58.461674Z",
     "shell.execute_reply": "2021-02-15T04:40:58.461170Z"
    },
    "papermill": {
     "duration": 0.02159,
     "end_time": "2021-02-15T04:40:58.461776",
     "exception": false,
     "start_time": "2021-02-15T04:40:58.440186",
     "status": "completed"
    },
    "tags": []
   },
   "outputs": [],
   "source": [
    "os.makedirs('/root/.cache/torch/hub/checkpoints/', exist_ok=True)"
   ]
  },
  {
   "cell_type": "code",
   "execution_count": 18,
   "metadata": {
    "execution": {
     "iopub.execute_input": "2021-02-15T04:40:58.515387Z",
     "iopub.status.busy": "2021-02-15T04:40:58.514552Z",
     "iopub.status.idle": "2021-02-15T04:41:02.087762Z",
     "shell.execute_reply": "2021-02-15T04:41:02.087255Z"
    },
    "papermill": {
     "duration": 3.602892,
     "end_time": "2021-02-15T04:41:02.087883",
     "exception": false,
     "start_time": "2021-02-15T04:40:58.484991",
     "status": "completed"
    },
    "tags": []
   },
   "outputs": [],
   "source": [
    "!cp /kaggle/input/fastai-pretrained/resnet50-19c8e357.pth /root/.cache/torch/hub/checkpoints/"
   ]
  },
  {
   "cell_type": "code",
   "execution_count": 19,
   "metadata": {
    "execution": {
     "iopub.execute_input": "2021-02-15T04:41:02.132676Z",
     "iopub.status.busy": "2021-02-15T04:41:02.132160Z",
     "iopub.status.idle": "2020-12-19T17:51:20.879738Z",
     "shell.execute_reply": "2020-12-19T17:51:20.881613Z"
    },
    "papermill": {
     "duration": null,
     "end_time": null,
     "exception": false,
     "start_time": "2021-02-15T04:41:02.104030",
     "status": "running"
    },
    "tags": []
   },
   "outputs": [
    {
     "data": {
      "text/html": [
       "<table border=\"1\" class=\"dataframe\">\n",
       "  <thead>\n",
       "    <tr style=\"text-align: left;\">\n",
       "      <th>epoch</th>\n",
       "      <th>train_loss</th>\n",
       "      <th>valid_loss</th>\n",
       "      <th>accuracy</th>\n",
       "      <th>time</th>\n",
       "    </tr>\n",
       "  </thead>\n",
       "  <tbody>\n",
       "    <tr>\n",
       "      <td>0</td>\n",
       "      <td>1.038129</td>\n",
       "      <td>0.572311</td>\n",
       "      <td>0.810981</td>\n",
       "      <td>07:05</td>\n",
       "    </tr>\n",
       "    <tr>\n",
       "      <td>1</td>\n",
       "      <td>0.867038</td>\n",
       "      <td>1.410253</td>\n",
       "      <td>0.557009</td>\n",
       "      <td>06:53</td>\n",
       "    </tr>\n",
       "    <tr>\n",
       "      <td>2</td>\n",
       "      <td>0.802513</td>\n",
       "      <td>0.485671</td>\n",
       "      <td>0.833178</td>\n",
       "      <td>06:53</td>\n",
       "    </tr>\n",
       "    <tr>\n",
       "      <td>3</td>\n",
       "      <td>0.740229</td>\n",
       "      <td>0.507634</td>\n",
       "      <td>0.822664</td>\n",
       "      <td>06:54</td>\n",
       "    </tr>\n",
       "    <tr>\n",
       "      <td>4</td>\n",
       "      <td>0.717880</td>\n",
       "      <td>0.453921</td>\n",
       "      <td>0.837617</td>\n",
       "      <td>06:54</td>\n",
       "    </tr>\n",
       "    <tr>\n",
       "      <td>5</td>\n",
       "      <td>0.709171</td>\n",
       "      <td>0.382267</td>\n",
       "      <td>0.877336</td>\n",
       "      <td>06:54</td>\n",
       "    </tr>\n",
       "    <tr>\n",
       "      <td>6</td>\n",
       "      <td>0.671610</td>\n",
       "      <td>0.381146</td>\n",
       "      <td>0.872897</td>\n",
       "      <td>06:54</td>\n",
       "    </tr>\n",
       "    <tr>\n",
       "      <td>7</td>\n",
       "      <td>0.683451</td>\n",
       "      <td>0.374609</td>\n",
       "      <td>0.873832</td>\n",
       "      <td>06:55</td>\n",
       "    </tr>\n",
       "    <tr>\n",
       "      <td>8</td>\n",
       "      <td>0.636821</td>\n",
       "      <td>0.353414</td>\n",
       "      <td>0.885280</td>\n",
       "      <td>06:54</td>\n",
       "    </tr>\n",
       "    <tr>\n",
       "      <td>9</td>\n",
       "      <td>0.631331</td>\n",
       "      <td>0.350540</td>\n",
       "      <td>0.886215</td>\n",
       "      <td>06:53</td>\n",
       "    </tr>\n",
       "  </tbody>\n",
       "</table>"
      ],
      "text/plain": [
       "<IPython.core.display.HTML object>"
      ]
     },
     "metadata": {},
     "output_type": "display_data"
    },
    {
     "data": {
      "text/html": [
       "<table border=\"1\" class=\"dataframe\">\n",
       "  <thead>\n",
       "    <tr style=\"text-align: left;\">\n",
       "      <th>epoch</th>\n",
       "      <th>train_loss</th>\n",
       "      <th>valid_loss</th>\n",
       "      <th>accuracy</th>\n",
       "      <th>time</th>\n",
       "    </tr>\n",
       "  </thead>\n",
       "  <tbody>\n",
       "    <tr>\n",
       "      <td>0</td>\n",
       "      <td>0.615340</td>\n",
       "      <td>0.358400</td>\n",
       "      <td>0.882243</td>\n",
       "      <td>08:30</td>\n",
       "    </tr>\n",
       "    <tr>\n",
       "      <td>1</td>\n",
       "      <td>0.650119</td>\n",
       "      <td>0.369587</td>\n",
       "      <td>0.878271</td>\n",
       "      <td>08:31</td>\n",
       "    </tr>\n",
       "    <tr>\n",
       "      <td>2</td>\n",
       "      <td>0.650568</td>\n",
       "      <td>0.362338</td>\n",
       "      <td>0.880140</td>\n",
       "      <td>08:30</td>\n",
       "    </tr>\n",
       "    <tr>\n",
       "      <td>3</td>\n",
       "      <td>0.663404</td>\n",
       "      <td>0.347138</td>\n",
       "      <td>0.884579</td>\n",
       "      <td>08:28</td>\n",
       "    </tr>\n",
       "    <tr>\n",
       "      <td>4</td>\n",
       "      <td>0.652934</td>\n",
       "      <td>0.343832</td>\n",
       "      <td>0.886916</td>\n",
       "      <td>08:27</td>\n",
       "    </tr>\n",
       "    <tr>\n",
       "      <td>5</td>\n",
       "      <td>0.621074</td>\n",
       "      <td>0.347494</td>\n",
       "      <td>0.882243</td>\n",
       "      <td>08:28</td>\n",
       "    </tr>\n",
       "    <tr>\n",
       "      <td>6</td>\n",
       "      <td>0.622382</td>\n",
       "      <td>0.343326</td>\n",
       "      <td>0.887617</td>\n",
       "      <td>08:28</td>\n",
       "    </tr>\n",
       "    <tr>\n",
       "      <td>7</td>\n",
       "      <td>0.609909</td>\n",
       "      <td>0.333294</td>\n",
       "      <td>0.890888</td>\n",
       "      <td>08:28</td>\n",
       "    </tr>\n",
       "    <tr>\n",
       "      <td>8</td>\n",
       "      <td>0.594414</td>\n",
       "      <td>0.334189</td>\n",
       "      <td>0.891355</td>\n",
       "      <td>08:28</td>\n",
       "    </tr>\n",
       "    <tr>\n",
       "      <td>9</td>\n",
       "      <td>0.616634</td>\n",
       "      <td>0.331186</td>\n",
       "      <td>0.890187</td>\n",
       "      <td>08:27</td>\n",
       "    </tr>\n",
       "  </tbody>\n",
       "</table>"
      ],
      "text/plain": [
       "<IPython.core.display.HTML object>"
      ]
     },
     "metadata": {},
     "output_type": "display_data"
    },
    {
     "name": "stdout",
     "output_type": "stream",
     "text": [
      "Fold Training time (in min) 154.4710192600886\n"
     ]
    },
    {
     "data": {
      "text/html": [
       "<table border=\"1\" class=\"dataframe\">\n",
       "  <thead>\n",
       "    <tr style=\"text-align: left;\">\n",
       "      <th>epoch</th>\n",
       "      <th>train_loss</th>\n",
       "      <th>valid_loss</th>\n",
       "      <th>accuracy</th>\n",
       "      <th>time</th>\n",
       "    </tr>\n",
       "  </thead>\n",
       "  <tbody>\n",
       "    <tr>\n",
       "      <td>0</td>\n",
       "      <td>1.058031</td>\n",
       "      <td>0.523855</td>\n",
       "      <td>0.817757</td>\n",
       "      <td>06:51</td>\n",
       "    </tr>\n",
       "    <tr>\n",
       "      <td>1</td>\n",
       "      <td>0.852883</td>\n",
       "      <td>0.601693</td>\n",
       "      <td>0.775701</td>\n",
       "      <td>06:52</td>\n",
       "    </tr>\n",
       "    <tr>\n",
       "      <td>2</td>\n",
       "      <td>0.799305</td>\n",
       "      <td>0.496269</td>\n",
       "      <td>0.835514</td>\n",
       "      <td>06:50</td>\n",
       "    </tr>\n",
       "    <tr>\n",
       "      <td>3</td>\n",
       "      <td>0.777905</td>\n",
       "      <td>0.457071</td>\n",
       "      <td>0.844860</td>\n",
       "      <td>06:53</td>\n",
       "    </tr>\n",
       "    <tr>\n",
       "      <td>4</td>\n",
       "      <td>0.722409</td>\n",
       "      <td>0.371679</td>\n",
       "      <td>0.874065</td>\n",
       "      <td>06:53</td>\n",
       "    </tr>\n",
       "    <tr>\n",
       "      <td>5</td>\n",
       "      <td>0.697274</td>\n",
       "      <td>0.363492</td>\n",
       "      <td>0.880841</td>\n",
       "      <td>06:52</td>\n",
       "    </tr>\n",
       "    <tr>\n",
       "      <td>6</td>\n",
       "      <td>0.673650</td>\n",
       "      <td>0.358854</td>\n",
       "      <td>0.879439</td>\n",
       "      <td>06:53</td>\n",
       "    </tr>\n",
       "    <tr>\n",
       "      <td>7</td>\n",
       "      <td>0.675439</td>\n",
       "      <td>0.348057</td>\n",
       "      <td>0.882009</td>\n",
       "      <td>06:54</td>\n",
       "    </tr>\n",
       "    <tr>\n",
       "      <td>8</td>\n",
       "      <td>0.637310</td>\n",
       "      <td>0.329507</td>\n",
       "      <td>0.888084</td>\n",
       "      <td>06:55</td>\n",
       "    </tr>\n",
       "    <tr>\n",
       "      <td>9</td>\n",
       "      <td>0.638120</td>\n",
       "      <td>0.326734</td>\n",
       "      <td>0.888084</td>\n",
       "      <td>06:55</td>\n",
       "    </tr>\n",
       "  </tbody>\n",
       "</table>"
      ],
      "text/plain": [
       "<IPython.core.display.HTML object>"
      ]
     },
     "metadata": {},
     "output_type": "display_data"
    },
    {
     "data": {
      "text/html": [
       "<table border=\"1\" class=\"dataframe\">\n",
       "  <thead>\n",
       "    <tr style=\"text-align: left;\">\n",
       "      <th>epoch</th>\n",
       "      <th>train_loss</th>\n",
       "      <th>valid_loss</th>\n",
       "      <th>accuracy</th>\n",
       "      <th>time</th>\n",
       "    </tr>\n",
       "  </thead>\n",
       "  <tbody>\n",
       "    <tr>\n",
       "      <td>0</td>\n",
       "      <td>0.670499</td>\n",
       "      <td>0.329551</td>\n",
       "      <td>0.887383</td>\n",
       "      <td>08:32</td>\n",
       "    </tr>\n",
       "    <tr>\n",
       "      <td>1</td>\n",
       "      <td>0.663579</td>\n",
       "      <td>0.352139</td>\n",
       "      <td>0.879673</td>\n",
       "      <td>08:30</td>\n",
       "    </tr>\n",
       "    <tr>\n",
       "      <td>2</td>\n",
       "      <td>0.652019</td>\n",
       "      <td>0.358072</td>\n",
       "      <td>0.877804</td>\n",
       "      <td>08:32</td>\n",
       "    </tr>\n",
       "    <tr>\n",
       "      <td>3</td>\n",
       "      <td>0.646098</td>\n",
       "      <td>0.351600</td>\n",
       "      <td>0.885981</td>\n",
       "      <td>08:32</td>\n",
       "    </tr>\n",
       "    <tr>\n",
       "      <td>4</td>\n",
       "      <td>0.666624</td>\n",
       "      <td>0.346347</td>\n",
       "      <td>0.881075</td>\n",
       "      <td>08:31</td>\n",
       "    </tr>\n",
       "    <tr>\n",
       "      <td>5</td>\n",
       "      <td>0.611789</td>\n",
       "      <td>0.323779</td>\n",
       "      <td>0.889953</td>\n",
       "      <td>08:32</td>\n",
       "    </tr>\n",
       "    <tr>\n",
       "      <td>6</td>\n",
       "      <td>0.616045</td>\n",
       "      <td>0.335896</td>\n",
       "      <td>0.885748</td>\n",
       "      <td>08:32</td>\n",
       "    </tr>\n",
       "    <tr>\n",
       "      <td>7</td>\n",
       "      <td>0.627194</td>\n",
       "      <td>0.318072</td>\n",
       "      <td>0.891122</td>\n",
       "      <td>08:32</td>\n",
       "    </tr>\n",
       "    <tr>\n",
       "      <td>8</td>\n",
       "      <td>0.628039</td>\n",
       "      <td>0.314207</td>\n",
       "      <td>0.894159</td>\n",
       "      <td>08:33</td>\n",
       "    </tr>\n",
       "    <tr>\n",
       "      <td>9</td>\n",
       "      <td>0.600580</td>\n",
       "      <td>0.322226</td>\n",
       "      <td>0.890421</td>\n",
       "      <td>08:33</td>\n",
       "    </tr>\n",
       "  </tbody>\n",
       "</table>"
      ],
      "text/plain": [
       "<IPython.core.display.HTML object>"
      ]
     },
     "metadata": {},
     "output_type": "display_data"
    },
    {
     "name": "stdout",
     "output_type": "stream",
     "text": [
      "Fold Training time (in min) 154.3693999091784\n"
     ]
    },
    {
     "data": {
      "text/html": [
       "<table border=\"1\" class=\"dataframe\">\n",
       "  <thead>\n",
       "    <tr style=\"text-align: left;\">\n",
       "      <th>epoch</th>\n",
       "      <th>train_loss</th>\n",
       "      <th>valid_loss</th>\n",
       "      <th>accuracy</th>\n",
       "      <th>time</th>\n",
       "    </tr>\n",
       "  </thead>\n",
       "  <tbody>\n",
       "    <tr>\n",
       "      <td>0</td>\n",
       "      <td>0.978301</td>\n",
       "      <td>0.661153</td>\n",
       "      <td>0.775181</td>\n",
       "      <td>06:59</td>\n",
       "    </tr>\n",
       "    <tr>\n",
       "      <td>1</td>\n",
       "      <td>0.812053</td>\n",
       "      <td>0.551855</td>\n",
       "      <td>0.804861</td>\n",
       "      <td>06:58</td>\n",
       "    </tr>\n",
       "    <tr>\n",
       "      <td>2</td>\n",
       "      <td>0.808748</td>\n",
       "      <td>0.555766</td>\n",
       "      <td>0.821687</td>\n",
       "      <td>06:58</td>\n",
       "    </tr>\n",
       "    <tr>\n",
       "      <td>3</td>\n",
       "      <td>0.739528</td>\n",
       "      <td>0.453212</td>\n",
       "      <td>0.845525</td>\n",
       "      <td>06:56</td>\n",
       "    </tr>\n",
       "    <tr>\n",
       "      <td>4</td>\n",
       "      <td>0.709354</td>\n",
       "      <td>0.442144</td>\n",
       "      <td>0.853237</td>\n",
       "      <td>06:53</td>\n",
       "    </tr>\n",
       "    <tr>\n",
       "      <td>5</td>\n",
       "      <td>0.703128</td>\n",
       "      <td>0.429107</td>\n",
       "      <td>0.863286</td>\n",
       "      <td>06:53</td>\n",
       "    </tr>\n",
       "    <tr>\n",
       "      <td>6</td>\n",
       "      <td>0.670960</td>\n",
       "      <td>0.399455</td>\n",
       "      <td>0.870998</td>\n",
       "      <td>06:55</td>\n",
       "    </tr>\n",
       "    <tr>\n",
       "      <td>7</td>\n",
       "      <td>0.671943</td>\n",
       "      <td>0.378763</td>\n",
       "      <td>0.871699</td>\n",
       "      <td>06:52</td>\n",
       "    </tr>\n",
       "    <tr>\n",
       "      <td>8</td>\n",
       "      <td>0.648627</td>\n",
       "      <td>0.366626</td>\n",
       "      <td>0.874737</td>\n",
       "      <td>06:53</td>\n",
       "    </tr>\n",
       "    <tr>\n",
       "      <td>9</td>\n",
       "      <td>0.654632</td>\n",
       "      <td>0.368905</td>\n",
       "      <td>0.874270</td>\n",
       "      <td>06:53</td>\n",
       "    </tr>\n",
       "  </tbody>\n",
       "</table>"
      ],
      "text/plain": [
       "<IPython.core.display.HTML object>"
      ]
     },
     "metadata": {},
     "output_type": "display_data"
    },
    {
     "data": {
      "text/html": [
       "<table border=\"1\" class=\"dataframe\">\n",
       "  <thead>\n",
       "    <tr style=\"text-align: left;\">\n",
       "      <th>epoch</th>\n",
       "      <th>train_loss</th>\n",
       "      <th>valid_loss</th>\n",
       "      <th>accuracy</th>\n",
       "      <th>time</th>\n",
       "    </tr>\n",
       "  </thead>\n",
       "  <tbody>\n",
       "    <tr>\n",
       "      <td>0</td>\n",
       "      <td>0.644689</td>\n",
       "      <td>0.367585</td>\n",
       "      <td>0.875205</td>\n",
       "      <td>08:29</td>\n",
       "    </tr>\n",
       "    <tr>\n",
       "      <td>1</td>\n",
       "      <td>0.660772</td>\n",
       "      <td>0.380971</td>\n",
       "      <td>0.873101</td>\n",
       "      <td>08:28</td>\n",
       "    </tr>\n",
       "    <tr>\n",
       "      <td>2</td>\n",
       "      <td>0.659391</td>\n",
       "      <td>0.397261</td>\n",
       "      <td>0.865389</td>\n",
       "      <td>08:28</td>\n",
       "    </tr>\n",
       "    <tr>\n",
       "      <td>3</td>\n",
       "      <td>0.671039</td>\n",
       "      <td>0.364840</td>\n",
       "      <td>0.880112</td>\n",
       "      <td>08:29</td>\n",
       "    </tr>\n",
       "    <tr>\n",
       "      <td>4</td>\n",
       "      <td>0.640408</td>\n",
       "      <td>0.368010</td>\n",
       "      <td>0.874503</td>\n",
       "      <td>08:28</td>\n",
       "    </tr>\n",
       "    <tr>\n",
       "      <td>5</td>\n",
       "      <td>0.615948</td>\n",
       "      <td>0.360832</td>\n",
       "      <td>0.880346</td>\n",
       "      <td>08:30</td>\n",
       "    </tr>\n",
       "    <tr>\n",
       "      <td>6</td>\n",
       "      <td>0.603101</td>\n",
       "      <td>0.351520</td>\n",
       "      <td>0.880112</td>\n",
       "      <td>08:29</td>\n",
       "    </tr>\n",
       "    <tr>\n",
       "      <td>7</td>\n",
       "      <td>0.625281</td>\n",
       "      <td>0.350189</td>\n",
       "      <td>0.881982</td>\n",
       "      <td>08:29</td>\n",
       "    </tr>\n",
       "    <tr>\n",
       "      <td>8</td>\n",
       "      <td>0.617981</td>\n",
       "      <td>0.345525</td>\n",
       "      <td>0.887591</td>\n",
       "      <td>08:29</td>\n",
       "    </tr>\n",
       "    <tr>\n",
       "      <td>9</td>\n",
       "      <td>0.608175</td>\n",
       "      <td>0.348047</td>\n",
       "      <td>0.882215</td>\n",
       "      <td>08:30</td>\n",
       "    </tr>\n",
       "  </tbody>\n",
       "</table>"
      ],
      "text/plain": [
       "<IPython.core.display.HTML object>"
      ]
     },
     "metadata": {},
     "output_type": "display_data"
    },
    {
     "name": "stdout",
     "output_type": "stream",
     "text": [
      "Fold Training time (in min) 154.2264926036199\n"
     ]
    },
    {
     "data": {
      "text/html": [
       "<table border=\"1\" class=\"dataframe\">\n",
       "  <thead>\n",
       "    <tr style=\"text-align: left;\">\n",
       "      <th>epoch</th>\n",
       "      <th>train_loss</th>\n",
       "      <th>valid_loss</th>\n",
       "      <th>accuracy</th>\n",
       "      <th>time</th>\n",
       "    </tr>\n",
       "  </thead>\n",
       "  <tbody>\n",
       "    <tr>\n",
       "      <td>0</td>\n",
       "      <td>1.012041</td>\n",
       "      <td>0.621616</td>\n",
       "      <td>0.795513</td>\n",
       "      <td>06:53</td>\n",
       "    </tr>\n",
       "    <tr>\n",
       "      <td>1</td>\n",
       "      <td>0.860996</td>\n",
       "      <td>0.593985</td>\n",
       "      <td>0.793410</td>\n",
       "      <td>06:52</td>\n",
       "    </tr>\n",
       "    <tr>\n",
       "      <td>2</td>\n",
       "      <td>0.792580</td>\n",
       "      <td>0.525073</td>\n",
       "      <td>0.837579</td>\n",
       "      <td>06:53</td>\n",
       "    </tr>\n",
       "    <tr>\n",
       "      <td>3</td>\n",
       "      <td>0.718424</td>\n",
       "      <td>0.492300</td>\n",
       "      <td>0.833372</td>\n",
       "      <td>06:54</td>\n",
       "    </tr>\n",
       "    <tr>\n",
       "      <td>4</td>\n",
       "      <td>0.760005</td>\n",
       "      <td>0.440137</td>\n",
       "      <td>0.854405</td>\n",
       "      <td>06:53</td>\n",
       "    </tr>\n",
       "    <tr>\n",
       "      <td>5</td>\n",
       "      <td>0.684630</td>\n",
       "      <td>0.392424</td>\n",
       "      <td>0.871699</td>\n",
       "      <td>06:53</td>\n",
       "    </tr>\n",
       "    <tr>\n",
       "      <td>6</td>\n",
       "      <td>0.679779</td>\n",
       "      <td>0.372909</td>\n",
       "      <td>0.877775</td>\n",
       "      <td>06:53</td>\n",
       "    </tr>\n",
       "    <tr>\n",
       "      <td>7</td>\n",
       "      <td>0.660882</td>\n",
       "      <td>0.364623</td>\n",
       "      <td>0.877775</td>\n",
       "      <td>06:55</td>\n",
       "    </tr>\n",
       "    <tr>\n",
       "      <td>8</td>\n",
       "      <td>0.630491</td>\n",
       "      <td>0.347990</td>\n",
       "      <td>0.878944</td>\n",
       "      <td>06:53</td>\n",
       "    </tr>\n",
       "    <tr>\n",
       "      <td>9</td>\n",
       "      <td>0.632491</td>\n",
       "      <td>0.347881</td>\n",
       "      <td>0.881281</td>\n",
       "      <td>06:54</td>\n",
       "    </tr>\n",
       "  </tbody>\n",
       "</table>"
      ],
      "text/plain": [
       "<IPython.core.display.HTML object>"
      ]
     },
     "metadata": {},
     "output_type": "display_data"
    },
    {
     "data": {
      "text/html": [
       "\n",
       "    <div>\n",
       "        <style>\n",
       "            /* Turns off some styling */\n",
       "            progress {\n",
       "                /* gets rid of default border in Firefox and Opera. */\n",
       "                border: none;\n",
       "                /* Needs to be in here for Safari polyfill so background images work as expected. */\n",
       "                background-size: auto;\n",
       "            }\n",
       "            .progress-bar-interrupted, .progress-bar-interrupted::-webkit-progress-bar {\n",
       "                background: #F44336;\n",
       "            }\n",
       "        </style>\n",
       "      <progress value='0' class='' max='10' style='width:300px; height:20px; vertical-align: middle;'></progress>\n",
       "      0.00% [0/10 00:00<00:00]\n",
       "    </div>\n",
       "    \n",
       "<table border=\"1\" class=\"dataframe\">\n",
       "  <thead>\n",
       "    <tr style=\"text-align: left;\">\n",
       "      <th>epoch</th>\n",
       "      <th>train_loss</th>\n",
       "      <th>valid_loss</th>\n",
       "      <th>accuracy</th>\n",
       "      <th>time</th>\n",
       "    </tr>\n",
       "  </thead>\n",
       "  <tbody>\n",
       "  </tbody>\n",
       "</table><p>\n",
       "\n",
       "    <div>\n",
       "        <style>\n",
       "            /* Turns off some styling */\n",
       "            progress {\n",
       "                /* gets rid of default border in Firefox and Opera. */\n",
       "                border: none;\n",
       "                /* Needs to be in here for Safari polyfill so background images work as expected. */\n",
       "                background-size: auto;\n",
       "            }\n",
       "            .progress-bar-interrupted, .progress-bar-interrupted::-webkit-progress-bar {\n",
       "                background: #F44336;\n",
       "            }\n",
       "        </style>\n",
       "      <progress value='533' class='' max='534' style='width:300px; height:20px; vertical-align: middle;'></progress>\n",
       "      99.81% [533/534 07:30<00:00 0.6656]\n",
       "    </div>\n",
       "    "
      ],
      "text/plain": [
       "<IPython.core.display.HTML object>"
      ]
     },
     "metadata": {},
     "output_type": "display_data"
    }
   ],
   "source": [
    "#track time\n",
    "t0 = time.time()\n",
    "\n",
    "for split in range(N_FOLDS): #$mini\n",
    "    #track fold time\n",
    "    t1 = time.time()\n",
    "\n",
    "    dls = get_data(labels,split,bs=BS_SIZE)\n",
    "    \n",
    "    free_gpu_cache() #mydelta\n",
    "    \n",
    "    learn = cnn_learner(dls, models.resnet50, metrics=[accuracy]).to_fp16()\n",
    "    learn.freeze()\n",
    "    # learn.lr_find()\n",
    "    learn.fit_one_cycle(N_EPOCHS, 5e-3, cbs=[MixUp()]) #$mydelta\n",
    "    learn.save(f'resnet50-frozen-fold_{split}')\n",
    "    learn.unfreeze()\n",
    "    learn.fit_one_cycle(N_EPOCHS, slice(1e-5, 1e-4), cbs=[MixUp()]) #$mydelta\n",
    "    learn.save(f'resnet50-full-fold_{split}')\n",
    "    \n",
    "    #export model\n",
    "    learn.export(f'/kaggle/working/model_{split}.pkl') \n",
    "    \n",
    "    print (\"Fold Training time (in min)\", (time.time() - t1)/60)\n",
    "    \n",
    "print (\"Total Training time (in min)\", (time.time() - t0)/60)\n",
    "    "
   ]
  },
  {
   "cell_type": "code",
   "execution_count": null,
   "metadata": {
    "papermill": {
     "duration": null,
     "end_time": null,
     "exception": null,
     "start_time": null,
     "status": "pending"
    },
    "tags": []
   },
   "outputs": [],
   "source": [
    "#learn.recorder.plot_loss()"
   ]
  },
  {
   "cell_type": "code",
   "execution_count": null,
   "metadata": {
    "papermill": {
     "duration": null,
     "end_time": null,
     "exception": null,
     "start_time": null,
     "status": "pending"
    },
    "tags": []
   },
   "outputs": [],
   "source": [
    "#evaluate - out of memory\n",
    "#interp = ClassificationInterpretation.from_learner(learn)\n",
    "#interp.plot_confusion_matrix()"
   ]
  },
  {
   "cell_type": "code",
   "execution_count": null,
   "metadata": {
    "papermill": {
     "duration": null,
     "end_time": null,
     "exception": null,
     "start_time": null,
     "status": "pending"
    },
    "tags": []
   },
   "outputs": [],
   "source": []
  }
 ],
 "metadata": {
  "kernelspec": {
   "display_name": "Python 3",
   "language": "python",
   "name": "python3"
  },
  "language_info": {
   "codemirror_mode": {
    "name": "ipython",
    "version": 3
   },
   "file_extension": ".py",
   "mimetype": "text/x-python",
   "name": "python",
   "nbconvert_exporter": "python",
   "pygments_lexer": "ipython3",
   "version": "3.8.3"
  },
  "papermill": {
   "default_parameters": {},
   "duration": null,
   "end_time": null,
   "environment_variables": {},
   "exception": null,
   "input_path": "__notebook__.ipynb",
   "output_path": "__notebook__.ipynb",
   "parameters": {},
   "start_time": "2021-02-15T04:40:49.460020",
   "version": "2.2.2"
  }
 },
 "nbformat": 4,
 "nbformat_minor": 4
}
