{
 "cells": [
  {
   "cell_type": "code",
   "execution_count": 1,
   "metadata": {
    "execution": {
     "iopub.execute_input": "2021-01-14T09:11:38.290310Z",
     "iopub.status.busy": "2021-01-14T09:11:38.289408Z",
     "iopub.status.idle": "2021-01-14T09:11:38.292280Z",
     "shell.execute_reply": "2021-01-14T09:11:38.291700Z"
    },
    "papermill": {
     "duration": 0.021566,
     "end_time": "2021-01-14T09:11:38.292384",
     "exception": false,
     "start_time": "2021-01-14T09:11:38.270818",
     "status": "completed"
    },
    "tags": []
   },
   "outputs": [],
   "source": [
    "### meta 12/12/2020 Kaggle Cassava Model - Inference\n",
    "#fast.ai 2020 study group Kaggle Competition\n",
    "#src https://www.kaggle.com/c/cassava-leaf-disease-classification\n",
    "#prev competition src https://www.kaggle.com/c/cassava-disease\n",
    "#references https://arxiv.org/pdf/1908.02900.pdf\n",
    "\n",
    "#input: export.pkl\n",
    "#output: submission.csv\n",
    "#pwd: /kaggle/working\n",
    "#summary: POC export a model and submit predictions on test data.\n",
    "\n",
    "#prev versions from 1/10/2020 thru 1/13/2020\n",
    "#history\n",
    "#1/13/2020 MODEL - REFACTOR POC INFERENCE (CPU&GPU): TEST IMAGES DATA ONLY. NO TTA FOR POC.\n",
    "#      DEBUG for testing exported mini model, test images data only -> no need for exported data, no need for dls with train data\n",
    "#      Score 0.793\n",
    "#      CPU submission time 1:30, GPU time 1:20\n",
    "\n",
    "#1/13/2020 MODEL - REFACTORED POC INFERENCE (GPU): TEST IMAGES DATA ONLY. ADD TTA.\n",
    "#      DEBUG for testing exported mini model, test images data only, add TTA\n",
    "#      Score ?\n",
    "#      GPU submission time more than 2:15\n",
    "\n",
    "#here 1/14/2020 MODEL - REFACTORED POC INFERENCE (GPU): TEST IMAGES DATA ONLY. LEARNER MISC CHANGES\n",
    "#      DEBUG for testing exported mini model, test images data only, with TTA\n",
    "#      learn = load_learner(path, cpu=False)\n",
    "#      Score ?\n",
    "#      GPU submission time ?\n"
   ]
  },
  {
   "cell_type": "code",
   "execution_count": 2,
   "metadata": {
    "_cell_guid": "b1076dfc-b9ad-4769-8c92-a6c4dae69d19",
    "_uuid": "8f2839f25d086af736a60e9eeb907d3b93b6e0e5",
    "execution": {
     "iopub.execute_input": "2021-01-14T09:11:38.318846Z",
     "iopub.status.busy": "2021-01-14T09:11:38.318172Z",
     "iopub.status.idle": "2021-01-14T09:11:41.658241Z",
     "shell.execute_reply": "2021-01-14T09:11:41.657306Z"
    },
    "papermill": {
     "duration": 3.3553,
     "end_time": "2021-01-14T09:11:41.658381",
     "exception": false,
     "start_time": "2021-01-14T09:11:38.303081",
     "status": "completed"
    },
    "tags": []
   },
   "outputs": [],
   "source": [
    "# This Python 3 environment comes with many helpful analytics libraries installed\n",
    "# It is defined by the kaggle/python Docker image: https://github.com/kaggle/docker-python\n",
    "\n",
    "import os\n",
    "#import time #to track performance time\n",
    "import numpy as np # linear algebra\n",
    "import pandas as pd # data processing, CSV file I/O (e.g. pd.read_csv)\n",
    "\n",
    "#modeling\n",
    "from fastai.vision.all import *\n",
    "\n",
    "# Input data files are available in the read-only \"../input/\" directory\n",
    "# You can write up to 20GB to the current directory (/kaggle/working/) that gets preserved as output when you create a version using \"Save & Run All\" \n",
    "# You can also write temporary files to /kaggle/temp/, but they won't be saved outside of the current session"
   ]
  },
  {
   "cell_type": "code",
   "execution_count": 3,
   "metadata": {
    "execution": {
     "iopub.execute_input": "2021-01-14T09:11:41.689793Z",
     "iopub.status.busy": "2021-01-14T09:11:41.688997Z",
     "iopub.status.idle": "2021-01-14T09:11:41.692067Z",
     "shell.execute_reply": "2021-01-14T09:11:41.691533Z"
    },
    "papermill": {
     "duration": 0.020998,
     "end_time": "2021-01-14T09:11:41.692177",
     "exception": false,
     "start_time": "2021-01-14T09:11:41.671179",
     "status": "completed"
    },
    "tags": []
   },
   "outputs": [],
   "source": [
    "#--constants and variables\n",
    "DEBUG = 1\n",
    "\n",
    "#set paths\n",
    "path = Path('../input/cassava-leaf-disease-classification')\n",
    "if not DEBUG: \n",
    "    path_model = Path('../input/my-cassava-model')\n",
    "    #path_data = Path('../input/my-cassava-data')\n",
    "else:\n",
    "    path_model = Path('../input/my-cassava-mini')\n",
    "    #path_data = Path('../input/my-cassava-mini')\n",
    "\n",
    "#--functions\n",
    "def get_x(row): return path/'train_images'/row['image_id']\n",
    "def get_y(row): return row['label']\n"
   ]
  },
  {
   "cell_type": "markdown",
   "metadata": {
    "papermill": {
     "duration": 0.011219,
     "end_time": "2021-01-14T09:11:41.713747",
     "exception": false,
     "start_time": "2021-01-14T09:11:41.702528",
     "status": "completed"
    },
    "tags": []
   },
   "source": [
    "# Cassava Disease Classification - Inference\n",
    "##### Objective: Classify pictures of cassava leaves into 1 of 4 disease categories or healthy.\n",
    "\n",
    "Export saved model and create a submission.csv file, with predictions on test images.\n"
   ]
  },
  {
   "cell_type": "markdown",
   "metadata": {
    "papermill": {
     "duration": 0.010251,
     "end_time": "2021-01-14T09:11:41.734797",
     "exception": false,
     "start_time": "2021-01-14T09:11:41.724546",
     "status": "completed"
    },
    "tags": []
   },
   "source": [
    "## 0. Load Prepared Data and Model\n",
    "\n",
    "- Input(s): export.pkl\n"
   ]
  },
  {
   "cell_type": "code",
   "execution_count": 4,
   "metadata": {
    "execution": {
     "iopub.execute_input": "2021-01-14T09:11:41.760168Z",
     "iopub.status.busy": "2021-01-14T09:11:41.759170Z",
     "iopub.status.idle": "2021-01-14T09:11:48.350442Z",
     "shell.execute_reply": "2021-01-14T09:11:48.348984Z"
    },
    "papermill": {
     "duration": 6.605089,
     "end_time": "2021-01-14T09:11:48.350561",
     "exception": false,
     "start_time": "2021-01-14T09:11:41.745472",
     "status": "completed"
    },
    "tags": []
   },
   "outputs": [
    {
     "name": "stdout",
     "output_type": "stream",
     "text": [
      "../input/my-cassava-mini\n"
     ]
    }
   ],
   "source": [
    "#track time\n",
    "t0 = time.time()\n",
    "\n",
    "#check if loaded model exists and load it\n",
    "if path_model.ls(file_exts='.pkl'):\n",
    "    print(path_model)\n",
    "    learn_inf = load_learner(path_model/'export.pkl', cpu=False)\n",
    "    learn_inf.to_native_fp32()\n",
    "else:\n",
    "    print(\"No model to export\")"
   ]
  },
  {
   "cell_type": "markdown",
   "metadata": {
    "papermill": {
     "duration": 0.010881,
     "end_time": "2021-01-14T09:11:48.372984",
     "exception": false,
     "start_time": "2021-01-14T09:11:48.362103",
     "status": "completed"
    },
    "tags": []
   },
   "source": [
    "## 3. Predict"
   ]
  },
  {
   "cell_type": "code",
   "execution_count": 5,
   "metadata": {
    "execution": {
     "iopub.execute_input": "2021-01-14T09:11:48.401090Z",
     "iopub.status.busy": "2021-01-14T09:11:48.399188Z",
     "iopub.status.idle": "2021-01-14T09:11:48.402047Z",
     "shell.execute_reply": "2021-01-14T09:11:48.402577Z"
    },
    "papermill": {
     "duration": 0.01863,
     "end_time": "2021-01-14T09:11:48.402710",
     "exception": false,
     "start_time": "2021-01-14T09:11:48.384080",
     "status": "completed"
    },
    "tags": []
   },
   "outputs": [],
   "source": [
    "##Predict on one file\n",
    "#view test images - only one\n",
    "#test_img = get_image_files(path/'test_images')\n",
    "#Image.open(test_img[0])\n",
    "\n",
    "#predict one, returns a tuple, get 0th item\n",
    "#y_hat = learn_inf.predict(test_img[0])\n",
    "#y_hat[0]"
   ]
  },
  {
   "cell_type": "markdown",
   "metadata": {
    "papermill": {
     "duration": 0.010497,
     "end_time": "2021-01-14T09:11:48.424586",
     "exception": false,
     "start_time": "2021-01-14T09:11:48.414089",
     "status": "completed"
    },
    "tags": []
   },
   "source": [
    "Test dataset"
   ]
  },
  {
   "cell_type": "code",
   "execution_count": 6,
   "metadata": {
    "execution": {
     "iopub.execute_input": "2021-01-14T09:11:48.454028Z",
     "iopub.status.busy": "2021-01-14T09:11:48.453434Z",
     "iopub.status.idle": "2021-01-14T09:11:48.465588Z",
     "shell.execute_reply": "2021-01-14T09:11:48.465019Z"
    },
    "papermill": {
     "duration": 0.02971,
     "end_time": "2021-01-14T09:11:48.465683",
     "exception": false,
     "start_time": "2021-01-14T09:11:48.435973",
     "status": "completed"
    },
    "tags": []
   },
   "outputs": [],
   "source": [
    "#template\n",
    "sample_submission = pd.read_csv(path/'sample_submission.csv')\n",
    "submission = sample_submission.copy()"
   ]
  },
  {
   "cell_type": "code",
   "execution_count": 7,
   "metadata": {
    "execution": {
     "iopub.execute_input": "2021-01-14T09:11:48.501048Z",
     "iopub.status.busy": "2021-01-14T09:11:48.496778Z",
     "iopub.status.idle": "2021-01-14T09:11:48.507391Z",
     "shell.execute_reply": "2021-01-14T09:11:48.506713Z"
    },
    "papermill": {
     "duration": 0.030369,
     "end_time": "2021-01-14T09:11:48.507499",
     "exception": false,
     "start_time": "2021-01-14T09:11:48.477130",
     "status": "completed"
    },
    "tags": []
   },
   "outputs": [
    {
     "data": {
      "text/plain": [
       "['../input/cassava-leaf-disease-classification/test_images/2216849948.jpg']"
      ]
     },
     "execution_count": 7,
     "metadata": {},
     "output_type": "execute_result"
    }
   ],
   "source": [
    "#create test images id\n",
    "test_img_id = [os.path.join(path/'test_images', x) for x in submission['image_id'].values]\n",
    "\n",
    "#images in test files\n",
    "test_img_id"
   ]
  },
  {
   "cell_type": "code",
   "execution_count": 8,
   "metadata": {
    "execution": {
     "iopub.execute_input": "2021-01-14T09:11:48.541641Z",
     "iopub.status.busy": "2021-01-14T09:11:48.540896Z",
     "iopub.status.idle": "2021-01-14T09:11:51.003895Z",
     "shell.execute_reply": "2021-01-14T09:11:51.003323Z"
    },
    "papermill": {
     "duration": 2.484087,
     "end_time": "2021-01-14T09:11:51.004021",
     "exception": false,
     "start_time": "2021-01-14T09:11:48.519934",
     "status": "completed"
    },
    "tags": []
   },
   "outputs": [
    {
     "name": "stdout",
     "output_type": "stream",
     "text": [
      "1\n"
     ]
    },
    {
     "data": {
      "text/html": [
       "\n",
       "    <div>\n",
       "        <style>\n",
       "            /* Turns off some styling */\n",
       "            progress {\n",
       "                /* gets rid of default border in Firefox and Opera. */\n",
       "                border: none;\n",
       "                /* Needs to be in here for Safari polyfill so background images work as expected. */\n",
       "                background-size: auto;\n",
       "            }\n",
       "            .progress-bar-interrupted, .progress-bar-interrupted::-webkit-progress-bar {\n",
       "                background: #F44336;\n",
       "            }\n",
       "        </style>\n",
       "      <progress value='0' class='' max='1' style='width:300px; height:20px; vertical-align: middle;'></progress>\n",
       "      \n",
       "    </div>\n",
       "    \n"
      ],
      "text/plain": [
       "<IPython.core.display.HTML object>"
      ]
     },
     "metadata": {},
     "output_type": "display_data"
    },
    {
     "data": {
      "text/html": [],
      "text/plain": [
       "<IPython.core.display.HTML object>"
      ]
     },
     "metadata": {},
     "output_type": "display_data"
    },
    {
     "data": {
      "text/html": [
       "<div>\n",
       "<style scoped>\n",
       "    .dataframe tbody tr th:only-of-type {\n",
       "        vertical-align: middle;\n",
       "    }\n",
       "\n",
       "    .dataframe tbody tr th {\n",
       "        vertical-align: top;\n",
       "    }\n",
       "\n",
       "    .dataframe thead th {\n",
       "        text-align: right;\n",
       "    }\n",
       "</style>\n",
       "<table border=\"1\" class=\"dataframe\">\n",
       "  <thead>\n",
       "    <tr style=\"text-align: right;\">\n",
       "      <th></th>\n",
       "      <th>image_id</th>\n",
       "      <th>label</th>\n",
       "    </tr>\n",
       "  </thead>\n",
       "  <tbody>\n",
       "    <tr>\n",
       "      <th>0</th>\n",
       "      <td>2216849948.jpg</td>\n",
       "      <td>2</td>\n",
       "    </tr>\n",
       "  </tbody>\n",
       "</table>\n",
       "</div>"
      ],
      "text/plain": [
       "         image_id  label\n",
       "0  2216849948.jpg      2"
      ]
     },
     "execution_count": 8,
     "metadata": {},
     "output_type": "execute_result"
    }
   ],
   "source": [
    "test_dl = learn_inf.dls.test_dl(test_img_id)\n",
    "print(len(test_dl))\n",
    "\n",
    "#predict\n",
    "preds, _ = learn_inf.tta(dl=test_dl, n=3, beta=0) #n=15\n",
    "#preds\n",
    "\n",
    "#submission\n",
    "submission['label'] = preds.argmax(dim=-1).numpy()\n",
    "submission.head()"
   ]
  },
  {
   "cell_type": "markdown",
   "metadata": {
    "papermill": {
     "duration": 0.013616,
     "end_time": "2021-01-14T09:11:51.031597",
     "exception": false,
     "start_time": "2021-01-14T09:11:51.017981",
     "status": "completed"
    },
    "tags": []
   },
   "source": [
    "## 4. Submit\n"
   ]
  },
  {
   "cell_type": "code",
   "execution_count": 9,
   "metadata": {
    "execution": {
     "iopub.execute_input": "2021-01-14T09:11:51.065343Z",
     "iopub.status.busy": "2021-01-14T09:11:51.064470Z",
     "iopub.status.idle": "2021-01-14T09:11:51.336152Z",
     "shell.execute_reply": "2021-01-14T09:11:51.336960Z"
    },
    "papermill": {
     "duration": 0.291672,
     "end_time": "2021-01-14T09:11:51.337108",
     "exception": false,
     "start_time": "2021-01-14T09:11:51.045436",
     "status": "completed"
    },
    "tags": []
   },
   "outputs": [
    {
     "name": "stdout",
     "output_type": "stream",
     "text": [
      "Inference time (in min) 0.1594689170519511\n"
     ]
    }
   ],
   "source": [
    "#save to csv\n",
    "submission.to_csv('submission.csv', index=False)\n",
    "\n",
    "#total inference time\n",
    "t1 = time.time()\n",
    "print (\"Inference time (in min)\", (time.time() - t0)/60)"
   ]
  }
 ],
 "metadata": {
  "kernelspec": {
   "display_name": "Python 3",
   "language": "python",
   "name": "python3"
  },
  "language_info": {
   "codemirror_mode": {
    "name": "ipython",
    "version": 3
   },
   "file_extension": ".py",
   "mimetype": "text/x-python",
   "name": "python",
   "nbconvert_exporter": "python",
   "pygments_lexer": "ipython3",
   "version": "3.7.6"
  },
  "papermill": {
   "duration": 18.743303,
   "end_time": "2021-01-14T09:11:52.490304",
   "environment_variables": {},
   "exception": null,
   "input_path": "__notebook__.ipynb",
   "output_path": "__notebook__.ipynb",
   "parameters": {},
   "start_time": "2021-01-14T09:11:33.747001",
   "version": "2.1.0"
  }
 },
 "nbformat": 4,
 "nbformat_minor": 4
}
