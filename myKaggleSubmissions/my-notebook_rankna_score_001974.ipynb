{
 "cells": [
  {
   "cell_type": "code",
   "execution_count": 1,
   "metadata": {
    "execution": {
     "iopub.execute_input": "2020-11-30T03:24:34.179766Z",
     "iopub.status.busy": "2020-11-30T03:24:34.178680Z",
     "iopub.status.idle": "2020-11-30T03:24:34.182010Z",
     "shell.execute_reply": "2020-11-30T03:24:34.181414Z"
    },
    "papermill": {
     "duration": 0.042071,
     "end_time": "2020-11-30T03:24:34.182117",
     "exception": false,
     "start_time": "2020-11-30T03:24:34.140046",
     "status": "completed"
    },
    "tags": []
   },
   "outputs": [],
   "source": [
    "#fastai study group.  learning to do a competition in Kaggle.\n",
    "#my code compilation\n",
    "\n",
    "#11/22/2020 Compile clean draft, based on fastai-2020 study course\n",
    "#     make it work like 09-tabular\n",
    "#     no bells no whistles\n",
    "#    simple: merge features & targets, get lr min recommendation, learn and relearn.\n",
    "#     expect a score ~.02025\n",
    "\n",
    "#11/28/2020 Add cross-validation, multilable stratified k-fold\n",
    "#     from iterstrat.ml_stratifiers import MultilabelStratifiedKFold \n",
    "#     src: https://www.kaggle.com/robertlangdonvinci/lish-moa-kfold-fastai-tabnet-ensemble/data?select=ml_stratifiers.py\n",
    "#\n",
    "#     $note tried sklearn \n",
    "#     https://scikit-learn.org/stable/modules/generated/sklearn.model_selection.StratifiedKFold.html\n",
    "#     UserWarning: The least populated class in y has only 1 members, which is less than n_splits=2.\n",
    "\n",
    "#11/29/2020 Set initial lr\n",
    "#     lr =.001 or determine dynamically in 0th fold\n",
    "#     expect similar score ~.01972, got .01987 ok\n",
    "#     misc edits: tried y_range=(0,1) but then train_loss and valid_loss are same everywhere\n",
    "\n",
    "#11/29/2020 Set initial lr dynamically, don't train on controls\n",
    "#     expect similar score ~range (.01972,.01987)\n",
    "\n",
    "\n",
    "#next: params grid, cross-validation\n",
    "#next: incorporate non-scoredMultilabelStratifiedKFold"
   ]
  },
  {
   "cell_type": "code",
   "execution_count": 2,
   "metadata": {
    "_cell_guid": "b1076dfc-b9ad-4769-8c92-a6c4dae69d19",
    "_uuid": "8f2839f25d086af736a60e9eeb907d3b93b6e0e5",
    "execution": {
     "iopub.execute_input": "2020-11-30T03:24:34.244796Z",
     "iopub.status.busy": "2020-11-30T03:24:34.243908Z",
     "iopub.status.idle": "2020-11-30T03:24:34.252743Z",
     "shell.execute_reply": "2020-11-30T03:24:34.252243Z"
    },
    "papermill": {
     "duration": 0.042876,
     "end_time": "2020-11-30T03:24:34.252840",
     "exception": false,
     "start_time": "2020-11-30T03:24:34.209964",
     "status": "completed"
    },
    "tags": []
   },
   "outputs": [
    {
     "name": "stdout",
     "output_type": "stream",
     "text": [
      "/kaggle/input/lish-moa/train_targets_scored.csv\n",
      "/kaggle/input/lish-moa/train_drug.csv\n",
      "/kaggle/input/lish-moa/train_targets_nonscored.csv\n",
      "/kaggle/input/lish-moa/train_features.csv\n",
      "/kaggle/input/lish-moa/sample_submission.csv\n",
      "/kaggle/input/lish-moa/test_features.csv\n"
     ]
    }
   ],
   "source": [
    "# This Python 3 environment comes with many helpful analytics libraries installed\n",
    "# It is defined by the kaggle/python Docker image: https://github.com/kaggle/docker-python\n",
    "# For example, here's several helpful packages to load\n",
    "\n",
    "import numpy as np # linear algebra\n",
    "import pandas as pd # data processing, CSV file I/O (e.g. pd.read_csv)\n",
    "\n",
    "# Input data files are available in the read-only \"../input/\" directory\n",
    "# For example, running this (by clicking run or pressing Shift+Enter) will list all files under the input directory\n",
    "\n",
    "import os\n",
    "for dirname, _, filenames in os.walk('/kaggle/input'):\n",
    "    for filename in filenames:\n",
    "        print(os.path.join(dirname, filename))\n",
    "\n",
    "# You can write up to 20GB to the current directory (/kaggle/working/) that gets preserved as output when you create a version using \"Save & Run All\" \n",
    "# You can also write temporary files to /kaggle/temp/, but they won't be saved outside of the current session"
   ]
  },
  {
   "cell_type": "code",
   "execution_count": 3,
   "metadata": {
    "execution": {
     "iopub.execute_input": "2020-11-30T03:24:34.314869Z",
     "iopub.status.busy": "2020-11-30T03:24:34.314223Z",
     "iopub.status.idle": "2020-11-30T03:24:37.617699Z",
     "shell.execute_reply": "2020-11-30T03:24:37.616006Z"
    },
    "papermill": {
     "duration": 3.336087,
     "end_time": "2020-11-30T03:24:37.617879",
     "exception": false,
     "start_time": "2020-11-30T03:24:34.281792",
     "status": "completed"
    },
    "tags": []
   },
   "outputs": [],
   "source": [
    "#modeling\n",
    "from fastai.tabular.all import *\n"
   ]
  },
  {
   "cell_type": "code",
   "execution_count": 4,
   "metadata": {
    "execution": {
     "iopub.execute_input": "2020-11-30T03:24:37.682312Z",
     "iopub.status.busy": "2020-11-30T03:24:37.681434Z",
     "iopub.status.idle": "2020-11-30T03:24:37.693946Z",
     "shell.execute_reply": "2020-11-30T03:24:37.694595Z"
    },
    "papermill": {
     "duration": 0.046692,
     "end_time": "2020-11-30T03:24:37.694746",
     "exception": false,
     "start_time": "2020-11-30T03:24:37.648054",
     "status": "completed"
    },
    "tags": []
   },
   "outputs": [
    {
     "name": "stdout",
     "output_type": "stream",
     "text": [
      "/kaggle/input/lish-moa/train_targets_scored.csv\n",
      "/kaggle/input/lish-moa/train_drug.csv\n",
      "/kaggle/input/lish-moa/train_targets_nonscored.csv\n",
      "/kaggle/input/lish-moa/train_features.csv\n",
      "/kaggle/input/lish-moa/sample_submission.csv\n",
      "/kaggle/input/lish-moa/test_features.csv\n"
     ]
    }
   ],
   "source": [
    "#cross-validation\n",
    "from ml_stratifiers import MultilabelStratifiedKFold"
   ]
  },
  {
   "cell_type": "code",
   "execution_count": 5,
   "metadata": {
    "execution": {
     "iopub.execute_input": "2020-11-30T03:24:37.771615Z",
     "iopub.status.busy": "2020-11-30T03:24:37.766423Z",
     "iopub.status.idle": "2020-11-30T03:24:37.776723Z",
     "shell.execute_reply": "2020-11-30T03:24:37.776052Z"
    },
    "papermill": {
     "duration": 0.052287,
     "end_time": "2020-11-30T03:24:37.776825",
     "exception": false,
     "start_time": "2020-11-30T03:24:37.724538",
     "status": "completed"
    },
    "tags": []
   },
   "outputs": [],
   "source": [
    "#src: https://www.kaggle.com/robertlangdonvinci/lish-moa-kfold-fastai-tabnet-ensemble/data?select=ml_stratifiers.py\n",
    "def make_folds(folds = 5, random_state = 0, stratify = True, scored = None):\n",
    "    \n",
    "    drug = pd.read_csv('../input/lish-moa/train_drug.csv')\n",
    "    if scored is None:\n",
    "        scored = pd.read_csv('../input/lish-moa/train_targets_scored.csv')\n",
    "    targets = scored.columns[1:]\n",
    "    scored = scored.merge(drug, on='sig_id', how='left')\n",
    "\n",
    "    # LOCATE DRUGS\n",
    "    vc = scored.drug_id.value_counts()\n",
    "    vc1 = vc.loc[vc<=18].index.sort_values()\n",
    "    vc2 = vc.loc[vc>18].index.sort_values()\n",
    "\n",
    "    # STRATIFY DRUGS 18 OR LESS\n",
    "    dct1 = {}; dct2 = {}\n",
    "    if stratify:\n",
    "        skf = MultilabelStratifiedKFold(n_splits=folds, shuffle=True, random_state=random_state)\n",
    "    else:\n",
    "        skf = KFold(n_splits=folds, shuffle=True, random_state=random_state)\n",
    "    tmp = scored.groupby('drug_id')[targets].mean().loc[vc1]\n",
    "    for fold,(idxT,idxV) in enumerate( skf.split(tmp,tmp[targets])):\n",
    "        dd = {k:fold for k in tmp.index[idxV].values}\n",
    "        dct1.update(dd)\n",
    "    \n",
    "    # STRATIFY DRUGS MORE THAN 18\n",
    "    if stratify:\n",
    "        skf = MultilabelStratifiedKFold(n_splits=folds, shuffle=True, random_state=random_state)\n",
    "    else:\n",
    "        skf = KFold(n_splits=folds, shuffle=True, random_state=random_state)\n",
    "    tmp = scored.loc[scored.drug_id.isin(vc2)].reset_index(drop=True)\n",
    "    for fold,(idxT,idxV) in enumerate( skf.split(tmp,tmp[targets])):\n",
    "        dd = {k:fold for k in tmp.sig_id[idxV].values}\n",
    "        dct2.update(dd)\n",
    "    \n",
    "    # ASSIGN FOLDS\n",
    "    scored['fold'] = np.nan\n",
    "    scored['fold'] = scored.drug_id.map(dct1)\n",
    "    scored.loc[scored.fold.isna(),'fold'] = scored.loc[scored.fold.isna(),'sig_id'].map(dct2)\n",
    "    scored.fold = scored.fold.astype('int8')\n",
    "    \n",
    "    return scored[['sig_id','fold']].copy()"
   ]
  },
  {
   "cell_type": "markdown",
   "metadata": {
    "papermill": {
     "duration": 0.029926,
     "end_time": "2020-11-30T03:24:37.836062",
     "exception": false,
     "start_time": "2020-11-30T03:24:37.806136",
     "status": "completed"
    },
    "tags": []
   },
   "source": [
    "## 0. Load Data"
   ]
  },
  {
   "cell_type": "code",
   "execution_count": 6,
   "metadata": {
    "execution": {
     "iopub.execute_input": "2020-11-30T03:24:37.899706Z",
     "iopub.status.busy": "2020-11-30T03:24:37.898695Z",
     "iopub.status.idle": "2020-11-30T03:24:37.905902Z",
     "shell.execute_reply": "2020-11-30T03:24:37.905318Z"
    },
    "papermill": {
     "duration": 0.040989,
     "end_time": "2020-11-30T03:24:37.905995",
     "exception": false,
     "start_time": "2020-11-30T03:24:37.865006",
     "status": "completed"
    },
    "tags": []
   },
   "outputs": [
    {
     "data": {
      "text/plain": [
       "(#6) [Path('../input/lish-moa/train_targets_scored.csv'),Path('../input/lish-moa/train_drug.csv'),Path('../input/lish-moa/train_targets_nonscored.csv'),Path('../input/lish-moa/train_features.csv'),Path('../input/lish-moa/sample_submission.csv'),Path('../input/lish-moa/test_features.csv')]"
      ]
     },
     "execution_count": 6,
     "metadata": {},
     "output_type": "execute_result"
    }
   ],
   "source": [
    "path = Path('../input/lish-moa')\n",
    "path.ls()"
   ]
  },
  {
   "cell_type": "code",
   "execution_count": 7,
   "metadata": {
    "execution": {
     "iopub.execute_input": "2020-11-30T03:24:37.971554Z",
     "iopub.status.busy": "2020-11-30T03:24:37.970618Z",
     "iopub.status.idle": "2020-11-30T03:24:38.059669Z",
     "shell.execute_reply": "2020-11-30T03:24:38.059068Z"
    },
    "papermill": {
     "duration": 0.124414,
     "end_time": "2020-11-30T03:24:38.059785",
     "exception": false,
     "start_time": "2020-11-30T03:24:37.935371",
     "status": "completed"
    },
    "tags": []
   },
   "outputs": [
    {
     "name": "stdout",
     "output_type": "stream",
     "text": [
      "train drug data\n",
      " (23814, 2)\n"
     ]
    },
    {
     "data": {
      "text/html": [
       "<div>\n",
       "<style scoped>\n",
       "    .dataframe tbody tr th:only-of-type {\n",
       "        vertical-align: middle;\n",
       "    }\n",
       "\n",
       "    .dataframe tbody tr th {\n",
       "        vertical-align: top;\n",
       "    }\n",
       "\n",
       "    .dataframe thead th {\n",
       "        text-align: right;\n",
       "    }\n",
       "</style>\n",
       "<table border=\"1\" class=\"dataframe\">\n",
       "  <thead>\n",
       "    <tr style=\"text-align: right;\">\n",
       "      <th></th>\n",
       "      <th>sig_id</th>\n",
       "      <th>drug_id</th>\n",
       "    </tr>\n",
       "  </thead>\n",
       "  <tbody>\n",
       "    <tr>\n",
       "      <th>0</th>\n",
       "      <td>id_000644bb2</td>\n",
       "      <td>b68db1d53</td>\n",
       "    </tr>\n",
       "    <tr>\n",
       "      <th>1</th>\n",
       "      <td>id_000779bfc</td>\n",
       "      <td>df89a8e5a</td>\n",
       "    </tr>\n",
       "    <tr>\n",
       "      <th>2</th>\n",
       "      <td>id_000a6266a</td>\n",
       "      <td>18bb41b2c</td>\n",
       "    </tr>\n",
       "  </tbody>\n",
       "</table>\n",
       "</div>"
      ],
      "text/plain": [
       "         sig_id    drug_id\n",
       "0  id_000644bb2  b68db1d53\n",
       "1  id_000779bfc  df89a8e5a\n",
       "2  id_000a6266a  18bb41b2c"
      ]
     },
     "metadata": {},
     "output_type": "display_data"
    },
    {
     "data": {
      "text/html": [
       "<div>\n",
       "<style scoped>\n",
       "    .dataframe tbody tr th:only-of-type {\n",
       "        vertical-align: middle;\n",
       "    }\n",
       "\n",
       "    .dataframe tbody tr th {\n",
       "        vertical-align: top;\n",
       "    }\n",
       "\n",
       "    .dataframe thead th {\n",
       "        text-align: right;\n",
       "    }\n",
       "</style>\n",
       "<table border=\"1\" class=\"dataframe\">\n",
       "  <thead>\n",
       "    <tr style=\"text-align: right;\">\n",
       "      <th></th>\n",
       "      <th>sig_id</th>\n",
       "      <th>drug_id</th>\n",
       "    </tr>\n",
       "  </thead>\n",
       "  <tbody>\n",
       "    <tr>\n",
       "      <th>count</th>\n",
       "      <td>23814</td>\n",
       "      <td>23814</td>\n",
       "    </tr>\n",
       "    <tr>\n",
       "      <th>unique</th>\n",
       "      <td>23814</td>\n",
       "      <td>3289</td>\n",
       "    </tr>\n",
       "    <tr>\n",
       "      <th>top</th>\n",
       "      <td>id_2d3c6f198</td>\n",
       "      <td>cacb2b860</td>\n",
       "    </tr>\n",
       "    <tr>\n",
       "      <th>freq</th>\n",
       "      <td>1</td>\n",
       "      <td>1866</td>\n",
       "    </tr>\n",
       "  </tbody>\n",
       "</table>\n",
       "</div>"
      ],
      "text/plain": [
       "              sig_id    drug_id\n",
       "count          23814      23814\n",
       "unique         23814       3289\n",
       "top     id_2d3c6f198  cacb2b860\n",
       "freq               1       1866"
      ]
     },
     "execution_count": 7,
     "metadata": {},
     "output_type": "execute_result"
    }
   ],
   "source": [
    "train_drug = pd.read_csv(path/'train_drug.csv')\n",
    "\n",
    "print('train drug data\\n', train_drug.shape)\n",
    "display(train_drug.head(3))\n",
    "train_drug.describe()"
   ]
  },
  {
   "cell_type": "code",
   "execution_count": 8,
   "metadata": {
    "execution": {
     "iopub.execute_input": "2020-11-30T03:24:38.136377Z",
     "iopub.status.busy": "2020-11-30T03:24:38.135325Z",
     "iopub.status.idle": "2020-11-30T03:24:38.143747Z",
     "shell.execute_reply": "2020-11-30T03:24:38.143210Z"
    },
    "papermill": {
     "duration": 0.052651,
     "end_time": "2020-11-30T03:24:38.143842",
     "exception": false,
     "start_time": "2020-11-30T03:24:38.091191",
     "status": "completed"
    },
    "tags": []
   },
   "outputs": [
    {
     "data": {
      "text/plain": [
       "cacb2b860    1866\n",
       "87d714366     718\n",
       "9f80f3f77     246\n",
       "8b87a7a83     203\n",
       "5628cb3ee     202\n",
       "             ... \n",
       "573c787a2       1\n",
       "ddb7e0c01       1\n",
       "ef4e67d99       1\n",
       "f0d1b8dbc       1\n",
       "209a68d23       1\n",
       "Name: drug_id, Length: 3289, dtype: int64"
      ]
     },
     "execution_count": 8,
     "metadata": {},
     "output_type": "execute_result"
    }
   ],
   "source": [
    "train_drug['drug_id'].value_counts()"
   ]
  },
  {
   "cell_type": "code",
   "execution_count": 9,
   "metadata": {
    "execution": {
     "iopub.execute_input": "2020-11-30T03:24:38.214705Z",
     "iopub.status.busy": "2020-11-30T03:24:38.212991Z",
     "iopub.status.idle": "2020-11-30T03:24:44.501500Z",
     "shell.execute_reply": "2020-11-30T03:24:44.500513Z"
    },
    "papermill": {
     "duration": 6.326291,
     "end_time": "2020-11-30T03:24:44.501656",
     "exception": false,
     "start_time": "2020-11-30T03:24:38.175365",
     "status": "completed"
    },
    "tags": []
   },
   "outputs": [],
   "source": [
    "train_features = pd.read_csv(path/'train_features.csv')\n",
    "train_targets_scored = pd.read_csv(path/'train_targets_scored.csv')\n",
    "train_targets_nonscored = pd.read_csv(path/'train_targets_nonscored.csv')\n",
    "test_features = pd.read_csv(path/'test_features.csv')\n"
   ]
  },
  {
   "cell_type": "code",
   "execution_count": 10,
   "metadata": {
    "execution": {
     "iopub.execute_input": "2020-11-30T03:24:44.591573Z",
     "iopub.status.busy": "2020-11-30T03:24:44.570095Z",
     "iopub.status.idle": "2020-11-30T03:24:44.613607Z",
     "shell.execute_reply": "2020-11-30T03:24:44.614067Z"
    },
    "papermill": {
     "duration": 0.07983,
     "end_time": "2020-11-30T03:24:44.614182",
     "exception": false,
     "start_time": "2020-11-30T03:24:44.534352",
     "status": "completed"
    },
    "tags": []
   },
   "outputs": [
    {
     "name": "stdout",
     "output_type": "stream",
     "text": [
      "train features (23814, 876)\n",
      "train targets (23814, 207)\n",
      "test features (3982, 876)\n"
     ]
    },
    {
     "data": {
      "text/html": [
       "<div>\n",
       "<style scoped>\n",
       "    .dataframe tbody tr th:only-of-type {\n",
       "        vertical-align: middle;\n",
       "    }\n",
       "\n",
       "    .dataframe tbody tr th {\n",
       "        vertical-align: top;\n",
       "    }\n",
       "\n",
       "    .dataframe thead th {\n",
       "        text-align: right;\n",
       "    }\n",
       "</style>\n",
       "<table border=\"1\" class=\"dataframe\">\n",
       "  <thead>\n",
       "    <tr style=\"text-align: right;\">\n",
       "      <th></th>\n",
       "      <th>sig_id</th>\n",
       "      <th>cp_type</th>\n",
       "      <th>cp_time</th>\n",
       "      <th>cp_dose</th>\n",
       "      <th>g-0</th>\n",
       "      <th>g-1</th>\n",
       "      <th>g-2</th>\n",
       "      <th>g-3</th>\n",
       "      <th>g-4</th>\n",
       "      <th>g-5</th>\n",
       "      <th>...</th>\n",
       "      <th>c-90</th>\n",
       "      <th>c-91</th>\n",
       "      <th>c-92</th>\n",
       "      <th>c-93</th>\n",
       "      <th>c-94</th>\n",
       "      <th>c-95</th>\n",
       "      <th>c-96</th>\n",
       "      <th>c-97</th>\n",
       "      <th>c-98</th>\n",
       "      <th>c-99</th>\n",
       "    </tr>\n",
       "  </thead>\n",
       "  <tbody>\n",
       "    <tr>\n",
       "      <th>0</th>\n",
       "      <td>id_000644bb2</td>\n",
       "      <td>trt_cp</td>\n",
       "      <td>24</td>\n",
       "      <td>D1</td>\n",
       "      <td>1.0620</td>\n",
       "      <td>0.5577</td>\n",
       "      <td>-0.2479</td>\n",
       "      <td>-0.6208</td>\n",
       "      <td>-0.1944</td>\n",
       "      <td>-1.0120</td>\n",
       "      <td>...</td>\n",
       "      <td>0.2862</td>\n",
       "      <td>0.2584</td>\n",
       "      <td>0.8076</td>\n",
       "      <td>0.5523</td>\n",
       "      <td>-0.1912</td>\n",
       "      <td>0.6584</td>\n",
       "      <td>-0.3981</td>\n",
       "      <td>0.2139</td>\n",
       "      <td>0.3801</td>\n",
       "      <td>0.4176</td>\n",
       "    </tr>\n",
       "    <tr>\n",
       "      <th>1</th>\n",
       "      <td>id_000779bfc</td>\n",
       "      <td>trt_cp</td>\n",
       "      <td>72</td>\n",
       "      <td>D1</td>\n",
       "      <td>0.0743</td>\n",
       "      <td>0.4087</td>\n",
       "      <td>0.2991</td>\n",
       "      <td>0.0604</td>\n",
       "      <td>1.0190</td>\n",
       "      <td>0.5207</td>\n",
       "      <td>...</td>\n",
       "      <td>-0.4265</td>\n",
       "      <td>0.7543</td>\n",
       "      <td>0.4708</td>\n",
       "      <td>0.0230</td>\n",
       "      <td>0.2957</td>\n",
       "      <td>0.4899</td>\n",
       "      <td>0.1522</td>\n",
       "      <td>0.1241</td>\n",
       "      <td>0.6077</td>\n",
       "      <td>0.7371</td>\n",
       "    </tr>\n",
       "    <tr>\n",
       "      <th>2</th>\n",
       "      <td>id_000a6266a</td>\n",
       "      <td>trt_cp</td>\n",
       "      <td>48</td>\n",
       "      <td>D1</td>\n",
       "      <td>0.6280</td>\n",
       "      <td>0.5817</td>\n",
       "      <td>1.5540</td>\n",
       "      <td>-0.0764</td>\n",
       "      <td>-0.0323</td>\n",
       "      <td>1.2390</td>\n",
       "      <td>...</td>\n",
       "      <td>-0.7250</td>\n",
       "      <td>-0.6297</td>\n",
       "      <td>0.6103</td>\n",
       "      <td>0.0223</td>\n",
       "      <td>-1.3240</td>\n",
       "      <td>-0.3174</td>\n",
       "      <td>-0.6417</td>\n",
       "      <td>-0.2187</td>\n",
       "      <td>-1.4080</td>\n",
       "      <td>0.6931</td>\n",
       "    </tr>\n",
       "  </tbody>\n",
       "</table>\n",
       "<p>3 rows × 876 columns</p>\n",
       "</div>"
      ],
      "text/plain": [
       "         sig_id cp_type  cp_time cp_dose     g-0     g-1     g-2     g-3  \\\n",
       "0  id_000644bb2  trt_cp       24      D1  1.0620  0.5577 -0.2479 -0.6208   \n",
       "1  id_000779bfc  trt_cp       72      D1  0.0743  0.4087  0.2991  0.0604   \n",
       "2  id_000a6266a  trt_cp       48      D1  0.6280  0.5817  1.5540 -0.0764   \n",
       "\n",
       "      g-4     g-5  ...    c-90    c-91    c-92    c-93    c-94    c-95  \\\n",
       "0 -0.1944 -1.0120  ...  0.2862  0.2584  0.8076  0.5523 -0.1912  0.6584   \n",
       "1  1.0190  0.5207  ... -0.4265  0.7543  0.4708  0.0230  0.2957  0.4899   \n",
       "2 -0.0323  1.2390  ... -0.7250 -0.6297  0.6103  0.0223 -1.3240 -0.3174   \n",
       "\n",
       "     c-96    c-97    c-98    c-99  \n",
       "0 -0.3981  0.2139  0.3801  0.4176  \n",
       "1  0.1522  0.1241  0.6077  0.7371  \n",
       "2 -0.6417 -0.2187 -1.4080  0.6931  \n",
       "\n",
       "[3 rows x 876 columns]"
      ]
     },
     "metadata": {},
     "output_type": "display_data"
    },
    {
     "data": {
      "text/html": [
       "<div>\n",
       "<style scoped>\n",
       "    .dataframe tbody tr th:only-of-type {\n",
       "        vertical-align: middle;\n",
       "    }\n",
       "\n",
       "    .dataframe tbody tr th {\n",
       "        vertical-align: top;\n",
       "    }\n",
       "\n",
       "    .dataframe thead th {\n",
       "        text-align: right;\n",
       "    }\n",
       "</style>\n",
       "<table border=\"1\" class=\"dataframe\">\n",
       "  <thead>\n",
       "    <tr style=\"text-align: right;\">\n",
       "      <th></th>\n",
       "      <th>sig_id</th>\n",
       "      <th>5-alpha_reductase_inhibitor</th>\n",
       "      <th>11-beta-hsd1_inhibitor</th>\n",
       "      <th>acat_inhibitor</th>\n",
       "      <th>acetylcholine_receptor_agonist</th>\n",
       "      <th>acetylcholine_receptor_antagonist</th>\n",
       "      <th>acetylcholinesterase_inhibitor</th>\n",
       "      <th>adenosine_receptor_agonist</th>\n",
       "      <th>adenosine_receptor_antagonist</th>\n",
       "      <th>adenylyl_cyclase_activator</th>\n",
       "      <th>...</th>\n",
       "      <th>tropomyosin_receptor_kinase_inhibitor</th>\n",
       "      <th>trpv_agonist</th>\n",
       "      <th>trpv_antagonist</th>\n",
       "      <th>tubulin_inhibitor</th>\n",
       "      <th>tyrosine_kinase_inhibitor</th>\n",
       "      <th>ubiquitin_specific_protease_inhibitor</th>\n",
       "      <th>vegfr_inhibitor</th>\n",
       "      <th>vitamin_b</th>\n",
       "      <th>vitamin_d_receptor_agonist</th>\n",
       "      <th>wnt_inhibitor</th>\n",
       "    </tr>\n",
       "  </thead>\n",
       "  <tbody>\n",
       "    <tr>\n",
       "      <th>0</th>\n",
       "      <td>id_000644bb2</td>\n",
       "      <td>0</td>\n",
       "      <td>0</td>\n",
       "      <td>0</td>\n",
       "      <td>0</td>\n",
       "      <td>0</td>\n",
       "      <td>0</td>\n",
       "      <td>0</td>\n",
       "      <td>0</td>\n",
       "      <td>0</td>\n",
       "      <td>...</td>\n",
       "      <td>0</td>\n",
       "      <td>0</td>\n",
       "      <td>0</td>\n",
       "      <td>0</td>\n",
       "      <td>0</td>\n",
       "      <td>0</td>\n",
       "      <td>0</td>\n",
       "      <td>0</td>\n",
       "      <td>0</td>\n",
       "      <td>0</td>\n",
       "    </tr>\n",
       "    <tr>\n",
       "      <th>1</th>\n",
       "      <td>id_000779bfc</td>\n",
       "      <td>0</td>\n",
       "      <td>0</td>\n",
       "      <td>0</td>\n",
       "      <td>0</td>\n",
       "      <td>0</td>\n",
       "      <td>0</td>\n",
       "      <td>0</td>\n",
       "      <td>0</td>\n",
       "      <td>0</td>\n",
       "      <td>...</td>\n",
       "      <td>0</td>\n",
       "      <td>0</td>\n",
       "      <td>0</td>\n",
       "      <td>0</td>\n",
       "      <td>0</td>\n",
       "      <td>0</td>\n",
       "      <td>0</td>\n",
       "      <td>0</td>\n",
       "      <td>0</td>\n",
       "      <td>0</td>\n",
       "    </tr>\n",
       "    <tr>\n",
       "      <th>2</th>\n",
       "      <td>id_000a6266a</td>\n",
       "      <td>0</td>\n",
       "      <td>0</td>\n",
       "      <td>0</td>\n",
       "      <td>0</td>\n",
       "      <td>0</td>\n",
       "      <td>0</td>\n",
       "      <td>0</td>\n",
       "      <td>0</td>\n",
       "      <td>0</td>\n",
       "      <td>...</td>\n",
       "      <td>0</td>\n",
       "      <td>0</td>\n",
       "      <td>0</td>\n",
       "      <td>0</td>\n",
       "      <td>0</td>\n",
       "      <td>0</td>\n",
       "      <td>0</td>\n",
       "      <td>0</td>\n",
       "      <td>0</td>\n",
       "      <td>0</td>\n",
       "    </tr>\n",
       "  </tbody>\n",
       "</table>\n",
       "<p>3 rows × 207 columns</p>\n",
       "</div>"
      ],
      "text/plain": [
       "         sig_id  5-alpha_reductase_inhibitor  11-beta-hsd1_inhibitor  \\\n",
       "0  id_000644bb2                            0                       0   \n",
       "1  id_000779bfc                            0                       0   \n",
       "2  id_000a6266a                            0                       0   \n",
       "\n",
       "   acat_inhibitor  acetylcholine_receptor_agonist  \\\n",
       "0               0                               0   \n",
       "1               0                               0   \n",
       "2               0                               0   \n",
       "\n",
       "   acetylcholine_receptor_antagonist  acetylcholinesterase_inhibitor  \\\n",
       "0                                  0                               0   \n",
       "1                                  0                               0   \n",
       "2                                  0                               0   \n",
       "\n",
       "   adenosine_receptor_agonist  adenosine_receptor_antagonist  \\\n",
       "0                           0                              0   \n",
       "1                           0                              0   \n",
       "2                           0                              0   \n",
       "\n",
       "   adenylyl_cyclase_activator  ...  tropomyosin_receptor_kinase_inhibitor  \\\n",
       "0                           0  ...                                      0   \n",
       "1                           0  ...                                      0   \n",
       "2                           0  ...                                      0   \n",
       "\n",
       "   trpv_agonist  trpv_antagonist  tubulin_inhibitor  \\\n",
       "0             0                0                  0   \n",
       "1             0                0                  0   \n",
       "2             0                0                  0   \n",
       "\n",
       "   tyrosine_kinase_inhibitor  ubiquitin_specific_protease_inhibitor  \\\n",
       "0                          0                                      0   \n",
       "1                          0                                      0   \n",
       "2                          0                                      0   \n",
       "\n",
       "   vegfr_inhibitor  vitamin_b  vitamin_d_receptor_agonist  wnt_inhibitor  \n",
       "0                0          0                           0              0  \n",
       "1                0          0                           0              0  \n",
       "2                0          0                           0              0  \n",
       "\n",
       "[3 rows x 207 columns]"
      ]
     },
     "metadata": {},
     "output_type": "display_data"
    }
   ],
   "source": [
    "print('train features', train_features.shape)\n",
    "print('train targets', train_targets_scored.shape)\n",
    "print('test features', test_features.shape)\n",
    "\n",
    "display(train_features.head(3))\n",
    "display(train_targets_scored.head(3))"
   ]
  },
  {
   "cell_type": "markdown",
   "metadata": {
    "papermill": {
     "duration": 0.03286,
     "end_time": "2020-11-30T03:24:44.681780",
     "exception": false,
     "start_time": "2020-11-30T03:24:44.648920",
     "status": "completed"
    },
    "tags": []
   },
   "source": [
    "### 0.1 EDA"
   ]
  },
  {
   "cell_type": "code",
   "execution_count": 11,
   "metadata": {
    "execution": {
     "iopub.execute_input": "2020-11-30T03:24:44.806083Z",
     "iopub.status.busy": "2020-11-30T03:24:44.805234Z",
     "iopub.status.idle": "2020-11-30T03:24:47.067310Z",
     "shell.execute_reply": "2020-11-30T03:24:47.066450Z"
    },
    "papermill": {
     "duration": 2.353054,
     "end_time": "2020-11-30T03:24:47.067424",
     "exception": false,
     "start_time": "2020-11-30T03:24:44.714370",
     "status": "completed"
    },
    "tags": []
   },
   "outputs": [
    {
     "data": {
      "text/html": [
       "<div>\n",
       "<style scoped>\n",
       "    .dataframe tbody tr th:only-of-type {\n",
       "        vertical-align: middle;\n",
       "    }\n",
       "\n",
       "    .dataframe tbody tr th {\n",
       "        vertical-align: top;\n",
       "    }\n",
       "\n",
       "    .dataframe thead th {\n",
       "        text-align: right;\n",
       "    }\n",
       "</style>\n",
       "<table border=\"1\" class=\"dataframe\">\n",
       "  <thead>\n",
       "    <tr style=\"text-align: right;\">\n",
       "      <th></th>\n",
       "      <th>cp_time</th>\n",
       "      <th>g-0</th>\n",
       "      <th>g-1</th>\n",
       "      <th>g-2</th>\n",
       "      <th>g-3</th>\n",
       "      <th>g-4</th>\n",
       "      <th>g-5</th>\n",
       "      <th>g-6</th>\n",
       "      <th>g-7</th>\n",
       "      <th>g-8</th>\n",
       "      <th>...</th>\n",
       "      <th>c-90</th>\n",
       "      <th>c-91</th>\n",
       "      <th>c-92</th>\n",
       "      <th>c-93</th>\n",
       "      <th>c-94</th>\n",
       "      <th>c-95</th>\n",
       "      <th>c-96</th>\n",
       "      <th>c-97</th>\n",
       "      <th>c-98</th>\n",
       "      <th>c-99</th>\n",
       "    </tr>\n",
       "  </thead>\n",
       "  <tbody>\n",
       "    <tr>\n",
       "      <th>count</th>\n",
       "      <td>23814.000000</td>\n",
       "      <td>23814.000000</td>\n",
       "      <td>23814.000000</td>\n",
       "      <td>23814.000000</td>\n",
       "      <td>23814.000000</td>\n",
       "      <td>23814.000000</td>\n",
       "      <td>23814.000000</td>\n",
       "      <td>23814.000000</td>\n",
       "      <td>23814.000000</td>\n",
       "      <td>23814.000000</td>\n",
       "      <td>...</td>\n",
       "      <td>23814.000000</td>\n",
       "      <td>23814.000000</td>\n",
       "      <td>23814.000000</td>\n",
       "      <td>23814.000000</td>\n",
       "      <td>23814.000000</td>\n",
       "      <td>23814.000000</td>\n",
       "      <td>23814.000000</td>\n",
       "      <td>23814.000000</td>\n",
       "      <td>23814.000000</td>\n",
       "      <td>23814.000000</td>\n",
       "    </tr>\n",
       "    <tr>\n",
       "      <th>mean</th>\n",
       "      <td>48.020156</td>\n",
       "      <td>0.248366</td>\n",
       "      <td>-0.095684</td>\n",
       "      <td>0.152253</td>\n",
       "      <td>0.081971</td>\n",
       "      <td>0.057347</td>\n",
       "      <td>-0.138836</td>\n",
       "      <td>0.035961</td>\n",
       "      <td>-0.202651</td>\n",
       "      <td>-0.190083</td>\n",
       "      <td>...</td>\n",
       "      <td>-0.469244</td>\n",
       "      <td>-0.461411</td>\n",
       "      <td>-0.513256</td>\n",
       "      <td>-0.500142</td>\n",
       "      <td>-0.507093</td>\n",
       "      <td>-0.353726</td>\n",
       "      <td>-0.463485</td>\n",
       "      <td>-0.378241</td>\n",
       "      <td>-0.470252</td>\n",
       "      <td>-0.301505</td>\n",
       "    </tr>\n",
       "    <tr>\n",
       "      <th>std</th>\n",
       "      <td>19.402807</td>\n",
       "      <td>1.393399</td>\n",
       "      <td>0.812363</td>\n",
       "      <td>1.035731</td>\n",
       "      <td>0.950012</td>\n",
       "      <td>1.032091</td>\n",
       "      <td>1.179388</td>\n",
       "      <td>0.882395</td>\n",
       "      <td>1.125494</td>\n",
       "      <td>1.749885</td>\n",
       "      <td>...</td>\n",
       "      <td>2.000488</td>\n",
       "      <td>2.042475</td>\n",
       "      <td>2.001714</td>\n",
       "      <td>2.107105</td>\n",
       "      <td>2.159589</td>\n",
       "      <td>1.629291</td>\n",
       "      <td>2.059725</td>\n",
       "      <td>1.703615</td>\n",
       "      <td>1.834828</td>\n",
       "      <td>1.407918</td>\n",
       "    </tr>\n",
       "    <tr>\n",
       "      <th>min</th>\n",
       "      <td>24.000000</td>\n",
       "      <td>-5.513000</td>\n",
       "      <td>-5.737000</td>\n",
       "      <td>-9.104000</td>\n",
       "      <td>-5.998000</td>\n",
       "      <td>-6.369000</td>\n",
       "      <td>-10.000000</td>\n",
       "      <td>-10.000000</td>\n",
       "      <td>-10.000000</td>\n",
       "      <td>-10.000000</td>\n",
       "      <td>...</td>\n",
       "      <td>-10.000000</td>\n",
       "      <td>-10.000000</td>\n",
       "      <td>-10.000000</td>\n",
       "      <td>-10.000000</td>\n",
       "      <td>-10.000000</td>\n",
       "      <td>-10.000000</td>\n",
       "      <td>-10.000000</td>\n",
       "      <td>-10.000000</td>\n",
       "      <td>-10.000000</td>\n",
       "      <td>-10.000000</td>\n",
       "    </tr>\n",
       "    <tr>\n",
       "      <th>25%</th>\n",
       "      <td>24.000000</td>\n",
       "      <td>-0.473075</td>\n",
       "      <td>-0.562200</td>\n",
       "      <td>-0.437750</td>\n",
       "      <td>-0.429575</td>\n",
       "      <td>-0.470925</td>\n",
       "      <td>-0.602225</td>\n",
       "      <td>-0.493900</td>\n",
       "      <td>-0.525175</td>\n",
       "      <td>-0.511675</td>\n",
       "      <td>...</td>\n",
       "      <td>-0.566175</td>\n",
       "      <td>-0.565975</td>\n",
       "      <td>-0.589975</td>\n",
       "      <td>-0.568700</td>\n",
       "      <td>-0.563775</td>\n",
       "      <td>-0.567975</td>\n",
       "      <td>-0.552575</td>\n",
       "      <td>-0.561000</td>\n",
       "      <td>-0.592600</td>\n",
       "      <td>-0.562900</td>\n",
       "    </tr>\n",
       "    <tr>\n",
       "      <th>50%</th>\n",
       "      <td>48.000000</td>\n",
       "      <td>-0.008850</td>\n",
       "      <td>-0.046600</td>\n",
       "      <td>0.075200</td>\n",
       "      <td>0.008050</td>\n",
       "      <td>-0.026900</td>\n",
       "      <td>-0.015650</td>\n",
       "      <td>-0.000650</td>\n",
       "      <td>-0.017900</td>\n",
       "      <td>0.010000</td>\n",
       "      <td>...</td>\n",
       "      <td>-0.009900</td>\n",
       "      <td>0.003250</td>\n",
       "      <td>-0.009100</td>\n",
       "      <td>-0.013750</td>\n",
       "      <td>-0.003300</td>\n",
       "      <td>-0.010250</td>\n",
       "      <td>-0.001250</td>\n",
       "      <td>-0.006800</td>\n",
       "      <td>0.014000</td>\n",
       "      <td>-0.019500</td>\n",
       "    </tr>\n",
       "    <tr>\n",
       "      <th>75%</th>\n",
       "      <td>72.000000</td>\n",
       "      <td>0.525700</td>\n",
       "      <td>0.403075</td>\n",
       "      <td>0.663925</td>\n",
       "      <td>0.463400</td>\n",
       "      <td>0.465375</td>\n",
       "      <td>0.510425</td>\n",
       "      <td>0.528725</td>\n",
       "      <td>0.411900</td>\n",
       "      <td>0.549225</td>\n",
       "      <td>...</td>\n",
       "      <td>0.457750</td>\n",
       "      <td>0.461500</td>\n",
       "      <td>0.445675</td>\n",
       "      <td>0.452900</td>\n",
       "      <td>0.470900</td>\n",
       "      <td>0.444750</td>\n",
       "      <td>0.465225</td>\n",
       "      <td>0.446400</td>\n",
       "      <td>0.461275</td>\n",
       "      <td>0.438650</td>\n",
       "    </tr>\n",
       "    <tr>\n",
       "      <th>max</th>\n",
       "      <td>72.000000</td>\n",
       "      <td>10.000000</td>\n",
       "      <td>5.039000</td>\n",
       "      <td>8.257000</td>\n",
       "      <td>10.000000</td>\n",
       "      <td>10.000000</td>\n",
       "      <td>7.282000</td>\n",
       "      <td>7.333000</td>\n",
       "      <td>5.473000</td>\n",
       "      <td>8.887000</td>\n",
       "      <td>...</td>\n",
       "      <td>4.069000</td>\n",
       "      <td>3.960000</td>\n",
       "      <td>3.927000</td>\n",
       "      <td>3.596000</td>\n",
       "      <td>3.747000</td>\n",
       "      <td>2.814000</td>\n",
       "      <td>3.505000</td>\n",
       "      <td>2.924000</td>\n",
       "      <td>3.111000</td>\n",
       "      <td>3.805000</td>\n",
       "    </tr>\n",
       "  </tbody>\n",
       "</table>\n",
       "<p>8 rows × 873 columns</p>\n",
       "</div>"
      ],
      "text/plain": [
       "            cp_time           g-0           g-1           g-2           g-3  \\\n",
       "count  23814.000000  23814.000000  23814.000000  23814.000000  23814.000000   \n",
       "mean      48.020156      0.248366     -0.095684      0.152253      0.081971   \n",
       "std       19.402807      1.393399      0.812363      1.035731      0.950012   \n",
       "min       24.000000     -5.513000     -5.737000     -9.104000     -5.998000   \n",
       "25%       24.000000     -0.473075     -0.562200     -0.437750     -0.429575   \n",
       "50%       48.000000     -0.008850     -0.046600      0.075200      0.008050   \n",
       "75%       72.000000      0.525700      0.403075      0.663925      0.463400   \n",
       "max       72.000000     10.000000      5.039000      8.257000     10.000000   \n",
       "\n",
       "                g-4           g-5           g-6           g-7           g-8  \\\n",
       "count  23814.000000  23814.000000  23814.000000  23814.000000  23814.000000   \n",
       "mean       0.057347     -0.138836      0.035961     -0.202651     -0.190083   \n",
       "std        1.032091      1.179388      0.882395      1.125494      1.749885   \n",
       "min       -6.369000    -10.000000    -10.000000    -10.000000    -10.000000   \n",
       "25%       -0.470925     -0.602225     -0.493900     -0.525175     -0.511675   \n",
       "50%       -0.026900     -0.015650     -0.000650     -0.017900      0.010000   \n",
       "75%        0.465375      0.510425      0.528725      0.411900      0.549225   \n",
       "max       10.000000      7.282000      7.333000      5.473000      8.887000   \n",
       "\n",
       "       ...          c-90          c-91          c-92          c-93  \\\n",
       "count  ...  23814.000000  23814.000000  23814.000000  23814.000000   \n",
       "mean   ...     -0.469244     -0.461411     -0.513256     -0.500142   \n",
       "std    ...      2.000488      2.042475      2.001714      2.107105   \n",
       "min    ...    -10.000000    -10.000000    -10.000000    -10.000000   \n",
       "25%    ...     -0.566175     -0.565975     -0.589975     -0.568700   \n",
       "50%    ...     -0.009900      0.003250     -0.009100     -0.013750   \n",
       "75%    ...      0.457750      0.461500      0.445675      0.452900   \n",
       "max    ...      4.069000      3.960000      3.927000      3.596000   \n",
       "\n",
       "               c-94          c-95          c-96          c-97          c-98  \\\n",
       "count  23814.000000  23814.000000  23814.000000  23814.000000  23814.000000   \n",
       "mean      -0.507093     -0.353726     -0.463485     -0.378241     -0.470252   \n",
       "std        2.159589      1.629291      2.059725      1.703615      1.834828   \n",
       "min      -10.000000    -10.000000    -10.000000    -10.000000    -10.000000   \n",
       "25%       -0.563775     -0.567975     -0.552575     -0.561000     -0.592600   \n",
       "50%       -0.003300     -0.010250     -0.001250     -0.006800      0.014000   \n",
       "75%        0.470900      0.444750      0.465225      0.446400      0.461275   \n",
       "max        3.747000      2.814000      3.505000      2.924000      3.111000   \n",
       "\n",
       "               c-99  \n",
       "count  23814.000000  \n",
       "mean      -0.301505  \n",
       "std        1.407918  \n",
       "min      -10.000000  \n",
       "25%       -0.562900  \n",
       "50%       -0.019500  \n",
       "75%        0.438650  \n",
       "max        3.805000  \n",
       "\n",
       "[8 rows x 873 columns]"
      ]
     },
     "execution_count": 11,
     "metadata": {},
     "output_type": "execute_result"
    }
   ],
   "source": [
    "train_features.describe()"
   ]
  },
  {
   "cell_type": "code",
   "execution_count": 12,
   "metadata": {
    "execution": {
     "iopub.execute_input": "2020-11-30T03:24:47.146239Z",
     "iopub.status.busy": "2020-11-30T03:24:47.145304Z",
     "iopub.status.idle": "2020-11-30T03:24:47.167397Z",
     "shell.execute_reply": "2020-11-30T03:24:47.167941Z"
    },
    "papermill": {
     "duration": 0.066313,
     "end_time": "2020-11-30T03:24:47.168074",
     "exception": false,
     "start_time": "2020-11-30T03:24:47.101761",
     "status": "completed"
    },
    "tags": []
   },
   "outputs": [
    {
     "data": {
      "text/plain": [
       "(                             sig_id\n",
       " cp_type     cp_time cp_dose        \n",
       " ctl_vehicle 24      D1          301\n",
       "                     D2          305\n",
       "             48      D1          343\n",
       "                     D2          305\n",
       "             72      D1          307\n",
       "                     D2          305\n",
       " trt_cp      24      D1         3585\n",
       "                     D2         3581\n",
       "             48      D1         4011\n",
       "                     D2         3591\n",
       "             72      D1         3600\n",
       "                     D2         3580,\n",
       "                              sig_id\n",
       " cp_type     cp_time cp_dose        \n",
       " ctl_vehicle 24      D1           58\n",
       "                     D2           58\n",
       "             48      D1           65\n",
       "                     D2           59\n",
       "             72      D1           59\n",
       "                     D2           59\n",
       " trt_cp      24      D1          590\n",
       "                     D2          594\n",
       "             48      D1          660\n",
       "                     D2          593\n",
       "             72      D1          595\n",
       "                     D2          592)"
      ]
     },
     "execution_count": 12,
     "metadata": {},
     "output_type": "execute_result"
    }
   ],
   "source": [
    "train_features.groupby(['cp_type', 'cp_time', 'cp_dose'])[['sig_id']].count(), test_features.groupby(['cp_type', 'cp_time', 'cp_dose'])[['sig_id']].count()"
   ]
  },
  {
   "cell_type": "code",
   "execution_count": 13,
   "metadata": {
    "execution": {
     "iopub.execute_input": "2020-11-30T03:24:47.243204Z",
     "iopub.status.busy": "2020-11-30T03:24:47.242600Z",
     "iopub.status.idle": "2020-11-30T03:24:47.619870Z",
     "shell.execute_reply": "2020-11-30T03:24:47.620505Z"
    },
    "papermill": {
     "duration": 0.41649,
     "end_time": "2020-11-30T03:24:47.620685",
     "exception": false,
     "start_time": "2020-11-30T03:24:47.204195",
     "status": "completed"
    },
    "tags": []
   },
   "outputs": [
    {
     "data": {
      "text/plain": [
       "<matplotlib.axes._subplots.AxesSubplot at 0x7f6c00666fd0>"
      ]
     },
     "execution_count": 13,
     "metadata": {},
     "output_type": "execute_result"
    },
    {
     "data": {
      "image/png": "[encoded data removed]",
      "text/plain": [
       "<Figure size 432x288 with 1 Axes>"
      ]
     },
     "metadata": {
      "needs_background": "light"
     },
     "output_type": "display_data"
    }
   ],
   "source": [
    "train_targets_scored.iloc[1:].mean().hist()"
   ]
  },
  {
   "cell_type": "code",
   "execution_count": 14,
   "metadata": {
    "execution": {
     "iopub.execute_input": "2020-11-30T03:24:47.715362Z",
     "iopub.status.busy": "2020-11-30T03:24:47.714485Z",
     "iopub.status.idle": "2020-11-30T03:24:47.733296Z",
     "shell.execute_reply": "2020-11-30T03:24:47.733780Z"
    },
    "papermill": {
     "duration": 0.073615,
     "end_time": "2020-11-30T03:24:47.733928",
     "exception": false,
     "start_time": "2020-11-30T03:24:47.660313",
     "status": "completed"
    },
    "tags": []
   },
   "outputs": [
    {
     "data": {
      "text/plain": [
       "{'5-alpha_reductase_inhibitor': 17,\n",
       " '11-beta-hsd1_inhibitor': 18,\n",
       " 'acat_inhibitor': 24,\n",
       " 'acetylcholine_receptor_agonist': 190,\n",
       " 'acetylcholine_receptor_antagonist': 301,\n",
       " 'acetylcholinesterase_inhibitor': 73,\n",
       " 'adenosine_receptor_agonist': 54,\n",
       " 'adenosine_receptor_antagonist': 96,\n",
       " 'adenylyl_cyclase_activator': 12,\n",
       " 'adrenergic_receptor_agonist': 270,\n",
       " 'adrenergic_receptor_antagonist': 360,\n",
       " 'akt_inhibitor': 66,\n",
       " 'aldehyde_dehydrogenase_inhibitor': 7,\n",
       " 'alk_inhibitor': 42,\n",
       " 'ampk_activator': 12,\n",
       " 'analgesic': 12,\n",
       " 'androgen_receptor_agonist': 48,\n",
       " 'androgen_receptor_antagonist': 89,\n",
       " 'anesthetic_-_local': 80,\n",
       " 'angiogenesis_inhibitor': 36,\n",
       " 'angiotensin_receptor_antagonist': 37,\n",
       " 'anti-inflammatory': 73,\n",
       " 'antiarrhythmic': 6,\n",
       " 'antibiotic': 43,\n",
       " 'anticonvulsant': 12,\n",
       " 'antifungal': 13,\n",
       " 'antihistamine': 12,\n",
       " 'antimalarial': 18,\n",
       " 'antioxidant': 73,\n",
       " 'antiprotozoal': 36,\n",
       " 'antiviral': 23,\n",
       " 'apoptosis_stimulant': 49,\n",
       " 'aromatase_inhibitor': 47,\n",
       " 'atm_kinase_inhibitor': 6,\n",
       " 'atp-sensitive_potassium_channel_antagonist': 1,\n",
       " 'atp_synthase_inhibitor': 12,\n",
       " 'atpase_inhibitor': 97,\n",
       " 'atr_kinase_inhibitor': 19,\n",
       " 'aurora_kinase_inhibitor': 96,\n",
       " 'autotaxin_inhibitor': 6,\n",
       " 'bacterial_30s_ribosomal_subunit_inhibitor': 60,\n",
       " 'bacterial_50s_ribosomal_subunit_inhibitor': 80,\n",
       " 'bacterial_antifolate': 36,\n",
       " 'bacterial_cell_wall_synthesis_inhibitor': 192,\n",
       " 'bacterial_dna_gyrase_inhibitor': 89,\n",
       " 'bacterial_dna_inhibitor': 115,\n",
       " 'bacterial_membrane_integrity_inhibitor': 7,\n",
       " 'bcl_inhibitor': 31,\n",
       " 'bcr-abl_inhibitor': 38,\n",
       " 'benzodiazepine_receptor_agonist': 67,\n",
       " 'beta_amyloid_inhibitor': 24,\n",
       " 'bromodomain_inhibitor': 68,\n",
       " 'btk_inhibitor': 29,\n",
       " 'calcineurin_inhibitor': 6,\n",
       " 'calcium_channel_blocker': 281,\n",
       " 'cannabinoid_receptor_agonist': 42,\n",
       " 'cannabinoid_receptor_antagonist': 55,\n",
       " 'carbonic_anhydrase_inhibitor': 36,\n",
       " 'casein_kinase_inhibitor': 36,\n",
       " 'caspase_activator': 18,\n",
       " 'catechol_o_methyltransferase_inhibitor': 12,\n",
       " 'cc_chemokine_receptor_antagonist': 102,\n",
       " 'cck_receptor_antagonist': 18,\n",
       " 'cdk_inhibitor': 340,\n",
       " 'chelating_agent': 54,\n",
       " 'chk_inhibitor': 24,\n",
       " 'chloride_channel_blocker': 42,\n",
       " 'cholesterol_inhibitor': 48,\n",
       " 'cholinergic_receptor_antagonist': 54,\n",
       " 'coagulation_factor_inhibitor': 6,\n",
       " 'corticosteroid_agonist': 36,\n",
       " 'cyclooxygenase_inhibitor': 435,\n",
       " 'cytochrome_p450_inhibitor': 104,\n",
       " 'dihydrofolate_reductase_inhibitor': 36,\n",
       " 'dipeptidyl_peptidase_inhibitor': 25,\n",
       " 'diuretic': 6,\n",
       " 'dna_alkylating_agent': 48,\n",
       " 'dna_inhibitor': 402,\n",
       " 'dopamine_receptor_agonist': 121,\n",
       " 'dopamine_receptor_antagonist': 424,\n",
       " 'egfr_inhibitor': 336,\n",
       " 'elastase_inhibitor': 6,\n",
       " 'erbb2_inhibitor': 1,\n",
       " 'estrogen_receptor_agonist': 158,\n",
       " 'estrogen_receptor_antagonist': 48,\n",
       " 'faah_inhibitor': 36,\n",
       " 'farnesyltransferase_inhibitor': 18,\n",
       " 'fatty_acid_receptor_agonist': 25,\n",
       " 'fgfr_inhibitor': 50,\n",
       " 'flt3_inhibitor': 279,\n",
       " 'focal_adhesion_kinase_inhibitor': 18,\n",
       " 'free_radical_scavenger': 18,\n",
       " 'fungal_squalene_epoxidase_inhibitor': 23,\n",
       " 'gaba_receptor_agonist': 106,\n",
       " 'gaba_receptor_antagonist': 165,\n",
       " 'gamma_secretase_inhibitor': 56,\n",
       " 'glucocorticoid_receptor_agonist': 266,\n",
       " 'glutamate_inhibitor': 13,\n",
       " 'glutamate_receptor_agonist': 74,\n",
       " 'glutamate_receptor_antagonist': 367,\n",
       " 'gonadotropin_receptor_agonist': 18,\n",
       " 'gsk_inhibitor': 60,\n",
       " 'hcv_inhibitor': 72,\n",
       " 'hdac_inhibitor': 106,\n",
       " 'histamine_receptor_agonist': 59,\n",
       " 'histamine_receptor_antagonist': 241,\n",
       " 'histone_lysine_demethylase_inhibitor': 24,\n",
       " 'histone_lysine_methyltransferase_inhibitor': 32,\n",
       " 'hiv_inhibitor': 72,\n",
       " 'hmgcr_inhibitor': 283,\n",
       " 'hsp_inhibitor': 93,\n",
       " 'igf-1_inhibitor': 37,\n",
       " 'ikk_inhibitor': 30,\n",
       " 'imidazoline_receptor_agonist': 31,\n",
       " 'immunosuppressant': 73,\n",
       " 'insulin_secretagogue': 30,\n",
       " 'insulin_sensitizer': 51,\n",
       " 'integrin_inhibitor': 42,\n",
       " 'jak_inhibitor': 92,\n",
       " 'kit_inhibitor': 273,\n",
       " 'laxative': 6,\n",
       " 'leukotriene_inhibitor': 6,\n",
       " 'leukotriene_receptor_antagonist': 62,\n",
       " 'lipase_inhibitor': 12,\n",
       " 'lipoxygenase_inhibitor': 61,\n",
       " 'lxr_agonist': 6,\n",
       " 'mdm_inhibitor': 31,\n",
       " 'mek_inhibitor': 72,\n",
       " 'membrane_integrity_inhibitor': 74,\n",
       " 'mineralocorticoid_receptor_antagonist': 25,\n",
       " 'monoacylglycerol_lipase_inhibitor': 12,\n",
       " 'monoamine_oxidase_inhibitor': 85,\n",
       " 'monopolar_spindle_1_kinase_inhibitor': 18,\n",
       " 'mtor_inhibitor': 130,\n",
       " 'mucolytic_agent': 48,\n",
       " 'neuropeptide_receptor_antagonist': 37,\n",
       " 'nfkb_inhibitor': 832,\n",
       " 'nicotinic_receptor_agonist': 6,\n",
       " 'nitric_oxide_donor': 26,\n",
       " 'nitric_oxide_production_inhibitor': 12,\n",
       " 'nitric_oxide_synthase_inhibitor': 26,\n",
       " 'norepinephrine_reuptake_inhibitor': 7,\n",
       " 'nrf2_activator': 18,\n",
       " 'opioid_receptor_agonist': 61,\n",
       " 'opioid_receptor_antagonist': 96,\n",
       " 'orexin_receptor_antagonist': 37,\n",
       " 'p38_mapk_inhibitor': 62,\n",
       " 'p-glycoprotein_inhibitor': 24,\n",
       " 'parp_inhibitor': 61,\n",
       " 'pdgfr_inhibitor': 297,\n",
       " 'pdk_inhibitor': 18,\n",
       " 'phosphodiesterase_inhibitor': 264,\n",
       " 'phospholipase_inhibitor': 25,\n",
       " 'pi3k_inhibitor': 151,\n",
       " 'pkc_inhibitor': 31,\n",
       " 'potassium_channel_activator': 55,\n",
       " 'potassium_channel_antagonist': 98,\n",
       " 'ppar_receptor_agonist': 115,\n",
       " 'ppar_receptor_antagonist': 30,\n",
       " 'progesterone_receptor_agonist': 119,\n",
       " 'progesterone_receptor_antagonist': 18,\n",
       " 'prostaglandin_inhibitor': 36,\n",
       " 'prostanoid_receptor_antagonist': 84,\n",
       " 'proteasome_inhibitor': 726,\n",
       " 'protein_kinase_inhibitor': 48,\n",
       " 'protein_phosphatase_inhibitor': 6,\n",
       " 'protein_synthesis_inhibitor': 103,\n",
       " 'protein_tyrosine_kinase_inhibitor': 19,\n",
       " 'radiopaque_medium': 56,\n",
       " 'raf_inhibitor': 223,\n",
       " 'ras_gtpase_inhibitor': 12,\n",
       " 'retinoid_receptor_agonist': 67,\n",
       " 'retinoid_receptor_antagonist': 6,\n",
       " 'rho_associated_kinase_inhibitor': 35,\n",
       " 'ribonucleoside_reductase_inhibitor': 37,\n",
       " 'rna_polymerase_inhibitor': 25,\n",
       " 'serotonin_receptor_agonist': 236,\n",
       " 'serotonin_receptor_antagonist': 404,\n",
       " 'serotonin_reuptake_inhibitor': 44,\n",
       " 'sigma_receptor_agonist': 36,\n",
       " 'sigma_receptor_antagonist': 36,\n",
       " 'smoothened_receptor_antagonist': 25,\n",
       " 'sodium_channel_inhibitor': 267,\n",
       " 'sphingosine_receptor_agonist': 25,\n",
       " 'src_inhibitor': 71,\n",
       " 'steroid': 6,\n",
       " 'syk_inhibitor': 19,\n",
       " 'tachykinin_antagonist': 60,\n",
       " 'tgf-beta_receptor_inhibitor': 30,\n",
       " 'thrombin_inhibitor': 19,\n",
       " 'thymidylate_synthase_inhibitor': 37,\n",
       " 'tlr_agonist': 30,\n",
       " 'tlr_antagonist': 7,\n",
       " 'tnf_inhibitor': 36,\n",
       " 'topoisomerase_inhibitor': 127,\n",
       " 'transient_receptor_potential_channel_antagonist': 18,\n",
       " 'tropomyosin_receptor_kinase_inhibitor': 6,\n",
       " 'trpv_agonist': 25,\n",
       " 'trpv_antagonist': 48,\n",
       " 'tubulin_inhibitor': 316,\n",
       " 'tyrosine_kinase_inhibitor': 73,\n",
       " 'ubiquitin_specific_protease_inhibitor': 6,\n",
       " 'vegfr_inhibitor': 170,\n",
       " 'vitamin_b': 26,\n",
       " 'vitamin_d_receptor_agonist': 39,\n",
       " 'wnt_inhibitor': 30}"
      ]
     },
     "execution_count": 14,
     "metadata": {},
     "output_type": "execute_result"
    }
   ],
   "source": [
    "train_target_distrib = dict(train_targets_scored.iloc[:,1:].sum())\n",
    "train_target_distrib"
   ]
  },
  {
   "cell_type": "code",
   "execution_count": 15,
   "metadata": {
    "execution": {
     "iopub.execute_input": "2020-11-30T03:24:47.811134Z",
     "iopub.status.busy": "2020-11-30T03:24:47.810233Z",
     "iopub.status.idle": "2020-11-30T03:24:47.814353Z",
     "shell.execute_reply": "2020-11-30T03:24:47.813672Z"
    },
    "papermill": {
     "duration": 0.044985,
     "end_time": "2020-11-30T03:24:47.814459",
     "exception": false,
     "start_time": "2020-11-30T03:24:47.769474",
     "status": "completed"
    },
    "tags": []
   },
   "outputs": [
    {
     "data": {
      "text/plain": [
       "[('atp-sensitive_potassium_channel_antagonist', 1), ('erbb2_inhibitor', 1)]"
      ]
     },
     "execution_count": 15,
     "metadata": {},
     "output_type": "execute_result"
    }
   ],
   "source": [
    "[(k,train_target_distrib[k]) for k in train_target_distrib if train_target_distrib[k] == 1]"
   ]
  },
  {
   "cell_type": "code",
   "execution_count": 16,
   "metadata": {
    "execution": {
     "iopub.execute_input": "2020-11-30T03:24:47.896227Z",
     "iopub.status.busy": "2020-11-30T03:24:47.895326Z",
     "iopub.status.idle": "2020-11-30T03:24:48.009342Z",
     "shell.execute_reply": "2020-11-30T03:24:48.009851Z"
    },
    "papermill": {
     "duration": 0.157397,
     "end_time": "2020-11-30T03:24:48.009981",
     "exception": false,
     "start_time": "2020-11-30T03:24:47.852584",
     "status": "completed"
    },
    "tags": []
   },
   "outputs": [
    {
     "data": {
      "text/plain": [
       "(3982, 207)"
      ]
     },
     "execution_count": 16,
     "metadata": {},
     "output_type": "execute_result"
    }
   ],
   "source": [
    "sub = pd.read_csv(path/'sample_submission.csv')\n",
    "sub.shape"
   ]
  },
  {
   "cell_type": "markdown",
   "metadata": {
    "papermill": {
     "duration": 0.036854,
     "end_time": "2020-11-30T03:24:48.083228",
     "exception": false,
     "start_time": "2020-11-30T03:24:48.046374",
     "status": "completed"
    },
    "tags": []
   },
   "source": [
    "## 1. Data Prep\n",
    "\n",
    "##### Stratified k-folds\n",
    "Create X & y  \n",
    "Note: here y is only used for creating k-folds"
   ]
  },
  {
   "cell_type": "code",
   "execution_count": 17,
   "metadata": {
    "execution": {
     "iopub.execute_input": "2020-11-30T03:24:48.165439Z",
     "iopub.status.busy": "2020-11-30T03:24:48.164092Z",
     "iopub.status.idle": "2020-11-30T03:24:48.482167Z",
     "shell.execute_reply": "2020-11-30T03:24:48.482835Z"
    },
    "papermill": {
     "duration": 0.361488,
     "end_time": "2020-11-30T03:24:48.483002",
     "exception": false,
     "start_time": "2020-11-30T03:24:48.121514",
     "status": "completed"
    },
    "tags": []
   },
   "outputs": [
    {
     "name": "stdout",
     "output_type": "stream",
     "text": [
      "(23814, 1082)\n",
      "(21948, 1082)\n"
     ]
    }
   ],
   "source": [
    "X_train = train_features.merge(train_targets_scored,on='sig_id',how='left')\n",
    "print(X_train.shape)\n",
    "\n",
    "#drop records with no MoAs\n",
    "X_train = X_train[X_train['cp_type'] != 'ctl_vehicle'].reset_index(drop=True)\n",
    "print(X_train.shape)"
   ]
  },
  {
   "cell_type": "code",
   "execution_count": 18,
   "metadata": {
    "execution": {
     "iopub.execute_input": "2020-11-30T03:24:48.576222Z",
     "iopub.status.busy": "2020-11-30T03:24:48.562558Z",
     "iopub.status.idle": "2020-11-30T03:24:48.579304Z",
     "shell.execute_reply": "2020-11-30T03:24:48.579829Z"
    },
    "papermill": {
     "duration": 0.059159,
     "end_time": "2020-11-30T03:24:48.579944",
     "exception": false,
     "start_time": "2020-11-30T03:24:48.520785",
     "status": "completed"
    },
    "tags": []
   },
   "outputs": [
    {
     "data": {
      "text/plain": [
       "((21948, 1082), (21948, 207))"
      ]
     },
     "execution_count": 18,
     "metadata": {},
     "output_type": "execute_result"
    }
   ],
   "source": [
    "y_train = X_train[train_targets_scored.columns]\n",
    "X_train.shape, y_train.shape\n"
   ]
  },
  {
   "cell_type": "code",
   "execution_count": 19,
   "metadata": {
    "execution": {
     "iopub.execute_input": "2020-11-30T03:24:48.663639Z",
     "iopub.status.busy": "2020-11-30T03:24:48.662853Z",
     "iopub.status.idle": "2020-11-30T03:24:49.235652Z",
     "shell.execute_reply": "2020-11-30T03:24:49.236098Z"
    },
    "papermill": {
     "duration": 0.617184,
     "end_time": "2020-11-30T03:24:49.236231",
     "exception": false,
     "start_time": "2020-11-30T03:24:48.619047",
     "status": "completed"
    },
    "tags": []
   },
   "outputs": [
    {
     "name": "stderr",
     "output_type": "stream",
     "text": [
      "/opt/conda/lib/python3.7/site-packages/sklearn/utils/validation.py:70: FutureWarning: Pass shuffle=True, random_state=24 as keyword args. From version 0.25 passing these as positional arguments will result in an error\n",
      "  FutureWarning)\n",
      "/opt/conda/lib/python3.7/site-packages/sklearn/utils/validation.py:70: FutureWarning: Pass shuffle=True, random_state=24 as keyword args. From version 0.25 passing these as positional arguments will result in an error\n",
      "  FutureWarning)\n"
     ]
    },
    {
     "data": {
      "text/html": [
       "<div>\n",
       "<style scoped>\n",
       "    .dataframe tbody tr th:only-of-type {\n",
       "        vertical-align: middle;\n",
       "    }\n",
       "\n",
       "    .dataframe tbody tr th {\n",
       "        vertical-align: top;\n",
       "    }\n",
       "\n",
       "    .dataframe thead th {\n",
       "        text-align: right;\n",
       "    }\n",
       "</style>\n",
       "<table border=\"1\" class=\"dataframe\">\n",
       "  <thead>\n",
       "    <tr style=\"text-align: right;\">\n",
       "      <th></th>\n",
       "      <th>sig_id</th>\n",
       "      <th>cp_type</th>\n",
       "      <th>cp_time</th>\n",
       "      <th>cp_dose</th>\n",
       "      <th>g-0</th>\n",
       "      <th>g-1</th>\n",
       "      <th>g-2</th>\n",
       "      <th>g-3</th>\n",
       "      <th>g-4</th>\n",
       "      <th>g-5</th>\n",
       "      <th>...</th>\n",
       "      <th>trpv_agonist</th>\n",
       "      <th>trpv_antagonist</th>\n",
       "      <th>tubulin_inhibitor</th>\n",
       "      <th>tyrosine_kinase_inhibitor</th>\n",
       "      <th>ubiquitin_specific_protease_inhibitor</th>\n",
       "      <th>vegfr_inhibitor</th>\n",
       "      <th>vitamin_b</th>\n",
       "      <th>vitamin_d_receptor_agonist</th>\n",
       "      <th>wnt_inhibitor</th>\n",
       "      <th>kfold</th>\n",
       "    </tr>\n",
       "  </thead>\n",
       "  <tbody>\n",
       "    <tr>\n",
       "      <th>0</th>\n",
       "      <td>id_000644bb2</td>\n",
       "      <td>trt_cp</td>\n",
       "      <td>24</td>\n",
       "      <td>D1</td>\n",
       "      <td>1.0620</td>\n",
       "      <td>0.5577</td>\n",
       "      <td>-0.2479</td>\n",
       "      <td>-0.6208</td>\n",
       "      <td>-0.1944</td>\n",
       "      <td>-1.0120</td>\n",
       "      <td>...</td>\n",
       "      <td>0</td>\n",
       "      <td>0</td>\n",
       "      <td>0</td>\n",
       "      <td>0</td>\n",
       "      <td>0</td>\n",
       "      <td>0</td>\n",
       "      <td>0</td>\n",
       "      <td>0</td>\n",
       "      <td>0</td>\n",
       "      <td>4</td>\n",
       "    </tr>\n",
       "    <tr>\n",
       "      <th>1</th>\n",
       "      <td>id_000779bfc</td>\n",
       "      <td>trt_cp</td>\n",
       "      <td>72</td>\n",
       "      <td>D1</td>\n",
       "      <td>0.0743</td>\n",
       "      <td>0.4087</td>\n",
       "      <td>0.2991</td>\n",
       "      <td>0.0604</td>\n",
       "      <td>1.0190</td>\n",
       "      <td>0.5207</td>\n",
       "      <td>...</td>\n",
       "      <td>0</td>\n",
       "      <td>0</td>\n",
       "      <td>0</td>\n",
       "      <td>0</td>\n",
       "      <td>0</td>\n",
       "      <td>0</td>\n",
       "      <td>0</td>\n",
       "      <td>0</td>\n",
       "      <td>0</td>\n",
       "      <td>2</td>\n",
       "    </tr>\n",
       "    <tr>\n",
       "      <th>2</th>\n",
       "      <td>id_000a6266a</td>\n",
       "      <td>trt_cp</td>\n",
       "      <td>48</td>\n",
       "      <td>D1</td>\n",
       "      <td>0.6280</td>\n",
       "      <td>0.5817</td>\n",
       "      <td>1.5540</td>\n",
       "      <td>-0.0764</td>\n",
       "      <td>-0.0323</td>\n",
       "      <td>1.2390</td>\n",
       "      <td>...</td>\n",
       "      <td>0</td>\n",
       "      <td>0</td>\n",
       "      <td>0</td>\n",
       "      <td>0</td>\n",
       "      <td>0</td>\n",
       "      <td>0</td>\n",
       "      <td>0</td>\n",
       "      <td>0</td>\n",
       "      <td>0</td>\n",
       "      <td>9</td>\n",
       "    </tr>\n",
       "    <tr>\n",
       "      <th>3</th>\n",
       "      <td>id_0015fd391</td>\n",
       "      <td>trt_cp</td>\n",
       "      <td>48</td>\n",
       "      <td>D1</td>\n",
       "      <td>-0.5138</td>\n",
       "      <td>-0.2491</td>\n",
       "      <td>-0.2656</td>\n",
       "      <td>0.5288</td>\n",
       "      <td>4.0620</td>\n",
       "      <td>-0.8095</td>\n",
       "      <td>...</td>\n",
       "      <td>0</td>\n",
       "      <td>0</td>\n",
       "      <td>0</td>\n",
       "      <td>0</td>\n",
       "      <td>0</td>\n",
       "      <td>0</td>\n",
       "      <td>0</td>\n",
       "      <td>0</td>\n",
       "      <td>0</td>\n",
       "      <td>9</td>\n",
       "    </tr>\n",
       "    <tr>\n",
       "      <th>4</th>\n",
       "      <td>id_001626bd3</td>\n",
       "      <td>trt_cp</td>\n",
       "      <td>72</td>\n",
       "      <td>D2</td>\n",
       "      <td>-0.3254</td>\n",
       "      <td>-0.4009</td>\n",
       "      <td>0.9700</td>\n",
       "      <td>0.6919</td>\n",
       "      <td>1.4180</td>\n",
       "      <td>-0.8244</td>\n",
       "      <td>...</td>\n",
       "      <td>0</td>\n",
       "      <td>0</td>\n",
       "      <td>0</td>\n",
       "      <td>0</td>\n",
       "      <td>0</td>\n",
       "      <td>0</td>\n",
       "      <td>0</td>\n",
       "      <td>0</td>\n",
       "      <td>0</td>\n",
       "      <td>7</td>\n",
       "    </tr>\n",
       "  </tbody>\n",
       "</table>\n",
       "<p>5 rows × 1083 columns</p>\n",
       "</div>"
      ],
      "text/plain": [
       "         sig_id cp_type  cp_time cp_dose     g-0     g-1     g-2     g-3  \\\n",
       "0  id_000644bb2  trt_cp       24      D1  1.0620  0.5577 -0.2479 -0.6208   \n",
       "1  id_000779bfc  trt_cp       72      D1  0.0743  0.4087  0.2991  0.0604   \n",
       "2  id_000a6266a  trt_cp       48      D1  0.6280  0.5817  1.5540 -0.0764   \n",
       "3  id_0015fd391  trt_cp       48      D1 -0.5138 -0.2491 -0.2656  0.5288   \n",
       "4  id_001626bd3  trt_cp       72      D2 -0.3254 -0.4009  0.9700  0.6919   \n",
       "\n",
       "      g-4     g-5  ...  trpv_agonist  trpv_antagonist  tubulin_inhibitor  \\\n",
       "0 -0.1944 -1.0120  ...             0                0                  0   \n",
       "1  1.0190  0.5207  ...             0                0                  0   \n",
       "2 -0.0323  1.2390  ...             0                0                  0   \n",
       "3  4.0620 -0.8095  ...             0                0                  0   \n",
       "4  1.4180 -0.8244  ...             0                0                  0   \n",
       "\n",
       "   tyrosine_kinase_inhibitor  ubiquitin_specific_protease_inhibitor  \\\n",
       "0                          0                                      0   \n",
       "1                          0                                      0   \n",
       "2                          0                                      0   \n",
       "3                          0                                      0   \n",
       "4                          0                                      0   \n",
       "\n",
       "   vegfr_inhibitor  vitamin_b  vitamin_d_receptor_agonist  wnt_inhibitor  \\\n",
       "0                0          0                           0              0   \n",
       "1                0          0                           0              0   \n",
       "2                0          0                           0              0   \n",
       "3                0          0                           0              0   \n",
       "4                0          0                           0              0   \n",
       "\n",
       "   kfold  \n",
       "0      4  \n",
       "1      2  \n",
       "2      9  \n",
       "3      9  \n",
       "4      7  \n",
       "\n",
       "[5 rows x 1083 columns]"
      ]
     },
     "execution_count": 19,
     "metadata": {},
     "output_type": "execute_result"
    }
   ],
   "source": [
    "#crossvalidation with stratified k-fold\n",
    "FOLDS = 10; SEED = 24\n",
    "skf = make_folds(folds=FOLDS, random_state=SEED, stratify=True, scored=y_train)\n",
    "\n",
    "X_train['kfold'] = skf.fold.values\n",
    "X_train.head()"
   ]
  },
  {
   "cell_type": "markdown",
   "metadata": {
    "papermill": {
     "duration": 0.067147,
     "end_time": "2020-11-30T03:24:49.354757",
     "exception": false,
     "start_time": "2020-11-30T03:24:49.287610",
     "status": "completed"
    },
    "tags": []
   },
   "source": [
    "##### TabularPandas and TabularProc"
   ]
  },
  {
   "cell_type": "markdown",
   "metadata": {
    "papermill": {
     "duration": 0.067136,
     "end_time": "2020-11-30T03:24:49.483158",
     "exception": false,
     "start_time": "2020-11-30T03:24:49.416022",
     "status": "completed"
    },
    "tags": []
   },
   "source": [
    "TabularPandas needs to be told which columns are continuous and which are categorical.  \n",
    "Note: can handle that automatically using the helper function cont_cat_split (not used here)."
   ]
  },
  {
   "cell_type": "code",
   "execution_count": 20,
   "metadata": {
    "execution": {
     "iopub.execute_input": "2020-11-30T03:24:49.651268Z",
     "iopub.status.busy": "2020-11-30T03:24:49.649581Z",
     "iopub.status.idle": "2020-11-30T03:24:49.664808Z",
     "shell.execute_reply": "2020-11-30T03:24:49.665562Z"
    },
    "papermill": {
     "duration": 0.11555,
     "end_time": "2020-11-30T03:24:49.665732",
     "exception": false,
     "start_time": "2020-11-30T03:24:49.550182",
     "status": "completed"
    },
    "tags": []
   },
   "outputs": [
    {
     "data": {
      "text/plain": [
       "((#3) ['cp_type','cp_time','cp_dose'],\n",
       " (#872) ['g-0','g-1','g-2','g-3','g-4','g-5','g-6','g-7','g-8','g-9'...])"
      ]
     },
     "execution_count": 20,
     "metadata": {},
     "output_type": "execute_result"
    }
   ],
   "source": [
    "#handpick \n",
    "cat_names = L(list(train_features.columns[1:4]))\n",
    "cont_names = L(list(train_features.columns[4:]))\n",
    "cat_names, cont_names"
   ]
  },
  {
   "cell_type": "code",
   "execution_count": 21,
   "metadata": {
    "execution": {
     "iopub.execute_input": "2020-11-30T03:24:49.792787Z",
     "iopub.status.busy": "2020-11-30T03:24:49.790644Z",
     "iopub.status.idle": "2020-11-30T03:24:49.796728Z",
     "shell.execute_reply": "2020-11-30T03:24:49.797513Z"
    },
    "papermill": {
     "duration": 0.070562,
     "end_time": "2020-11-30T03:24:49.797666",
     "exception": false,
     "start_time": "2020-11-30T03:24:49.727104",
     "status": "completed"
    },
    "tags": []
   },
   "outputs": [
    {
     "data": {
      "text/plain": [
       "['5-alpha_reductase_inhibitor',\n",
       " '11-beta-hsd1_inhibitor',\n",
       " 'acat_inhibitor',\n",
       " 'acetylcholine_receptor_agonist',\n",
       " 'acetylcholine_receptor_antagonist',\n",
       " 'acetylcholinesterase_inhibitor',\n",
       " 'adenosine_receptor_agonist',\n",
       " 'adenosine_receptor_antagonist',\n",
       " 'adenylyl_cyclase_activator',\n",
       " 'adrenergic_receptor_agonist']"
      ]
     },
     "execution_count": 21,
     "metadata": {},
     "output_type": "execute_result"
    }
   ],
   "source": [
    "#define target vars\n",
    "dep_var = list(train_targets_scored.columns[1:])\n",
    "dep_var[:10]\n"
   ]
  },
  {
   "cell_type": "markdown",
   "metadata": {
    "papermill": {
     "duration": 0.055852,
     "end_time": "2020-11-30T03:24:49.912486",
     "exception": false,
     "start_time": "2020-11-30T03:24:49.856634",
     "status": "completed"
    },
    "tags": []
   },
   "source": [
    "## 2. Model\n",
    "\n",
    "Define dls"
   ]
  },
  {
   "cell_type": "code",
   "execution_count": 22,
   "metadata": {
    "execution": {
     "iopub.execute_input": "2020-11-30T03:24:50.001738Z",
     "iopub.status.busy": "2020-11-30T03:24:49.999978Z",
     "iopub.status.idle": "2020-11-30T03:24:50.002505Z",
     "shell.execute_reply": "2020-11-30T03:24:50.003006Z"
    },
    "papermill": {
     "duration": 0.04981,
     "end_time": "2020-11-30T03:24:50.003118",
     "exception": false,
     "start_time": "2020-11-30T03:24:49.953308",
     "status": "completed"
    },
    "tags": []
   },
   "outputs": [],
   "source": [
    "procs = [FillMissing, Categorify, Normalize]\n",
    "def get_data(fold):\n",
    "    val_idx = X_train[X_train['kfold']==fold].index\n",
    "    #print(val_idx.shape)\n",
    "    dls = TabularDataLoaders.from_df(X_train, path=path, y_names=dep_var,\n",
    "                                        cat_names = cat_names,\n",
    "                                        cont_names = cont_names,\n",
    "                                        procs = procs,\n",
    "                                        valid_idx=val_idx,\n",
    "                                        bs=64)\n",
    "    return dls #class fastai.tabular.data.TabularDataLoaders"
   ]
  },
  {
   "cell_type": "markdown",
   "metadata": {
    "papermill": {
     "duration": 0.040446,
     "end_time": "2020-11-30T03:24:50.083491",
     "exception": false,
     "start_time": "2020-11-30T03:24:50.043045",
     "status": "completed"
    },
    "tags": []
   },
   "source": [
    "Train k-folds"
   ]
  },
  {
   "cell_type": "code",
   "execution_count": 23,
   "metadata": {
    "execution": {
     "iopub.execute_input": "2020-11-30T03:24:50.180510Z",
     "iopub.status.busy": "2020-11-30T03:24:50.178467Z",
     "iopub.status.idle": "2020-11-30T03:41:45.923062Z",
     "shell.execute_reply": "2020-11-30T03:41:45.923558Z"
    },
    "papermill": {
     "duration": 1015.798989,
     "end_time": "2020-11-30T03:41:45.923708",
     "exception": false,
     "start_time": "2020-11-30T03:24:50.124719",
     "status": "completed"
    },
    "tags": []
   },
   "outputs": [
    {
     "name": "stdout",
     "output_type": "stream",
     "text": [
      "0 None\n"
     ]
    },
    {
     "data": {
      "text/html": [],
      "text/plain": [
       "<IPython.core.display.HTML object>"
      ]
     },
     "metadata": {},
     "output_type": "display_data"
    },
    {
     "name": "stdout",
     "output_type": "stream",
     "text": [
      "0.0017\n"
     ]
    },
    {
     "data": {
      "text/html": [
       "<table border=\"1\" class=\"dataframe\">\n",
       "  <thead>\n",
       "    <tr style=\"text-align: left;\">\n",
       "      <th>epoch</th>\n",
       "      <th>train_loss</th>\n",
       "      <th>valid_loss</th>\n",
       "      <th>time</th>\n",
       "    </tr>\n",
       "  </thead>\n",
       "  <tbody>\n",
       "    <tr>\n",
       "      <td>0</td>\n",
       "      <td>0.024771</td>\n",
       "      <td>0.020119</td>\n",
       "      <td>00:04</td>\n",
       "    </tr>\n",
       "    <tr>\n",
       "      <td>1</td>\n",
       "      <td>0.018353</td>\n",
       "      <td>0.018407</td>\n",
       "      <td>00:04</td>\n",
       "    </tr>\n",
       "    <tr>\n",
       "      <td>2</td>\n",
       "      <td>0.016591</td>\n",
       "      <td>0.018198</td>\n",
       "      <td>00:04</td>\n",
       "    </tr>\n",
       "    <tr>\n",
       "      <td>3</td>\n",
       "      <td>0.014270</td>\n",
       "      <td>0.018510</td>\n",
       "      <td>00:05</td>\n",
       "    </tr>\n",
       "    <tr>\n",
       "      <td>4</td>\n",
       "      <td>0.011455</td>\n",
       "      <td>0.019374</td>\n",
       "      <td>00:05</td>\n",
       "    </tr>\n",
       "    <tr>\n",
       "      <td>5</td>\n",
       "      <td>0.008511</td>\n",
       "      <td>0.020411</td>\n",
       "      <td>00:05</td>\n",
       "    </tr>\n",
       "    <tr>\n",
       "      <td>6</td>\n",
       "      <td>0.006015</td>\n",
       "      <td>0.021229</td>\n",
       "      <td>00:04</td>\n",
       "    </tr>\n",
       "    <tr>\n",
       "      <td>7</td>\n",
       "      <td>0.004961</td>\n",
       "      <td>0.021390</td>\n",
       "      <td>00:04</td>\n",
       "    </tr>\n",
       "  </tbody>\n",
       "</table>"
      ],
      "text/plain": [
       "<IPython.core.display.HTML object>"
      ]
     },
     "metadata": {},
     "output_type": "display_data"
    },
    {
     "name": "stdout",
     "output_type": "stream",
     "text": [
      "Better model found at epoch 0 with valid_loss value: 0.02011880837380886.\n",
      "Better model found at epoch 1 with valid_loss value: 0.018407372757792473.\n",
      "Better model found at epoch 2 with valid_loss value: 0.018197888508439064.\n"
     ]
    },
    {
     "data": {
      "text/html": [
       "<table border=\"1\" class=\"dataframe\">\n",
       "  <thead>\n",
       "    <tr style=\"text-align: left;\">\n",
       "      <th>epoch</th>\n",
       "      <th>train_loss</th>\n",
       "      <th>valid_loss</th>\n",
       "      <th>time</th>\n",
       "    </tr>\n",
       "  </thead>\n",
       "  <tbody>\n",
       "    <tr>\n",
       "      <td>0</td>\n",
       "      <td>0.013389</td>\n",
       "      <td>0.017603</td>\n",
       "      <td>00:04</td>\n",
       "    </tr>\n",
       "    <tr>\n",
       "      <td>1</td>\n",
       "      <td>0.012974</td>\n",
       "      <td>0.017539</td>\n",
       "      <td>00:04</td>\n",
       "    </tr>\n",
       "    <tr>\n",
       "      <td>2</td>\n",
       "      <td>0.012543</td>\n",
       "      <td>0.017555</td>\n",
       "      <td>00:04</td>\n",
       "    </tr>\n",
       "    <tr>\n",
       "      <td>3</td>\n",
       "      <td>0.011961</td>\n",
       "      <td>0.017582</td>\n",
       "      <td>00:04</td>\n",
       "    </tr>\n",
       "    <tr>\n",
       "      <td>4</td>\n",
       "      <td>0.012122</td>\n",
       "      <td>0.017626</td>\n",
       "      <td>00:05</td>\n",
       "    </tr>\n",
       "  </tbody>\n",
       "</table>"
      ],
      "text/plain": [
       "<IPython.core.display.HTML object>"
      ]
     },
     "metadata": {},
     "output_type": "display_data"
    },
    {
     "name": "stdout",
     "output_type": "stream",
     "text": [
      "Better model found at epoch 0 with valid_loss value: 0.017603445798158646.\n",
      "Better model found at epoch 1 with valid_loss value: 0.017538679763674736.\n"
     ]
    },
    {
     "data": {
      "text/html": [
       "<table border=\"1\" class=\"dataframe\">\n",
       "  <thead>\n",
       "    <tr style=\"text-align: left;\">\n",
       "      <th>epoch</th>\n",
       "      <th>train_loss</th>\n",
       "      <th>valid_loss</th>\n",
       "      <th>time</th>\n",
       "    </tr>\n",
       "  </thead>\n",
       "  <tbody>\n",
       "    <tr>\n",
       "      <td>0</td>\n",
       "      <td>0.012771</td>\n",
       "      <td>0.017558</td>\n",
       "      <td>00:04</td>\n",
       "    </tr>\n",
       "    <tr>\n",
       "      <td>1</td>\n",
       "      <td>0.012404</td>\n",
       "      <td>0.017554</td>\n",
       "      <td>00:04</td>\n",
       "    </tr>\n",
       "    <tr>\n",
       "      <td>2</td>\n",
       "      <td>0.012718</td>\n",
       "      <td>0.017546</td>\n",
       "      <td>00:05</td>\n",
       "    </tr>\n",
       "    <tr>\n",
       "      <td>3</td>\n",
       "      <td>0.012634</td>\n",
       "      <td>0.017548</td>\n",
       "      <td>00:05</td>\n",
       "    </tr>\n",
       "    <tr>\n",
       "      <td>4</td>\n",
       "      <td>0.012586</td>\n",
       "      <td>0.017534</td>\n",
       "      <td>00:04</td>\n",
       "    </tr>\n",
       "  </tbody>\n",
       "</table>"
      ],
      "text/plain": [
       "<IPython.core.display.HTML object>"
      ]
     },
     "metadata": {},
     "output_type": "display_data"
    },
    {
     "name": "stdout",
     "output_type": "stream",
     "text": [
      "Better model found at epoch 0 with valid_loss value: 0.017557615414261818.\n",
      "Better model found at epoch 1 with valid_loss value: 0.017553778365254402.\n",
      "Better model found at epoch 2 with valid_loss value: 0.017546245828270912.\n",
      "Better model found at epoch 4 with valid_loss value: 0.017534324899315834.\n",
      "1 0.0017\n"
     ]
    },
    {
     "data": {
      "text/html": [
       "<table border=\"1\" class=\"dataframe\">\n",
       "  <thead>\n",
       "    <tr style=\"text-align: left;\">\n",
       "      <th>epoch</th>\n",
       "      <th>train_loss</th>\n",
       "      <th>valid_loss</th>\n",
       "      <th>time</th>\n",
       "    </tr>\n",
       "  </thead>\n",
       "  <tbody>\n",
       "    <tr>\n",
       "      <td>0</td>\n",
       "      <td>0.024513</td>\n",
       "      <td>0.020461</td>\n",
       "      <td>00:04</td>\n",
       "    </tr>\n",
       "    <tr>\n",
       "      <td>1</td>\n",
       "      <td>0.018374</td>\n",
       "      <td>0.019133</td>\n",
       "      <td>00:04</td>\n",
       "    </tr>\n",
       "    <tr>\n",
       "      <td>2</td>\n",
       "      <td>0.016556</td>\n",
       "      <td>0.018925</td>\n",
       "      <td>00:04</td>\n",
       "    </tr>\n",
       "    <tr>\n",
       "      <td>3</td>\n",
       "      <td>0.014232</td>\n",
       "      <td>0.019288</td>\n",
       "      <td>00:04</td>\n",
       "    </tr>\n",
       "    <tr>\n",
       "      <td>4</td>\n",
       "      <td>0.011673</td>\n",
       "      <td>0.020225</td>\n",
       "      <td>00:04</td>\n",
       "    </tr>\n",
       "    <tr>\n",
       "      <td>5</td>\n",
       "      <td>0.008350</td>\n",
       "      <td>0.021283</td>\n",
       "      <td>00:05</td>\n",
       "    </tr>\n",
       "    <tr>\n",
       "      <td>6</td>\n",
       "      <td>0.005980</td>\n",
       "      <td>0.022073</td>\n",
       "      <td>00:04</td>\n",
       "    </tr>\n",
       "    <tr>\n",
       "      <td>7</td>\n",
       "      <td>0.004891</td>\n",
       "      <td>0.022350</td>\n",
       "      <td>00:05</td>\n",
       "    </tr>\n",
       "  </tbody>\n",
       "</table>"
      ],
      "text/plain": [
       "<IPython.core.display.HTML object>"
      ]
     },
     "metadata": {},
     "output_type": "display_data"
    },
    {
     "name": "stdout",
     "output_type": "stream",
     "text": [
      "Better model found at epoch 0 with valid_loss value: 0.020460767671465874.\n",
      "Better model found at epoch 1 with valid_loss value: 0.01913280226290226.\n",
      "Better model found at epoch 2 with valid_loss value: 0.018924739211797714.\n"
     ]
    },
    {
     "data": {
      "text/html": [
       "<table border=\"1\" class=\"dataframe\">\n",
       "  <thead>\n",
       "    <tr style=\"text-align: left;\">\n",
       "      <th>epoch</th>\n",
       "      <th>train_loss</th>\n",
       "      <th>valid_loss</th>\n",
       "      <th>time</th>\n",
       "    </tr>\n",
       "  </thead>\n",
       "  <tbody>\n",
       "    <tr>\n",
       "      <td>0</td>\n",
       "      <td>0.013414</td>\n",
       "      <td>0.018406</td>\n",
       "      <td>00:04</td>\n",
       "    </tr>\n",
       "    <tr>\n",
       "      <td>1</td>\n",
       "      <td>0.012657</td>\n",
       "      <td>0.018349</td>\n",
       "      <td>00:04</td>\n",
       "    </tr>\n",
       "    <tr>\n",
       "      <td>2</td>\n",
       "      <td>0.012503</td>\n",
       "      <td>0.018406</td>\n",
       "      <td>00:04</td>\n",
       "    </tr>\n",
       "    <tr>\n",
       "      <td>3</td>\n",
       "      <td>0.012037</td>\n",
       "      <td>0.018438</td>\n",
       "      <td>00:05</td>\n",
       "    </tr>\n",
       "    <tr>\n",
       "      <td>4</td>\n",
       "      <td>0.012087</td>\n",
       "      <td>0.018472</td>\n",
       "      <td>00:04</td>\n",
       "    </tr>\n",
       "  </tbody>\n",
       "</table>"
      ],
      "text/plain": [
       "<IPython.core.display.HTML object>"
      ]
     },
     "metadata": {},
     "output_type": "display_data"
    },
    {
     "name": "stdout",
     "output_type": "stream",
     "text": [
      "Better model found at epoch 0 with valid_loss value: 0.018405819311738014.\n",
      "Better model found at epoch 1 with valid_loss value: 0.018348611891269684.\n"
     ]
    },
    {
     "data": {
      "text/html": [
       "<table border=\"1\" class=\"dataframe\">\n",
       "  <thead>\n",
       "    <tr style=\"text-align: left;\">\n",
       "      <th>epoch</th>\n",
       "      <th>train_loss</th>\n",
       "      <th>valid_loss</th>\n",
       "      <th>time</th>\n",
       "    </tr>\n",
       "  </thead>\n",
       "  <tbody>\n",
       "    <tr>\n",
       "      <td>0</td>\n",
       "      <td>0.012581</td>\n",
       "      <td>0.018372</td>\n",
       "      <td>00:04</td>\n",
       "    </tr>\n",
       "    <tr>\n",
       "      <td>1</td>\n",
       "      <td>0.012665</td>\n",
       "      <td>0.018371</td>\n",
       "      <td>00:04</td>\n",
       "    </tr>\n",
       "    <tr>\n",
       "      <td>2</td>\n",
       "      <td>0.012128</td>\n",
       "      <td>0.018406</td>\n",
       "      <td>00:04</td>\n",
       "    </tr>\n",
       "    <tr>\n",
       "      <td>3</td>\n",
       "      <td>0.012548</td>\n",
       "      <td>0.018383</td>\n",
       "      <td>00:04</td>\n",
       "    </tr>\n",
       "    <tr>\n",
       "      <td>4</td>\n",
       "      <td>0.012315</td>\n",
       "      <td>0.018398</td>\n",
       "      <td>00:04</td>\n",
       "    </tr>\n",
       "  </tbody>\n",
       "</table>"
      ],
      "text/plain": [
       "<IPython.core.display.HTML object>"
      ]
     },
     "metadata": {},
     "output_type": "display_data"
    },
    {
     "name": "stdout",
     "output_type": "stream",
     "text": [
      "Better model found at epoch 0 with valid_loss value: 0.018372248858213425.\n",
      "Better model found at epoch 1 with valid_loss value: 0.018370868638157845.\n",
      "2 0.0017\n"
     ]
    },
    {
     "data": {
      "text/html": [
       "<table border=\"1\" class=\"dataframe\">\n",
       "  <thead>\n",
       "    <tr style=\"text-align: left;\">\n",
       "      <th>epoch</th>\n",
       "      <th>train_loss</th>\n",
       "      <th>valid_loss</th>\n",
       "      <th>time</th>\n",
       "    </tr>\n",
       "  </thead>\n",
       "  <tbody>\n",
       "    <tr>\n",
       "      <td>0</td>\n",
       "      <td>0.024744</td>\n",
       "      <td>0.020188</td>\n",
       "      <td>00:05</td>\n",
       "    </tr>\n",
       "    <tr>\n",
       "      <td>1</td>\n",
       "      <td>0.018324</td>\n",
       "      <td>0.018774</td>\n",
       "      <td>00:04</td>\n",
       "    </tr>\n",
       "    <tr>\n",
       "      <td>2</td>\n",
       "      <td>0.016398</td>\n",
       "      <td>0.017920</td>\n",
       "      <td>00:04</td>\n",
       "    </tr>\n",
       "    <tr>\n",
       "      <td>3</td>\n",
       "      <td>0.014426</td>\n",
       "      <td>0.018232</td>\n",
       "      <td>00:04</td>\n",
       "    </tr>\n",
       "    <tr>\n",
       "      <td>4</td>\n",
       "      <td>0.011490</td>\n",
       "      <td>0.019111</td>\n",
       "      <td>00:05</td>\n",
       "    </tr>\n",
       "    <tr>\n",
       "      <td>5</td>\n",
       "      <td>0.008738</td>\n",
       "      <td>0.020125</td>\n",
       "      <td>00:04</td>\n",
       "    </tr>\n",
       "    <tr>\n",
       "      <td>6</td>\n",
       "      <td>0.006339</td>\n",
       "      <td>0.020799</td>\n",
       "      <td>00:04</td>\n",
       "    </tr>\n",
       "    <tr>\n",
       "      <td>7</td>\n",
       "      <td>0.005165</td>\n",
       "      <td>0.020939</td>\n",
       "      <td>00:04</td>\n",
       "    </tr>\n",
       "  </tbody>\n",
       "</table>"
      ],
      "text/plain": [
       "<IPython.core.display.HTML object>"
      ]
     },
     "metadata": {},
     "output_type": "display_data"
    },
    {
     "name": "stdout",
     "output_type": "stream",
     "text": [
      "Better model found at epoch 0 with valid_loss value: 0.02018788643181324.\n",
      "Better model found at epoch 1 with valid_loss value: 0.018773552030324936.\n",
      "Better model found at epoch 2 with valid_loss value: 0.017920181155204773.\n"
     ]
    },
    {
     "data": {
      "text/html": [
       "<table border=\"1\" class=\"dataframe\">\n",
       "  <thead>\n",
       "    <tr style=\"text-align: left;\">\n",
       "      <th>epoch</th>\n",
       "      <th>train_loss</th>\n",
       "      <th>valid_loss</th>\n",
       "      <th>time</th>\n",
       "    </tr>\n",
       "  </thead>\n",
       "  <tbody>\n",
       "    <tr>\n",
       "      <td>0</td>\n",
       "      <td>0.013624</td>\n",
       "      <td>0.017582</td>\n",
       "      <td>00:04</td>\n",
       "    </tr>\n",
       "    <tr>\n",
       "      <td>1</td>\n",
       "      <td>0.013357</td>\n",
       "      <td>0.017593</td>\n",
       "      <td>00:04</td>\n",
       "    </tr>\n",
       "    <tr>\n",
       "      <td>2</td>\n",
       "      <td>0.012648</td>\n",
       "      <td>0.017603</td>\n",
       "      <td>00:04</td>\n",
       "    </tr>\n",
       "    <tr>\n",
       "      <td>3</td>\n",
       "      <td>0.012340</td>\n",
       "      <td>0.017644</td>\n",
       "      <td>00:05</td>\n",
       "    </tr>\n",
       "    <tr>\n",
       "      <td>4</td>\n",
       "      <td>0.012353</td>\n",
       "      <td>0.017658</td>\n",
       "      <td>00:05</td>\n",
       "    </tr>\n",
       "  </tbody>\n",
       "</table>"
      ],
      "text/plain": [
       "<IPython.core.display.HTML object>"
      ]
     },
     "metadata": {},
     "output_type": "display_data"
    },
    {
     "name": "stdout",
     "output_type": "stream",
     "text": [
      "Better model found at epoch 0 with valid_loss value: 0.017582105472683907.\n"
     ]
    },
    {
     "data": {
      "text/html": [
       "<table border=\"1\" class=\"dataframe\">\n",
       "  <thead>\n",
       "    <tr style=\"text-align: left;\">\n",
       "      <th>epoch</th>\n",
       "      <th>train_loss</th>\n",
       "      <th>valid_loss</th>\n",
       "      <th>time</th>\n",
       "    </tr>\n",
       "  </thead>\n",
       "  <tbody>\n",
       "    <tr>\n",
       "      <td>0</td>\n",
       "      <td>0.013337</td>\n",
       "      <td>0.017573</td>\n",
       "      <td>00:04</td>\n",
       "    </tr>\n",
       "    <tr>\n",
       "      <td>1</td>\n",
       "      <td>0.013195</td>\n",
       "      <td>0.017542</td>\n",
       "      <td>00:04</td>\n",
       "    </tr>\n",
       "    <tr>\n",
       "      <td>2</td>\n",
       "      <td>0.013204</td>\n",
       "      <td>0.017568</td>\n",
       "      <td>00:04</td>\n",
       "    </tr>\n",
       "    <tr>\n",
       "      <td>3</td>\n",
       "      <td>0.013129</td>\n",
       "      <td>0.017539</td>\n",
       "      <td>00:04</td>\n",
       "    </tr>\n",
       "    <tr>\n",
       "      <td>4</td>\n",
       "      <td>0.012948</td>\n",
       "      <td>0.017559</td>\n",
       "      <td>00:04</td>\n",
       "    </tr>\n",
       "  </tbody>\n",
       "</table>"
      ],
      "text/plain": [
       "<IPython.core.display.HTML object>"
      ]
     },
     "metadata": {},
     "output_type": "display_data"
    },
    {
     "name": "stdout",
     "output_type": "stream",
     "text": [
      "Better model found at epoch 0 with valid_loss value: 0.017573295161128044.\n",
      "Better model found at epoch 1 with valid_loss value: 0.01754162833094597.\n",
      "Better model found at epoch 3 with valid_loss value: 0.017539193853735924.\n",
      "3 0.0017\n"
     ]
    },
    {
     "data": {
      "text/html": [
       "<table border=\"1\" class=\"dataframe\">\n",
       "  <thead>\n",
       "    <tr style=\"text-align: left;\">\n",
       "      <th>epoch</th>\n",
       "      <th>train_loss</th>\n",
       "      <th>valid_loss</th>\n",
       "      <th>time</th>\n",
       "    </tr>\n",
       "  </thead>\n",
       "  <tbody>\n",
       "    <tr>\n",
       "      <td>0</td>\n",
       "      <td>0.024928</td>\n",
       "      <td>0.020519</td>\n",
       "      <td>00:05</td>\n",
       "    </tr>\n",
       "    <tr>\n",
       "      <td>1</td>\n",
       "      <td>0.018750</td>\n",
       "      <td>0.018838</td>\n",
       "      <td>00:04</td>\n",
       "    </tr>\n",
       "    <tr>\n",
       "      <td>2</td>\n",
       "      <td>0.016136</td>\n",
       "      <td>0.018646</td>\n",
       "      <td>00:04</td>\n",
       "    </tr>\n",
       "    <tr>\n",
       "      <td>3</td>\n",
       "      <td>0.013844</td>\n",
       "      <td>0.019010</td>\n",
       "      <td>00:05</td>\n",
       "    </tr>\n",
       "    <tr>\n",
       "      <td>4</td>\n",
       "      <td>0.011459</td>\n",
       "      <td>0.019811</td>\n",
       "      <td>00:05</td>\n",
       "    </tr>\n",
       "    <tr>\n",
       "      <td>5</td>\n",
       "      <td>0.008247</td>\n",
       "      <td>0.021256</td>\n",
       "      <td>00:04</td>\n",
       "    </tr>\n",
       "    <tr>\n",
       "      <td>6</td>\n",
       "      <td>0.006042</td>\n",
       "      <td>0.022130</td>\n",
       "      <td>00:04</td>\n",
       "    </tr>\n",
       "    <tr>\n",
       "      <td>7</td>\n",
       "      <td>0.004771</td>\n",
       "      <td>0.022293</td>\n",
       "      <td>00:04</td>\n",
       "    </tr>\n",
       "  </tbody>\n",
       "</table>"
      ],
      "text/plain": [
       "<IPython.core.display.HTML object>"
      ]
     },
     "metadata": {},
     "output_type": "display_data"
    },
    {
     "name": "stdout",
     "output_type": "stream",
     "text": [
      "Better model found at epoch 0 with valid_loss value: 0.020519087091088295.\n",
      "Better model found at epoch 1 with valid_loss value: 0.018838368356227875.\n",
      "Better model found at epoch 2 with valid_loss value: 0.01864645443856716.\n"
     ]
    },
    {
     "data": {
      "text/html": [
       "<table border=\"1\" class=\"dataframe\">\n",
       "  <thead>\n",
       "    <tr style=\"text-align: left;\">\n",
       "      <th>epoch</th>\n",
       "      <th>train_loss</th>\n",
       "      <th>valid_loss</th>\n",
       "      <th>time</th>\n",
       "    </tr>\n",
       "  </thead>\n",
       "  <tbody>\n",
       "    <tr>\n",
       "      <td>0</td>\n",
       "      <td>0.013388</td>\n",
       "      <td>0.018156</td>\n",
       "      <td>00:04</td>\n",
       "    </tr>\n",
       "    <tr>\n",
       "      <td>1</td>\n",
       "      <td>0.013049</td>\n",
       "      <td>0.018217</td>\n",
       "      <td>00:04</td>\n",
       "    </tr>\n",
       "    <tr>\n",
       "      <td>2</td>\n",
       "      <td>0.012300</td>\n",
       "      <td>0.018264</td>\n",
       "      <td>00:04</td>\n",
       "    </tr>\n",
       "    <tr>\n",
       "      <td>3</td>\n",
       "      <td>0.012028</td>\n",
       "      <td>0.018303</td>\n",
       "      <td>00:05</td>\n",
       "    </tr>\n",
       "    <tr>\n",
       "      <td>4</td>\n",
       "      <td>0.012010</td>\n",
       "      <td>0.018321</td>\n",
       "      <td>00:04</td>\n",
       "    </tr>\n",
       "  </tbody>\n",
       "</table>"
      ],
      "text/plain": [
       "<IPython.core.display.HTML object>"
      ]
     },
     "metadata": {},
     "output_type": "display_data"
    },
    {
     "name": "stdout",
     "output_type": "stream",
     "text": [
      "Better model found at epoch 0 with valid_loss value: 0.018155595287680626.\n"
     ]
    },
    {
     "data": {
      "text/html": [
       "<table border=\"1\" class=\"dataframe\">\n",
       "  <thead>\n",
       "    <tr style=\"text-align: left;\">\n",
       "      <th>epoch</th>\n",
       "      <th>train_loss</th>\n",
       "      <th>valid_loss</th>\n",
       "      <th>time</th>\n",
       "    </tr>\n",
       "  </thead>\n",
       "  <tbody>\n",
       "    <tr>\n",
       "      <td>0</td>\n",
       "      <td>0.013153</td>\n",
       "      <td>0.018148</td>\n",
       "      <td>00:04</td>\n",
       "    </tr>\n",
       "    <tr>\n",
       "      <td>1</td>\n",
       "      <td>0.012977</td>\n",
       "      <td>0.018142</td>\n",
       "      <td>00:04</td>\n",
       "    </tr>\n",
       "    <tr>\n",
       "      <td>2</td>\n",
       "      <td>0.012978</td>\n",
       "      <td>0.018143</td>\n",
       "      <td>00:04</td>\n",
       "    </tr>\n",
       "    <tr>\n",
       "      <td>3</td>\n",
       "      <td>0.012890</td>\n",
       "      <td>0.018161</td>\n",
       "      <td>00:05</td>\n",
       "    </tr>\n",
       "    <tr>\n",
       "      <td>4</td>\n",
       "      <td>0.012877</td>\n",
       "      <td>0.018167</td>\n",
       "      <td>00:04</td>\n",
       "    </tr>\n",
       "  </tbody>\n",
       "</table>"
      ],
      "text/plain": [
       "<IPython.core.display.HTML object>"
      ]
     },
     "metadata": {},
     "output_type": "display_data"
    },
    {
     "name": "stdout",
     "output_type": "stream",
     "text": [
      "Better model found at epoch 0 with valid_loss value: 0.018148155882954597.\n",
      "Better model found at epoch 1 with valid_loss value: 0.018141502514481544.\n",
      "4 0.0017\n"
     ]
    },
    {
     "data": {
      "text/html": [
       "<table border=\"1\" class=\"dataframe\">\n",
       "  <thead>\n",
       "    <tr style=\"text-align: left;\">\n",
       "      <th>epoch</th>\n",
       "      <th>train_loss</th>\n",
       "      <th>valid_loss</th>\n",
       "      <th>time</th>\n",
       "    </tr>\n",
       "  </thead>\n",
       "  <tbody>\n",
       "    <tr>\n",
       "      <td>0</td>\n",
       "      <td>0.024583</td>\n",
       "      <td>0.021199</td>\n",
       "      <td>00:05</td>\n",
       "    </tr>\n",
       "    <tr>\n",
       "      <td>1</td>\n",
       "      <td>0.018483</td>\n",
       "      <td>0.019674</td>\n",
       "      <td>00:04</td>\n",
       "    </tr>\n",
       "    <tr>\n",
       "      <td>2</td>\n",
       "      <td>0.016608</td>\n",
       "      <td>0.019306</td>\n",
       "      <td>00:04</td>\n",
       "    </tr>\n",
       "    <tr>\n",
       "      <td>3</td>\n",
       "      <td>0.014347</td>\n",
       "      <td>0.019698</td>\n",
       "      <td>00:04</td>\n",
       "    </tr>\n",
       "    <tr>\n",
       "      <td>4</td>\n",
       "      <td>0.011340</td>\n",
       "      <td>0.020557</td>\n",
       "      <td>00:05</td>\n",
       "    </tr>\n",
       "    <tr>\n",
       "      <td>5</td>\n",
       "      <td>0.008557</td>\n",
       "      <td>0.021282</td>\n",
       "      <td>00:04</td>\n",
       "    </tr>\n",
       "    <tr>\n",
       "      <td>6</td>\n",
       "      <td>0.006156</td>\n",
       "      <td>0.021937</td>\n",
       "      <td>00:04</td>\n",
       "    </tr>\n",
       "    <tr>\n",
       "      <td>7</td>\n",
       "      <td>0.005025</td>\n",
       "      <td>0.022124</td>\n",
       "      <td>00:05</td>\n",
       "    </tr>\n",
       "  </tbody>\n",
       "</table>"
      ],
      "text/plain": [
       "<IPython.core.display.HTML object>"
      ]
     },
     "metadata": {},
     "output_type": "display_data"
    },
    {
     "name": "stdout",
     "output_type": "stream",
     "text": [
      "Better model found at epoch 0 with valid_loss value: 0.021199384704232216.\n",
      "Better model found at epoch 1 with valid_loss value: 0.01967402547597885.\n",
      "Better model found at epoch 2 with valid_loss value: 0.01930611953139305.\n"
     ]
    },
    {
     "data": {
      "text/html": [
       "<table border=\"1\" class=\"dataframe\">\n",
       "  <thead>\n",
       "    <tr style=\"text-align: left;\">\n",
       "      <th>epoch</th>\n",
       "      <th>train_loss</th>\n",
       "      <th>valid_loss</th>\n",
       "      <th>time</th>\n",
       "    </tr>\n",
       "  </thead>\n",
       "  <tbody>\n",
       "    <tr>\n",
       "      <td>0</td>\n",
       "      <td>0.013627</td>\n",
       "      <td>0.018579</td>\n",
       "      <td>00:05</td>\n",
       "    </tr>\n",
       "    <tr>\n",
       "      <td>1</td>\n",
       "      <td>0.012957</td>\n",
       "      <td>0.018559</td>\n",
       "      <td>00:05</td>\n",
       "    </tr>\n",
       "    <tr>\n",
       "      <td>2</td>\n",
       "      <td>0.012619</td>\n",
       "      <td>0.018565</td>\n",
       "      <td>00:04</td>\n",
       "    </tr>\n",
       "    <tr>\n",
       "      <td>3</td>\n",
       "      <td>0.012171</td>\n",
       "      <td>0.018649</td>\n",
       "      <td>00:05</td>\n",
       "    </tr>\n",
       "    <tr>\n",
       "      <td>4</td>\n",
       "      <td>0.011986</td>\n",
       "      <td>0.018680</td>\n",
       "      <td>00:04</td>\n",
       "    </tr>\n",
       "  </tbody>\n",
       "</table>"
      ],
      "text/plain": [
       "<IPython.core.display.HTML object>"
      ]
     },
     "metadata": {},
     "output_type": "display_data"
    },
    {
     "name": "stdout",
     "output_type": "stream",
     "text": [
      "Better model found at epoch 0 with valid_loss value: 0.01857880689203739.\n",
      "Better model found at epoch 1 with valid_loss value: 0.018559325486421585.\n"
     ]
    },
    {
     "data": {
      "text/html": [
       "<table border=\"1\" class=\"dataframe\">\n",
       "  <thead>\n",
       "    <tr style=\"text-align: left;\">\n",
       "      <th>epoch</th>\n",
       "      <th>train_loss</th>\n",
       "      <th>valid_loss</th>\n",
       "      <th>time</th>\n",
       "    </tr>\n",
       "  </thead>\n",
       "  <tbody>\n",
       "    <tr>\n",
       "      <td>0</td>\n",
       "      <td>0.012622</td>\n",
       "      <td>0.018539</td>\n",
       "      <td>00:04</td>\n",
       "    </tr>\n",
       "    <tr>\n",
       "      <td>1</td>\n",
       "      <td>0.012457</td>\n",
       "      <td>0.018675</td>\n",
       "      <td>00:04</td>\n",
       "    </tr>\n",
       "    <tr>\n",
       "      <td>2</td>\n",
       "      <td>0.012595</td>\n",
       "      <td>0.018610</td>\n",
       "      <td>00:04</td>\n",
       "    </tr>\n",
       "    <tr>\n",
       "      <td>3</td>\n",
       "      <td>0.012566</td>\n",
       "      <td>0.018581</td>\n",
       "      <td>00:04</td>\n",
       "    </tr>\n",
       "    <tr>\n",
       "      <td>4</td>\n",
       "      <td>0.012370</td>\n",
       "      <td>0.018554</td>\n",
       "      <td>00:05</td>\n",
       "    </tr>\n",
       "  </tbody>\n",
       "</table>"
      ],
      "text/plain": [
       "<IPython.core.display.HTML object>"
      ]
     },
     "metadata": {},
     "output_type": "display_data"
    },
    {
     "name": "stdout",
     "output_type": "stream",
     "text": [
      "Better model found at epoch 0 with valid_loss value: 0.018539413809776306.\n",
      "5 0.0017\n"
     ]
    },
    {
     "data": {
      "text/html": [
       "<table border=\"1\" class=\"dataframe\">\n",
       "  <thead>\n",
       "    <tr style=\"text-align: left;\">\n",
       "      <th>epoch</th>\n",
       "      <th>train_loss</th>\n",
       "      <th>valid_loss</th>\n",
       "      <th>time</th>\n",
       "    </tr>\n",
       "  </thead>\n",
       "  <tbody>\n",
       "    <tr>\n",
       "      <td>0</td>\n",
       "      <td>0.025141</td>\n",
       "      <td>0.019454</td>\n",
       "      <td>00:05</td>\n",
       "    </tr>\n",
       "    <tr>\n",
       "      <td>1</td>\n",
       "      <td>0.018528</td>\n",
       "      <td>0.017642</td>\n",
       "      <td>00:05</td>\n",
       "    </tr>\n",
       "    <tr>\n",
       "      <td>2</td>\n",
       "      <td>0.016682</td>\n",
       "      <td>0.017453</td>\n",
       "      <td>00:04</td>\n",
       "    </tr>\n",
       "    <tr>\n",
       "      <td>3</td>\n",
       "      <td>0.014349</td>\n",
       "      <td>0.017745</td>\n",
       "      <td>00:05</td>\n",
       "    </tr>\n",
       "    <tr>\n",
       "      <td>4</td>\n",
       "      <td>0.011753</td>\n",
       "      <td>0.018440</td>\n",
       "      <td>00:04</td>\n",
       "    </tr>\n",
       "    <tr>\n",
       "      <td>5</td>\n",
       "      <td>0.008538</td>\n",
       "      <td>0.019831</td>\n",
       "      <td>00:04</td>\n",
       "    </tr>\n",
       "    <tr>\n",
       "      <td>6</td>\n",
       "      <td>0.006215</td>\n",
       "      <td>0.020595</td>\n",
       "      <td>00:04</td>\n",
       "    </tr>\n",
       "    <tr>\n",
       "      <td>7</td>\n",
       "      <td>0.005202</td>\n",
       "      <td>0.020679</td>\n",
       "      <td>00:04</td>\n",
       "    </tr>\n",
       "  </tbody>\n",
       "</table>"
      ],
      "text/plain": [
       "<IPython.core.display.HTML object>"
      ]
     },
     "metadata": {},
     "output_type": "display_data"
    },
    {
     "name": "stdout",
     "output_type": "stream",
     "text": [
      "Better model found at epoch 0 with valid_loss value: 0.019454224035143852.\n",
      "Better model found at epoch 1 with valid_loss value: 0.017642280086874962.\n",
      "Better model found at epoch 2 with valid_loss value: 0.017453087493777275.\n"
     ]
    },
    {
     "data": {
      "text/html": [
       "<table border=\"1\" class=\"dataframe\">\n",
       "  <thead>\n",
       "    <tr style=\"text-align: left;\">\n",
       "      <th>epoch</th>\n",
       "      <th>train_loss</th>\n",
       "      <th>valid_loss</th>\n",
       "      <th>time</th>\n",
       "    </tr>\n",
       "  </thead>\n",
       "  <tbody>\n",
       "    <tr>\n",
       "      <td>0</td>\n",
       "      <td>0.013488</td>\n",
       "      <td>0.016977</td>\n",
       "      <td>00:04</td>\n",
       "    </tr>\n",
       "    <tr>\n",
       "      <td>1</td>\n",
       "      <td>0.013171</td>\n",
       "      <td>0.016898</td>\n",
       "      <td>00:04</td>\n",
       "    </tr>\n",
       "    <tr>\n",
       "      <td>2</td>\n",
       "      <td>0.012663</td>\n",
       "      <td>0.016985</td>\n",
       "      <td>00:05</td>\n",
       "    </tr>\n",
       "    <tr>\n",
       "      <td>3</td>\n",
       "      <td>0.012709</td>\n",
       "      <td>0.017010</td>\n",
       "      <td>00:05</td>\n",
       "    </tr>\n",
       "    <tr>\n",
       "      <td>4</td>\n",
       "      <td>0.012172</td>\n",
       "      <td>0.017023</td>\n",
       "      <td>00:05</td>\n",
       "    </tr>\n",
       "  </tbody>\n",
       "</table>"
      ],
      "text/plain": [
       "<IPython.core.display.HTML object>"
      ]
     },
     "metadata": {},
     "output_type": "display_data"
    },
    {
     "name": "stdout",
     "output_type": "stream",
     "text": [
      "Better model found at epoch 0 with valid_loss value: 0.016977226361632347.\n",
      "Better model found at epoch 1 with valid_loss value: 0.016898328438401222.\n"
     ]
    },
    {
     "data": {
      "text/html": [
       "<table border=\"1\" class=\"dataframe\">\n",
       "  <thead>\n",
       "    <tr style=\"text-align: left;\">\n",
       "      <th>epoch</th>\n",
       "      <th>train_loss</th>\n",
       "      <th>valid_loss</th>\n",
       "      <th>time</th>\n",
       "    </tr>\n",
       "  </thead>\n",
       "  <tbody>\n",
       "    <tr>\n",
       "      <td>0</td>\n",
       "      <td>0.012505</td>\n",
       "      <td>0.016907</td>\n",
       "      <td>00:04</td>\n",
       "    </tr>\n",
       "    <tr>\n",
       "      <td>1</td>\n",
       "      <td>0.012692</td>\n",
       "      <td>0.016924</td>\n",
       "      <td>00:04</td>\n",
       "    </tr>\n",
       "    <tr>\n",
       "      <td>2</td>\n",
       "      <td>0.012631</td>\n",
       "      <td>0.016942</td>\n",
       "      <td>00:04</td>\n",
       "    </tr>\n",
       "    <tr>\n",
       "      <td>3</td>\n",
       "      <td>0.012590</td>\n",
       "      <td>0.016929</td>\n",
       "      <td>00:05</td>\n",
       "    </tr>\n",
       "    <tr>\n",
       "      <td>4</td>\n",
       "      <td>0.012732</td>\n",
       "      <td>0.016943</td>\n",
       "      <td>00:05</td>\n",
       "    </tr>\n",
       "  </tbody>\n",
       "</table>"
      ],
      "text/plain": [
       "<IPython.core.display.HTML object>"
      ]
     },
     "metadata": {},
     "output_type": "display_data"
    },
    {
     "name": "stdout",
     "output_type": "stream",
     "text": [
      "Better model found at epoch 0 with valid_loss value: 0.016906755045056343.\n",
      "6 0.0017\n"
     ]
    },
    {
     "data": {
      "text/html": [
       "<table border=\"1\" class=\"dataframe\">\n",
       "  <thead>\n",
       "    <tr style=\"text-align: left;\">\n",
       "      <th>epoch</th>\n",
       "      <th>train_loss</th>\n",
       "      <th>valid_loss</th>\n",
       "      <th>time</th>\n",
       "    </tr>\n",
       "  </thead>\n",
       "  <tbody>\n",
       "    <tr>\n",
       "      <td>0</td>\n",
       "      <td>0.024948</td>\n",
       "      <td>0.020320</td>\n",
       "      <td>00:04</td>\n",
       "    </tr>\n",
       "    <tr>\n",
       "      <td>1</td>\n",
       "      <td>0.018507</td>\n",
       "      <td>0.018213</td>\n",
       "      <td>00:04</td>\n",
       "    </tr>\n",
       "    <tr>\n",
       "      <td>2</td>\n",
       "      <td>0.016596</td>\n",
       "      <td>0.018273</td>\n",
       "      <td>00:05</td>\n",
       "    </tr>\n",
       "    <tr>\n",
       "      <td>3</td>\n",
       "      <td>0.014180</td>\n",
       "      <td>0.018312</td>\n",
       "      <td>00:05</td>\n",
       "    </tr>\n",
       "    <tr>\n",
       "      <td>4</td>\n",
       "      <td>0.011440</td>\n",
       "      <td>0.019307</td>\n",
       "      <td>00:04</td>\n",
       "    </tr>\n",
       "    <tr>\n",
       "      <td>5</td>\n",
       "      <td>0.008390</td>\n",
       "      <td>0.020414</td>\n",
       "      <td>00:04</td>\n",
       "    </tr>\n",
       "    <tr>\n",
       "      <td>6</td>\n",
       "      <td>0.006061</td>\n",
       "      <td>0.021237</td>\n",
       "      <td>00:04</td>\n",
       "    </tr>\n",
       "    <tr>\n",
       "      <td>7</td>\n",
       "      <td>0.004917</td>\n",
       "      <td>0.021422</td>\n",
       "      <td>00:04</td>\n",
       "    </tr>\n",
       "  </tbody>\n",
       "</table>"
      ],
      "text/plain": [
       "<IPython.core.display.HTML object>"
      ]
     },
     "metadata": {},
     "output_type": "display_data"
    },
    {
     "name": "stdout",
     "output_type": "stream",
     "text": [
      "Better model found at epoch 0 with valid_loss value: 0.020320143550634384.\n",
      "Better model found at epoch 1 with valid_loss value: 0.018212713301181793.\n"
     ]
    },
    {
     "data": {
      "text/html": [
       "<table border=\"1\" class=\"dataframe\">\n",
       "  <thead>\n",
       "    <tr style=\"text-align: left;\">\n",
       "      <th>epoch</th>\n",
       "      <th>train_loss</th>\n",
       "      <th>valid_loss</th>\n",
       "      <th>time</th>\n",
       "    </tr>\n",
       "  </thead>\n",
       "  <tbody>\n",
       "    <tr>\n",
       "      <td>0</td>\n",
       "      <td>0.015993</td>\n",
       "      <td>0.017423</td>\n",
       "      <td>00:04</td>\n",
       "    </tr>\n",
       "    <tr>\n",
       "      <td>1</td>\n",
       "      <td>0.015614</td>\n",
       "      <td>0.017250</td>\n",
       "      <td>00:05</td>\n",
       "    </tr>\n",
       "    <tr>\n",
       "      <td>2</td>\n",
       "      <td>0.015229</td>\n",
       "      <td>0.017200</td>\n",
       "      <td>00:04</td>\n",
       "    </tr>\n",
       "    <tr>\n",
       "      <td>3</td>\n",
       "      <td>0.014829</td>\n",
       "      <td>0.017194</td>\n",
       "      <td>00:04</td>\n",
       "    </tr>\n",
       "    <tr>\n",
       "      <td>4</td>\n",
       "      <td>0.014976</td>\n",
       "      <td>0.017196</td>\n",
       "      <td>00:04</td>\n",
       "    </tr>\n",
       "  </tbody>\n",
       "</table>"
      ],
      "text/plain": [
       "<IPython.core.display.HTML object>"
      ]
     },
     "metadata": {},
     "output_type": "display_data"
    },
    {
     "name": "stdout",
     "output_type": "stream",
     "text": [
      "Better model found at epoch 0 with valid_loss value: 0.017422782257199287.\n",
      "Better model found at epoch 1 with valid_loss value: 0.017250273376703262.\n",
      "Better model found at epoch 2 with valid_loss value: 0.017200328409671783.\n",
      "Better model found at epoch 3 with valid_loss value: 0.017194021493196487.\n"
     ]
    },
    {
     "data": {
      "text/html": [
       "<table border=\"1\" class=\"dataframe\">\n",
       "  <thead>\n",
       "    <tr style=\"text-align: left;\">\n",
       "      <th>epoch</th>\n",
       "      <th>train_loss</th>\n",
       "      <th>valid_loss</th>\n",
       "      <th>time</th>\n",
       "    </tr>\n",
       "  </thead>\n",
       "  <tbody>\n",
       "    <tr>\n",
       "      <td>0</td>\n",
       "      <td>0.014635</td>\n",
       "      <td>0.017186</td>\n",
       "      <td>00:04</td>\n",
       "    </tr>\n",
       "    <tr>\n",
       "      <td>1</td>\n",
       "      <td>0.014710</td>\n",
       "      <td>0.017182</td>\n",
       "      <td>00:05</td>\n",
       "    </tr>\n",
       "    <tr>\n",
       "      <td>2</td>\n",
       "      <td>0.014641</td>\n",
       "      <td>0.017193</td>\n",
       "      <td>00:05</td>\n",
       "    </tr>\n",
       "    <tr>\n",
       "      <td>3</td>\n",
       "      <td>0.014533</td>\n",
       "      <td>0.017183</td>\n",
       "      <td>00:05</td>\n",
       "    </tr>\n",
       "    <tr>\n",
       "      <td>4</td>\n",
       "      <td>0.014589</td>\n",
       "      <td>0.017181</td>\n",
       "      <td>00:04</td>\n",
       "    </tr>\n",
       "  </tbody>\n",
       "</table>"
      ],
      "text/plain": [
       "<IPython.core.display.HTML object>"
      ]
     },
     "metadata": {},
     "output_type": "display_data"
    },
    {
     "name": "stdout",
     "output_type": "stream",
     "text": [
      "Better model found at epoch 0 with valid_loss value: 0.017186209559440613.\n",
      "Better model found at epoch 1 with valid_loss value: 0.017181986942887306.\n",
      "Better model found at epoch 4 with valid_loss value: 0.017181234434247017.\n",
      "7 0.0017\n"
     ]
    },
    {
     "data": {
      "text/html": [
       "<table border=\"1\" class=\"dataframe\">\n",
       "  <thead>\n",
       "    <tr style=\"text-align: left;\">\n",
       "      <th>epoch</th>\n",
       "      <th>train_loss</th>\n",
       "      <th>valid_loss</th>\n",
       "      <th>time</th>\n",
       "    </tr>\n",
       "  </thead>\n",
       "  <tbody>\n",
       "    <tr>\n",
       "      <td>0</td>\n",
       "      <td>0.025362</td>\n",
       "      <td>0.020151</td>\n",
       "      <td>00:04</td>\n",
       "    </tr>\n",
       "    <tr>\n",
       "      <td>1</td>\n",
       "      <td>0.018553</td>\n",
       "      <td>0.018939</td>\n",
       "      <td>00:05</td>\n",
       "    </tr>\n",
       "    <tr>\n",
       "      <td>2</td>\n",
       "      <td>0.016531</td>\n",
       "      <td>0.018328</td>\n",
       "      <td>00:04</td>\n",
       "    </tr>\n",
       "    <tr>\n",
       "      <td>3</td>\n",
       "      <td>0.014426</td>\n",
       "      <td>0.018981</td>\n",
       "      <td>00:04</td>\n",
       "    </tr>\n",
       "    <tr>\n",
       "      <td>4</td>\n",
       "      <td>0.011399</td>\n",
       "      <td>0.019505</td>\n",
       "      <td>00:04</td>\n",
       "    </tr>\n",
       "    <tr>\n",
       "      <td>5</td>\n",
       "      <td>0.008518</td>\n",
       "      <td>0.021052</td>\n",
       "      <td>00:05</td>\n",
       "    </tr>\n",
       "    <tr>\n",
       "      <td>6</td>\n",
       "      <td>0.005977</td>\n",
       "      <td>0.021808</td>\n",
       "      <td>00:05</td>\n",
       "    </tr>\n",
       "    <tr>\n",
       "      <td>7</td>\n",
       "      <td>0.004983</td>\n",
       "      <td>0.022047</td>\n",
       "      <td>00:05</td>\n",
       "    </tr>\n",
       "  </tbody>\n",
       "</table>"
      ],
      "text/plain": [
       "<IPython.core.display.HTML object>"
      ]
     },
     "metadata": {},
     "output_type": "display_data"
    },
    {
     "name": "stdout",
     "output_type": "stream",
     "text": [
      "Better model found at epoch 0 with valid_loss value: 0.020150640979409218.\n",
      "Better model found at epoch 1 with valid_loss value: 0.0189391877502203.\n",
      "Better model found at epoch 2 with valid_loss value: 0.018327785655856133.\n"
     ]
    },
    {
     "data": {
      "text/html": [
       "<table border=\"1\" class=\"dataframe\">\n",
       "  <thead>\n",
       "    <tr style=\"text-align: left;\">\n",
       "      <th>epoch</th>\n",
       "      <th>train_loss</th>\n",
       "      <th>valid_loss</th>\n",
       "      <th>time</th>\n",
       "    </tr>\n",
       "  </thead>\n",
       "  <tbody>\n",
       "    <tr>\n",
       "      <td>0</td>\n",
       "      <td>0.013546</td>\n",
       "      <td>0.017913</td>\n",
       "      <td>00:05</td>\n",
       "    </tr>\n",
       "    <tr>\n",
       "      <td>1</td>\n",
       "      <td>0.012856</td>\n",
       "      <td>0.017949</td>\n",
       "      <td>00:04</td>\n",
       "    </tr>\n",
       "    <tr>\n",
       "      <td>2</td>\n",
       "      <td>0.012763</td>\n",
       "      <td>0.018034</td>\n",
       "      <td>00:04</td>\n",
       "    </tr>\n",
       "    <tr>\n",
       "      <td>3</td>\n",
       "      <td>0.012254</td>\n",
       "      <td>0.018060</td>\n",
       "      <td>00:04</td>\n",
       "    </tr>\n",
       "    <tr>\n",
       "      <td>4</td>\n",
       "      <td>0.011971</td>\n",
       "      <td>0.018053</td>\n",
       "      <td>00:04</td>\n",
       "    </tr>\n",
       "  </tbody>\n",
       "</table>"
      ],
      "text/plain": [
       "<IPython.core.display.HTML object>"
      ]
     },
     "metadata": {},
     "output_type": "display_data"
    },
    {
     "name": "stdout",
     "output_type": "stream",
     "text": [
      "Better model found at epoch 0 with valid_loss value: 0.01791270636022091.\n"
     ]
    },
    {
     "data": {
      "text/html": [
       "<table border=\"1\" class=\"dataframe\">\n",
       "  <thead>\n",
       "    <tr style=\"text-align: left;\">\n",
       "      <th>epoch</th>\n",
       "      <th>train_loss</th>\n",
       "      <th>valid_loss</th>\n",
       "      <th>time</th>\n",
       "    </tr>\n",
       "  </thead>\n",
       "  <tbody>\n",
       "    <tr>\n",
       "      <td>0</td>\n",
       "      <td>0.013029</td>\n",
       "      <td>0.017917</td>\n",
       "      <td>00:04</td>\n",
       "    </tr>\n",
       "    <tr>\n",
       "      <td>1</td>\n",
       "      <td>0.012990</td>\n",
       "      <td>0.017921</td>\n",
       "      <td>00:05</td>\n",
       "    </tr>\n",
       "    <tr>\n",
       "      <td>2</td>\n",
       "      <td>0.012979</td>\n",
       "      <td>0.017922</td>\n",
       "      <td>00:04</td>\n",
       "    </tr>\n",
       "    <tr>\n",
       "      <td>3</td>\n",
       "      <td>0.013010</td>\n",
       "      <td>0.017906</td>\n",
       "      <td>00:04</td>\n",
       "    </tr>\n",
       "    <tr>\n",
       "      <td>4</td>\n",
       "      <td>0.013126</td>\n",
       "      <td>0.017927</td>\n",
       "      <td>00:04</td>\n",
       "    </tr>\n",
       "  </tbody>\n",
       "</table>"
      ],
      "text/plain": [
       "<IPython.core.display.HTML object>"
      ]
     },
     "metadata": {},
     "output_type": "display_data"
    },
    {
     "name": "stdout",
     "output_type": "stream",
     "text": [
      "Better model found at epoch 0 with valid_loss value: 0.017917122691869736.\n",
      "Better model found at epoch 3 with valid_loss value: 0.017905620858073235.\n",
      "8 0.0017\n"
     ]
    },
    {
     "data": {
      "text/html": [
       "<table border=\"1\" class=\"dataframe\">\n",
       "  <thead>\n",
       "    <tr style=\"text-align: left;\">\n",
       "      <th>epoch</th>\n",
       "      <th>train_loss</th>\n",
       "      <th>valid_loss</th>\n",
       "      <th>time</th>\n",
       "    </tr>\n",
       "  </thead>\n",
       "  <tbody>\n",
       "    <tr>\n",
       "      <td>0</td>\n",
       "      <td>0.024906</td>\n",
       "      <td>0.020166</td>\n",
       "      <td>00:05</td>\n",
       "    </tr>\n",
       "    <tr>\n",
       "      <td>1</td>\n",
       "      <td>0.018874</td>\n",
       "      <td>0.018711</td>\n",
       "      <td>00:04</td>\n",
       "    </tr>\n",
       "    <tr>\n",
       "      <td>2</td>\n",
       "      <td>0.016814</td>\n",
       "      <td>0.018613</td>\n",
       "      <td>00:04</td>\n",
       "    </tr>\n",
       "    <tr>\n",
       "      <td>3</td>\n",
       "      <td>0.014261</td>\n",
       "      <td>0.018623</td>\n",
       "      <td>00:04</td>\n",
       "    </tr>\n",
       "    <tr>\n",
       "      <td>4</td>\n",
       "      <td>0.011286</td>\n",
       "      <td>0.019729</td>\n",
       "      <td>00:04</td>\n",
       "    </tr>\n",
       "    <tr>\n",
       "      <td>5</td>\n",
       "      <td>0.008391</td>\n",
       "      <td>0.021029</td>\n",
       "      <td>00:04</td>\n",
       "    </tr>\n",
       "    <tr>\n",
       "      <td>6</td>\n",
       "      <td>0.006110</td>\n",
       "      <td>0.021831</td>\n",
       "      <td>00:04</td>\n",
       "    </tr>\n",
       "    <tr>\n",
       "      <td>7</td>\n",
       "      <td>0.004910</td>\n",
       "      <td>0.021926</td>\n",
       "      <td>00:05</td>\n",
       "    </tr>\n",
       "  </tbody>\n",
       "</table>"
      ],
      "text/plain": [
       "<IPython.core.display.HTML object>"
      ]
     },
     "metadata": {},
     "output_type": "display_data"
    },
    {
     "name": "stdout",
     "output_type": "stream",
     "text": [
      "Better model found at epoch 0 with valid_loss value: 0.02016596496105194.\n",
      "Better model found at epoch 1 with valid_loss value: 0.018710561096668243.\n",
      "Better model found at epoch 2 with valid_loss value: 0.018613453954458237.\n"
     ]
    },
    {
     "data": {
      "text/html": [
       "<table border=\"1\" class=\"dataframe\">\n",
       "  <thead>\n",
       "    <tr style=\"text-align: left;\">\n",
       "      <th>epoch</th>\n",
       "      <th>train_loss</th>\n",
       "      <th>valid_loss</th>\n",
       "      <th>time</th>\n",
       "    </tr>\n",
       "  </thead>\n",
       "  <tbody>\n",
       "    <tr>\n",
       "      <td>0</td>\n",
       "      <td>0.013535</td>\n",
       "      <td>0.018004</td>\n",
       "      <td>00:04</td>\n",
       "    </tr>\n",
       "    <tr>\n",
       "      <td>1</td>\n",
       "      <td>0.012881</td>\n",
       "      <td>0.018054</td>\n",
       "      <td>00:04</td>\n",
       "    </tr>\n",
       "    <tr>\n",
       "      <td>2</td>\n",
       "      <td>0.012354</td>\n",
       "      <td>0.018101</td>\n",
       "      <td>00:05</td>\n",
       "    </tr>\n",
       "    <tr>\n",
       "      <td>3</td>\n",
       "      <td>0.012431</td>\n",
       "      <td>0.018194</td>\n",
       "      <td>00:05</td>\n",
       "    </tr>\n",
       "    <tr>\n",
       "      <td>4</td>\n",
       "      <td>0.012046</td>\n",
       "      <td>0.018179</td>\n",
       "      <td>00:04</td>\n",
       "    </tr>\n",
       "  </tbody>\n",
       "</table>"
      ],
      "text/plain": [
       "<IPython.core.display.HTML object>"
      ]
     },
     "metadata": {},
     "output_type": "display_data"
    },
    {
     "name": "stdout",
     "output_type": "stream",
     "text": [
      "Better model found at epoch 0 with valid_loss value: 0.018003514036536217.\n"
     ]
    },
    {
     "data": {
      "text/html": [
       "<table border=\"1\" class=\"dataframe\">\n",
       "  <thead>\n",
       "    <tr style=\"text-align: left;\">\n",
       "      <th>epoch</th>\n",
       "      <th>train_loss</th>\n",
       "      <th>valid_loss</th>\n",
       "      <th>time</th>\n",
       "    </tr>\n",
       "  </thead>\n",
       "  <tbody>\n",
       "    <tr>\n",
       "      <td>0</td>\n",
       "      <td>0.013255</td>\n",
       "      <td>0.017948</td>\n",
       "      <td>00:05</td>\n",
       "    </tr>\n",
       "    <tr>\n",
       "      <td>1</td>\n",
       "      <td>0.013060</td>\n",
       "      <td>0.017982</td>\n",
       "      <td>00:04</td>\n",
       "    </tr>\n",
       "    <tr>\n",
       "      <td>2</td>\n",
       "      <td>0.013359</td>\n",
       "      <td>0.018007</td>\n",
       "      <td>00:04</td>\n",
       "    </tr>\n",
       "    <tr>\n",
       "      <td>3</td>\n",
       "      <td>0.013003</td>\n",
       "      <td>0.017925</td>\n",
       "      <td>00:04</td>\n",
       "    </tr>\n",
       "    <tr>\n",
       "      <td>4</td>\n",
       "      <td>0.013019</td>\n",
       "      <td>0.017989</td>\n",
       "      <td>00:04</td>\n",
       "    </tr>\n",
       "  </tbody>\n",
       "</table>"
      ],
      "text/plain": [
       "<IPython.core.display.HTML object>"
      ]
     },
     "metadata": {},
     "output_type": "display_data"
    },
    {
     "name": "stdout",
     "output_type": "stream",
     "text": [
      "Better model found at epoch 0 with valid_loss value: 0.017948152497410774.\n",
      "Better model found at epoch 3 with valid_loss value: 0.017925051972270012.\n",
      "9 0.0017\n"
     ]
    },
    {
     "data": {
      "text/html": [
       "<table border=\"1\" class=\"dataframe\">\n",
       "  <thead>\n",
       "    <tr style=\"text-align: left;\">\n",
       "      <th>epoch</th>\n",
       "      <th>train_loss</th>\n",
       "      <th>valid_loss</th>\n",
       "      <th>time</th>\n",
       "    </tr>\n",
       "  </thead>\n",
       "  <tbody>\n",
       "    <tr>\n",
       "      <td>0</td>\n",
       "      <td>0.024941</td>\n",
       "      <td>0.020347</td>\n",
       "      <td>00:05</td>\n",
       "    </tr>\n",
       "    <tr>\n",
       "      <td>1</td>\n",
       "      <td>0.018411</td>\n",
       "      <td>0.019032</td>\n",
       "      <td>00:04</td>\n",
       "    </tr>\n",
       "    <tr>\n",
       "      <td>2</td>\n",
       "      <td>0.016118</td>\n",
       "      <td>0.018684</td>\n",
       "      <td>00:05</td>\n",
       "    </tr>\n",
       "    <tr>\n",
       "      <td>3</td>\n",
       "      <td>0.013879</td>\n",
       "      <td>0.019274</td>\n",
       "      <td>00:04</td>\n",
       "    </tr>\n",
       "    <tr>\n",
       "      <td>4</td>\n",
       "      <td>0.011341</td>\n",
       "      <td>0.020190</td>\n",
       "      <td>00:04</td>\n",
       "    </tr>\n",
       "    <tr>\n",
       "      <td>5</td>\n",
       "      <td>0.008428</td>\n",
       "      <td>0.021354</td>\n",
       "      <td>00:04</td>\n",
       "    </tr>\n",
       "    <tr>\n",
       "      <td>6</td>\n",
       "      <td>0.005957</td>\n",
       "      <td>0.022210</td>\n",
       "      <td>00:05</td>\n",
       "    </tr>\n",
       "    <tr>\n",
       "      <td>7</td>\n",
       "      <td>0.004888</td>\n",
       "      <td>0.022373</td>\n",
       "      <td>00:04</td>\n",
       "    </tr>\n",
       "  </tbody>\n",
       "</table>"
      ],
      "text/plain": [
       "<IPython.core.display.HTML object>"
      ]
     },
     "metadata": {},
     "output_type": "display_data"
    },
    {
     "name": "stdout",
     "output_type": "stream",
     "text": [
      "Better model found at epoch 0 with valid_loss value: 0.020347127690911293.\n",
      "Better model found at epoch 1 with valid_loss value: 0.019032087177038193.\n",
      "Better model found at epoch 2 with valid_loss value: 0.018684353679418564.\n"
     ]
    },
    {
     "data": {
      "text/html": [
       "<table border=\"1\" class=\"dataframe\">\n",
       "  <thead>\n",
       "    <tr style=\"text-align: left;\">\n",
       "      <th>epoch</th>\n",
       "      <th>train_loss</th>\n",
       "      <th>valid_loss</th>\n",
       "      <th>time</th>\n",
       "    </tr>\n",
       "  </thead>\n",
       "  <tbody>\n",
       "    <tr>\n",
       "      <td>0</td>\n",
       "      <td>0.013461</td>\n",
       "      <td>0.018298</td>\n",
       "      <td>00:04</td>\n",
       "    </tr>\n",
       "    <tr>\n",
       "      <td>1</td>\n",
       "      <td>0.012789</td>\n",
       "      <td>0.018236</td>\n",
       "      <td>00:04</td>\n",
       "    </tr>\n",
       "    <tr>\n",
       "      <td>2</td>\n",
       "      <td>0.012626</td>\n",
       "      <td>0.018267</td>\n",
       "      <td>00:04</td>\n",
       "    </tr>\n",
       "    <tr>\n",
       "      <td>3</td>\n",
       "      <td>0.012298</td>\n",
       "      <td>0.018363</td>\n",
       "      <td>00:04</td>\n",
       "    </tr>\n",
       "    <tr>\n",
       "      <td>4</td>\n",
       "      <td>0.012034</td>\n",
       "      <td>0.018330</td>\n",
       "      <td>00:04</td>\n",
       "    </tr>\n",
       "  </tbody>\n",
       "</table>"
      ],
      "text/plain": [
       "<IPython.core.display.HTML object>"
      ]
     },
     "metadata": {},
     "output_type": "display_data"
    },
    {
     "name": "stdout",
     "output_type": "stream",
     "text": [
      "Better model found at epoch 0 with valid_loss value: 0.01829824224114418.\n",
      "Better model found at epoch 1 with valid_loss value: 0.01823611930012703.\n"
     ]
    },
    {
     "data": {
      "text/html": [
       "<table border=\"1\" class=\"dataframe\">\n",
       "  <thead>\n",
       "    <tr style=\"text-align: left;\">\n",
       "      <th>epoch</th>\n",
       "      <th>train_loss</th>\n",
       "      <th>valid_loss</th>\n",
       "      <th>time</th>\n",
       "    </tr>\n",
       "  </thead>\n",
       "  <tbody>\n",
       "    <tr>\n",
       "      <td>0</td>\n",
       "      <td>0.012668</td>\n",
       "      <td>0.018216</td>\n",
       "      <td>00:05</td>\n",
       "    </tr>\n",
       "    <tr>\n",
       "      <td>1</td>\n",
       "      <td>0.012524</td>\n",
       "      <td>0.018244</td>\n",
       "      <td>00:05</td>\n",
       "    </tr>\n",
       "    <tr>\n",
       "      <td>2</td>\n",
       "      <td>0.012300</td>\n",
       "      <td>0.018251</td>\n",
       "      <td>00:05</td>\n",
       "    </tr>\n",
       "    <tr>\n",
       "      <td>3</td>\n",
       "      <td>0.012274</td>\n",
       "      <td>0.018253</td>\n",
       "      <td>00:04</td>\n",
       "    </tr>\n",
       "    <tr>\n",
       "      <td>4</td>\n",
       "      <td>0.012539</td>\n",
       "      <td>0.018236</td>\n",
       "      <td>00:04</td>\n",
       "    </tr>\n",
       "  </tbody>\n",
       "</table>"
      ],
      "text/plain": [
       "<IPython.core.display.HTML object>"
      ]
     },
     "metadata": {},
     "output_type": "display_data"
    },
    {
     "name": "stdout",
     "output_type": "stream",
     "text": [
      "Better model found at epoch 0 with valid_loss value: 0.018216298893094063.\n"
     ]
    },
    {
     "data": {
      "text/plain": [
       "[0.017534324899315834,\n",
       " 0.018370868638157845,\n",
       " 0.017539193853735924,\n",
       " 0.018141502514481544,\n",
       " 0.018539413809776306,\n",
       " 0.016906755045056343,\n",
       " 0.017181234434247017,\n",
       " 0.017905620858073235,\n",
       " 0.017925051972270012,\n",
       " 0.018216298893094063]"
      ]
     },
     "execution_count": 23,
     "metadata": {},
     "output_type": "execute_result"
    },
    {
     "data": {
      "image/png": "[encoded data removed]",
      "text/plain": [
       "<Figure size 432x288 with 1 Axes>"
      ]
     },
     "metadata": {
      "needs_background": "light"
     },
     "output_type": "display_data"
    }
   ],
   "source": [
    "torch.cuda.empty_cache() \n",
    "best_valid = []\n",
    "lr = None\n",
    "\n",
    "for i in range(FOLDS):\n",
    "    print(i, lr)\n",
    "    dls = get_data(i) # Data\n",
    "    #len(dls.train),len(dls.valid)\n",
    "    #dls.show(5)\n",
    "    \n",
    "    #setup learner\n",
    "    learn = tabular_learner(dls, layers=[512,512], loss_func=BCEWithLogitsLossFlat(), model_dir='/kaggle/working/')\n",
    "\n",
    "    if i==0:       \n",
    "        #set learning rate once\n",
    "        lr1, lr2 = learn.lr_find()\n",
    "        lr = round(lr2, 4)\n",
    "        print(lr)\n",
    "\n",
    "    name = 'best_model_' + str(i) \n",
    "    cb = SaveModelCallback(monitor='valid_loss',fname=name ,mode='min') # Callbacks\n",
    "\n",
    "    #train\n",
    "    learn.fit_one_cycle(8, slice(lr), cbs=cb)\n",
    "    #load best model\n",
    "    learn.load(name) \n",
    "\n",
    "    cb1 = SaveModelCallback(monitor='valid_loss',fname=name ,mode='min') # Callbacks\n",
    "    learn.unfreeze()\n",
    "    learn.fit_one_cycle(5,slice(1e-4),wd=0.2,cbs=cb1)\n",
    "    #load best model\n",
    "    learn.load(name) \n",
    "\n",
    "    cb2 = SaveModelCallback(monitor='valid_loss',fname=name ,mode='min') # Callbacks\n",
    "    learn.unfreeze()\n",
    "    learn.fit_one_cycle(5, slice(1e-5),wd=0.25,cbs=cb2)\n",
    "    #load best model\n",
    "    learn.load(name)\n",
    "\n",
    "    losses = np.array(learn.recorder.values)\n",
    "    best = np.argmin(losses[:,1])\n",
    "    best_valid.append(losses[best,1])\n",
    "\n",
    "    #export model\n",
    "    learn.export('/kaggle/working/'+name+'.pkl') \n",
    "    \n",
    "best_valid\n",
    "    "
   ]
  },
  {
   "cell_type": "code",
   "execution_count": 24,
   "metadata": {
    "execution": {
     "iopub.execute_input": "2020-11-30T03:41:46.110967Z",
     "iopub.status.busy": "2020-11-30T03:41:46.110129Z",
     "iopub.status.idle": "2020-11-30T03:41:46.113684Z",
     "shell.execute_reply": "2020-11-30T03:41:46.114107Z"
    },
    "papermill": {
     "duration": 0.100063,
     "end_time": "2020-11-30T03:41:46.114238",
     "exception": false,
     "start_time": "2020-11-30T03:41:46.014175",
     "status": "completed"
    },
    "tags": []
   },
   "outputs": [
    {
     "data": {
      "text/plain": [
       "[0.017534324899315834,\n",
       " 0.018370868638157845,\n",
       " 0.017539193853735924,\n",
       " 0.018141502514481544,\n",
       " 0.018539413809776306,\n",
       " 0.016906755045056343,\n",
       " 0.017181234434247017,\n",
       " 0.017905620858073235,\n",
       " 0.017925051972270012,\n",
       " 0.018216298893094063]"
      ]
     },
     "execution_count": 24,
     "metadata": {},
     "output_type": "execute_result"
    }
   ],
   "source": [
    "best_valid"
   ]
  },
  {
   "cell_type": "markdown",
   "metadata": {
    "papermill": {
     "duration": 0.093855,
     "end_time": "2020-11-30T03:41:46.297953",
     "exception": false,
     "start_time": "2020-11-30T03:41:46.204098",
     "status": "completed"
    },
    "tags": []
   },
   "source": [
    "## 3. Predict"
   ]
  },
  {
   "cell_type": "code",
   "execution_count": 25,
   "metadata": {
    "execution": {
     "iopub.execute_input": "2020-11-30T03:41:46.488834Z",
     "iopub.status.busy": "2020-11-30T03:41:46.487094Z",
     "iopub.status.idle": "2020-11-30T03:41:46.489500Z",
     "shell.execute_reply": "2020-11-30T03:41:46.489983Z"
    },
    "papermill": {
     "duration": 0.099581,
     "end_time": "2020-11-30T03:41:46.490102",
     "exception": false,
     "start_time": "2020-11-30T03:41:46.390521",
     "status": "completed"
    },
    "tags": []
   },
   "outputs": [],
   "source": [
    "modelspath = Path(\"/kaggle/working/\")"
   ]
  },
  {
   "cell_type": "code",
   "execution_count": 26,
   "metadata": {
    "execution": {
     "iopub.execute_input": "2020-11-30T03:41:46.689549Z",
     "iopub.status.busy": "2020-11-30T03:41:46.685784Z",
     "iopub.status.idle": "2020-11-30T03:42:13.380571Z",
     "shell.execute_reply": "2020-11-30T03:42:13.380028Z"
    },
    "papermill": {
     "duration": 26.796773,
     "end_time": "2020-11-30T03:42:13.380677",
     "exception": false,
     "start_time": "2020-11-30T03:41:46.583904",
     "status": "completed"
    },
    "tags": []
   },
   "outputs": [
    {
     "data": {
      "text/html": [],
      "text/plain": [
       "<IPython.core.display.HTML object>"
      ]
     },
     "metadata": {},
     "output_type": "display_data"
    },
    {
     "data": {
      "text/html": [],
      "text/plain": [
       "<IPython.core.display.HTML object>"
      ]
     },
     "metadata": {},
     "output_type": "display_data"
    },
    {
     "data": {
      "text/html": [],
      "text/plain": [
       "<IPython.core.display.HTML object>"
      ]
     },
     "metadata": {},
     "output_type": "display_data"
    },
    {
     "data": {
      "text/html": [],
      "text/plain": [
       "<IPython.core.display.HTML object>"
      ]
     },
     "metadata": {},
     "output_type": "display_data"
    },
    {
     "data": {
      "text/html": [],
      "text/plain": [
       "<IPython.core.display.HTML object>"
      ]
     },
     "metadata": {},
     "output_type": "display_data"
    },
    {
     "data": {
      "text/html": [],
      "text/plain": [
       "<IPython.core.display.HTML object>"
      ]
     },
     "metadata": {},
     "output_type": "display_data"
    },
    {
     "data": {
      "text/html": [],
      "text/plain": [
       "<IPython.core.display.HTML object>"
      ]
     },
     "metadata": {},
     "output_type": "display_data"
    },
    {
     "data": {
      "text/html": [],
      "text/plain": [
       "<IPython.core.display.HTML object>"
      ]
     },
     "metadata": {},
     "output_type": "display_data"
    },
    {
     "data": {
      "text/html": [],
      "text/plain": [
       "<IPython.core.display.HTML object>"
      ]
     },
     "metadata": {},
     "output_type": "display_data"
    },
    {
     "data": {
      "text/html": [],
      "text/plain": [
       "<IPython.core.display.HTML object>"
      ]
     },
     "metadata": {},
     "output_type": "display_data"
    }
   ],
   "source": [
    "fold_preds = []\n",
    "for i in range(FOLDS):\n",
    "    learner = load_learner(modelspath/f'best_model_{i}.pkl')\n",
    "    test_dl = learner.dls.test_dl(test_features)\n",
    "    preds, _ = learner.get_preds(dl=test_dl)\n",
    "    fold_preds += [preds]\n",
    "preds = torch.stack(fold_preds)\n"
   ]
  },
  {
   "cell_type": "code",
   "execution_count": 27,
   "metadata": {
    "execution": {
     "iopub.execute_input": "2020-11-30T03:42:13.574325Z",
     "iopub.status.busy": "2020-11-30T03:42:13.573643Z",
     "iopub.status.idle": "2020-11-30T03:42:13.597389Z",
     "shell.execute_reply": "2020-11-30T03:42:13.596487Z"
    },
    "papermill": {
     "duration": 0.122962,
     "end_time": "2020-11-30T03:42:13.597509",
     "exception": false,
     "start_time": "2020-11-30T03:42:13.474547",
     "status": "completed"
    },
    "tags": []
   },
   "outputs": [
    {
     "data": {
      "text/plain": [
       "tensor([3.6244e-04, 6.8095e-04, 1.2182e-03, 1.6521e-02, 1.9650e-02, 2.2652e-03,\n",
       "        1.4321e-03, 4.0662e-03, 8.0712e-05, 8.3329e-03, 1.4453e-02, 3.8799e-04,\n",
       "        7.7596e-05, 1.1128e-04, 3.9676e-04, 2.6449e-04, 1.3484e-03, 4.1596e-03,\n",
       "        1.0762e-02, 1.8166e-03, 2.5338e-03, 2.5172e-03, 1.1096e-04, 9.3104e-04,\n",
       "        2.9306e-04, 1.5872e-04, 6.8266e-04, 2.1339e-04, 3.9424e-03, 1.3507e-03,\n",
       "        7.5052e-04, 2.7312e-03, 2.7660e-03, 5.7649e-05, 6.6072e-05, 4.1530e-05,\n",
       "        2.4656e-03, 1.0634e-04, 7.2509e-04, 1.5770e-04, 2.6122e-03, 5.6623e-03,\n",
       "        6.9294e-04, 6.3215e-03, 6.5414e-03, 9.7735e-03, 4.2167e-05, 2.2983e-03,\n",
       "        4.0340e-04, 2.0809e-03, 9.2073e-04, 1.9105e-03, 1.5888e-04, 2.3736e-04,\n",
       "        1.4076e-02, 9.1516e-04, 1.1752e-03, 1.2812e-03, 6.7305e-04, 1.3272e-03,\n",
       "        5.8271e-04, 6.9345e-03, 6.0564e-04, 3.1091e-04, 1.8042e-03, 3.6165e-05,\n",
       "        1.2804e-03, 3.8254e-03, 2.5293e-03, 1.5776e-04, 3.1191e-04, 4.6281e-02,\n",
       "        2.8532e-03, 4.3715e-04, 1.2159e-03, 2.5781e-04, 3.0370e-03, 1.3830e-02,\n",
       "        4.7602e-03, 2.0191e-02, 3.9284e-05, 4.8031e-04, 3.4214e-05, 1.5390e-02,\n",
       "        1.1864e-03, 2.8120e-03, 1.3365e-04, 8.7950e-04, 9.4351e-05, 2.6009e-04,\n",
       "        7.2238e-05, 9.8096e-04, 5.7442e-04, 1.6453e-02, 1.7158e-02, 3.6884e-04,\n",
       "        3.3577e-04, 7.7674e-04, 6.1250e-03, 2.5894e-02, 1.1934e-03, 1.6700e-04,\n",
       "        3.3857e-03, 7.7443e-04, 5.1129e-03, 1.5159e-02, 1.4741e-04, 2.9217e-04,\n",
       "        3.5677e-03, 2.4713e-03, 4.4532e-04, 5.2392e-04, 5.0593e-04, 3.8403e-03,\n",
       "        1.2262e-03, 9.6353e-04, 2.7158e-04, 1.7507e-03, 1.2977e-03, 1.3163e-04,\n",
       "        1.9147e-04, 2.8152e-04, 2.7477e-03, 6.3768e-04, 2.0262e-03, 3.3773e-04,\n",
       "        1.1105e-04, 1.4293e-04, 9.1090e-03, 9.1895e-04, 1.1647e-03, 4.1344e-03,\n",
       "        1.1065e-04, 6.7469e-04, 3.5282e-03, 3.0617e-04, 7.4256e-03, 4.6122e-04,\n",
       "        5.8952e-04, 1.3087e-04, 4.6102e-04, 2.0116e-04, 2.0489e-04, 1.9975e-03,\n",
       "        4.8587e-03, 1.3749e-03, 6.1989e-05, 4.8719e-04, 1.4017e-03, 1.0516e-04,\n",
       "        9.0504e-04, 1.0171e-02, 1.5101e-03, 1.0964e-03, 3.2697e-04, 1.7216e-03,\n",
       "        7.1606e-03, 1.0226e-03, 9.2194e-04, 1.2215e-02, 4.9391e-04, 2.4736e-03,\n",
       "        8.3099e-03, 4.6032e-05, 2.6291e-03, 9.3507e-05, 2.8534e-03, 1.9118e-04,\n",
       "        5.1667e-03, 1.9064e-04, 5.4804e-04, 4.3307e-03, 1.5357e-04, 3.9965e-04,\n",
       "        2.2438e-04, 2.5019e-03, 1.1997e-02, 9.1589e-03, 3.5410e-03, 3.1607e-03,\n",
       "        7.1398e-04, 7.5535e-04, 2.7037e-02, 3.1324e-03, 2.9468e-04, 1.9457e-04,\n",
       "        1.3337e-04, 1.2136e-03, 2.6486e-05, 5.1669e-04, 5.7427e-04, 9.2563e-04,\n",
       "        3.1930e-04, 1.5656e-03, 4.7481e-04, 5.0608e-04, 3.4344e-04, 1.1543e-03,\n",
       "        2.2940e-03, 1.6641e-03, 2.4919e-04, 2.3251e-04, 3.0599e-04, 1.4342e-03,\n",
       "        4.6393e-03, 1.0978e-03])"
      ]
     },
     "execution_count": 27,
     "metadata": {},
     "output_type": "execute_result"
    }
   ],
   "source": [
    "mean_preds = preds.mean(0)\n",
    "mean_preds[0]"
   ]
  },
  {
   "cell_type": "code",
   "execution_count": 28,
   "metadata": {
    "execution": {
     "iopub.execute_input": "2020-11-30T03:42:13.794367Z",
     "iopub.status.busy": "2020-11-30T03:42:13.793498Z",
     "iopub.status.idle": "2020-11-30T03:42:14.137073Z",
     "shell.execute_reply": "2020-11-30T03:42:14.136559Z"
    },
    "papermill": {
     "duration": 0.444327,
     "end_time": "2020-11-30T03:42:14.137195",
     "exception": false,
     "start_time": "2020-11-30T03:42:13.692868",
     "status": "completed"
    },
    "tags": []
   },
   "outputs": [],
   "source": [
    "submission = sub.copy()\n",
    "submission[dep_var] = mean_preds\n",
    "submission.loc[test_features['cp_type']=='ctl_vehicle', dep_var] = 0\n",
    "submission['atp-sensitive_potassium_channel_antagonist'] = 0 # only appears once\n",
    "submission['erbb2_inhibitor'] = 0 # only appears once"
   ]
  },
  {
   "cell_type": "code",
   "execution_count": 29,
   "metadata": {
    "execution": {
     "iopub.execute_input": "2020-11-30T03:42:14.365002Z",
     "iopub.status.busy": "2020-11-30T03:42:14.363934Z",
     "iopub.status.idle": "2020-11-30T03:42:14.399730Z",
     "shell.execute_reply": "2020-11-30T03:42:14.400494Z"
    },
    "papermill": {
     "duration": 0.168228,
     "end_time": "2020-11-30T03:42:14.400677",
     "exception": false,
     "start_time": "2020-11-30T03:42:14.232449",
     "status": "completed"
    },
    "tags": []
   },
   "outputs": [
    {
     "data": {
      "text/html": [
       "<div>\n",
       "<style scoped>\n",
       "    .dataframe tbody tr th:only-of-type {\n",
       "        vertical-align: middle;\n",
       "    }\n",
       "\n",
       "    .dataframe tbody tr th {\n",
       "        vertical-align: top;\n",
       "    }\n",
       "\n",
       "    .dataframe thead th {\n",
       "        text-align: right;\n",
       "    }\n",
       "</style>\n",
       "<table border=\"1\" class=\"dataframe\">\n",
       "  <thead>\n",
       "    <tr style=\"text-align: right;\">\n",
       "      <th></th>\n",
       "      <th>sig_id</th>\n",
       "      <th>5-alpha_reductase_inhibitor</th>\n",
       "      <th>11-beta-hsd1_inhibitor</th>\n",
       "      <th>acat_inhibitor</th>\n",
       "      <th>acetylcholine_receptor_agonist</th>\n",
       "      <th>acetylcholine_receptor_antagonist</th>\n",
       "      <th>acetylcholinesterase_inhibitor</th>\n",
       "      <th>adenosine_receptor_agonist</th>\n",
       "      <th>adenosine_receptor_antagonist</th>\n",
       "      <th>adenylyl_cyclase_activator</th>\n",
       "      <th>...</th>\n",
       "      <th>tropomyosin_receptor_kinase_inhibitor</th>\n",
       "      <th>trpv_agonist</th>\n",
       "      <th>trpv_antagonist</th>\n",
       "      <th>tubulin_inhibitor</th>\n",
       "      <th>tyrosine_kinase_inhibitor</th>\n",
       "      <th>ubiquitin_specific_protease_inhibitor</th>\n",
       "      <th>vegfr_inhibitor</th>\n",
       "      <th>vitamin_b</th>\n",
       "      <th>vitamin_d_receptor_agonist</th>\n",
       "      <th>wnt_inhibitor</th>\n",
       "    </tr>\n",
       "  </thead>\n",
       "  <tbody>\n",
       "    <tr>\n",
       "      <th>0</th>\n",
       "      <td>id_0004d9e33</td>\n",
       "      <td>0.000362</td>\n",
       "      <td>0.000681</td>\n",
       "      <td>0.001218</td>\n",
       "      <td>0.016521</td>\n",
       "      <td>0.019650</td>\n",
       "      <td>0.002265</td>\n",
       "      <td>0.001432</td>\n",
       "      <td>0.004066</td>\n",
       "      <td>0.000081</td>\n",
       "      <td>...</td>\n",
       "      <td>0.000343</td>\n",
       "      <td>0.001154</td>\n",
       "      <td>0.002294</td>\n",
       "      <td>0.001664</td>\n",
       "      <td>0.000249</td>\n",
       "      <td>0.000233</td>\n",
       "      <td>0.000306</td>\n",
       "      <td>0.001434</td>\n",
       "      <td>0.004639</td>\n",
       "      <td>0.001098</td>\n",
       "    </tr>\n",
       "    <tr>\n",
       "      <th>1</th>\n",
       "      <td>id_001897cda</td>\n",
       "      <td>0.000049</td>\n",
       "      <td>0.000387</td>\n",
       "      <td>0.001081</td>\n",
       "      <td>0.001312</td>\n",
       "      <td>0.001368</td>\n",
       "      <td>0.002512</td>\n",
       "      <td>0.001384</td>\n",
       "      <td>0.018444</td>\n",
       "      <td>0.009427</td>\n",
       "      <td>...</td>\n",
       "      <td>0.000162</td>\n",
       "      <td>0.000808</td>\n",
       "      <td>0.001596</td>\n",
       "      <td>0.000127</td>\n",
       "      <td>0.021093</td>\n",
       "      <td>0.000201</td>\n",
       "      <td>0.008312</td>\n",
       "      <td>0.000299</td>\n",
       "      <td>0.003610</td>\n",
       "      <td>0.002035</td>\n",
       "    </tr>\n",
       "    <tr>\n",
       "      <th>2</th>\n",
       "      <td>id_002429b5b</td>\n",
       "      <td>0.000000</td>\n",
       "      <td>0.000000</td>\n",
       "      <td>0.000000</td>\n",
       "      <td>0.000000</td>\n",
       "      <td>0.000000</td>\n",
       "      <td>0.000000</td>\n",
       "      <td>0.000000</td>\n",
       "      <td>0.000000</td>\n",
       "      <td>0.000000</td>\n",
       "      <td>...</td>\n",
       "      <td>0.000000</td>\n",
       "      <td>0.000000</td>\n",
       "      <td>0.000000</td>\n",
       "      <td>0.000000</td>\n",
       "      <td>0.000000</td>\n",
       "      <td>0.000000</td>\n",
       "      <td>0.000000</td>\n",
       "      <td>0.000000</td>\n",
       "      <td>0.000000</td>\n",
       "      <td>0.000000</td>\n",
       "    </tr>\n",
       "    <tr>\n",
       "      <th>3</th>\n",
       "      <td>id_00276f245</td>\n",
       "      <td>0.000064</td>\n",
       "      <td>0.000188</td>\n",
       "      <td>0.002171</td>\n",
       "      <td>0.013520</td>\n",
       "      <td>0.005562</td>\n",
       "      <td>0.003337</td>\n",
       "      <td>0.001148</td>\n",
       "      <td>0.003926</td>\n",
       "      <td>0.000223</td>\n",
       "      <td>...</td>\n",
       "      <td>0.000312</td>\n",
       "      <td>0.000509</td>\n",
       "      <td>0.003432</td>\n",
       "      <td>0.018181</td>\n",
       "      <td>0.007869</td>\n",
       "      <td>0.000121</td>\n",
       "      <td>0.001121</td>\n",
       "      <td>0.001245</td>\n",
       "      <td>0.001934</td>\n",
       "      <td>0.003478</td>\n",
       "    </tr>\n",
       "    <tr>\n",
       "      <th>4</th>\n",
       "      <td>id_0027f1083</td>\n",
       "      <td>0.001634</td>\n",
       "      <td>0.001084</td>\n",
       "      <td>0.001487</td>\n",
       "      <td>0.018597</td>\n",
       "      <td>0.021649</td>\n",
       "      <td>0.003044</td>\n",
       "      <td>0.008049</td>\n",
       "      <td>0.002655</td>\n",
       "      <td>0.000258</td>\n",
       "      <td>...</td>\n",
       "      <td>0.000521</td>\n",
       "      <td>0.000717</td>\n",
       "      <td>0.006782</td>\n",
       "      <td>0.003525</td>\n",
       "      <td>0.001085</td>\n",
       "      <td>0.000587</td>\n",
       "      <td>0.001360</td>\n",
       "      <td>0.002210</td>\n",
       "      <td>0.000376</td>\n",
       "      <td>0.001592</td>\n",
       "    </tr>\n",
       "  </tbody>\n",
       "</table>\n",
       "<p>5 rows × 207 columns</p>\n",
       "</div>"
      ],
      "text/plain": [
       "         sig_id  5-alpha_reductase_inhibitor  11-beta-hsd1_inhibitor  \\\n",
       "0  id_0004d9e33                     0.000362                0.000681   \n",
       "1  id_001897cda                     0.000049                0.000387   \n",
       "2  id_002429b5b                     0.000000                0.000000   \n",
       "3  id_00276f245                     0.000064                0.000188   \n",
       "4  id_0027f1083                     0.001634                0.001084   \n",
       "\n",
       "   acat_inhibitor  acetylcholine_receptor_agonist  \\\n",
       "0        0.001218                        0.016521   \n",
       "1        0.001081                        0.001312   \n",
       "2        0.000000                        0.000000   \n",
       "3        0.002171                        0.013520   \n",
       "4        0.001487                        0.018597   \n",
       "\n",
       "   acetylcholine_receptor_antagonist  acetylcholinesterase_inhibitor  \\\n",
       "0                           0.019650                        0.002265   \n",
       "1                           0.001368                        0.002512   \n",
       "2                           0.000000                        0.000000   \n",
       "3                           0.005562                        0.003337   \n",
       "4                           0.021649                        0.003044   \n",
       "\n",
       "   adenosine_receptor_agonist  adenosine_receptor_antagonist  \\\n",
       "0                    0.001432                       0.004066   \n",
       "1                    0.001384                       0.018444   \n",
       "2                    0.000000                       0.000000   \n",
       "3                    0.001148                       0.003926   \n",
       "4                    0.008049                       0.002655   \n",
       "\n",
       "   adenylyl_cyclase_activator  ...  tropomyosin_receptor_kinase_inhibitor  \\\n",
       "0                    0.000081  ...                               0.000343   \n",
       "1                    0.009427  ...                               0.000162   \n",
       "2                    0.000000  ...                               0.000000   \n",
       "3                    0.000223  ...                               0.000312   \n",
       "4                    0.000258  ...                               0.000521   \n",
       "\n",
       "   trpv_agonist  trpv_antagonist  tubulin_inhibitor  \\\n",
       "0      0.001154         0.002294           0.001664   \n",
       "1      0.000808         0.001596           0.000127   \n",
       "2      0.000000         0.000000           0.000000   \n",
       "3      0.000509         0.003432           0.018181   \n",
       "4      0.000717         0.006782           0.003525   \n",
       "\n",
       "   tyrosine_kinase_inhibitor  ubiquitin_specific_protease_inhibitor  \\\n",
       "0                   0.000249                               0.000233   \n",
       "1                   0.021093                               0.000201   \n",
       "2                   0.000000                               0.000000   \n",
       "3                   0.007869                               0.000121   \n",
       "4                   0.001085                               0.000587   \n",
       "\n",
       "   vegfr_inhibitor  vitamin_b  vitamin_d_receptor_agonist  wnt_inhibitor  \n",
       "0         0.000306   0.001434                    0.004639       0.001098  \n",
       "1         0.008312   0.000299                    0.003610       0.002035  \n",
       "2         0.000000   0.000000                    0.000000       0.000000  \n",
       "3         0.001121   0.001245                    0.001934       0.003478  \n",
       "4         0.001360   0.002210                    0.000376       0.001592  \n",
       "\n",
       "[5 rows x 207 columns]"
      ]
     },
     "execution_count": 29,
     "metadata": {},
     "output_type": "execute_result"
    }
   ],
   "source": [
    "submission.head()"
   ]
  },
  {
   "cell_type": "code",
   "execution_count": 30,
   "metadata": {
    "execution": {
     "iopub.execute_input": "2020-11-30T03:42:14.746626Z",
     "iopub.status.busy": "2020-11-30T03:42:14.744205Z",
     "iopub.status.idle": "2020-11-30T03:42:17.056548Z",
     "shell.execute_reply": "2020-11-30T03:42:17.055736Z"
    },
    "papermill": {
     "duration": 2.492526,
     "end_time": "2020-11-30T03:42:17.056662",
     "exception": false,
     "start_time": "2020-11-30T03:42:14.564136",
     "status": "completed"
    },
    "tags": []
   },
   "outputs": [],
   "source": [
    "submission.to_csv('submission.csv', index=False)"
   ]
  },
  {
   "cell_type": "code",
   "execution_count": 31,
   "metadata": {
    "execution": {
     "iopub.execute_input": "2020-11-30T03:42:17.259271Z",
     "iopub.status.busy": "2020-11-30T03:42:17.258637Z",
     "iopub.status.idle": "2020-11-30T03:42:17.263587Z",
     "shell.execute_reply": "2020-11-30T03:42:17.264021Z"
    },
    "papermill": {
     "duration": 0.103653,
     "end_time": "2020-11-30T03:42:17.264142",
     "exception": false,
     "start_time": "2020-11-30T03:42:17.160489",
     "status": "completed"
    },
    "tags": []
   },
   "outputs": [
    {
     "data": {
      "text/plain": [
       "' $xtra manual train/valid split\\nwas manually split, replaced with k-fold\\n#temp split manually\\n#define train vs valid split\\nn_train = int(train_features.shape[0] *.8)\\n\\nsplit_idx = np.random.RandomState(seed=24).permutation(train_features.shape[0])\\ntrain_idx, valid_idx = split_idx[:n_train], split_idx[n_train:]\\nsplits = (list(train_idx), list(valid_idx))\\n\\n#preview\\nlen(splits[0]), len(splits[1])\\n\\n'"
      ]
     },
     "execution_count": 31,
     "metadata": {},
     "output_type": "execute_result"
    }
   ],
   "source": [
    "''' $xtra manual train/valid split\n",
    "was manually split, replaced with k-fold\n",
    "#temp split manually\n",
    "#define train vs valid split\n",
    "n_train = int(train_features.shape[0] *.8)\n",
    "\n",
    "split_idx = np.random.RandomState(seed=24).permutation(train_features.shape[0])\n",
    "train_idx, valid_idx = split_idx[:n_train], split_idx[n_train:]\n",
    "splits = (list(train_idx), list(valid_idx))\n",
    "\n",
    "#preview\n",
    "len(splits[0]), len(splits[1])\n",
    "\n",
    "'''"
   ]
  }
 ],
 "metadata": {
  "kernelspec": {
   "display_name": "Python 3",
   "language": "python",
   "name": "python3"
  },
  "language_info": {
   "codemirror_mode": {
    "name": "ipython",
    "version": 3
   },
   "file_extension": ".py",
   "mimetype": "text/x-python",
   "name": "python",
   "nbconvert_exporter": "python",
   "pygments_lexer": "ipython3",
   "version": "3.7.6"
  },
  "papermill": {
   "duration": 1069.419067,
   "end_time": "2020-11-30T03:42:18.576856",
   "environment_variables": {},
   "exception": null,
   "input_path": "__notebook__.ipynb",
   "output_path": "__notebook__.ipynb",
   "parameters": {},
   "start_time": "2020-11-30T03:24:29.157789",
   "version": "2.1.0"
  }
 },
 "nbformat": 4,
 "nbformat_minor": 4
}
