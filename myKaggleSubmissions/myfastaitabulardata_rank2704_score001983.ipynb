{
 "cells": [
  {
   "cell_type": "code",
   "execution_count": 1,
   "metadata": {
    "execution": {
     "iopub.execute_input": "2020-11-13T09:26:28.823881Z",
     "iopub.status.busy": "2020-11-13T09:26:28.822961Z",
     "iopub.status.idle": "2020-11-13T09:26:28.826051Z",
     "shell.execute_reply": "2020-11-13T09:26:28.825206Z"
    },
    "papermill": {
     "duration": 0.035939,
     "end_time": "2020-11-13T09:26:28.826189",
     "exception": false,
     "start_time": "2020-11-13T09:26:28.790250",
     "status": "completed"
    },
    "tags": []
   },
   "outputs": [],
   "source": [
    "#meta 11/12/2020 Moa from scratch\n",
    "\n",
    "#here Load Data\n",
    "#copy notebook Fastai Tabular Data\n",
    "#not competing, still learning my way around Kaggle"
   ]
  },
  {
   "cell_type": "code",
   "execution_count": 2,
   "metadata": {
    "execution": {
     "iopub.execute_input": "2020-11-13T09:26:28.890006Z",
     "iopub.status.busy": "2020-11-13T09:26:28.889166Z",
     "iopub.status.idle": "2020-11-13T09:26:31.361391Z",
     "shell.execute_reply": "2020-11-13T09:26:31.360726Z"
    },
    "papermill": {
     "duration": 2.505353,
     "end_time": "2020-11-13T09:26:31.361553",
     "exception": false,
     "start_time": "2020-11-13T09:26:28.856200",
     "status": "completed"
    },
    "tags": []
   },
   "outputs": [],
   "source": [
    "from fastai.tabular.data import *\n",
    "#from fastai.tabular import *"
   ]
  },
  {
   "cell_type": "code",
   "execution_count": 3,
   "metadata": {
    "_cell_guid": "b1076dfc-b9ad-4769-8c92-a6c4dae69d19",
    "_uuid": "8f2839f25d086af736a60e9eeb907d3b93b6e0e5",
    "execution": {
     "iopub.execute_input": "2020-11-13T09:26:31.423730Z",
     "iopub.status.busy": "2020-11-13T09:26:31.422547Z",
     "iopub.status.idle": "2020-11-13T09:26:31.428291Z",
     "shell.execute_reply": "2020-11-13T09:26:31.427516Z"
    },
    "papermill": {
     "duration": 0.039915,
     "end_time": "2020-11-13T09:26:31.428442",
     "exception": false,
     "start_time": "2020-11-13T09:26:31.388527",
     "status": "completed"
    },
    "tags": []
   },
   "outputs": [
    {
     "name": "stdout",
     "output_type": "stream",
     "text": [
      "/kaggle/input/lish-moa/test_features.csv\n",
      "/kaggle/input/lish-moa/train_drug.csv\n",
      "/kaggle/input/lish-moa/train_features.csv\n",
      "/kaggle/input/lish-moa/train_targets_scored.csv\n",
      "/kaggle/input/lish-moa/train_targets_nonscored.csv\n",
      "/kaggle/input/lish-moa/sample_submission.csv\n"
     ]
    }
   ],
   "source": [
    "# This Python 3 environment comes with many helpful analytics libraries installed\n",
    "# It is defined by the kaggle/python Docker image: https://github.com/kaggle/docker-python\n",
    "# For example, here's several helpful packages to load\n",
    "\n",
    "import numpy as np # linear algebra\n",
    "import pandas as pd # data processing, CSV file I/O (e.g. pd.read_csv)\n",
    "\n",
    "# Input data files are available in the read-only \"../input/\" directory\n",
    "# For example, running this (by clicking run or pressing Shift+Enter) will list all files under the input directory\n",
    "\n",
    "import os\n",
    "for dirname, _, filenames in os.walk('/kaggle/input'):\n",
    "    for filename in filenames:\n",
    "        print(os.path.join(dirname, filename))\n",
    "\n",
    "# You can write up to 5GB to the current directory (/kaggle/working/) that gets preserved as output when you create a version using \"Save & Run All\" \n",
    "# You can also write temporary files to /kaggle/temp/, but they won't be saved outside of the current session"
   ]
  },
  {
   "cell_type": "markdown",
   "metadata": {
    "papermill": {
     "duration": 0.028063,
     "end_time": "2020-11-13T09:26:31.483815",
     "exception": false,
     "start_time": "2020-11-13T09:26:31.455752",
     "status": "completed"
    },
    "tags": []
   },
   "source": [
    "## 0. Load Data"
   ]
  },
  {
   "cell_type": "code",
   "execution_count": 4,
   "metadata": {
    "execution": {
     "iopub.execute_input": "2020-11-13T09:26:31.545442Z",
     "iopub.status.busy": "2020-11-13T09:26:31.544505Z",
     "iopub.status.idle": "2020-11-13T09:26:31.549239Z",
     "shell.execute_reply": "2020-11-13T09:26:31.548297Z"
    },
    "papermill": {
     "duration": 0.038574,
     "end_time": "2020-11-13T09:26:31.549383",
     "exception": false,
     "start_time": "2020-11-13T09:26:31.510809",
     "status": "completed"
    },
    "tags": []
   },
   "outputs": [],
   "source": [
    "data_path = \"/kaggle/input/lish-moa/\""
   ]
  },
  {
   "cell_type": "code",
   "execution_count": 5,
   "metadata": {
    "_cell_guid": "79c7e3d0-c299-4dcb-8224-4455121ee9b0",
    "_uuid": "d629ff2d2480ee46fbb7e2d37f6b5fab8052498a",
    "execution": {
     "iopub.execute_input": "2020-11-13T09:26:31.614184Z",
     "iopub.status.busy": "2020-11-13T09:26:31.613334Z",
     "iopub.status.idle": "2020-11-13T09:26:31.667328Z",
     "shell.execute_reply": "2020-11-13T09:26:31.668162Z"
    },
    "papermill": {
     "duration": 0.091393,
     "end_time": "2020-11-13T09:26:31.668331",
     "exception": false,
     "start_time": "2020-11-13T09:26:31.576938",
     "status": "completed"
    },
    "tags": []
   },
   "outputs": [
    {
     "data": {
      "text/html": [
       "<div>\n",
       "<style scoped>\n",
       "    .dataframe tbody tr th:only-of-type {\n",
       "        vertical-align: middle;\n",
       "    }\n",
       "\n",
       "    .dataframe tbody tr th {\n",
       "        vertical-align: top;\n",
       "    }\n",
       "\n",
       "    .dataframe thead th {\n",
       "        text-align: right;\n",
       "    }\n",
       "</style>\n",
       "<table border=\"1\" class=\"dataframe\">\n",
       "  <thead>\n",
       "    <tr style=\"text-align: right;\">\n",
       "      <th></th>\n",
       "      <th>sig_id</th>\n",
       "      <th>drug_id</th>\n",
       "    </tr>\n",
       "  </thead>\n",
       "  <tbody>\n",
       "    <tr>\n",
       "      <th>0</th>\n",
       "      <td>id_000644bb2</td>\n",
       "      <td>b68db1d53</td>\n",
       "    </tr>\n",
       "    <tr>\n",
       "      <th>1</th>\n",
       "      <td>id_000779bfc</td>\n",
       "      <td>df89a8e5a</td>\n",
       "    </tr>\n",
       "    <tr>\n",
       "      <th>2</th>\n",
       "      <td>id_000a6266a</td>\n",
       "      <td>18bb41b2c</td>\n",
       "    </tr>\n",
       "  </tbody>\n",
       "</table>\n",
       "</div>"
      ],
      "text/plain": [
       "         sig_id    drug_id\n",
       "0  id_000644bb2  b68db1d53\n",
       "1  id_000779bfc  df89a8e5a\n",
       "2  id_000a6266a  18bb41b2c"
      ]
     },
     "metadata": {},
     "output_type": "display_data"
    },
    {
     "name": "stdout",
     "output_type": "stream",
     "text": [
      "train drug data size (23814, 2)\n"
     ]
    }
   ],
   "source": [
    "df_drug = pd.read_csv(data_path + 'train_drug.csv')\n",
    "display(df_drug.head(3))\n",
    "print('train drug data size', df_drug.shape)"
   ]
  },
  {
   "cell_type": "code",
   "execution_count": 6,
   "metadata": {
    "execution": {
     "iopub.execute_input": "2020-11-13T09:26:31.745798Z",
     "iopub.status.busy": "2020-11-13T09:26:31.745002Z",
     "iopub.status.idle": "2020-11-13T09:26:31.809325Z",
     "shell.execute_reply": "2020-11-13T09:26:31.808460Z"
    },
    "papermill": {
     "duration": 0.112125,
     "end_time": "2020-11-13T09:26:31.809459",
     "exception": false,
     "start_time": "2020-11-13T09:26:31.697334",
     "status": "completed"
    },
    "tags": []
   },
   "outputs": [
    {
     "data": {
      "text/html": [
       "<div>\n",
       "<style scoped>\n",
       "    .dataframe tbody tr th:only-of-type {\n",
       "        vertical-align: middle;\n",
       "    }\n",
       "\n",
       "    .dataframe tbody tr th {\n",
       "        vertical-align: top;\n",
       "    }\n",
       "\n",
       "    .dataframe thead th {\n",
       "        text-align: right;\n",
       "    }\n",
       "</style>\n",
       "<table border=\"1\" class=\"dataframe\">\n",
       "  <thead>\n",
       "    <tr style=\"text-align: right;\">\n",
       "      <th></th>\n",
       "      <th>sig_id</th>\n",
       "      <th>drug_id</th>\n",
       "    </tr>\n",
       "  </thead>\n",
       "  <tbody>\n",
       "    <tr>\n",
       "      <th>count</th>\n",
       "      <td>23814</td>\n",
       "      <td>23814</td>\n",
       "    </tr>\n",
       "    <tr>\n",
       "      <th>unique</th>\n",
       "      <td>23814</td>\n",
       "      <td>3289</td>\n",
       "    </tr>\n",
       "    <tr>\n",
       "      <th>top</th>\n",
       "      <td>id_793d94910</td>\n",
       "      <td>cacb2b860</td>\n",
       "    </tr>\n",
       "    <tr>\n",
       "      <th>freq</th>\n",
       "      <td>1</td>\n",
       "      <td>1866</td>\n",
       "    </tr>\n",
       "  </tbody>\n",
       "</table>\n",
       "</div>"
      ],
      "text/plain": [
       "              sig_id    drug_id\n",
       "count          23814      23814\n",
       "unique         23814       3289\n",
       "top     id_793d94910  cacb2b860\n",
       "freq               1       1866"
      ]
     },
     "execution_count": 6,
     "metadata": {},
     "output_type": "execute_result"
    }
   ],
   "source": [
    "df_drug.describe()"
   ]
  },
  {
   "cell_type": "code",
   "execution_count": 7,
   "metadata": {
    "execution": {
     "iopub.execute_input": "2020-11-13T09:26:31.882003Z",
     "iopub.status.busy": "2020-11-13T09:26:31.881056Z",
     "iopub.status.idle": "2020-11-13T09:26:39.612378Z",
     "shell.execute_reply": "2020-11-13T09:26:39.611664Z"
    },
    "papermill": {
     "duration": 7.771493,
     "end_time": "2020-11-13T09:26:39.612540",
     "exception": false,
     "start_time": "2020-11-13T09:26:31.841047",
     "status": "completed"
    },
    "tags": []
   },
   "outputs": [
    {
     "data": {
      "text/html": [
       "<div>\n",
       "<style scoped>\n",
       "    .dataframe tbody tr th:only-of-type {\n",
       "        vertical-align: middle;\n",
       "    }\n",
       "\n",
       "    .dataframe tbody tr th {\n",
       "        vertical-align: top;\n",
       "    }\n",
       "\n",
       "    .dataframe thead th {\n",
       "        text-align: right;\n",
       "    }\n",
       "</style>\n",
       "<table border=\"1\" class=\"dataframe\">\n",
       "  <thead>\n",
       "    <tr style=\"text-align: right;\">\n",
       "      <th></th>\n",
       "      <th>sig_id</th>\n",
       "      <th>cp_type</th>\n",
       "      <th>cp_time</th>\n",
       "      <th>cp_dose</th>\n",
       "      <th>g-0</th>\n",
       "      <th>g-1</th>\n",
       "      <th>g-2</th>\n",
       "      <th>g-3</th>\n",
       "      <th>g-4</th>\n",
       "      <th>g-5</th>\n",
       "      <th>...</th>\n",
       "      <th>c-90</th>\n",
       "      <th>c-91</th>\n",
       "      <th>c-92</th>\n",
       "      <th>c-93</th>\n",
       "      <th>c-94</th>\n",
       "      <th>c-95</th>\n",
       "      <th>c-96</th>\n",
       "      <th>c-97</th>\n",
       "      <th>c-98</th>\n",
       "      <th>c-99</th>\n",
       "    </tr>\n",
       "  </thead>\n",
       "  <tbody>\n",
       "    <tr>\n",
       "      <th>0</th>\n",
       "      <td>id_000644bb2</td>\n",
       "      <td>trt_cp</td>\n",
       "      <td>24</td>\n",
       "      <td>D1</td>\n",
       "      <td>1.0620</td>\n",
       "      <td>0.5577</td>\n",
       "      <td>-0.2479</td>\n",
       "      <td>-0.6208</td>\n",
       "      <td>-0.1944</td>\n",
       "      <td>-1.0120</td>\n",
       "      <td>...</td>\n",
       "      <td>0.2862</td>\n",
       "      <td>0.2584</td>\n",
       "      <td>0.8076</td>\n",
       "      <td>0.5523</td>\n",
       "      <td>-0.1912</td>\n",
       "      <td>0.6584</td>\n",
       "      <td>-0.3981</td>\n",
       "      <td>0.2139</td>\n",
       "      <td>0.3801</td>\n",
       "      <td>0.4176</td>\n",
       "    </tr>\n",
       "    <tr>\n",
       "      <th>1</th>\n",
       "      <td>id_000779bfc</td>\n",
       "      <td>trt_cp</td>\n",
       "      <td>72</td>\n",
       "      <td>D1</td>\n",
       "      <td>0.0743</td>\n",
       "      <td>0.4087</td>\n",
       "      <td>0.2991</td>\n",
       "      <td>0.0604</td>\n",
       "      <td>1.0190</td>\n",
       "      <td>0.5207</td>\n",
       "      <td>...</td>\n",
       "      <td>-0.4265</td>\n",
       "      <td>0.7543</td>\n",
       "      <td>0.4708</td>\n",
       "      <td>0.0230</td>\n",
       "      <td>0.2957</td>\n",
       "      <td>0.4899</td>\n",
       "      <td>0.1522</td>\n",
       "      <td>0.1241</td>\n",
       "      <td>0.6077</td>\n",
       "      <td>0.7371</td>\n",
       "    </tr>\n",
       "    <tr>\n",
       "      <th>2</th>\n",
       "      <td>id_000a6266a</td>\n",
       "      <td>trt_cp</td>\n",
       "      <td>48</td>\n",
       "      <td>D1</td>\n",
       "      <td>0.6280</td>\n",
       "      <td>0.5817</td>\n",
       "      <td>1.5540</td>\n",
       "      <td>-0.0764</td>\n",
       "      <td>-0.0323</td>\n",
       "      <td>1.2390</td>\n",
       "      <td>...</td>\n",
       "      <td>-0.7250</td>\n",
       "      <td>-0.6297</td>\n",
       "      <td>0.6103</td>\n",
       "      <td>0.0223</td>\n",
       "      <td>-1.3240</td>\n",
       "      <td>-0.3174</td>\n",
       "      <td>-0.6417</td>\n",
       "      <td>-0.2187</td>\n",
       "      <td>-1.4080</td>\n",
       "      <td>0.6931</td>\n",
       "    </tr>\n",
       "  </tbody>\n",
       "</table>\n",
       "<p>3 rows × 876 columns</p>\n",
       "</div>"
      ],
      "text/plain": [
       "         sig_id cp_type  cp_time cp_dose     g-0     g-1     g-2     g-3  \\\n",
       "0  id_000644bb2  trt_cp       24      D1  1.0620  0.5577 -0.2479 -0.6208   \n",
       "1  id_000779bfc  trt_cp       72      D1  0.0743  0.4087  0.2991  0.0604   \n",
       "2  id_000a6266a  trt_cp       48      D1  0.6280  0.5817  1.5540 -0.0764   \n",
       "\n",
       "      g-4     g-5  ...    c-90    c-91    c-92    c-93    c-94    c-95  \\\n",
       "0 -0.1944 -1.0120  ...  0.2862  0.2584  0.8076  0.5523 -0.1912  0.6584   \n",
       "1  1.0190  0.5207  ... -0.4265  0.7543  0.4708  0.0230  0.2957  0.4899   \n",
       "2 -0.0323  1.2390  ... -0.7250 -0.6297  0.6103  0.0223 -1.3240 -0.3174   \n",
       "\n",
       "     c-96    c-97    c-98    c-99  \n",
       "0 -0.3981  0.2139  0.3801  0.4176  \n",
       "1  0.1522  0.1241  0.6077  0.7371  \n",
       "2 -0.6417 -0.2187 -1.4080  0.6931  \n",
       "\n",
       "[3 rows x 876 columns]"
      ]
     },
     "metadata": {},
     "output_type": "display_data"
    },
    {
     "name": "stdout",
     "output_type": "stream",
     "text": [
      "train data size (23814, 876)\n"
     ]
    },
    {
     "data": {
      "text/html": [
       "<div>\n",
       "<style scoped>\n",
       "    .dataframe tbody tr th:only-of-type {\n",
       "        vertical-align: middle;\n",
       "    }\n",
       "\n",
       "    .dataframe tbody tr th {\n",
       "        vertical-align: top;\n",
       "    }\n",
       "\n",
       "    .dataframe thead th {\n",
       "        text-align: right;\n",
       "    }\n",
       "</style>\n",
       "<table border=\"1\" class=\"dataframe\">\n",
       "  <thead>\n",
       "    <tr style=\"text-align: right;\">\n",
       "      <th></th>\n",
       "      <th>sig_id</th>\n",
       "      <th>abc_transporter_expression_enhancer</th>\n",
       "      <th>abl_inhibitor</th>\n",
       "      <th>ace_inhibitor</th>\n",
       "      <th>acetylcholine_release_enhancer</th>\n",
       "      <th>adenosine_deaminase_inhibitor</th>\n",
       "      <th>adenosine_kinase_inhibitor</th>\n",
       "      <th>adenylyl_cyclase_inhibitor</th>\n",
       "      <th>age_inhibitor</th>\n",
       "      <th>alcohol_dehydrogenase_inhibitor</th>\n",
       "      <th>...</th>\n",
       "      <th>ve-cadherin_antagonist</th>\n",
       "      <th>vesicular_monoamine_transporter_inhibitor</th>\n",
       "      <th>vitamin_k_antagonist</th>\n",
       "      <th>voltage-gated_calcium_channel_ligand</th>\n",
       "      <th>voltage-gated_potassium_channel_activator</th>\n",
       "      <th>voltage-gated_sodium_channel_blocker</th>\n",
       "      <th>wdr5_mll_interaction_inhibitor</th>\n",
       "      <th>wnt_agonist</th>\n",
       "      <th>xanthine_oxidase_inhibitor</th>\n",
       "      <th>xiap_inhibitor</th>\n",
       "    </tr>\n",
       "  </thead>\n",
       "  <tbody>\n",
       "    <tr>\n",
       "      <th>0</th>\n",
       "      <td>id_000644bb2</td>\n",
       "      <td>0</td>\n",
       "      <td>0</td>\n",
       "      <td>0</td>\n",
       "      <td>0</td>\n",
       "      <td>0</td>\n",
       "      <td>0</td>\n",
       "      <td>0</td>\n",
       "      <td>0</td>\n",
       "      <td>0</td>\n",
       "      <td>...</td>\n",
       "      <td>0</td>\n",
       "      <td>0</td>\n",
       "      <td>0</td>\n",
       "      <td>0</td>\n",
       "      <td>0</td>\n",
       "      <td>0</td>\n",
       "      <td>0</td>\n",
       "      <td>0</td>\n",
       "      <td>0</td>\n",
       "      <td>0</td>\n",
       "    </tr>\n",
       "    <tr>\n",
       "      <th>1</th>\n",
       "      <td>id_000779bfc</td>\n",
       "      <td>0</td>\n",
       "      <td>0</td>\n",
       "      <td>0</td>\n",
       "      <td>0</td>\n",
       "      <td>0</td>\n",
       "      <td>0</td>\n",
       "      <td>0</td>\n",
       "      <td>0</td>\n",
       "      <td>0</td>\n",
       "      <td>...</td>\n",
       "      <td>0</td>\n",
       "      <td>0</td>\n",
       "      <td>0</td>\n",
       "      <td>0</td>\n",
       "      <td>0</td>\n",
       "      <td>0</td>\n",
       "      <td>0</td>\n",
       "      <td>0</td>\n",
       "      <td>0</td>\n",
       "      <td>0</td>\n",
       "    </tr>\n",
       "    <tr>\n",
       "      <th>2</th>\n",
       "      <td>id_000a6266a</td>\n",
       "      <td>0</td>\n",
       "      <td>0</td>\n",
       "      <td>0</td>\n",
       "      <td>0</td>\n",
       "      <td>0</td>\n",
       "      <td>0</td>\n",
       "      <td>0</td>\n",
       "      <td>0</td>\n",
       "      <td>0</td>\n",
       "      <td>...</td>\n",
       "      <td>0</td>\n",
       "      <td>0</td>\n",
       "      <td>0</td>\n",
       "      <td>0</td>\n",
       "      <td>0</td>\n",
       "      <td>0</td>\n",
       "      <td>0</td>\n",
       "      <td>0</td>\n",
       "      <td>0</td>\n",
       "      <td>0</td>\n",
       "    </tr>\n",
       "  </tbody>\n",
       "</table>\n",
       "<p>3 rows × 403 columns</p>\n",
       "</div>"
      ],
      "text/plain": [
       "         sig_id  abc_transporter_expression_enhancer  abl_inhibitor  \\\n",
       "0  id_000644bb2                                    0              0   \n",
       "1  id_000779bfc                                    0              0   \n",
       "2  id_000a6266a                                    0              0   \n",
       "\n",
       "   ace_inhibitor  acetylcholine_release_enhancer  \\\n",
       "0              0                               0   \n",
       "1              0                               0   \n",
       "2              0                               0   \n",
       "\n",
       "   adenosine_deaminase_inhibitor  adenosine_kinase_inhibitor  \\\n",
       "0                              0                           0   \n",
       "1                              0                           0   \n",
       "2                              0                           0   \n",
       "\n",
       "   adenylyl_cyclase_inhibitor  age_inhibitor  alcohol_dehydrogenase_inhibitor  \\\n",
       "0                           0              0                                0   \n",
       "1                           0              0                                0   \n",
       "2                           0              0                                0   \n",
       "\n",
       "   ...  ve-cadherin_antagonist  vesicular_monoamine_transporter_inhibitor  \\\n",
       "0  ...                       0                                          0   \n",
       "1  ...                       0                                          0   \n",
       "2  ...                       0                                          0   \n",
       "\n",
       "   vitamin_k_antagonist  voltage-gated_calcium_channel_ligand  \\\n",
       "0                     0                                     0   \n",
       "1                     0                                     0   \n",
       "2                     0                                     0   \n",
       "\n",
       "   voltage-gated_potassium_channel_activator  \\\n",
       "0                                          0   \n",
       "1                                          0   \n",
       "2                                          0   \n",
       "\n",
       "   voltage-gated_sodium_channel_blocker  wdr5_mll_interaction_inhibitor  \\\n",
       "0                                     0                               0   \n",
       "1                                     0                               0   \n",
       "2                                     0                               0   \n",
       "\n",
       "   wnt_agonist  xanthine_oxidase_inhibitor  xiap_inhibitor  \n",
       "0            0                           0               0  \n",
       "1            0                           0               0  \n",
       "2            0                           0               0  \n",
       "\n",
       "[3 rows x 403 columns]"
      ]
     },
     "metadata": {},
     "output_type": "display_data"
    },
    {
     "name": "stdout",
     "output_type": "stream",
     "text": [
      "train target nonscored size (23814, 403)\n"
     ]
    },
    {
     "data": {
      "text/html": [
       "<div>\n",
       "<style scoped>\n",
       "    .dataframe tbody tr th:only-of-type {\n",
       "        vertical-align: middle;\n",
       "    }\n",
       "\n",
       "    .dataframe tbody tr th {\n",
       "        vertical-align: top;\n",
       "    }\n",
       "\n",
       "    .dataframe thead th {\n",
       "        text-align: right;\n",
       "    }\n",
       "</style>\n",
       "<table border=\"1\" class=\"dataframe\">\n",
       "  <thead>\n",
       "    <tr style=\"text-align: right;\">\n",
       "      <th></th>\n",
       "      <th>sig_id</th>\n",
       "      <th>5-alpha_reductase_inhibitor</th>\n",
       "      <th>11-beta-hsd1_inhibitor</th>\n",
       "      <th>acat_inhibitor</th>\n",
       "      <th>acetylcholine_receptor_agonist</th>\n",
       "      <th>acetylcholine_receptor_antagonist</th>\n",
       "      <th>acetylcholinesterase_inhibitor</th>\n",
       "      <th>adenosine_receptor_agonist</th>\n",
       "      <th>adenosine_receptor_antagonist</th>\n",
       "      <th>adenylyl_cyclase_activator</th>\n",
       "      <th>...</th>\n",
       "      <th>tropomyosin_receptor_kinase_inhibitor</th>\n",
       "      <th>trpv_agonist</th>\n",
       "      <th>trpv_antagonist</th>\n",
       "      <th>tubulin_inhibitor</th>\n",
       "      <th>tyrosine_kinase_inhibitor</th>\n",
       "      <th>ubiquitin_specific_protease_inhibitor</th>\n",
       "      <th>vegfr_inhibitor</th>\n",
       "      <th>vitamin_b</th>\n",
       "      <th>vitamin_d_receptor_agonist</th>\n",
       "      <th>wnt_inhibitor</th>\n",
       "    </tr>\n",
       "  </thead>\n",
       "  <tbody>\n",
       "    <tr>\n",
       "      <th>0</th>\n",
       "      <td>id_000644bb2</td>\n",
       "      <td>0</td>\n",
       "      <td>0</td>\n",
       "      <td>0</td>\n",
       "      <td>0</td>\n",
       "      <td>0</td>\n",
       "      <td>0</td>\n",
       "      <td>0</td>\n",
       "      <td>0</td>\n",
       "      <td>0</td>\n",
       "      <td>...</td>\n",
       "      <td>0</td>\n",
       "      <td>0</td>\n",
       "      <td>0</td>\n",
       "      <td>0</td>\n",
       "      <td>0</td>\n",
       "      <td>0</td>\n",
       "      <td>0</td>\n",
       "      <td>0</td>\n",
       "      <td>0</td>\n",
       "      <td>0</td>\n",
       "    </tr>\n",
       "    <tr>\n",
       "      <th>1</th>\n",
       "      <td>id_000779bfc</td>\n",
       "      <td>0</td>\n",
       "      <td>0</td>\n",
       "      <td>0</td>\n",
       "      <td>0</td>\n",
       "      <td>0</td>\n",
       "      <td>0</td>\n",
       "      <td>0</td>\n",
       "      <td>0</td>\n",
       "      <td>0</td>\n",
       "      <td>...</td>\n",
       "      <td>0</td>\n",
       "      <td>0</td>\n",
       "      <td>0</td>\n",
       "      <td>0</td>\n",
       "      <td>0</td>\n",
       "      <td>0</td>\n",
       "      <td>0</td>\n",
       "      <td>0</td>\n",
       "      <td>0</td>\n",
       "      <td>0</td>\n",
       "    </tr>\n",
       "    <tr>\n",
       "      <th>2</th>\n",
       "      <td>id_000a6266a</td>\n",
       "      <td>0</td>\n",
       "      <td>0</td>\n",
       "      <td>0</td>\n",
       "      <td>0</td>\n",
       "      <td>0</td>\n",
       "      <td>0</td>\n",
       "      <td>0</td>\n",
       "      <td>0</td>\n",
       "      <td>0</td>\n",
       "      <td>...</td>\n",
       "      <td>0</td>\n",
       "      <td>0</td>\n",
       "      <td>0</td>\n",
       "      <td>0</td>\n",
       "      <td>0</td>\n",
       "      <td>0</td>\n",
       "      <td>0</td>\n",
       "      <td>0</td>\n",
       "      <td>0</td>\n",
       "      <td>0</td>\n",
       "    </tr>\n",
       "  </tbody>\n",
       "</table>\n",
       "<p>3 rows × 207 columns</p>\n",
       "</div>"
      ],
      "text/plain": [
       "         sig_id  5-alpha_reductase_inhibitor  11-beta-hsd1_inhibitor  \\\n",
       "0  id_000644bb2                            0                       0   \n",
       "1  id_000779bfc                            0                       0   \n",
       "2  id_000a6266a                            0                       0   \n",
       "\n",
       "   acat_inhibitor  acetylcholine_receptor_agonist  \\\n",
       "0               0                               0   \n",
       "1               0                               0   \n",
       "2               0                               0   \n",
       "\n",
       "   acetylcholine_receptor_antagonist  acetylcholinesterase_inhibitor  \\\n",
       "0                                  0                               0   \n",
       "1                                  0                               0   \n",
       "2                                  0                               0   \n",
       "\n",
       "   adenosine_receptor_agonist  adenosine_receptor_antagonist  \\\n",
       "0                           0                              0   \n",
       "1                           0                              0   \n",
       "2                           0                              0   \n",
       "\n",
       "   adenylyl_cyclase_activator  ...  tropomyosin_receptor_kinase_inhibitor  \\\n",
       "0                           0  ...                                      0   \n",
       "1                           0  ...                                      0   \n",
       "2                           0  ...                                      0   \n",
       "\n",
       "   trpv_agonist  trpv_antagonist  tubulin_inhibitor  \\\n",
       "0             0                0                  0   \n",
       "1             0                0                  0   \n",
       "2             0                0                  0   \n",
       "\n",
       "   tyrosine_kinase_inhibitor  ubiquitin_specific_protease_inhibitor  \\\n",
       "0                          0                                      0   \n",
       "1                          0                                      0   \n",
       "2                          0                                      0   \n",
       "\n",
       "   vegfr_inhibitor  vitamin_b  vitamin_d_receptor_agonist  wnt_inhibitor  \n",
       "0                0          0                           0              0  \n",
       "1                0          0                           0              0  \n",
       "2                0          0                           0              0  \n",
       "\n",
       "[3 rows x 207 columns]"
      ]
     },
     "metadata": {},
     "output_type": "display_data"
    },
    {
     "name": "stdout",
     "output_type": "stream",
     "text": [
      "train target scored size (23814, 207)\n"
     ]
    },
    {
     "data": {
      "text/html": [
       "<div>\n",
       "<style scoped>\n",
       "    .dataframe tbody tr th:only-of-type {\n",
       "        vertical-align: middle;\n",
       "    }\n",
       "\n",
       "    .dataframe tbody tr th {\n",
       "        vertical-align: top;\n",
       "    }\n",
       "\n",
       "    .dataframe thead th {\n",
       "        text-align: right;\n",
       "    }\n",
       "</style>\n",
       "<table border=\"1\" class=\"dataframe\">\n",
       "  <thead>\n",
       "    <tr style=\"text-align: right;\">\n",
       "      <th></th>\n",
       "      <th>sig_id</th>\n",
       "      <th>cp_type</th>\n",
       "      <th>cp_time</th>\n",
       "      <th>cp_dose</th>\n",
       "      <th>g-0</th>\n",
       "      <th>g-1</th>\n",
       "      <th>g-2</th>\n",
       "      <th>g-3</th>\n",
       "      <th>g-4</th>\n",
       "      <th>g-5</th>\n",
       "      <th>...</th>\n",
       "      <th>c-90</th>\n",
       "      <th>c-91</th>\n",
       "      <th>c-92</th>\n",
       "      <th>c-93</th>\n",
       "      <th>c-94</th>\n",
       "      <th>c-95</th>\n",
       "      <th>c-96</th>\n",
       "      <th>c-97</th>\n",
       "      <th>c-98</th>\n",
       "      <th>c-99</th>\n",
       "    </tr>\n",
       "  </thead>\n",
       "  <tbody>\n",
       "    <tr>\n",
       "      <th>0</th>\n",
       "      <td>id_0004d9e33</td>\n",
       "      <td>trt_cp</td>\n",
       "      <td>24</td>\n",
       "      <td>D1</td>\n",
       "      <td>-0.5458</td>\n",
       "      <td>0.1306</td>\n",
       "      <td>-0.5135</td>\n",
       "      <td>0.4408</td>\n",
       "      <td>1.5500</td>\n",
       "      <td>-0.1644</td>\n",
       "      <td>...</td>\n",
       "      <td>0.0981</td>\n",
       "      <td>0.7978</td>\n",
       "      <td>-0.143</td>\n",
       "      <td>-0.2067</td>\n",
       "      <td>-0.2303</td>\n",
       "      <td>-0.1193</td>\n",
       "      <td>0.0210</td>\n",
       "      <td>-0.0502</td>\n",
       "      <td>0.1510</td>\n",
       "      <td>-0.7750</td>\n",
       "    </tr>\n",
       "    <tr>\n",
       "      <th>1</th>\n",
       "      <td>id_001897cda</td>\n",
       "      <td>trt_cp</td>\n",
       "      <td>72</td>\n",
       "      <td>D1</td>\n",
       "      <td>-0.1829</td>\n",
       "      <td>0.2320</td>\n",
       "      <td>1.2080</td>\n",
       "      <td>-0.4522</td>\n",
       "      <td>-0.3652</td>\n",
       "      <td>-0.3319</td>\n",
       "      <td>...</td>\n",
       "      <td>-0.1190</td>\n",
       "      <td>-0.1852</td>\n",
       "      <td>-1.031</td>\n",
       "      <td>-1.3670</td>\n",
       "      <td>-0.3690</td>\n",
       "      <td>-0.5382</td>\n",
       "      <td>0.0359</td>\n",
       "      <td>-0.4764</td>\n",
       "      <td>-1.3810</td>\n",
       "      <td>-0.7300</td>\n",
       "    </tr>\n",
       "    <tr>\n",
       "      <th>2</th>\n",
       "      <td>id_002429b5b</td>\n",
       "      <td>ctl_vehicle</td>\n",
       "      <td>24</td>\n",
       "      <td>D1</td>\n",
       "      <td>0.1852</td>\n",
       "      <td>-0.1404</td>\n",
       "      <td>-0.3911</td>\n",
       "      <td>0.1310</td>\n",
       "      <td>-1.4380</td>\n",
       "      <td>0.2455</td>\n",
       "      <td>...</td>\n",
       "      <td>-0.2261</td>\n",
       "      <td>0.3370</td>\n",
       "      <td>-1.384</td>\n",
       "      <td>0.8604</td>\n",
       "      <td>-1.9530</td>\n",
       "      <td>-1.0140</td>\n",
       "      <td>0.8662</td>\n",
       "      <td>1.0160</td>\n",
       "      <td>0.4924</td>\n",
       "      <td>-0.1942</td>\n",
       "    </tr>\n",
       "  </tbody>\n",
       "</table>\n",
       "<p>3 rows × 876 columns</p>\n",
       "</div>"
      ],
      "text/plain": [
       "         sig_id      cp_type  cp_time cp_dose     g-0     g-1     g-2     g-3  \\\n",
       "0  id_0004d9e33       trt_cp       24      D1 -0.5458  0.1306 -0.5135  0.4408   \n",
       "1  id_001897cda       trt_cp       72      D1 -0.1829  0.2320  1.2080 -0.4522   \n",
       "2  id_002429b5b  ctl_vehicle       24      D1  0.1852 -0.1404 -0.3911  0.1310   \n",
       "\n",
       "      g-4     g-5  ...    c-90    c-91   c-92    c-93    c-94    c-95    c-96  \\\n",
       "0  1.5500 -0.1644  ...  0.0981  0.7978 -0.143 -0.2067 -0.2303 -0.1193  0.0210   \n",
       "1 -0.3652 -0.3319  ... -0.1190 -0.1852 -1.031 -1.3670 -0.3690 -0.5382  0.0359   \n",
       "2 -1.4380  0.2455  ... -0.2261  0.3370 -1.384  0.8604 -1.9530 -1.0140  0.8662   \n",
       "\n",
       "     c-97    c-98    c-99  \n",
       "0 -0.0502  0.1510 -0.7750  \n",
       "1 -0.4764 -1.3810 -0.7300  \n",
       "2  1.0160  0.4924 -0.1942  \n",
       "\n",
       "[3 rows x 876 columns]"
      ]
     },
     "metadata": {},
     "output_type": "display_data"
    },
    {
     "name": "stdout",
     "output_type": "stream",
     "text": [
      "test data size (3982, 876)\n"
     ]
    }
   ],
   "source": [
    "df_train = pd.read_csv(data_path + 'train_features.csv')\n",
    "display(df_train.head(3))\n",
    "print('train data size', df_train.shape)\n",
    "\n",
    "df_target_ns = pd.read_csv(data_path + 'train_targets_nonscored.csv')\n",
    "display(df_target_ns.head(3))\n",
    "print('train target nonscored size', df_target_ns.shape)\n",
    "\n",
    "df_target_s = pd.read_csv(data_path + '/train_targets_scored.csv')\n",
    "display(df_target_s.head(3))\n",
    "print('train target scored size', df_target_s.shape)\n",
    "\n",
    "df_test = pd.read_csv(data_path + 'test_features.csv')\n",
    "display(df_test.head(3))\n",
    "print('test data size', df_test.shape)\n"
   ]
  },
  {
   "cell_type": "code",
   "execution_count": null,
   "metadata": {
    "papermill": {
     "duration": 0.0368,
     "end_time": "2020-11-13T09:26:39.685327",
     "exception": false,
     "start_time": "2020-11-13T09:26:39.648527",
     "status": "completed"
    },
    "tags": []
   },
   "outputs": [],
   "source": []
  },
  {
   "cell_type": "code",
   "execution_count": null,
   "metadata": {
    "papermill": {
     "duration": 0.034131,
     "end_time": "2020-11-13T09:26:39.754969",
     "exception": false,
     "start_time": "2020-11-13T09:26:39.720838",
     "status": "completed"
    },
    "tags": []
   },
   "outputs": [],
   "source": []
  },
  {
   "cell_type": "code",
   "execution_count": null,
   "metadata": {
    "papermill": {
     "duration": 0.037935,
     "end_time": "2020-11-13T09:26:39.827921",
     "exception": false,
     "start_time": "2020-11-13T09:26:39.789986",
     "status": "completed"
    },
    "tags": []
   },
   "outputs": [],
   "source": []
  },
  {
   "cell_type": "code",
   "execution_count": 8,
   "metadata": {
    "execution": {
     "iopub.execute_input": "2020-11-13T09:26:39.907072Z",
     "iopub.status.busy": "2020-11-13T09:26:39.906274Z",
     "iopub.status.idle": "2020-11-13T09:26:39.911189Z",
     "shell.execute_reply": "2020-11-13T09:26:39.910359Z"
    },
    "papermill": {
     "duration": 0.047248,
     "end_time": "2020-11-13T09:26:39.911322",
     "exception": false,
     "start_time": "2020-11-13T09:26:39.864074",
     "status": "completed"
    },
    "tags": []
   },
   "outputs": [],
   "source": [
    "from fastai.tabular import *"
   ]
  },
  {
   "cell_type": "code",
   "execution_count": 9,
   "metadata": {
    "execution": {
     "iopub.execute_input": "2020-11-13T09:26:39.989540Z",
     "iopub.status.busy": "2020-11-13T09:26:39.988732Z",
     "iopub.status.idle": "2020-11-13T09:26:46.849471Z",
     "shell.execute_reply": "2020-11-13T09:26:46.848429Z"
    },
    "papermill": {
     "duration": 6.904786,
     "end_time": "2020-11-13T09:26:46.849671",
     "exception": false,
     "start_time": "2020-11-13T09:26:39.944885",
     "status": "completed"
    },
    "tags": []
   },
   "outputs": [],
   "source": [
    "test_features = pd.read_csv('/kaggle/input/lish-moa/test_features.csv')\n",
    "train_features = pd.read_csv('/kaggle/input/lish-moa/train_features.csv')\n",
    "train_targets_scored = pd.read_csv('/kaggle/input/lish-moa/train_targets_scored.csv')\n",
    "train_targets_nonscored = pd.read_csv('/kaggle/input/lish-moa/train_targets_nonscored.csv')\n",
    "sample_submission = pd.read_csv('/kaggle/input/lish-moa/sample_submission.csv')"
   ]
  },
  {
   "cell_type": "code",
   "execution_count": 10,
   "metadata": {
    "execution": {
     "iopub.execute_input": "2020-11-13T09:26:46.923656Z",
     "iopub.status.busy": "2020-11-13T09:26:46.922646Z",
     "iopub.status.idle": "2020-11-13T09:26:46.927596Z",
     "shell.execute_reply": "2020-11-13T09:26:46.926831Z"
    },
    "papermill": {
     "duration": 0.044369,
     "end_time": "2020-11-13T09:26:46.927739",
     "exception": false,
     "start_time": "2020-11-13T09:26:46.883370",
     "status": "completed"
    },
    "tags": []
   },
   "outputs": [
    {
     "data": {
      "text/plain": [
       "'from sklearn.decomposition import PCA\\npc = PCA(n_components = 500)\\npc.fit(train_features[cont_columns])'"
      ]
     },
     "execution_count": 10,
     "metadata": {},
     "output_type": "execute_result"
    }
   ],
   "source": [
    "'''from sklearn.decomposition import PCA\n",
    "pc = PCA(n_components = 500)\n",
    "pc.fit(train_features[cont_columns])'''"
   ]
  },
  {
   "cell_type": "code",
   "execution_count": 11,
   "metadata": {
    "execution": {
     "iopub.execute_input": "2020-11-13T09:26:47.003460Z",
     "iopub.status.busy": "2020-11-13T09:26:47.002550Z",
     "iopub.status.idle": "2020-11-13T09:26:47.007793Z",
     "shell.execute_reply": "2020-11-13T09:26:47.007077Z"
    },
    "papermill": {
     "duration": 0.045201,
     "end_time": "2020-11-13T09:26:47.008088",
     "exception": false,
     "start_time": "2020-11-13T09:26:46.962887",
     "status": "completed"
    },
    "tags": []
   },
   "outputs": [
    {
     "data": {
      "text/plain": [
       "\"result_train = pd.DataFrame(pc.transform(train_features[cont_columns]))\\nresult_test = pd.DataFrame(pc.transform(test_features[cont_columns]))\\nresult_train[cat_names] = train_features[cat_names]\\nresult_test[cat_names] = test_features[cat_names]\\n\\nresult_test['sig_id'] = test_features['sig_id']\\nresult_train['sig_id'] = train_features['sig_id']\\nresult_train.shape,result_test.shape\""
      ]
     },
     "execution_count": 11,
     "metadata": {},
     "output_type": "execute_result"
    }
   ],
   "source": [
    "'''result_train = pd.DataFrame(pc.transform(train_features[cont_columns]))\n",
    "result_test = pd.DataFrame(pc.transform(test_features[cont_columns]))\n",
    "result_train[cat_names] = train_features[cat_names]\n",
    "result_test[cat_names] = test_features[cat_names]\n",
    "\n",
    "result_test['sig_id'] = test_features['sig_id']\n",
    "result_train['sig_id'] = train_features['sig_id']\n",
    "result_train.shape,result_test.shape'''"
   ]
  },
  {
   "cell_type": "code",
   "execution_count": 12,
   "metadata": {
    "execution": {
     "iopub.execute_input": "2020-11-13T09:26:47.116939Z",
     "iopub.status.busy": "2020-11-13T09:26:47.115806Z",
     "iopub.status.idle": "2020-11-13T09:26:47.349848Z",
     "shell.execute_reply": "2020-11-13T09:26:47.349045Z"
    },
    "papermill": {
     "duration": 0.304805,
     "end_time": "2020-11-13T09:26:47.349981",
     "exception": false,
     "start_time": "2020-11-13T09:26:47.045176",
     "status": "completed"
    },
    "tags": []
   },
   "outputs": [
    {
     "name": "stdout",
     "output_type": "stream",
     "text": [
      "(23814, 876)\n",
      "(23814, 1082)\n"
     ]
    }
   ],
   "source": [
    "print(train_features.shape)\n",
    "cat_names = ['cp_type','cp_time','cp_dose']\n",
    "cont_columns = [i for i in train_features.columns if i not in ['cp_type','cp_time','cp_dose','sig_id']]\n",
    "dep_var = [i for i in train_targets_scored.columns if i !='sig_id']\n",
    "train_features[dep_var] = train_targets_scored[dep_var]\n",
    "print(train_features.shape)"
   ]
  },
  {
   "cell_type": "code",
   "execution_count": 13,
   "metadata": {
    "execution": {
     "iopub.execute_input": "2020-11-13T09:26:47.431442Z",
     "iopub.status.busy": "2020-11-13T09:26:47.430647Z",
     "iopub.status.idle": "2020-11-13T09:26:51.810230Z",
     "shell.execute_reply": "2020-11-13T09:26:51.810812Z"
    },
    "papermill": {
     "duration": 4.425372,
     "end_time": "2020-11-13T09:26:51.810982",
     "exception": false,
     "start_time": "2020-11-13T09:26:47.385610",
     "status": "completed"
    },
    "tags": []
   },
   "outputs": [],
   "source": [
    "procs = [FillMissing,Categorify,Normalize]\n",
    "data = (TabularList.from_df(train_features, procs=procs, cont_names=cont_columns, cat_names=cat_names)\n",
    "        .split_by_rand_pct(valid_pct=0.10,seed=42)\n",
    "        .label_from_df(cols=dep_var)\n",
    "        .add_test(TabularList.from_df(test_features, cat_names=cat_names, cont_names=cont_columns, procs=procs))\n",
    "        .databunch())"
   ]
  },
  {
   "cell_type": "code",
   "execution_count": 14,
   "metadata": {
    "execution": {
     "iopub.execute_input": "2020-11-13T09:26:51.890999Z",
     "iopub.status.busy": "2020-11-13T09:26:51.890166Z",
     "iopub.status.idle": "2020-11-13T09:26:51.922755Z",
     "shell.execute_reply": "2020-11-13T09:26:51.922080Z"
    },
    "papermill": {
     "duration": 0.075535,
     "end_time": "2020-11-13T09:26:51.922883",
     "exception": false,
     "start_time": "2020-11-13T09:26:51.847348",
     "status": "completed"
    },
    "tags": []
   },
   "outputs": [],
   "source": [
    "learn = tabular_learner(data,layers=[300,200])"
   ]
  },
  {
   "cell_type": "code",
   "execution_count": 15,
   "metadata": {
    "execution": {
     "iopub.execute_input": "2020-11-13T09:26:52.003826Z",
     "iopub.status.busy": "2020-11-13T09:26:52.002878Z",
     "iopub.status.idle": "2020-11-13T09:26:52.010135Z",
     "shell.execute_reply": "2020-11-13T09:26:52.009242Z"
    },
    "papermill": {
     "duration": 0.049992,
     "end_time": "2020-11-13T09:26:52.010281",
     "exception": false,
     "start_time": "2020-11-13T09:26:51.960289",
     "status": "completed"
    },
    "tags": []
   },
   "outputs": [
    {
     "data": {
      "text/plain": [
       "'learn.lr_find()\\nlearn.recorder.plot(suggestion=True)'"
      ]
     },
     "execution_count": 15,
     "metadata": {},
     "output_type": "execute_result"
    }
   ],
   "source": [
    "'''learn.lr_find()\n",
    "learn.recorder.plot(suggestion=True)'''"
   ]
  },
  {
   "cell_type": "code",
   "execution_count": 16,
   "metadata": {
    "execution": {
     "iopub.execute_input": "2020-11-13T09:26:52.095360Z",
     "iopub.status.busy": "2020-11-13T09:26:52.094576Z",
     "iopub.status.idle": "2020-11-13T09:28:27.417953Z",
     "shell.execute_reply": "2020-11-13T09:28:27.416925Z"
    },
    "papermill": {
     "duration": 95.368854,
     "end_time": "2020-11-13T09:28:27.418147",
     "exception": false,
     "start_time": "2020-11-13T09:26:52.049293",
     "status": "completed"
    },
    "tags": []
   },
   "outputs": [
    {
     "data": {
      "text/html": [
       "<table border=\"1\" class=\"dataframe\">\n",
       "  <thead>\n",
       "    <tr style=\"text-align: left;\">\n",
       "      <th>epoch</th>\n",
       "      <th>train_loss</th>\n",
       "      <th>valid_loss</th>\n",
       "      <th>time</th>\n",
       "    </tr>\n",
       "  </thead>\n",
       "  <tbody>\n",
       "    <tr>\n",
       "      <td>0</td>\n",
       "      <td>0.020241</td>\n",
       "      <td>0.017955</td>\n",
       "      <td>00:19</td>\n",
       "    </tr>\n",
       "    <tr>\n",
       "      <td>1</td>\n",
       "      <td>0.016794</td>\n",
       "      <td>0.017387</td>\n",
       "      <td>00:19</td>\n",
       "    </tr>\n",
       "    <tr>\n",
       "      <td>2</td>\n",
       "      <td>0.016275</td>\n",
       "      <td>0.015974</td>\n",
       "      <td>00:19</td>\n",
       "    </tr>\n",
       "    <tr>\n",
       "      <td>3</td>\n",
       "      <td>0.014665</td>\n",
       "      <td>0.015172</td>\n",
       "      <td>00:18</td>\n",
       "    </tr>\n",
       "    <tr>\n",
       "      <td>4</td>\n",
       "      <td>0.013433</td>\n",
       "      <td>0.015078</td>\n",
       "      <td>00:18</td>\n",
       "    </tr>\n",
       "  </tbody>\n",
       "</table>"
      ],
      "text/plain": [
       "<IPython.core.display.HTML object>"
      ]
     },
     "metadata": {},
     "output_type": "display_data"
    }
   ],
   "source": [
    "learn.fit_one_cycle(5, 3.31E-02)"
   ]
  },
  {
   "cell_type": "code",
   "execution_count": 17,
   "metadata": {
    "execution": {
     "iopub.execute_input": "2020-11-13T09:28:27.506472Z",
     "iopub.status.busy": "2020-11-13T09:28:27.505689Z",
     "iopub.status.idle": "2020-11-13T09:28:27.758388Z",
     "shell.execute_reply": "2020-11-13T09:28:27.757739Z"
    },
    "papermill": {
     "duration": 0.299295,
     "end_time": "2020-11-13T09:28:27.758530",
     "exception": false,
     "start_time": "2020-11-13T09:28:27.459235",
     "status": "completed"
    },
    "tags": []
   },
   "outputs": [
    {
     "data": {
      "image/png": "[encoded data removed]",
      "text/plain": [
       "<Figure size 432x288 with 1 Axes>"
      ]
     },
     "metadata": {
      "needs_background": "light"
     },
     "output_type": "display_data"
    }
   ],
   "source": [
    "learn.recorder.plot_losses()"
   ]
  },
  {
   "cell_type": "code",
   "execution_count": 18,
   "metadata": {
    "execution": {
     "iopub.execute_input": "2020-11-13T09:28:27.848310Z",
     "iopub.status.busy": "2020-11-13T09:28:27.847549Z",
     "iopub.status.idle": "2020-11-13T09:30:05.075388Z",
     "shell.execute_reply": "2020-11-13T09:30:05.074632Z"
    },
    "papermill": {
     "duration": 97.278099,
     "end_time": "2020-11-13T09:30:05.075716",
     "exception": false,
     "start_time": "2020-11-13T09:28:27.797617",
     "status": "completed"
    },
    "tags": []
   },
   "outputs": [
    {
     "data": {
      "text/html": [
       "<table border=\"1\" class=\"dataframe\">\n",
       "  <thead>\n",
       "    <tr style=\"text-align: left;\">\n",
       "      <th>epoch</th>\n",
       "      <th>train_loss</th>\n",
       "      <th>valid_loss</th>\n",
       "      <th>time</th>\n",
       "    </tr>\n",
       "  </thead>\n",
       "  <tbody>\n",
       "    <tr>\n",
       "      <td>0</td>\n",
       "      <td>0.013045</td>\n",
       "      <td>0.015050</td>\n",
       "      <td>00:19</td>\n",
       "    </tr>\n",
       "    <tr>\n",
       "      <td>1</td>\n",
       "      <td>0.013380</td>\n",
       "      <td>0.015055</td>\n",
       "      <td>00:18</td>\n",
       "    </tr>\n",
       "    <tr>\n",
       "      <td>2</td>\n",
       "      <td>0.013266</td>\n",
       "      <td>0.015050</td>\n",
       "      <td>00:19</td>\n",
       "    </tr>\n",
       "    <tr>\n",
       "      <td>3</td>\n",
       "      <td>0.013180</td>\n",
       "      <td>0.015057</td>\n",
       "      <td>00:19</td>\n",
       "    </tr>\n",
       "    <tr>\n",
       "      <td>4</td>\n",
       "      <td>0.013082</td>\n",
       "      <td>0.015060</td>\n",
       "      <td>00:19</td>\n",
       "    </tr>\n",
       "  </tbody>\n",
       "</table>"
      ],
      "text/plain": [
       "<IPython.core.display.HTML object>"
      ]
     },
     "metadata": {},
     "output_type": "display_data"
    }
   ],
   "source": [
    "learn.unfreeze()\n",
    "learn.fit_one_cycle(5,slice(1e-04),wd=0.2)"
   ]
  },
  {
   "cell_type": "code",
   "execution_count": 19,
   "metadata": {
    "execution": {
     "iopub.execute_input": "2020-11-13T09:30:05.172360Z",
     "iopub.status.busy": "2020-11-13T09:30:05.166538Z",
     "iopub.status.idle": "2020-11-13T09:30:05.384676Z",
     "shell.execute_reply": "2020-11-13T09:30:05.383890Z"
    },
    "papermill": {
     "duration": 0.267653,
     "end_time": "2020-11-13T09:30:05.384805",
     "exception": false,
     "start_time": "2020-11-13T09:30:05.117152",
     "status": "completed"
    },
    "tags": []
   },
   "outputs": [
    {
     "data": {
      "image/png": "[encoded data removed]",
      "text/plain": [
       "<Figure size 432x288 with 1 Axes>"
      ]
     },
     "metadata": {
      "needs_background": "light"
     },
     "output_type": "display_data"
    }
   ],
   "source": [
    "learn.recorder.plot_losses()"
   ]
  },
  {
   "cell_type": "code",
   "execution_count": 20,
   "metadata": {
    "execution": {
     "iopub.execute_input": "2020-11-13T09:30:05.476691Z",
     "iopub.status.busy": "2020-11-13T09:30:05.475619Z",
     "iopub.status.idle": "2020-11-13T09:31:42.215346Z",
     "shell.execute_reply": "2020-11-13T09:31:42.214275Z"
    },
    "papermill": {
     "duration": 96.790877,
     "end_time": "2020-11-13T09:31:42.215565",
     "exception": false,
     "start_time": "2020-11-13T09:30:05.424688",
     "status": "completed"
    },
    "tags": []
   },
   "outputs": [
    {
     "data": {
      "text/html": [
       "<table border=\"1\" class=\"dataframe\">\n",
       "  <thead>\n",
       "    <tr style=\"text-align: left;\">\n",
       "      <th>epoch</th>\n",
       "      <th>train_loss</th>\n",
       "      <th>valid_loss</th>\n",
       "      <th>time</th>\n",
       "    </tr>\n",
       "  </thead>\n",
       "  <tbody>\n",
       "    <tr>\n",
       "      <td>0</td>\n",
       "      <td>0.013192</td>\n",
       "      <td>0.015045</td>\n",
       "      <td>00:19</td>\n",
       "    </tr>\n",
       "    <tr>\n",
       "      <td>1</td>\n",
       "      <td>0.013143</td>\n",
       "      <td>0.015042</td>\n",
       "      <td>00:19</td>\n",
       "    </tr>\n",
       "    <tr>\n",
       "      <td>2</td>\n",
       "      <td>0.013221</td>\n",
       "      <td>0.015049</td>\n",
       "      <td>00:19</td>\n",
       "    </tr>\n",
       "    <tr>\n",
       "      <td>3</td>\n",
       "      <td>0.013134</td>\n",
       "      <td>0.015036</td>\n",
       "      <td>00:18</td>\n",
       "    </tr>\n",
       "    <tr>\n",
       "      <td>4</td>\n",
       "      <td>0.013103</td>\n",
       "      <td>0.015051</td>\n",
       "      <td>00:19</td>\n",
       "    </tr>\n",
       "  </tbody>\n",
       "</table>"
      ],
      "text/plain": [
       "<IPython.core.display.HTML object>"
      ]
     },
     "metadata": {},
     "output_type": "display_data"
    }
   ],
   "source": [
    "learn.unfreeze()\n",
    "learn.fit_one_cycle(5, slice(1e-5),wd=0.25)"
   ]
  },
  {
   "cell_type": "code",
   "execution_count": 21,
   "metadata": {
    "execution": {
     "iopub.execute_input": "2020-11-13T09:31:42.325846Z",
     "iopub.status.busy": "2020-11-13T09:31:42.324548Z",
     "iopub.status.idle": "2020-11-13T09:31:42.534518Z",
     "shell.execute_reply": "2020-11-13T09:31:42.533792Z"
    },
    "papermill": {
     "duration": 0.272012,
     "end_time": "2020-11-13T09:31:42.534652",
     "exception": false,
     "start_time": "2020-11-13T09:31:42.262640",
     "status": "completed"
    },
    "tags": []
   },
   "outputs": [
    {
     "data": {
      "image/png": "[encoded data removed]",
      "text/plain": [
       "<Figure size 432x288 with 1 Axes>"
      ]
     },
     "metadata": {
      "needs_background": "light"
     },
     "output_type": "display_data"
    }
   ],
   "source": [
    "learn.recorder.plot_losses()"
   ]
  },
  {
   "cell_type": "code",
   "execution_count": 22,
   "metadata": {
    "execution": {
     "iopub.execute_input": "2020-11-13T09:31:42.632674Z",
     "iopub.status.busy": "2020-11-13T09:31:42.631499Z",
     "iopub.status.idle": "2020-11-13T09:33:17.618500Z",
     "shell.execute_reply": "2020-11-13T09:33:17.617360Z"
    },
    "papermill": {
     "duration": 95.03975,
     "end_time": "2020-11-13T09:33:17.618694",
     "exception": false,
     "start_time": "2020-11-13T09:31:42.578944",
     "status": "completed"
    },
    "tags": []
   },
   "outputs": [
    {
     "data": {
      "text/html": [
       "<table border=\"1\" class=\"dataframe\">\n",
       "  <thead>\n",
       "    <tr style=\"text-align: left;\">\n",
       "      <th>epoch</th>\n",
       "      <th>train_loss</th>\n",
       "      <th>valid_loss</th>\n",
       "      <th>time</th>\n",
       "    </tr>\n",
       "  </thead>\n",
       "  <tbody>\n",
       "    <tr>\n",
       "      <td>0</td>\n",
       "      <td>0.012970</td>\n",
       "      <td>0.015055</td>\n",
       "      <td>00:18</td>\n",
       "    </tr>\n",
       "    <tr>\n",
       "      <td>1</td>\n",
       "      <td>0.012967</td>\n",
       "      <td>0.015051</td>\n",
       "      <td>00:18</td>\n",
       "    </tr>\n",
       "    <tr>\n",
       "      <td>2</td>\n",
       "      <td>0.013025</td>\n",
       "      <td>0.015057</td>\n",
       "      <td>00:19</td>\n",
       "    </tr>\n",
       "    <tr>\n",
       "      <td>3</td>\n",
       "      <td>0.012998</td>\n",
       "      <td>0.015057</td>\n",
       "      <td>00:19</td>\n",
       "    </tr>\n",
       "    <tr>\n",
       "      <td>4</td>\n",
       "      <td>0.013060</td>\n",
       "      <td>0.015033</td>\n",
       "      <td>00:19</td>\n",
       "    </tr>\n",
       "  </tbody>\n",
       "</table>"
      ],
      "text/plain": [
       "<IPython.core.display.HTML object>"
      ]
     },
     "metadata": {},
     "output_type": "display_data"
    }
   ],
   "source": [
    "learn.unfreeze()\n",
    "learn.fit_one_cycle(5, slice(1e-6),wd=0.4)"
   ]
  },
  {
   "cell_type": "code",
   "execution_count": 23,
   "metadata": {
    "execution": {
     "iopub.execute_input": "2020-11-13T09:33:17.748761Z",
     "iopub.status.busy": "2020-11-13T09:33:17.747826Z",
     "iopub.status.idle": "2020-11-13T09:33:17.982445Z",
     "shell.execute_reply": "2020-11-13T09:33:17.981600Z"
    },
    "papermill": {
     "duration": 0.303848,
     "end_time": "2020-11-13T09:33:17.982617",
     "exception": false,
     "start_time": "2020-11-13T09:33:17.678769",
     "status": "completed"
    },
    "tags": []
   },
   "outputs": [
    {
     "data": {
      "image/png": "[encoded data removed]",
      "text/plain": [
       "<Figure size 432x288 with 1 Axes>"
      ]
     },
     "metadata": {
      "needs_background": "light"
     },
     "output_type": "display_data"
    }
   ],
   "source": [
    "learn.recorder.plot_losses()"
   ]
  },
  {
   "cell_type": "code",
   "execution_count": 24,
   "metadata": {
    "execution": {
     "iopub.execute_input": "2020-11-13T09:33:18.093029Z",
     "iopub.status.busy": "2020-11-13T09:33:18.092149Z",
     "iopub.status.idle": "2020-11-13T09:33:18.571915Z",
     "shell.execute_reply": "2020-11-13T09:33:18.572821Z"
    },
    "papermill": {
     "duration": 0.540106,
     "end_time": "2020-11-13T09:33:18.573092",
     "exception": false,
     "start_time": "2020-11-13T09:33:18.032986",
     "status": "completed"
    },
    "tags": []
   },
   "outputs": [
    {
     "data": {
      "text/html": [],
      "text/plain": [
       "<IPython.core.display.HTML object>"
      ]
     },
     "metadata": {},
     "output_type": "display_data"
    }
   ],
   "source": [
    "preds, _ = learn.get_preds(ds_type=DatasetType.Test)"
   ]
  },
  {
   "cell_type": "code",
   "execution_count": 25,
   "metadata": {
    "execution": {
     "iopub.execute_input": "2020-11-13T09:33:18.697182Z",
     "iopub.status.busy": "2020-11-13T09:33:18.693836Z",
     "iopub.status.idle": "2020-11-13T09:33:18.827823Z",
     "shell.execute_reply": "2020-11-13T09:33:18.827085Z"
    },
    "papermill": {
     "duration": 0.197542,
     "end_time": "2020-11-13T09:33:18.828015",
     "exception": false,
     "start_time": "2020-11-13T09:33:18.630473",
     "status": "completed"
    },
    "tags": []
   },
   "outputs": [],
   "source": [
    "submission = pd.DataFrame({'sig_id':sample_submission['sig_id']})\n",
    "submission[dep_var] = pd.DataFrame(preds.detach().numpy())"
   ]
  },
  {
   "cell_type": "code",
   "execution_count": 26,
   "metadata": {
    "execution": {
     "iopub.execute_input": "2020-11-13T09:33:18.934919Z",
     "iopub.status.busy": "2020-11-13T09:33:18.934070Z",
     "iopub.status.idle": "2020-11-13T09:33:18.979156Z",
     "shell.execute_reply": "2020-11-13T09:33:18.979735Z"
    },
    "papermill": {
     "duration": 0.103181,
     "end_time": "2020-11-13T09:33:18.979918",
     "exception": false,
     "start_time": "2020-11-13T09:33:18.876737",
     "status": "completed"
    },
    "tags": []
   },
   "outputs": [],
   "source": [
    "submission.loc[submission['sig_id'].isin(test_features.loc[test_features['cp_type'] =='ctl_vehicle', 'sig_id']), train_targets_scored.columns[1:]] = 0"
   ]
  },
  {
   "cell_type": "code",
   "execution_count": 27,
   "metadata": {
    "execution": {
     "iopub.execute_input": "2020-11-13T09:33:19.108903Z",
     "iopub.status.busy": "2020-11-13T09:33:19.103964Z",
     "iopub.status.idle": "2020-11-13T09:33:19.114871Z",
     "shell.execute_reply": "2020-11-13T09:33:19.114062Z"
    },
    "papermill": {
     "duration": 0.085272,
     "end_time": "2020-11-13T09:33:19.115003",
     "exception": false,
     "start_time": "2020-11-13T09:33:19.029731",
     "status": "completed"
    },
    "tags": []
   },
   "outputs": [
    {
     "data": {
      "text/html": [
       "<div>\n",
       "<style scoped>\n",
       "    .dataframe tbody tr th:only-of-type {\n",
       "        vertical-align: middle;\n",
       "    }\n",
       "\n",
       "    .dataframe tbody tr th {\n",
       "        vertical-align: top;\n",
       "    }\n",
       "\n",
       "    .dataframe thead th {\n",
       "        text-align: right;\n",
       "    }\n",
       "</style>\n",
       "<table border=\"1\" class=\"dataframe\">\n",
       "  <thead>\n",
       "    <tr style=\"text-align: right;\">\n",
       "      <th></th>\n",
       "      <th>sig_id</th>\n",
       "      <th>5-alpha_reductase_inhibitor</th>\n",
       "      <th>11-beta-hsd1_inhibitor</th>\n",
       "      <th>acat_inhibitor</th>\n",
       "      <th>acetylcholine_receptor_agonist</th>\n",
       "      <th>acetylcholine_receptor_antagonist</th>\n",
       "      <th>acetylcholinesterase_inhibitor</th>\n",
       "      <th>adenosine_receptor_agonist</th>\n",
       "      <th>adenosine_receptor_antagonist</th>\n",
       "      <th>adenylyl_cyclase_activator</th>\n",
       "      <th>...</th>\n",
       "      <th>tropomyosin_receptor_kinase_inhibitor</th>\n",
       "      <th>trpv_agonist</th>\n",
       "      <th>trpv_antagonist</th>\n",
       "      <th>tubulin_inhibitor</th>\n",
       "      <th>tyrosine_kinase_inhibitor</th>\n",
       "      <th>ubiquitin_specific_protease_inhibitor</th>\n",
       "      <th>vegfr_inhibitor</th>\n",
       "      <th>vitamin_b</th>\n",
       "      <th>vitamin_d_receptor_agonist</th>\n",
       "      <th>wnt_inhibitor</th>\n",
       "    </tr>\n",
       "  </thead>\n",
       "  <tbody>\n",
       "    <tr>\n",
       "      <th>0</th>\n",
       "      <td>id_0004d9e33</td>\n",
       "      <td>0.000095</td>\n",
       "      <td>0.000302</td>\n",
       "      <td>0.004986</td>\n",
       "      <td>0.024317</td>\n",
       "      <td>0.018408</td>\n",
       "      <td>0.004984</td>\n",
       "      <td>0.001897</td>\n",
       "      <td>0.012921</td>\n",
       "      <td>0.000001</td>\n",
       "      <td>...</td>\n",
       "      <td>0.001238</td>\n",
       "      <td>0.000709</td>\n",
       "      <td>0.002005</td>\n",
       "      <td>0.000569</td>\n",
       "      <td>0.000120</td>\n",
       "      <td>0.000914</td>\n",
       "      <td>0.000138</td>\n",
       "      <td>0.001831</td>\n",
       "      <td>0.019669</td>\n",
       "      <td>0.000918</td>\n",
       "    </tr>\n",
       "    <tr>\n",
       "      <th>1</th>\n",
       "      <td>id_001897cda</td>\n",
       "      <td>0.000003</td>\n",
       "      <td>0.000090</td>\n",
       "      <td>0.000181</td>\n",
       "      <td>0.000804</td>\n",
       "      <td>0.000426</td>\n",
       "      <td>0.000188</td>\n",
       "      <td>0.001194</td>\n",
       "      <td>0.007549</td>\n",
       "      <td>0.001515</td>\n",
       "      <td>...</td>\n",
       "      <td>0.000044</td>\n",
       "      <td>0.000509</td>\n",
       "      <td>0.000820</td>\n",
       "      <td>0.000610</td>\n",
       "      <td>0.013165</td>\n",
       "      <td>0.000029</td>\n",
       "      <td>0.006400</td>\n",
       "      <td>0.000085</td>\n",
       "      <td>0.000290</td>\n",
       "      <td>0.001593</td>\n",
       "    </tr>\n",
       "    <tr>\n",
       "      <th>2</th>\n",
       "      <td>id_002429b5b</td>\n",
       "      <td>0.000000</td>\n",
       "      <td>0.000000</td>\n",
       "      <td>0.000000</td>\n",
       "      <td>0.000000</td>\n",
       "      <td>0.000000</td>\n",
       "      <td>0.000000</td>\n",
       "      <td>0.000000</td>\n",
       "      <td>0.000000</td>\n",
       "      <td>0.000000</td>\n",
       "      <td>...</td>\n",
       "      <td>0.000000</td>\n",
       "      <td>0.000000</td>\n",
       "      <td>0.000000</td>\n",
       "      <td>0.000000</td>\n",
       "      <td>0.000000</td>\n",
       "      <td>0.000000</td>\n",
       "      <td>0.000000</td>\n",
       "      <td>0.000000</td>\n",
       "      <td>0.000000</td>\n",
       "      <td>0.000000</td>\n",
       "    </tr>\n",
       "    <tr>\n",
       "      <th>3</th>\n",
       "      <td>id_00276f245</td>\n",
       "      <td>0.000104</td>\n",
       "      <td>0.000148</td>\n",
       "      <td>0.000755</td>\n",
       "      <td>0.007309</td>\n",
       "      <td>0.013164</td>\n",
       "      <td>0.002811</td>\n",
       "      <td>0.007252</td>\n",
       "      <td>0.007023</td>\n",
       "      <td>0.000232</td>\n",
       "      <td>...</td>\n",
       "      <td>0.000237</td>\n",
       "      <td>0.000867</td>\n",
       "      <td>0.004226</td>\n",
       "      <td>0.005030</td>\n",
       "      <td>0.013668</td>\n",
       "      <td>0.000065</td>\n",
       "      <td>0.001263</td>\n",
       "      <td>0.001984</td>\n",
       "      <td>0.002089</td>\n",
       "      <td>0.005261</td>\n",
       "    </tr>\n",
       "    <tr>\n",
       "      <th>4</th>\n",
       "      <td>id_0027f1083</td>\n",
       "      <td>0.000513</td>\n",
       "      <td>0.000353</td>\n",
       "      <td>0.001016</td>\n",
       "      <td>0.010706</td>\n",
       "      <td>0.018930</td>\n",
       "      <td>0.004314</td>\n",
       "      <td>0.006532</td>\n",
       "      <td>0.001926</td>\n",
       "      <td>0.000026</td>\n",
       "      <td>...</td>\n",
       "      <td>0.000401</td>\n",
       "      <td>0.000068</td>\n",
       "      <td>0.001694</td>\n",
       "      <td>0.000562</td>\n",
       "      <td>0.000336</td>\n",
       "      <td>0.000090</td>\n",
       "      <td>0.000132</td>\n",
       "      <td>0.000745</td>\n",
       "      <td>0.000698</td>\n",
       "      <td>0.001184</td>\n",
       "    </tr>\n",
       "  </tbody>\n",
       "</table>\n",
       "<p>5 rows × 207 columns</p>\n",
       "</div>"
      ],
      "text/plain": [
       "         sig_id  5-alpha_reductase_inhibitor  11-beta-hsd1_inhibitor  \\\n",
       "0  id_0004d9e33                     0.000095                0.000302   \n",
       "1  id_001897cda                     0.000003                0.000090   \n",
       "2  id_002429b5b                     0.000000                0.000000   \n",
       "3  id_00276f245                     0.000104                0.000148   \n",
       "4  id_0027f1083                     0.000513                0.000353   \n",
       "\n",
       "   acat_inhibitor  acetylcholine_receptor_agonist  \\\n",
       "0        0.004986                        0.024317   \n",
       "1        0.000181                        0.000804   \n",
       "2        0.000000                        0.000000   \n",
       "3        0.000755                        0.007309   \n",
       "4        0.001016                        0.010706   \n",
       "\n",
       "   acetylcholine_receptor_antagonist  acetylcholinesterase_inhibitor  \\\n",
       "0                           0.018408                        0.004984   \n",
       "1                           0.000426                        0.000188   \n",
       "2                           0.000000                        0.000000   \n",
       "3                           0.013164                        0.002811   \n",
       "4                           0.018930                        0.004314   \n",
       "\n",
       "   adenosine_receptor_agonist  adenosine_receptor_antagonist  \\\n",
       "0                    0.001897                       0.012921   \n",
       "1                    0.001194                       0.007549   \n",
       "2                    0.000000                       0.000000   \n",
       "3                    0.007252                       0.007023   \n",
       "4                    0.006532                       0.001926   \n",
       "\n",
       "   adenylyl_cyclase_activator  ...  tropomyosin_receptor_kinase_inhibitor  \\\n",
       "0                    0.000001  ...                               0.001238   \n",
       "1                    0.001515  ...                               0.000044   \n",
       "2                    0.000000  ...                               0.000000   \n",
       "3                    0.000232  ...                               0.000237   \n",
       "4                    0.000026  ...                               0.000401   \n",
       "\n",
       "   trpv_agonist  trpv_antagonist  tubulin_inhibitor  \\\n",
       "0      0.000709         0.002005           0.000569   \n",
       "1      0.000509         0.000820           0.000610   \n",
       "2      0.000000         0.000000           0.000000   \n",
       "3      0.000867         0.004226           0.005030   \n",
       "4      0.000068         0.001694           0.000562   \n",
       "\n",
       "   tyrosine_kinase_inhibitor  ubiquitin_specific_protease_inhibitor  \\\n",
       "0                   0.000120                               0.000914   \n",
       "1                   0.013165                               0.000029   \n",
       "2                   0.000000                               0.000000   \n",
       "3                   0.013668                               0.000065   \n",
       "4                   0.000336                               0.000090   \n",
       "\n",
       "   vegfr_inhibitor  vitamin_b  vitamin_d_receptor_agonist  wnt_inhibitor  \n",
       "0         0.000138   0.001831                    0.019669       0.000918  \n",
       "1         0.006400   0.000085                    0.000290       0.001593  \n",
       "2         0.000000   0.000000                    0.000000       0.000000  \n",
       "3         0.001263   0.001984                    0.002089       0.005261  \n",
       "4         0.000132   0.000745                    0.000698       0.001184  \n",
       "\n",
       "[5 rows x 207 columns]"
      ]
     },
     "execution_count": 27,
     "metadata": {},
     "output_type": "execute_result"
    }
   ],
   "source": [
    "submission.head()"
   ]
  },
  {
   "cell_type": "code",
   "execution_count": 28,
   "metadata": {
    "execution": {
     "iopub.execute_input": "2020-11-13T09:33:19.217943Z",
     "iopub.status.busy": "2020-11-13T09:33:19.217121Z",
     "iopub.status.idle": "2020-11-13T09:33:21.356431Z",
     "shell.execute_reply": "2020-11-13T09:33:21.355657Z"
    },
    "papermill": {
     "duration": 2.19242,
     "end_time": "2020-11-13T09:33:21.356575",
     "exception": false,
     "start_time": "2020-11-13T09:33:19.164155",
     "status": "completed"
    },
    "tags": []
   },
   "outputs": [],
   "source": [
    "submission.to_csv('submission.csv',index=False)"
   ]
  }
 ],
 "metadata": {
  "kernelspec": {
   "display_name": "Python 3",
   "language": "python",
   "name": "python3"
  },
  "language_info": {
   "codemirror_mode": {
    "name": "ipython",
    "version": 3
   },
   "file_extension": ".py",
   "mimetype": "text/x-python",
   "name": "python",
   "nbconvert_exporter": "python",
   "pygments_lexer": "ipython3",
   "version": "3.7.6"
  },
  "papermill": {
   "duration": 418.191732,
   "end_time": "2020-11-13T09:33:21.513932",
   "environment_variables": {},
   "exception": null,
   "input_path": "__notebook__.ipynb",
   "output_path": "__notebook__.ipynb",
   "parameters": {},
   "start_time": "2020-11-13T09:26:23.322200",
   "version": "2.1.0"
  }
 },
 "nbformat": 4,
 "nbformat_minor": 4
}
