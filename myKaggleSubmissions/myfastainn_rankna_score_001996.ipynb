{
 "cells": [
  {
   "cell_type": "code",
   "execution_count": 1,
   "metadata": {
    "execution": {
     "iopub.execute_input": "2020-11-17T04:40:32.947249Z",
     "iopub.status.busy": "2020-11-17T04:40:32.946554Z",
     "iopub.status.idle": "2020-11-17T04:40:32.949194Z",
     "shell.execute_reply": "2020-11-17T04:40:32.948665Z"
    },
    "papermill": {
     "duration": 0.030309,
     "end_time": "2020-11-17T04:40:32.949305",
     "exception": false,
     "start_time": "2020-11-17T04:40:32.918996",
     "status": "completed"
    },
    "tags": []
   },
   "outputs": [],
   "source": [
    "#meta 11/16/2020 Moa - review submission 4 \n",
    "#based on myFastaiTabularData.ipynb notebook\n",
    "\n",
    "#mychanges\n",
    "#refer to my-kaggle-moa-0-eda.ipynb\n",
    "#handle categorical features: ordinal only\n",
    "#see if makes any difference\n",
    "\n",
    "#score didn't approve, was 0.01983(84), here 0.01996\n",
    "#next: remove coder related to `cp_time` as ordinal"
   ]
  },
  {
   "cell_type": "code",
   "execution_count": 2,
   "metadata": {
    "execution": {
     "iopub.execute_input": "2020-11-17T04:40:32.999227Z",
     "iopub.status.busy": "2020-11-17T04:40:32.998532Z",
     "iopub.status.idle": "2020-11-17T04:40:34.908867Z",
     "shell.execute_reply": "2020-11-17T04:40:34.908175Z"
    },
    "papermill": {
     "duration": 1.937739,
     "end_time": "2020-11-17T04:40:34.908986",
     "exception": false,
     "start_time": "2020-11-17T04:40:32.971247",
     "status": "completed"
    },
    "tags": []
   },
   "outputs": [],
   "source": [
    "#from fastai.tabular.data import *\n",
    "from fastai.tabular import *"
   ]
  },
  {
   "cell_type": "code",
   "execution_count": 3,
   "metadata": {
    "_cell_guid": "b1076dfc-b9ad-4769-8c92-a6c4dae69d19",
    "_uuid": "8f2839f25d086af736a60e9eeb907d3b93b6e0e5",
    "execution": {
     "iopub.execute_input": "2020-11-17T04:40:34.959379Z",
     "iopub.status.busy": "2020-11-17T04:40:34.958292Z",
     "iopub.status.idle": "2020-11-17T04:40:34.962425Z",
     "shell.execute_reply": "2020-11-17T04:40:34.963348Z"
    },
    "papermill": {
     "duration": 0.032776,
     "end_time": "2020-11-17T04:40:34.963573",
     "exception": false,
     "start_time": "2020-11-17T04:40:34.930797",
     "status": "completed"
    },
    "tags": []
   },
   "outputs": [
    {
     "name": "stdout",
     "output_type": "stream",
     "text": [
      "/kaggle/input/lish-moa/sample_submission.csv\n",
      "/kaggle/input/lish-moa/train_drug.csv\n",
      "/kaggle/input/lish-moa/train_targets_scored.csv\n",
      "/kaggle/input/lish-moa/train_targets_nonscored.csv\n",
      "/kaggle/input/lish-moa/train_features.csv\n",
      "/kaggle/input/lish-moa/test_features.csv\n"
     ]
    }
   ],
   "source": [
    "# This Python 3 environment comes with many helpful analytics libraries installed\n",
    "# It is defined by the kaggle/python Docker image: https://github.com/kaggle/docker-python\n",
    "# For example, here's several helpful packages to load\n",
    "\n",
    "import numpy as np # linear algebra\n",
    "import pandas as pd # data processing, CSV file I/O (e.g. pd.read_csv)\n",
    "\n",
    "# Input data files are available in the read-only \"../input/\" directory\n",
    "# For example, running this (by clicking run or pressing Shift+Enter) will list all files under the input directory\n",
    "\n",
    "import os\n",
    "for dirname, _, filenames in os.walk('/kaggle/input'):\n",
    "    for filename in filenames:\n",
    "        print(os.path.join(dirname, filename))\n",
    "\n",
    "# You can write up to 5GB to the current directory (/kaggle/working/) that gets preserved as output when you create a version using \"Save & Run All\" \n",
    "# You can also write temporary files to /kaggle/temp/, but they won't be saved outside of the current session"
   ]
  },
  {
   "cell_type": "markdown",
   "metadata": {
    "papermill": {
     "duration": 0.022271,
     "end_time": "2020-11-17T04:40:35.010472",
     "exception": false,
     "start_time": "2020-11-17T04:40:34.988201",
     "status": "completed"
    },
    "tags": []
   },
   "source": [
    "## 0. Load Data"
   ]
  },
  {
   "cell_type": "code",
   "execution_count": 4,
   "metadata": {
    "execution": {
     "iopub.execute_input": "2020-11-17T04:40:35.061566Z",
     "iopub.status.busy": "2020-11-17T04:40:35.060526Z",
     "iopub.status.idle": "2020-11-17T04:40:35.066965Z",
     "shell.execute_reply": "2020-11-17T04:40:35.067455Z"
    },
    "papermill": {
     "duration": 0.034382,
     "end_time": "2020-11-17T04:40:35.067599",
     "exception": false,
     "start_time": "2020-11-17T04:40:35.033217",
     "status": "completed"
    },
    "tags": []
   },
   "outputs": [
    {
     "data": {
      "text/plain": [
       "[PosixPath('../input/lish-moa/sample_submission.csv'),\n",
       " PosixPath('../input/lish-moa/train_drug.csv'),\n",
       " PosixPath('../input/lish-moa/train_targets_scored.csv'),\n",
       " PosixPath('../input/lish-moa/train_targets_nonscored.csv'),\n",
       " PosixPath('../input/lish-moa/train_features.csv'),\n",
       " PosixPath('../input/lish-moa/test_features.csv')]"
      ]
     },
     "execution_count": 4,
     "metadata": {},
     "output_type": "execute_result"
    }
   ],
   "source": [
    "#$was data_path = \"/kaggle/input/lish-moa/\"\n",
    "path = Path('../input/lish-moa')\n",
    "path.ls()"
   ]
  },
  {
   "cell_type": "code",
   "execution_count": 5,
   "metadata": {
    "_cell_guid": "79c7e3d0-c299-4dcb-8224-4455121ee9b0",
    "_uuid": "d629ff2d2480ee46fbb7e2d37f6b5fab8052498a",
    "execution": {
     "iopub.execute_input": "2020-11-17T04:40:35.120027Z",
     "iopub.status.busy": "2020-11-17T04:40:35.119208Z",
     "iopub.status.idle": "2020-11-17T04:40:40.686746Z",
     "shell.execute_reply": "2020-11-17T04:40:40.686141Z"
    },
    "papermill": {
     "duration": 5.596688,
     "end_time": "2020-11-17T04:40:40.686862",
     "exception": false,
     "start_time": "2020-11-17T04:40:35.090174",
     "status": "completed"
    },
    "tags": []
   },
   "outputs": [],
   "source": [
    "train_drugs = pd.read_csv(path/'train_drug.csv')\n",
    "train_features = pd.read_csv('/kaggle/input/lish-moa/train_features.csv')\n",
    "train_targets_scored = pd.read_csv('/kaggle/input/lish-moa/train_targets_scored.csv')\n",
    "train_targets_nonscored = pd.read_csv('/kaggle/input/lish-moa/train_targets_nonscored.csv')\n",
    "test_features = pd.read_csv('/kaggle/input/lish-moa/test_features.csv')\n",
    "sub = pd.read_csv('/kaggle/input/lish-moa/sample_submission.csv')"
   ]
  },
  {
   "cell_type": "code",
   "execution_count": 6,
   "metadata": {
    "execution": {
     "iopub.execute_input": "2020-11-17T04:40:40.755133Z",
     "iopub.status.busy": "2020-11-17T04:40:40.754402Z",
     "iopub.status.idle": "2020-11-17T04:40:40.784365Z",
     "shell.execute_reply": "2020-11-17T04:40:40.783845Z"
    },
    "papermill": {
     "duration": 0.07434,
     "end_time": "2020-11-17T04:40:40.784472",
     "exception": false,
     "start_time": "2020-11-17T04:40:40.710132",
     "status": "completed"
    },
    "tags": []
   },
   "outputs": [
    {
     "name": "stdout",
     "output_type": "stream",
     "text": [
      "Dataset sizes:  \n",
      "train drugs (23814, 2)\n",
      "train features (23814, 876)\n",
      "train targets (23814, 207)\n",
      "test features (3982, 876)\n"
     ]
    },
    {
     "data": {
      "text/html": [
       "<div>\n",
       "<style scoped>\n",
       "    .dataframe tbody tr th:only-of-type {\n",
       "        vertical-align: middle;\n",
       "    }\n",
       "\n",
       "    .dataframe tbody tr th {\n",
       "        vertical-align: top;\n",
       "    }\n",
       "\n",
       "    .dataframe thead th {\n",
       "        text-align: right;\n",
       "    }\n",
       "</style>\n",
       "<table border=\"1\" class=\"dataframe\">\n",
       "  <thead>\n",
       "    <tr style=\"text-align: right;\">\n",
       "      <th></th>\n",
       "      <th>sig_id</th>\n",
       "      <th>cp_type</th>\n",
       "      <th>cp_time</th>\n",
       "      <th>cp_dose</th>\n",
       "      <th>g-0</th>\n",
       "      <th>g-1</th>\n",
       "      <th>g-2</th>\n",
       "      <th>g-3</th>\n",
       "      <th>g-4</th>\n",
       "      <th>g-5</th>\n",
       "      <th>...</th>\n",
       "      <th>c-90</th>\n",
       "      <th>c-91</th>\n",
       "      <th>c-92</th>\n",
       "      <th>c-93</th>\n",
       "      <th>c-94</th>\n",
       "      <th>c-95</th>\n",
       "      <th>c-96</th>\n",
       "      <th>c-97</th>\n",
       "      <th>c-98</th>\n",
       "      <th>c-99</th>\n",
       "    </tr>\n",
       "  </thead>\n",
       "  <tbody>\n",
       "    <tr>\n",
       "      <th>0</th>\n",
       "      <td>id_000644bb2</td>\n",
       "      <td>trt_cp</td>\n",
       "      <td>24</td>\n",
       "      <td>D1</td>\n",
       "      <td>1.0620</td>\n",
       "      <td>0.5577</td>\n",
       "      <td>-0.2479</td>\n",
       "      <td>-0.6208</td>\n",
       "      <td>-0.1944</td>\n",
       "      <td>-1.0120</td>\n",
       "      <td>...</td>\n",
       "      <td>0.2862</td>\n",
       "      <td>0.2584</td>\n",
       "      <td>0.8076</td>\n",
       "      <td>0.5523</td>\n",
       "      <td>-0.1912</td>\n",
       "      <td>0.6584</td>\n",
       "      <td>-0.3981</td>\n",
       "      <td>0.2139</td>\n",
       "      <td>0.3801</td>\n",
       "      <td>0.4176</td>\n",
       "    </tr>\n",
       "    <tr>\n",
       "      <th>1</th>\n",
       "      <td>id_000779bfc</td>\n",
       "      <td>trt_cp</td>\n",
       "      <td>72</td>\n",
       "      <td>D1</td>\n",
       "      <td>0.0743</td>\n",
       "      <td>0.4087</td>\n",
       "      <td>0.2991</td>\n",
       "      <td>0.0604</td>\n",
       "      <td>1.0190</td>\n",
       "      <td>0.5207</td>\n",
       "      <td>...</td>\n",
       "      <td>-0.4265</td>\n",
       "      <td>0.7543</td>\n",
       "      <td>0.4708</td>\n",
       "      <td>0.0230</td>\n",
       "      <td>0.2957</td>\n",
       "      <td>0.4899</td>\n",
       "      <td>0.1522</td>\n",
       "      <td>0.1241</td>\n",
       "      <td>0.6077</td>\n",
       "      <td>0.7371</td>\n",
       "    </tr>\n",
       "    <tr>\n",
       "      <th>2</th>\n",
       "      <td>id_000a6266a</td>\n",
       "      <td>trt_cp</td>\n",
       "      <td>48</td>\n",
       "      <td>D1</td>\n",
       "      <td>0.6280</td>\n",
       "      <td>0.5817</td>\n",
       "      <td>1.5540</td>\n",
       "      <td>-0.0764</td>\n",
       "      <td>-0.0323</td>\n",
       "      <td>1.2390</td>\n",
       "      <td>...</td>\n",
       "      <td>-0.7250</td>\n",
       "      <td>-0.6297</td>\n",
       "      <td>0.6103</td>\n",
       "      <td>0.0223</td>\n",
       "      <td>-1.3240</td>\n",
       "      <td>-0.3174</td>\n",
       "      <td>-0.6417</td>\n",
       "      <td>-0.2187</td>\n",
       "      <td>-1.4080</td>\n",
       "      <td>0.6931</td>\n",
       "    </tr>\n",
       "  </tbody>\n",
       "</table>\n",
       "<p>3 rows × 876 columns</p>\n",
       "</div>"
      ],
      "text/plain": [
       "         sig_id cp_type  cp_time cp_dose     g-0     g-1     g-2     g-3  \\\n",
       "0  id_000644bb2  trt_cp       24      D1  1.0620  0.5577 -0.2479 -0.6208   \n",
       "1  id_000779bfc  trt_cp       72      D1  0.0743  0.4087  0.2991  0.0604   \n",
       "2  id_000a6266a  trt_cp       48      D1  0.6280  0.5817  1.5540 -0.0764   \n",
       "\n",
       "      g-4     g-5  ...    c-90    c-91    c-92    c-93    c-94    c-95  \\\n",
       "0 -0.1944 -1.0120  ...  0.2862  0.2584  0.8076  0.5523 -0.1912  0.6584   \n",
       "1  1.0190  0.5207  ... -0.4265  0.7543  0.4708  0.0230  0.2957  0.4899   \n",
       "2 -0.0323  1.2390  ... -0.7250 -0.6297  0.6103  0.0223 -1.3240 -0.3174   \n",
       "\n",
       "     c-96    c-97    c-98    c-99  \n",
       "0 -0.3981  0.2139  0.3801  0.4176  \n",
       "1  0.1522  0.1241  0.6077  0.7371  \n",
       "2 -0.6417 -0.2187 -1.4080  0.6931  \n",
       "\n",
       "[3 rows x 876 columns]"
      ]
     },
     "metadata": {},
     "output_type": "display_data"
    },
    {
     "data": {
      "text/html": [
       "<div>\n",
       "<style scoped>\n",
       "    .dataframe tbody tr th:only-of-type {\n",
       "        vertical-align: middle;\n",
       "    }\n",
       "\n",
       "    .dataframe tbody tr th {\n",
       "        vertical-align: top;\n",
       "    }\n",
       "\n",
       "    .dataframe thead th {\n",
       "        text-align: right;\n",
       "    }\n",
       "</style>\n",
       "<table border=\"1\" class=\"dataframe\">\n",
       "  <thead>\n",
       "    <tr style=\"text-align: right;\">\n",
       "      <th></th>\n",
       "      <th>sig_id</th>\n",
       "      <th>5-alpha_reductase_inhibitor</th>\n",
       "      <th>11-beta-hsd1_inhibitor</th>\n",
       "      <th>acat_inhibitor</th>\n",
       "      <th>acetylcholine_receptor_agonist</th>\n",
       "      <th>acetylcholine_receptor_antagonist</th>\n",
       "      <th>acetylcholinesterase_inhibitor</th>\n",
       "      <th>adenosine_receptor_agonist</th>\n",
       "      <th>adenosine_receptor_antagonist</th>\n",
       "      <th>adenylyl_cyclase_activator</th>\n",
       "      <th>...</th>\n",
       "      <th>tropomyosin_receptor_kinase_inhibitor</th>\n",
       "      <th>trpv_agonist</th>\n",
       "      <th>trpv_antagonist</th>\n",
       "      <th>tubulin_inhibitor</th>\n",
       "      <th>tyrosine_kinase_inhibitor</th>\n",
       "      <th>ubiquitin_specific_protease_inhibitor</th>\n",
       "      <th>vegfr_inhibitor</th>\n",
       "      <th>vitamin_b</th>\n",
       "      <th>vitamin_d_receptor_agonist</th>\n",
       "      <th>wnt_inhibitor</th>\n",
       "    </tr>\n",
       "  </thead>\n",
       "  <tbody>\n",
       "    <tr>\n",
       "      <th>0</th>\n",
       "      <td>id_000644bb2</td>\n",
       "      <td>0</td>\n",
       "      <td>0</td>\n",
       "      <td>0</td>\n",
       "      <td>0</td>\n",
       "      <td>0</td>\n",
       "      <td>0</td>\n",
       "      <td>0</td>\n",
       "      <td>0</td>\n",
       "      <td>0</td>\n",
       "      <td>...</td>\n",
       "      <td>0</td>\n",
       "      <td>0</td>\n",
       "      <td>0</td>\n",
       "      <td>0</td>\n",
       "      <td>0</td>\n",
       "      <td>0</td>\n",
       "      <td>0</td>\n",
       "      <td>0</td>\n",
       "      <td>0</td>\n",
       "      <td>0</td>\n",
       "    </tr>\n",
       "    <tr>\n",
       "      <th>1</th>\n",
       "      <td>id_000779bfc</td>\n",
       "      <td>0</td>\n",
       "      <td>0</td>\n",
       "      <td>0</td>\n",
       "      <td>0</td>\n",
       "      <td>0</td>\n",
       "      <td>0</td>\n",
       "      <td>0</td>\n",
       "      <td>0</td>\n",
       "      <td>0</td>\n",
       "      <td>...</td>\n",
       "      <td>0</td>\n",
       "      <td>0</td>\n",
       "      <td>0</td>\n",
       "      <td>0</td>\n",
       "      <td>0</td>\n",
       "      <td>0</td>\n",
       "      <td>0</td>\n",
       "      <td>0</td>\n",
       "      <td>0</td>\n",
       "      <td>0</td>\n",
       "    </tr>\n",
       "    <tr>\n",
       "      <th>2</th>\n",
       "      <td>id_000a6266a</td>\n",
       "      <td>0</td>\n",
       "      <td>0</td>\n",
       "      <td>0</td>\n",
       "      <td>0</td>\n",
       "      <td>0</td>\n",
       "      <td>0</td>\n",
       "      <td>0</td>\n",
       "      <td>0</td>\n",
       "      <td>0</td>\n",
       "      <td>...</td>\n",
       "      <td>0</td>\n",
       "      <td>0</td>\n",
       "      <td>0</td>\n",
       "      <td>0</td>\n",
       "      <td>0</td>\n",
       "      <td>0</td>\n",
       "      <td>0</td>\n",
       "      <td>0</td>\n",
       "      <td>0</td>\n",
       "      <td>0</td>\n",
       "    </tr>\n",
       "  </tbody>\n",
       "</table>\n",
       "<p>3 rows × 207 columns</p>\n",
       "</div>"
      ],
      "text/plain": [
       "         sig_id  5-alpha_reductase_inhibitor  11-beta-hsd1_inhibitor  \\\n",
       "0  id_000644bb2                            0                       0   \n",
       "1  id_000779bfc                            0                       0   \n",
       "2  id_000a6266a                            0                       0   \n",
       "\n",
       "   acat_inhibitor  acetylcholine_receptor_agonist  \\\n",
       "0               0                               0   \n",
       "1               0                               0   \n",
       "2               0                               0   \n",
       "\n",
       "   acetylcholine_receptor_antagonist  acetylcholinesterase_inhibitor  \\\n",
       "0                                  0                               0   \n",
       "1                                  0                               0   \n",
       "2                                  0                               0   \n",
       "\n",
       "   adenosine_receptor_agonist  adenosine_receptor_antagonist  \\\n",
       "0                           0                              0   \n",
       "1                           0                              0   \n",
       "2                           0                              0   \n",
       "\n",
       "   adenylyl_cyclase_activator  ...  tropomyosin_receptor_kinase_inhibitor  \\\n",
       "0                           0  ...                                      0   \n",
       "1                           0  ...                                      0   \n",
       "2                           0  ...                                      0   \n",
       "\n",
       "   trpv_agonist  trpv_antagonist  tubulin_inhibitor  \\\n",
       "0             0                0                  0   \n",
       "1             0                0                  0   \n",
       "2             0                0                  0   \n",
       "\n",
       "   tyrosine_kinase_inhibitor  ubiquitin_specific_protease_inhibitor  \\\n",
       "0                          0                                      0   \n",
       "1                          0                                      0   \n",
       "2                          0                                      0   \n",
       "\n",
       "   vegfr_inhibitor  vitamin_b  vitamin_d_receptor_agonist  wnt_inhibitor  \n",
       "0                0          0                           0              0  \n",
       "1                0          0                           0              0  \n",
       "2                0          0                           0              0  \n",
       "\n",
       "[3 rows x 207 columns]"
      ]
     },
     "metadata": {},
     "output_type": "display_data"
    }
   ],
   "source": [
    "print('Dataset sizes:  \\ntrain drugs', train_drugs.shape)\n",
    "print('train features', train_features.shape)\n",
    "print('train targets', train_targets_scored.shape)\n",
    "print('test features', test_features.shape)\n",
    "\n",
    "display(train_features.head(3))\n",
    "display(train_targets_scored.head(3))"
   ]
  },
  {
   "cell_type": "code",
   "execution_count": 7,
   "metadata": {
    "execution": {
     "iopub.execute_input": "2020-11-17T04:40:40.853564Z",
     "iopub.status.busy": "2020-11-17T04:40:40.848673Z",
     "iopub.status.idle": "2020-11-17T04:40:40.892669Z",
     "shell.execute_reply": "2020-11-17T04:40:40.892160Z"
    },
    "papermill": {
     "duration": 0.084118,
     "end_time": "2020-11-17T04:40:40.892813",
     "exception": false,
     "start_time": "2020-11-17T04:40:40.808695",
     "status": "completed"
    },
    "tags": []
   },
   "outputs": [
    {
     "data": {
      "text/html": [
       "<div>\n",
       "<style scoped>\n",
       "    .dataframe tbody tr th:only-of-type {\n",
       "        vertical-align: middle;\n",
       "    }\n",
       "\n",
       "    .dataframe tbody tr th {\n",
       "        vertical-align: top;\n",
       "    }\n",
       "\n",
       "    .dataframe thead th {\n",
       "        text-align: right;\n",
       "    }\n",
       "</style>\n",
       "<table border=\"1\" class=\"dataframe\">\n",
       "  <thead>\n",
       "    <tr style=\"text-align: right;\">\n",
       "      <th></th>\n",
       "      <th>sig_id</th>\n",
       "      <th>drug_id</th>\n",
       "    </tr>\n",
       "  </thead>\n",
       "  <tbody>\n",
       "    <tr>\n",
       "      <th>count</th>\n",
       "      <td>23814</td>\n",
       "      <td>23814</td>\n",
       "    </tr>\n",
       "    <tr>\n",
       "      <th>unique</th>\n",
       "      <td>23814</td>\n",
       "      <td>3289</td>\n",
       "    </tr>\n",
       "    <tr>\n",
       "      <th>top</th>\n",
       "      <td>id_3049581f6</td>\n",
       "      <td>cacb2b860</td>\n",
       "    </tr>\n",
       "    <tr>\n",
       "      <th>freq</th>\n",
       "      <td>1</td>\n",
       "      <td>1866</td>\n",
       "    </tr>\n",
       "  </tbody>\n",
       "</table>\n",
       "</div>"
      ],
      "text/plain": [
       "              sig_id    drug_id\n",
       "count          23814      23814\n",
       "unique         23814       3289\n",
       "top     id_3049581f6  cacb2b860\n",
       "freq               1       1866"
      ]
     },
     "execution_count": 7,
     "metadata": {},
     "output_type": "execute_result"
    }
   ],
   "source": [
    "train_drugs.describe()"
   ]
  },
  {
   "cell_type": "code",
   "execution_count": 8,
   "metadata": {
    "execution": {
     "iopub.execute_input": "2020-11-17T04:40:40.946461Z",
     "iopub.status.busy": "2020-11-17T04:40:40.945867Z",
     "iopub.status.idle": "2020-11-17T04:40:40.948696Z",
     "shell.execute_reply": "2020-11-17T04:40:40.949145Z"
    },
    "papermill": {
     "duration": 0.031469,
     "end_time": "2020-11-17T04:40:40.949285",
     "exception": false,
     "start_time": "2020-11-17T04:40:40.917816",
     "status": "completed"
    },
    "tags": []
   },
   "outputs": [],
   "source": [
    "##save before changing?\n",
    "#train_features_original = train_features.copy()"
   ]
  },
  {
   "cell_type": "markdown",
   "metadata": {
    "papermill": {
     "duration": 0.02392,
     "end_time": "2020-11-17T04:40:40.997572",
     "exception": false,
     "start_time": "2020-11-17T04:40:40.973652",
     "status": "completed"
    },
    "tags": []
   },
   "source": [
    "## 1. Data Prep\n",
    "- Categorical features: cp_type,cp_time,cp_dose\n",
    "- Combine features and targets \n",
    "\n",
    "todo: explore drugs and features  \n",
    "todo: remove control records from training"
   ]
  },
  {
   "cell_type": "code",
   "execution_count": 9,
   "metadata": {
    "execution": {
     "iopub.execute_input": "2020-11-17T04:40:41.054477Z",
     "iopub.status.busy": "2020-11-17T04:40:41.053827Z",
     "iopub.status.idle": "2020-11-17T04:40:41.066212Z",
     "shell.execute_reply": "2020-11-17T04:40:41.065303Z"
    },
    "papermill": {
     "duration": 0.044274,
     "end_time": "2020-11-17T04:40:41.066378",
     "exception": false,
     "start_time": "2020-11-17T04:40:41.022104",
     "status": "completed"
    },
    "tags": []
   },
   "outputs": [
    {
     "name": "stdout",
     "output_type": "stream",
     "text": [
      "ordinal:  [24, 72, 48]\n",
      "Categories (3, int64): [24 < 48 < 72]\n",
      "ordinal:  [24, 72, 48]\n",
      "Categories (3, int64): [24 < 48 < 72]\n"
     ]
    }
   ],
   "source": [
    "#handle categorical features: ordinal only\n",
    "cp_time = np.sort(train_features['cp_time'].unique()) #numpy.ndarray [24,48,72]\n",
    "\n",
    "train_features['cp_time'] = train_features['cp_time'].astype('category')\n",
    "train_features['cp_time'].cat.set_categories(cp_time, ordered=True, inplace=True)\n",
    "print(\"ordinal: \", train_features['cp_time'].unique())\n",
    "\n",
    "test_features['cp_time'] = test_features['cp_time'].astype('category')\n",
    "test_features['cp_time'].cat.set_categories(cp_time, ordered=True, inplace=True)\n",
    "print(\"ordinal: \", test_features['cp_time'].unique())"
   ]
  },
  {
   "cell_type": "code",
   "execution_count": 10,
   "metadata": {
    "execution": {
     "iopub.execute_input": "2020-11-17T04:40:41.121432Z",
     "iopub.status.busy": "2020-11-17T04:40:41.120383Z",
     "iopub.status.idle": "2020-11-17T04:40:41.124512Z",
     "shell.execute_reply": "2020-11-17T04:40:41.123893Z"
    },
    "papermill": {
     "duration": 0.033508,
     "end_time": "2020-11-17T04:40:41.124621",
     "exception": false,
     "start_time": "2020-11-17T04:40:41.091113",
     "status": "completed"
    },
    "tags": []
   },
   "outputs": [
    {
     "data": {
      "text/plain": [
       "((23814, 876), (23814, 207))"
      ]
     },
     "execution_count": 10,
     "metadata": {},
     "output_type": "execute_result"
    }
   ],
   "source": [
    "train_features.shape, train_targets_scored.shape #$verify match"
   ]
  },
  {
   "cell_type": "code",
   "execution_count": 11,
   "metadata": {
    "execution": {
     "iopub.execute_input": "2020-11-17T04:40:41.187142Z",
     "iopub.status.busy": "2020-11-17T04:40:41.186236Z",
     "iopub.status.idle": "2020-11-17T04:40:41.190772Z",
     "shell.execute_reply": "2020-11-17T04:40:41.190141Z"
    },
    "papermill": {
     "duration": 0.040838,
     "end_time": "2020-11-17T04:40:41.190883",
     "exception": false,
     "start_time": "2020-11-17T04:40:41.150045",
     "status": "completed"
    },
    "tags": []
   },
   "outputs": [
    {
     "data": {
      "text/html": [
       "<div>\n",
       "<style scoped>\n",
       "    .dataframe tbody tr th:only-of-type {\n",
       "        vertical-align: middle;\n",
       "    }\n",
       "\n",
       "    .dataframe tbody tr th {\n",
       "        vertical-align: top;\n",
       "    }\n",
       "\n",
       "    .dataframe thead th {\n",
       "        text-align: right;\n",
       "    }\n",
       "</style>\n",
       "<table border=\"1\" class=\"dataframe\">\n",
       "  <thead>\n",
       "    <tr style=\"text-align: right;\">\n",
       "      <th></th>\n",
       "      <th>c-95</th>\n",
       "      <th>c-96</th>\n",
       "      <th>c-97</th>\n",
       "      <th>c-98</th>\n",
       "    </tr>\n",
       "  </thead>\n",
       "  <tbody>\n",
       "    <tr>\n",
       "      <th>1</th>\n",
       "      <td>0.4899</td>\n",
       "      <td>0.1522</td>\n",
       "      <td>0.1241</td>\n",
       "      <td>0.6077</td>\n",
       "    </tr>\n",
       "    <tr>\n",
       "      <th>2</th>\n",
       "      <td>-0.3174</td>\n",
       "      <td>-0.6417</td>\n",
       "      <td>-0.2187</td>\n",
       "      <td>-1.4080</td>\n",
       "    </tr>\n",
       "    <tr>\n",
       "      <th>3</th>\n",
       "      <td>-1.2880</td>\n",
       "      <td>-1.6210</td>\n",
       "      <td>-0.8784</td>\n",
       "      <td>-0.3876</td>\n",
       "    </tr>\n",
       "    <tr>\n",
       "      <th>4</th>\n",
       "      <td>-0.3031</td>\n",
       "      <td>0.1094</td>\n",
       "      <td>0.2885</td>\n",
       "      <td>-0.3786</td>\n",
       "    </tr>\n",
       "  </tbody>\n",
       "</table>\n",
       "</div>"
      ],
      "text/plain": [
       "     c-95    c-96    c-97    c-98\n",
       "1  0.4899  0.1522  0.1241  0.6077\n",
       "2 -0.3174 -0.6417 -0.2187 -1.4080\n",
       "3 -1.2880 -1.6210 -0.8784 -0.3876\n",
       "4 -0.3031  0.1094  0.2885 -0.3786"
      ]
     },
     "execution_count": 11,
     "metadata": {},
     "output_type": "execute_result"
    }
   ],
   "source": [
    "#preview results - appended targets\n",
    "train_features.iloc[1:5,-5:-1]"
   ]
  },
  {
   "cell_type": "code",
   "execution_count": 12,
   "metadata": {
    "execution": {
     "iopub.execute_input": "2020-11-17T04:40:41.247165Z",
     "iopub.status.busy": "2020-11-17T04:40:41.246263Z",
     "iopub.status.idle": "2020-11-17T04:40:41.248806Z",
     "shell.execute_reply": "2020-11-17T04:40:41.248276Z"
    },
    "papermill": {
     "duration": 0.032025,
     "end_time": "2020-11-17T04:40:41.248918",
     "exception": false,
     "start_time": "2020-11-17T04:40:41.216893",
     "status": "completed"
    },
    "tags": []
   },
   "outputs": [],
   "source": [
    "##don't train on control records\n",
    "#EDA finding all drugs cacb2b860 being ctl_vehicle\n",
    "\n",
    "#train_features = train_features[train_features['cp_type'] != 'ctl_vehicle'].copy()\n",
    "#train_features.shape"
   ]
  },
  {
   "cell_type": "markdown",
   "metadata": {
    "papermill": {
     "duration": 0.025111,
     "end_time": "2020-11-17T04:40:41.299857",
     "exception": false,
     "start_time": "2020-11-17T04:40:41.274746",
     "status": "completed"
    },
    "tags": []
   },
   "source": [
    "## 2. Model Prep\n",
    "##### Using TabularPandas and TabularProc"
   ]
  },
  {
   "cell_type": "code",
   "execution_count": 13,
   "metadata": {
    "execution": {
     "iopub.execute_input": "2020-11-17T04:40:41.393317Z",
     "iopub.status.busy": "2020-11-17T04:40:41.388625Z",
     "iopub.status.idle": "2020-11-17T04:40:41.585638Z",
     "shell.execute_reply": "2020-11-17T04:40:41.584541Z"
    },
    "papermill": {
     "duration": 0.260628,
     "end_time": "2020-11-17T04:40:41.585850",
     "exception": false,
     "start_time": "2020-11-17T04:40:41.325222",
     "status": "completed"
    },
    "tags": []
   },
   "outputs": [
    {
     "name": "stdout",
     "output_type": "stream",
     "text": [
      "(23814, 876)\n",
      "(23814, 1082)\n"
     ]
    }
   ],
   "source": [
    "print(train_features.shape)\n",
    "\n",
    "cat_names = ['cp_type','cp_time','cp_dose']\n",
    "cont_columns = [i for i in train_features.columns if i not in ['cp_type','cp_time','cp_dose','sig_id']]\n",
    "dep_var = [i for i in train_targets_scored.columns if i !='sig_id']\n",
    "train_features[dep_var] = train_targets_scored[dep_var]\n",
    "\n",
    "print(train_features.shape)"
   ]
  },
  {
   "cell_type": "code",
   "execution_count": 14,
   "metadata": {
    "execution": {
     "iopub.execute_input": "2020-11-17T04:40:41.644230Z",
     "iopub.status.busy": "2020-11-17T04:40:41.643204Z",
     "iopub.status.idle": "2020-11-17T04:40:41.646401Z",
     "shell.execute_reply": "2020-11-17T04:40:41.645867Z"
    },
    "papermill": {
     "duration": 0.03375,
     "end_time": "2020-11-17T04:40:41.646516",
     "exception": false,
     "start_time": "2020-11-17T04:40:41.612766",
     "status": "completed"
    },
    "tags": []
   },
   "outputs": [],
   "source": [
    "procs = [FillMissing,Categorify,Normalize]"
   ]
  },
  {
   "cell_type": "code",
   "execution_count": 15,
   "metadata": {
    "execution": {
     "iopub.execute_input": "2020-11-17T04:40:41.704080Z",
     "iopub.status.busy": "2020-11-17T04:40:41.703274Z",
     "iopub.status.idle": "2020-11-17T04:40:41.707084Z",
     "shell.execute_reply": "2020-11-17T04:40:41.707536Z"
    },
    "papermill": {
     "duration": 0.035284,
     "end_time": "2020-11-17T04:40:41.707681",
     "exception": false,
     "start_time": "2020-11-17T04:40:41.672397",
     "status": "completed"
    },
    "tags": []
   },
   "outputs": [
    {
     "data": {
      "text/plain": [
       "['5-alpha_reductase_inhibitor',\n",
       " '11-beta-hsd1_inhibitor',\n",
       " 'acat_inhibitor',\n",
       " 'acetylcholine_receptor_agonist',\n",
       " 'acetylcholine_receptor_antagonist',\n",
       " 'acetylcholinesterase_inhibitor',\n",
       " 'adenosine_receptor_agonist',\n",
       " 'adenosine_receptor_antagonist',\n",
       " 'adenylyl_cyclase_activator',\n",
       " 'adrenergic_receptor_agonist']"
      ]
     },
     "execution_count": 15,
     "metadata": {},
     "output_type": "execute_result"
    }
   ],
   "source": [
    "dep_var[:10]"
   ]
  },
  {
   "cell_type": "code",
   "execution_count": 16,
   "metadata": {
    "execution": {
     "iopub.execute_input": "2020-11-17T04:40:41.766120Z",
     "iopub.status.busy": "2020-11-17T04:40:41.765466Z",
     "iopub.status.idle": "2020-11-17T04:40:45.417078Z",
     "shell.execute_reply": "2020-11-17T04:40:45.416523Z"
    },
    "papermill": {
     "duration": 3.683365,
     "end_time": "2020-11-17T04:40:45.417202",
     "exception": false,
     "start_time": "2020-11-17T04:40:41.733837",
     "status": "completed"
    },
    "tags": []
   },
   "outputs": [],
   "source": [
    "data = (TabularList.from_df(train_features, procs=procs, cont_names=cont_columns, cat_names=cat_names)\n",
    "        .split_by_rand_pct(valid_pct=0.10,seed=42)\n",
    "        .label_from_df(cols=dep_var)\n",
    "        .add_test(TabularList.from_df(test_features, cat_names=cat_names, cont_names=cont_columns, procs=procs))\n",
    "        .databunch())"
   ]
  },
  {
   "cell_type": "code",
   "execution_count": 17,
   "metadata": {
    "execution": {
     "iopub.execute_input": "2020-11-17T04:40:45.475926Z",
     "iopub.status.busy": "2020-11-17T04:40:45.475235Z",
     "iopub.status.idle": "2020-11-17T04:40:45.505523Z",
     "shell.execute_reply": "2020-11-17T04:40:45.504995Z"
    },
    "papermill": {
     "duration": 0.062079,
     "end_time": "2020-11-17T04:40:45.505643",
     "exception": false,
     "start_time": "2020-11-17T04:40:45.443564",
     "status": "completed"
    },
    "tags": []
   },
   "outputs": [],
   "source": [
    "learn = tabular_learner(data,layers=[300,200])"
   ]
  },
  {
   "cell_type": "code",
   "execution_count": 18,
   "metadata": {
    "execution": {
     "iopub.execute_input": "2020-11-17T04:40:45.563906Z",
     "iopub.status.busy": "2020-11-17T04:40:45.563260Z",
     "iopub.status.idle": "2020-11-17T04:40:50.407447Z",
     "shell.execute_reply": "2020-11-17T04:40:50.406848Z"
    },
    "papermill": {
     "duration": 4.875493,
     "end_time": "2020-11-17T04:40:50.407556",
     "exception": false,
     "start_time": "2020-11-17T04:40:45.532063",
     "status": "completed"
    },
    "tags": []
   },
   "outputs": [
    {
     "data": {
      "text/html": [
       "\n",
       "    <div>\n",
       "        <style>\n",
       "            /* Turns off some styling */\n",
       "            progress {\n",
       "                /* gets rid of default border in Firefox and Opera. */\n",
       "                border: none;\n",
       "                /* Needs to be in here for Safari polyfill so background images work as expected. */\n",
       "                background-size: auto;\n",
       "            }\n",
       "            .progress-bar-interrupted, .progress-bar-interrupted::-webkit-progress-bar {\n",
       "                background: #F44336;\n",
       "            }\n",
       "        </style>\n",
       "      <progress value='0' class='' max='1' style='width:300px; height:20px; vertical-align: middle;'></progress>\n",
       "      0.00% [0/1 00:00<00:00]\n",
       "    </div>\n",
       "    \n",
       "<table border=\"1\" class=\"dataframe\">\n",
       "  <thead>\n",
       "    <tr style=\"text-align: left;\">\n",
       "      <th>epoch</th>\n",
       "      <th>train_loss</th>\n",
       "      <th>valid_loss</th>\n",
       "      <th>time</th>\n",
       "    </tr>\n",
       "  </thead>\n",
       "  <tbody>\n",
       "  </tbody>\n",
       "</table><p>\n",
       "\n",
       "    <div>\n",
       "        <style>\n",
       "            /* Turns off some styling */\n",
       "            progress {\n",
       "                /* gets rid of default border in Firefox and Opera. */\n",
       "                border: none;\n",
       "                /* Needs to be in here for Safari polyfill so background images work as expected. */\n",
       "                background-size: auto;\n",
       "            }\n",
       "            .progress-bar-interrupted, .progress-bar-interrupted::-webkit-progress-bar {\n",
       "                background: #F44336;\n",
       "            }\n",
       "        </style>\n",
       "      <progress value='92' class='' max='334' style='width:300px; height:20px; vertical-align: middle;'></progress>\n",
       "      27.54% [92/334 00:04<00:10 1.6856]\n",
       "    </div>\n",
       "    "
      ],
      "text/plain": [
       "<IPython.core.display.HTML object>"
      ]
     },
     "metadata": {},
     "output_type": "display_data"
    },
    {
     "name": "stdout",
     "output_type": "stream",
     "text": [
      "LR Finder is complete, type {learner_name}.recorder.plot() to see the graph.\n",
      "Min numerical gradient: 3.31E-02\n",
      "Min loss divided by 10: 6.31E-02\n"
     ]
    },
    {
     "data": {
      "image/png": "[encoded data removed]",
      "text/plain": [
       "<Figure size 432x288 with 1 Axes>"
      ]
     },
     "metadata": {
      "needs_background": "light"
     },
     "output_type": "display_data"
    }
   ],
   "source": [
    "learn.lr_find()\n",
    "learn.recorder.plot(suggestion=True)"
   ]
  },
  {
   "cell_type": "code",
   "execution_count": 19,
   "metadata": {
    "execution": {
     "iopub.execute_input": "2020-11-17T04:40:50.469119Z",
     "iopub.status.busy": "2020-11-17T04:40:50.468139Z",
     "iopub.status.idle": "2020-11-17T04:42:07.750349Z",
     "shell.execute_reply": "2020-11-17T04:42:07.749752Z"
    },
    "papermill": {
     "duration": 77.315207,
     "end_time": "2020-11-17T04:42:07.750468",
     "exception": false,
     "start_time": "2020-11-17T04:40:50.435261",
     "status": "completed"
    },
    "tags": []
   },
   "outputs": [
    {
     "data": {
      "text/html": [
       "<table border=\"1\" class=\"dataframe\">\n",
       "  <thead>\n",
       "    <tr style=\"text-align: left;\">\n",
       "      <th>epoch</th>\n",
       "      <th>train_loss</th>\n",
       "      <th>valid_loss</th>\n",
       "      <th>time</th>\n",
       "    </tr>\n",
       "  </thead>\n",
       "  <tbody>\n",
       "    <tr>\n",
       "      <td>0</td>\n",
       "      <td>0.019955</td>\n",
       "      <td>0.018537</td>\n",
       "      <td>00:14</td>\n",
       "    </tr>\n",
       "    <tr>\n",
       "      <td>1</td>\n",
       "      <td>0.017272</td>\n",
       "      <td>0.016918</td>\n",
       "      <td>00:15</td>\n",
       "    </tr>\n",
       "    <tr>\n",
       "      <td>2</td>\n",
       "      <td>0.015991</td>\n",
       "      <td>0.016017</td>\n",
       "      <td>00:15</td>\n",
       "    </tr>\n",
       "    <tr>\n",
       "      <td>3</td>\n",
       "      <td>0.014700</td>\n",
       "      <td>0.015352</td>\n",
       "      <td>00:15</td>\n",
       "    </tr>\n",
       "    <tr>\n",
       "      <td>4</td>\n",
       "      <td>0.013828</td>\n",
       "      <td>0.015145</td>\n",
       "      <td>00:15</td>\n",
       "    </tr>\n",
       "  </tbody>\n",
       "</table>"
      ],
      "text/plain": [
       "<IPython.core.display.HTML object>"
      ]
     },
     "metadata": {},
     "output_type": "display_data"
    }
   ],
   "source": [
    "learn.fit_one_cycle(5, 3.31E-02)"
   ]
  },
  {
   "cell_type": "code",
   "execution_count": 20,
   "metadata": {
    "execution": {
     "iopub.execute_input": "2020-11-17T04:42:07.818686Z",
     "iopub.status.busy": "2020-11-17T04:42:07.811862Z",
     "iopub.status.idle": "2020-11-17T04:42:07.980319Z",
     "shell.execute_reply": "2020-11-17T04:42:07.979651Z"
    },
    "papermill": {
     "duration": 0.201646,
     "end_time": "2020-11-17T04:42:07.980430",
     "exception": false,
     "start_time": "2020-11-17T04:42:07.778784",
     "status": "completed"
    },
    "tags": []
   },
   "outputs": [
    {
     "data": {
      "image/png": "[encoded data removed]",
      "text/plain": [
       "<Figure size 432x288 with 1 Axes>"
      ]
     },
     "metadata": {
      "needs_background": "light"
     },
     "output_type": "display_data"
    }
   ],
   "source": [
    "learn.recorder.plot_losses()"
   ]
  },
  {
   "cell_type": "code",
   "execution_count": 21,
   "metadata": {
    "execution": {
     "iopub.execute_input": "2020-11-17T04:42:08.047138Z",
     "iopub.status.busy": "2020-11-17T04:42:08.046131Z",
     "iopub.status.idle": "2020-11-17T04:43:26.212355Z",
     "shell.execute_reply": "2020-11-17T04:43:26.211433Z"
    },
    "papermill": {
     "duration": 78.202691,
     "end_time": "2020-11-17T04:43:26.212532",
     "exception": false,
     "start_time": "2020-11-17T04:42:08.009841",
     "status": "completed"
    },
    "tags": []
   },
   "outputs": [
    {
     "data": {
      "text/html": [
       "<table border=\"1\" class=\"dataframe\">\n",
       "  <thead>\n",
       "    <tr style=\"text-align: left;\">\n",
       "      <th>epoch</th>\n",
       "      <th>train_loss</th>\n",
       "      <th>valid_loss</th>\n",
       "      <th>time</th>\n",
       "    </tr>\n",
       "  </thead>\n",
       "  <tbody>\n",
       "    <tr>\n",
       "      <td>0</td>\n",
       "      <td>0.013202</td>\n",
       "      <td>0.015160</td>\n",
       "      <td>00:15</td>\n",
       "    </tr>\n",
       "    <tr>\n",
       "      <td>1</td>\n",
       "      <td>0.013083</td>\n",
       "      <td>0.015130</td>\n",
       "      <td>00:16</td>\n",
       "    </tr>\n",
       "    <tr>\n",
       "      <td>2</td>\n",
       "      <td>0.013358</td>\n",
       "      <td>0.015123</td>\n",
       "      <td>00:15</td>\n",
       "    </tr>\n",
       "    <tr>\n",
       "      <td>3</td>\n",
       "      <td>0.013062</td>\n",
       "      <td>0.015112</td>\n",
       "      <td>00:15</td>\n",
       "    </tr>\n",
       "    <tr>\n",
       "      <td>4</td>\n",
       "      <td>0.013100</td>\n",
       "      <td>0.015146</td>\n",
       "      <td>00:15</td>\n",
       "    </tr>\n",
       "  </tbody>\n",
       "</table>"
      ],
      "text/plain": [
       "<IPython.core.display.HTML object>"
      ]
     },
     "metadata": {},
     "output_type": "display_data"
    }
   ],
   "source": [
    "learn.unfreeze()\n",
    "learn.fit_one_cycle(5,slice(1e-04),wd=0.2)"
   ]
  },
  {
   "cell_type": "code",
   "execution_count": 22,
   "metadata": {
    "execution": {
     "iopub.execute_input": "2020-11-17T04:43:26.296928Z",
     "iopub.status.busy": "2020-11-17T04:43:26.295310Z",
     "iopub.status.idle": "2020-11-17T04:43:26.469202Z",
     "shell.execute_reply": "2020-11-17T04:43:26.468640Z"
    },
    "papermill": {
     "duration": 0.217185,
     "end_time": "2020-11-17T04:43:26.469316",
     "exception": false,
     "start_time": "2020-11-17T04:43:26.252131",
     "status": "completed"
    },
    "tags": []
   },
   "outputs": [
    {
     "data": {
      "image/png": "[encoded data removed]",
      "text/plain": [
       "<Figure size 432x288 with 1 Axes>"
      ]
     },
     "metadata": {
      "needs_background": "light"
     },
     "output_type": "display_data"
    }
   ],
   "source": [
    "learn.recorder.plot_losses()"
   ]
  },
  {
   "cell_type": "code",
   "execution_count": 23,
   "metadata": {
    "execution": {
     "iopub.execute_input": "2020-11-17T04:43:26.542742Z",
     "iopub.status.busy": "2020-11-17T04:43:26.541738Z",
     "iopub.status.idle": "2020-11-17T04:44:44.830976Z",
     "shell.execute_reply": "2020-11-17T04:44:44.829909Z"
    },
    "papermill": {
     "duration": 78.329511,
     "end_time": "2020-11-17T04:44:44.831162",
     "exception": false,
     "start_time": "2020-11-17T04:43:26.501651",
     "status": "completed"
    },
    "tags": []
   },
   "outputs": [
    {
     "data": {
      "text/html": [
       "<table border=\"1\" class=\"dataframe\">\n",
       "  <thead>\n",
       "    <tr style=\"text-align: left;\">\n",
       "      <th>epoch</th>\n",
       "      <th>train_loss</th>\n",
       "      <th>valid_loss</th>\n",
       "      <th>time</th>\n",
       "    </tr>\n",
       "  </thead>\n",
       "  <tbody>\n",
       "    <tr>\n",
       "      <td>0</td>\n",
       "      <td>0.013204</td>\n",
       "      <td>0.015123</td>\n",
       "      <td>00:15</td>\n",
       "    </tr>\n",
       "    <tr>\n",
       "      <td>1</td>\n",
       "      <td>0.013368</td>\n",
       "      <td>0.015129</td>\n",
       "      <td>00:15</td>\n",
       "    </tr>\n",
       "    <tr>\n",
       "      <td>2</td>\n",
       "      <td>0.012946</td>\n",
       "      <td>0.015127</td>\n",
       "      <td>00:15</td>\n",
       "    </tr>\n",
       "    <tr>\n",
       "      <td>3</td>\n",
       "      <td>0.012872</td>\n",
       "      <td>0.015120</td>\n",
       "      <td>00:15</td>\n",
       "    </tr>\n",
       "    <tr>\n",
       "      <td>4</td>\n",
       "      <td>0.013214</td>\n",
       "      <td>0.015125</td>\n",
       "      <td>00:15</td>\n",
       "    </tr>\n",
       "  </tbody>\n",
       "</table>"
      ],
      "text/plain": [
       "<IPython.core.display.HTML object>"
      ]
     },
     "metadata": {},
     "output_type": "display_data"
    }
   ],
   "source": [
    "learn.unfreeze()\n",
    "learn.fit_one_cycle(5, slice(1e-5),wd=0.25)"
   ]
  },
  {
   "cell_type": "code",
   "execution_count": 24,
   "metadata": {
    "execution": {
     "iopub.execute_input": "2020-11-17T04:44:44.918399Z",
     "iopub.status.busy": "2020-11-17T04:44:44.906973Z",
     "iopub.status.idle": "2020-11-17T04:44:45.087140Z",
     "shell.execute_reply": "2020-11-17T04:44:45.086585Z"
    },
    "papermill": {
     "duration": 0.218087,
     "end_time": "2020-11-17T04:44:45.087252",
     "exception": false,
     "start_time": "2020-11-17T04:44:44.869165",
     "status": "completed"
    },
    "tags": []
   },
   "outputs": [
    {
     "data": {
      "image/png": "[encoded data removed]",
      "text/plain": [
       "<Figure size 432x288 with 1 Axes>"
      ]
     },
     "metadata": {
      "needs_background": "light"
     },
     "output_type": "display_data"
    }
   ],
   "source": [
    "learn.recorder.plot_losses()"
   ]
  },
  {
   "cell_type": "code",
   "execution_count": 25,
   "metadata": {
    "execution": {
     "iopub.execute_input": "2020-11-17T04:44:45.159615Z",
     "iopub.status.busy": "2020-11-17T04:44:45.158632Z",
     "iopub.status.idle": "2020-11-17T04:46:02.596045Z",
     "shell.execute_reply": "2020-11-17T04:46:02.596597Z"
    },
    "papermill": {
     "duration": 77.477759,
     "end_time": "2020-11-17T04:46:02.596803",
     "exception": false,
     "start_time": "2020-11-17T04:44:45.119044",
     "status": "completed"
    },
    "tags": []
   },
   "outputs": [
    {
     "data": {
      "text/html": [
       "<table border=\"1\" class=\"dataframe\">\n",
       "  <thead>\n",
       "    <tr style=\"text-align: left;\">\n",
       "      <th>epoch</th>\n",
       "      <th>train_loss</th>\n",
       "      <th>valid_loss</th>\n",
       "      <th>time</th>\n",
       "    </tr>\n",
       "  </thead>\n",
       "  <tbody>\n",
       "    <tr>\n",
       "      <td>0</td>\n",
       "      <td>0.013253</td>\n",
       "      <td>0.015107</td>\n",
       "      <td>00:14</td>\n",
       "    </tr>\n",
       "    <tr>\n",
       "      <td>1</td>\n",
       "      <td>0.012941</td>\n",
       "      <td>0.015114</td>\n",
       "      <td>00:15</td>\n",
       "    </tr>\n",
       "    <tr>\n",
       "      <td>2</td>\n",
       "      <td>0.013147</td>\n",
       "      <td>0.015122</td>\n",
       "      <td>00:15</td>\n",
       "    </tr>\n",
       "    <tr>\n",
       "      <td>3</td>\n",
       "      <td>0.013132</td>\n",
       "      <td>0.015118</td>\n",
       "      <td>00:16</td>\n",
       "    </tr>\n",
       "    <tr>\n",
       "      <td>4</td>\n",
       "      <td>0.013036</td>\n",
       "      <td>0.015105</td>\n",
       "      <td>00:14</td>\n",
       "    </tr>\n",
       "  </tbody>\n",
       "</table>"
      ],
      "text/plain": [
       "<IPython.core.display.HTML object>"
      ]
     },
     "metadata": {},
     "output_type": "display_data"
    }
   ],
   "source": [
    "learn.unfreeze()\n",
    "learn.fit_one_cycle(5, slice(1e-6),wd=0.4)"
   ]
  },
  {
   "cell_type": "code",
   "execution_count": 26,
   "metadata": {
    "execution": {
     "iopub.execute_input": "2020-11-17T04:46:02.675472Z",
     "iopub.status.busy": "2020-11-17T04:46:02.674329Z",
     "iopub.status.idle": "2020-11-17T04:46:02.844684Z",
     "shell.execute_reply": "2020-11-17T04:46:02.844187Z"
    },
    "papermill": {
     "duration": 0.214946,
     "end_time": "2020-11-17T04:46:02.844808",
     "exception": false,
     "start_time": "2020-11-17T04:46:02.629862",
     "status": "completed"
    },
    "tags": []
   },
   "outputs": [
    {
     "data": {
      "image/png": "[encoded data removed]",
      "text/plain": [
       "<Figure size 432x288 with 1 Axes>"
      ]
     },
     "metadata": {
      "needs_background": "light"
     },
     "output_type": "display_data"
    }
   ],
   "source": [
    "learn.recorder.plot_losses()"
   ]
  },
  {
   "cell_type": "markdown",
   "metadata": {
    "papermill": {
     "duration": 0.032672,
     "end_time": "2020-11-17T04:46:02.910273",
     "exception": false,
     "start_time": "2020-11-17T04:46:02.877601",
     "status": "completed"
    },
    "tags": []
   },
   "source": [
    "## 3, Predict"
   ]
  },
  {
   "cell_type": "code",
   "execution_count": 27,
   "metadata": {
    "execution": {
     "iopub.execute_input": "2020-11-17T04:46:02.983888Z",
     "iopub.status.busy": "2020-11-17T04:46:02.983175Z",
     "iopub.status.idle": "2020-11-17T04:46:03.423330Z",
     "shell.execute_reply": "2020-11-17T04:46:03.424397Z"
    },
    "papermill": {
     "duration": 0.481361,
     "end_time": "2020-11-17T04:46:03.424581",
     "exception": false,
     "start_time": "2020-11-17T04:46:02.943220",
     "status": "completed"
    },
    "tags": []
   },
   "outputs": [
    {
     "data": {
      "text/html": [],
      "text/plain": [
       "<IPython.core.display.HTML object>"
      ]
     },
     "metadata": {},
     "output_type": "display_data"
    }
   ],
   "source": [
    "preds, _ = learn.get_preds(ds_type=DatasetType.Test)"
   ]
  },
  {
   "cell_type": "code",
   "execution_count": 28,
   "metadata": {
    "execution": {
     "iopub.execute_input": "2020-11-17T04:46:03.501972Z",
     "iopub.status.busy": "2020-11-17T04:46:03.500493Z",
     "iopub.status.idle": "2020-11-17T04:46:03.604991Z",
     "shell.execute_reply": "2020-11-17T04:46:03.604425Z"
    },
    "papermill": {
     "duration": 0.146818,
     "end_time": "2020-11-17T04:46:03.605119",
     "exception": false,
     "start_time": "2020-11-17T04:46:03.458301",
     "status": "completed"
    },
    "tags": []
   },
   "outputs": [],
   "source": [
    "submission = pd.DataFrame({'sig_id':sub['sig_id']})\n",
    "submission[dep_var] = pd.DataFrame(preds.detach().numpy())"
   ]
  },
  {
   "cell_type": "code",
   "execution_count": 29,
   "metadata": {
    "execution": {
     "iopub.execute_input": "2020-11-17T04:46:03.681891Z",
     "iopub.status.busy": "2020-11-17T04:46:03.681166Z",
     "iopub.status.idle": "2020-11-17T04:46:03.720059Z",
     "shell.execute_reply": "2020-11-17T04:46:03.719400Z"
    },
    "papermill": {
     "duration": 0.081363,
     "end_time": "2020-11-17T04:46:03.720180",
     "exception": false,
     "start_time": "2020-11-17T04:46:03.638817",
     "status": "completed"
    },
    "tags": []
   },
   "outputs": [],
   "source": [
    "submission.loc[submission['sig_id'].isin(test_features.loc[test_features['cp_type'] =='ctl_vehicle', 'sig_id']), train_targets_scored.columns[1:]] = 0"
   ]
  },
  {
   "cell_type": "code",
   "execution_count": 30,
   "metadata": {
    "execution": {
     "iopub.execute_input": "2020-11-17T04:46:03.813437Z",
     "iopub.status.busy": "2020-11-17T04:46:03.812374Z",
     "iopub.status.idle": "2020-11-17T04:46:03.817172Z",
     "shell.execute_reply": "2020-11-17T04:46:03.816498Z"
    },
    "papermill": {
     "duration": 0.063885,
     "end_time": "2020-11-17T04:46:03.817289",
     "exception": false,
     "start_time": "2020-11-17T04:46:03.753404",
     "status": "completed"
    },
    "tags": []
   },
   "outputs": [
    {
     "data": {
      "text/html": [
       "<div>\n",
       "<style scoped>\n",
       "    .dataframe tbody tr th:only-of-type {\n",
       "        vertical-align: middle;\n",
       "    }\n",
       "\n",
       "    .dataframe tbody tr th {\n",
       "        vertical-align: top;\n",
       "    }\n",
       "\n",
       "    .dataframe thead th {\n",
       "        text-align: right;\n",
       "    }\n",
       "</style>\n",
       "<table border=\"1\" class=\"dataframe\">\n",
       "  <thead>\n",
       "    <tr style=\"text-align: right;\">\n",
       "      <th></th>\n",
       "      <th>sig_id</th>\n",
       "      <th>5-alpha_reductase_inhibitor</th>\n",
       "      <th>11-beta-hsd1_inhibitor</th>\n",
       "      <th>acat_inhibitor</th>\n",
       "      <th>acetylcholine_receptor_agonist</th>\n",
       "      <th>acetylcholine_receptor_antagonist</th>\n",
       "      <th>acetylcholinesterase_inhibitor</th>\n",
       "      <th>adenosine_receptor_agonist</th>\n",
       "      <th>adenosine_receptor_antagonist</th>\n",
       "      <th>adenylyl_cyclase_activator</th>\n",
       "      <th>...</th>\n",
       "      <th>tropomyosin_receptor_kinase_inhibitor</th>\n",
       "      <th>trpv_agonist</th>\n",
       "      <th>trpv_antagonist</th>\n",
       "      <th>tubulin_inhibitor</th>\n",
       "      <th>tyrosine_kinase_inhibitor</th>\n",
       "      <th>ubiquitin_specific_protease_inhibitor</th>\n",
       "      <th>vegfr_inhibitor</th>\n",
       "      <th>vitamin_b</th>\n",
       "      <th>vitamin_d_receptor_agonist</th>\n",
       "      <th>wnt_inhibitor</th>\n",
       "    </tr>\n",
       "  </thead>\n",
       "  <tbody>\n",
       "    <tr>\n",
       "      <th>0</th>\n",
       "      <td>id_0004d9e33</td>\n",
       "      <td>0.000276</td>\n",
       "      <td>0.000457</td>\n",
       "      <td>0.001858</td>\n",
       "      <td>0.017430</td>\n",
       "      <td>0.020373</td>\n",
       "      <td>0.003276</td>\n",
       "      <td>0.002429</td>\n",
       "      <td>0.003246</td>\n",
       "      <td>0.000003</td>\n",
       "      <td>...</td>\n",
       "      <td>0.001464</td>\n",
       "      <td>0.000186</td>\n",
       "      <td>0.005833</td>\n",
       "      <td>0.001594</td>\n",
       "      <td>0.000203</td>\n",
       "      <td>0.000175</td>\n",
       "      <td>0.000296</td>\n",
       "      <td>0.001813</td>\n",
       "      <td>0.000492</td>\n",
       "      <td>0.000865</td>\n",
       "    </tr>\n",
       "    <tr>\n",
       "      <th>1</th>\n",
       "      <td>id_001897cda</td>\n",
       "      <td>0.000058</td>\n",
       "      <td>0.000198</td>\n",
       "      <td>0.000848</td>\n",
       "      <td>0.001462</td>\n",
       "      <td>0.000678</td>\n",
       "      <td>0.000688</td>\n",
       "      <td>0.001681</td>\n",
       "      <td>0.017147</td>\n",
       "      <td>0.015014</td>\n",
       "      <td>...</td>\n",
       "      <td>0.000192</td>\n",
       "      <td>0.000157</td>\n",
       "      <td>0.000920</td>\n",
       "      <td>0.000052</td>\n",
       "      <td>0.014471</td>\n",
       "      <td>0.000250</td>\n",
       "      <td>0.004347</td>\n",
       "      <td>0.000389</td>\n",
       "      <td>0.005102</td>\n",
       "      <td>0.001622</td>\n",
       "    </tr>\n",
       "    <tr>\n",
       "      <th>2</th>\n",
       "      <td>id_002429b5b</td>\n",
       "      <td>0.000000</td>\n",
       "      <td>0.000000</td>\n",
       "      <td>0.000000</td>\n",
       "      <td>0.000000</td>\n",
       "      <td>0.000000</td>\n",
       "      <td>0.000000</td>\n",
       "      <td>0.000000</td>\n",
       "      <td>0.000000</td>\n",
       "      <td>0.000000</td>\n",
       "      <td>...</td>\n",
       "      <td>0.000000</td>\n",
       "      <td>0.000000</td>\n",
       "      <td>0.000000</td>\n",
       "      <td>0.000000</td>\n",
       "      <td>0.000000</td>\n",
       "      <td>0.000000</td>\n",
       "      <td>0.000000</td>\n",
       "      <td>0.000000</td>\n",
       "      <td>0.000000</td>\n",
       "      <td>0.000000</td>\n",
       "    </tr>\n",
       "    <tr>\n",
       "      <th>3</th>\n",
       "      <td>id_00276f245</td>\n",
       "      <td>0.000284</td>\n",
       "      <td>0.000112</td>\n",
       "      <td>0.002613</td>\n",
       "      <td>0.007461</td>\n",
       "      <td>0.015330</td>\n",
       "      <td>0.002008</td>\n",
       "      <td>0.001582</td>\n",
       "      <td>0.013465</td>\n",
       "      <td>0.000008</td>\n",
       "      <td>...</td>\n",
       "      <td>0.000098</td>\n",
       "      <td>0.001226</td>\n",
       "      <td>0.000926</td>\n",
       "      <td>0.001530</td>\n",
       "      <td>0.017408</td>\n",
       "      <td>0.000024</td>\n",
       "      <td>0.003081</td>\n",
       "      <td>0.002510</td>\n",
       "      <td>0.000992</td>\n",
       "      <td>0.004354</td>\n",
       "    </tr>\n",
       "    <tr>\n",
       "      <th>4</th>\n",
       "      <td>id_0027f1083</td>\n",
       "      <td>0.000735</td>\n",
       "      <td>0.000662</td>\n",
       "      <td>0.001150</td>\n",
       "      <td>0.018866</td>\n",
       "      <td>0.023041</td>\n",
       "      <td>0.004652</td>\n",
       "      <td>0.002934</td>\n",
       "      <td>0.001213</td>\n",
       "      <td>0.000008</td>\n",
       "      <td>...</td>\n",
       "      <td>0.000471</td>\n",
       "      <td>0.000084</td>\n",
       "      <td>0.004470</td>\n",
       "      <td>0.000745</td>\n",
       "      <td>0.000234</td>\n",
       "      <td>0.000247</td>\n",
       "      <td>0.000528</td>\n",
       "      <td>0.001771</td>\n",
       "      <td>0.000004</td>\n",
       "      <td>0.000573</td>\n",
       "    </tr>\n",
       "  </tbody>\n",
       "</table>\n",
       "<p>5 rows × 207 columns</p>\n",
       "</div>"
      ],
      "text/plain": [
       "         sig_id  5-alpha_reductase_inhibitor  11-beta-hsd1_inhibitor  \\\n",
       "0  id_0004d9e33                     0.000276                0.000457   \n",
       "1  id_001897cda                     0.000058                0.000198   \n",
       "2  id_002429b5b                     0.000000                0.000000   \n",
       "3  id_00276f245                     0.000284                0.000112   \n",
       "4  id_0027f1083                     0.000735                0.000662   \n",
       "\n",
       "   acat_inhibitor  acetylcholine_receptor_agonist  \\\n",
       "0        0.001858                        0.017430   \n",
       "1        0.000848                        0.001462   \n",
       "2        0.000000                        0.000000   \n",
       "3        0.002613                        0.007461   \n",
       "4        0.001150                        0.018866   \n",
       "\n",
       "   acetylcholine_receptor_antagonist  acetylcholinesterase_inhibitor  \\\n",
       "0                           0.020373                        0.003276   \n",
       "1                           0.000678                        0.000688   \n",
       "2                           0.000000                        0.000000   \n",
       "3                           0.015330                        0.002008   \n",
       "4                           0.023041                        0.004652   \n",
       "\n",
       "   adenosine_receptor_agonist  adenosine_receptor_antagonist  \\\n",
       "0                    0.002429                       0.003246   \n",
       "1                    0.001681                       0.017147   \n",
       "2                    0.000000                       0.000000   \n",
       "3                    0.001582                       0.013465   \n",
       "4                    0.002934                       0.001213   \n",
       "\n",
       "   adenylyl_cyclase_activator  ...  tropomyosin_receptor_kinase_inhibitor  \\\n",
       "0                    0.000003  ...                               0.001464   \n",
       "1                    0.015014  ...                               0.000192   \n",
       "2                    0.000000  ...                               0.000000   \n",
       "3                    0.000008  ...                               0.000098   \n",
       "4                    0.000008  ...                               0.000471   \n",
       "\n",
       "   trpv_agonist  trpv_antagonist  tubulin_inhibitor  \\\n",
       "0      0.000186         0.005833           0.001594   \n",
       "1      0.000157         0.000920           0.000052   \n",
       "2      0.000000         0.000000           0.000000   \n",
       "3      0.001226         0.000926           0.001530   \n",
       "4      0.000084         0.004470           0.000745   \n",
       "\n",
       "   tyrosine_kinase_inhibitor  ubiquitin_specific_protease_inhibitor  \\\n",
       "0                   0.000203                               0.000175   \n",
       "1                   0.014471                               0.000250   \n",
       "2                   0.000000                               0.000000   \n",
       "3                   0.017408                               0.000024   \n",
       "4                   0.000234                               0.000247   \n",
       "\n",
       "   vegfr_inhibitor  vitamin_b  vitamin_d_receptor_agonist  wnt_inhibitor  \n",
       "0         0.000296   0.001813                    0.000492       0.000865  \n",
       "1         0.004347   0.000389                    0.005102       0.001622  \n",
       "2         0.000000   0.000000                    0.000000       0.000000  \n",
       "3         0.003081   0.002510                    0.000992       0.004354  \n",
       "4         0.000528   0.001771                    0.000004       0.000573  \n",
       "\n",
       "[5 rows x 207 columns]"
      ]
     },
     "execution_count": 30,
     "metadata": {},
     "output_type": "execute_result"
    }
   ],
   "source": [
    "submission.head()"
   ]
  },
  {
   "cell_type": "code",
   "execution_count": 31,
   "metadata": {
    "execution": {
     "iopub.execute_input": "2020-11-17T04:46:03.891833Z",
     "iopub.status.busy": "2020-11-17T04:46:03.891155Z",
     "iopub.status.idle": "2020-11-17T04:46:05.234452Z",
     "shell.execute_reply": "2020-11-17T04:46:05.233792Z"
    },
    "papermill": {
     "duration": 1.383165,
     "end_time": "2020-11-17T04:46:05.234567",
     "exception": false,
     "start_time": "2020-11-17T04:46:03.851402",
     "status": "completed"
    },
    "tags": []
   },
   "outputs": [],
   "source": [
    "submission.to_csv('submission.csv',index=False)"
   ]
  },
  {
   "cell_type": "code",
   "execution_count": null,
   "metadata": {
    "papermill": {
     "duration": 0.033571,
     "end_time": "2020-11-17T04:46:05.302204",
     "exception": false,
     "start_time": "2020-11-17T04:46:05.268633",
     "status": "completed"
    },
    "tags": []
   },
   "outputs": [],
   "source": []
  }
 ],
 "metadata": {
  "kernelspec": {
   "display_name": "Python 3",
   "language": "python",
   "name": "python3"
  },
  "language_info": {
   "codemirror_mode": {
    "name": "ipython",
    "version": 3
   },
   "file_extension": ".py",
   "mimetype": "text/x-python",
   "name": "python",
   "nbconvert_exporter": "python",
   "pygments_lexer": "ipython3",
   "version": "3.8.3"
  },
  "papermill": {
   "duration": 336.71762,
   "end_time": "2020-11-17T04:46:05.447203",
   "environment_variables": {},
   "exception": null,
   "input_path": "__notebook__.ipynb",
   "output_path": "__notebook__.ipynb",
   "parameters": {},
   "start_time": "2020-11-17T04:40:28.729583",
   "version": "2.1.0"
  }
 },
 "nbformat": 4,
 "nbformat_minor": 4
}
