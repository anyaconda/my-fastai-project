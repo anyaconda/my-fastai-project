{
 "cells": [
  {
   "cell_type": "code",
   "execution_count": 1,
   "metadata": {
    "execution": {
     "iopub.execute_input": "2021-01-14T04:16:50.712183Z",
     "iopub.status.busy": "2021-01-14T04:16:50.711390Z",
     "iopub.status.idle": "2021-01-14T04:16:50.713789Z",
     "shell.execute_reply": "2021-01-14T04:16:50.714306Z"
    },
    "papermill": {
     "duration": 0.018785,
     "end_time": "2021-01-14T04:16:50.714431",
     "exception": false,
     "start_time": "2021-01-14T04:16:50.695646",
     "status": "completed"
    },
    "tags": []
   },
   "outputs": [],
   "source": [
    "### meta 12/12/2020 Kaggle Cassava Model - Inference\n",
    "#fast.ai 2020 study group Kaggle Competition\n",
    "#src https://www.kaggle.com/c/cassava-leaf-disease-classification\n",
    "#prev competition src https://www.kaggle.com/c/cassava-disease\n",
    "#references https://arxiv.org/pdf/1908.02900.pdf\n",
    "\n",
    "#input: df_train.pkl, export.pkl\n",
    "#output: submission.csv\n",
    "#pwd: /kaggle/working\n",
    "\n",
    "#history\n",
    "#here 1/10/2020 INFERENCE - ALPHA MODEL (POC)\n",
    "#      Export saved alpha dataframe & model and create submission.csv file\n",
    "#      Alpha model - manually tuned model\n",
    "#      POC export a model and make submissions.\n",
    "#      Successful submit with ? accuracy\n",
    "\n",
    "#was 1/9/2020 MODEL - BACK TO v15 SCORE0.877, TRAIN FT10. EXPORT FOR INFERENCE\n",
    "#      in FULL mode, train entire ds\n",
    "#      dataprep: dblocksplitter=ColSplitter(), item_tfms = CropPad(500), batch_tfms = aug_transforms(mult=2))\n",
    "#      model: learn = cnn_learner(dls, resnet18, loss_func=LabelSmoothingCrossEntropy(), metrics=accuracy)\n",
    "#      learn.fine_tune(10)\n",
    "#      export output for inference; no submission file output\n",
    "# 1/11/2020 MODEL - SAME AS ABOVE -> MINI, TRAIN FT1. EXPORT FOR INFERENCE\n",
    "#      MINI exports, trained on 50% subsample \n",
    "#      Mini model, test for inference on GPU during submission. Score .139\n",
    "# 1/11/2020 MODEL - SAME AS ABOVE -> EXPORT FULL DATA AND MODEL FOR INFERENCE\n",
    "#      FULL exports, trained on 100% train ds\n",
    "#      Full model, test for inference on GPU during submission. Score .139\n",
    "# 1/11/2020 MODEL - SAME AS ABOVE -> NO GPU. Score .139\n",
    "# 1/11/2020 MODEL - SAME AS ABOVE -> NO GPU. Added loop for test_img. Score .139\n",
    "#      Error: dls is not defined (because of CPU)\n",
    "# 1/11/2020 MODEL - SAME AS ABOVE -> GPU. Score .139\n",
    "#      RuntimeError: Input type (torch.cuda.FloatTensor) and weight type (torch.FloatTensor) should be the same\n",
    "\n",
    "#1/11/2020 MODEL - BACK TO v0 INFERENCE ONLY SUCCESSFUL SUBMIT. SCORE 0.652. ALPHA EXPORTS.\n",
    "#      FULL exports, trained on 100% train ds\n",
    "#      Full model?, alpha?, test for inference on CPU during submission. Same Score 0.652\n",
    "\n",
    "#1/12/2020 MODEL - BACK TO SUCCESSFUL v0 INFERENCE. SAME SCORE0.652. LATEST EXPORTS.\n",
    "#      FULL exports, trained on 100% train ds\n",
    "#      Full model?, switched from alpha to latest?, test for inference on CPU. Score 0.747\n",
    "#      Track inference time .1376 min but it really took at least an hour.\n",
    "#1/12/2020 MODEL - SAME AS ABOVE, ON GPU\n",
    "#      RuntimeError: Input type (torch.cuda.FloatTensor) and weight type (torch.FloatTensor) should be the same\n",
    "\n",
    "#1/12/2020 MODEL - INFERENCE (CPU). ADD TTA.\n",
    "#      Same as above, add TTA. Score ?\n",
    "\n",
    "#1/12/2020 MODEL - POC INFERENCE (CPU): REDO TEST IMAGES DATA ONLY. NO TTA FOR POC.\n",
    "#      Same as above, add DEBUG for testing mini model related exports. \n",
    "#      Redo test images data only -> no need for exported data, no need for dls with train data\n",
    "#      note: for now, previous code commented out.  if POC submission works, remove unnecessary code.\n",
    "#      Score 0.793\n",
    "\n",
    "#here 1/12/2020 MODEL - REFACTOR POC INFERENCE (CPU): TEST IMAGES DATA ONLY. NO TTA FOR POC.\n",
    "#      Same as above, DEBUG for testing mini model related exports. \n",
    "#      Score ?\n",
    "#here 1/12/2020 MODEL - SAME AS ABOVE, RUNS ON GPU\n",
    "#      Compare if faster submission \n",
    "#      Score ?"
   ]
  },
  {
   "cell_type": "code",
   "execution_count": 2,
   "metadata": {
    "_cell_guid": "b1076dfc-b9ad-4769-8c92-a6c4dae69d19",
    "_uuid": "8f2839f25d086af736a60e9eeb907d3b93b6e0e5",
    "execution": {
     "iopub.execute_input": "2021-01-14T04:16:50.737580Z",
     "iopub.status.busy": "2021-01-14T04:16:50.736659Z",
     "iopub.status.idle": "2021-01-14T04:16:53.672874Z",
     "shell.execute_reply": "2021-01-14T04:16:53.671757Z"
    },
    "papermill": {
     "duration": 2.949303,
     "end_time": "2021-01-14T04:16:53.672983",
     "exception": false,
     "start_time": "2021-01-14T04:16:50.723680",
     "status": "completed"
    },
    "tags": []
   },
   "outputs": [],
   "source": [
    "# This Python 3 environment comes with many helpful analytics libraries installed\n",
    "# It is defined by the kaggle/python Docker image: https://github.com/kaggle/docker-python\n",
    "\n",
    "import os\n",
    "#import time #to track performance time\n",
    "import numpy as np # linear algebra\n",
    "import pandas as pd # data processing, CSV file I/O (e.g. pd.read_csv)\n",
    "\n",
    "#modeling\n",
    "from fastai.vision.all import *\n",
    "\n",
    "# Input data files are available in the read-only \"../input/\" directory\n",
    "# You can write up to 20GB to the current directory (/kaggle/working/) that gets preserved as output when you create a version using \"Save & Run All\" \n",
    "# You can also write temporary files to /kaggle/temp/, but they won't be saved outside of the current session"
   ]
  },
  {
   "cell_type": "code",
   "execution_count": 3,
   "metadata": {
    "execution": {
     "iopub.execute_input": "2021-01-14T04:16:53.696886Z",
     "iopub.status.busy": "2021-01-14T04:16:53.695454Z",
     "iopub.status.idle": "2021-01-14T04:16:53.697965Z",
     "shell.execute_reply": "2021-01-14T04:16:53.698376Z"
    },
    "papermill": {
     "duration": 0.016862,
     "end_time": "2021-01-14T04:16:53.698473",
     "exception": false,
     "start_time": "2021-01-14T04:16:53.681611",
     "status": "completed"
    },
    "tags": []
   },
   "outputs": [],
   "source": [
    "#--constants and variables\n",
    "DEBUG = 1\n",
    "\n",
    "#set paths\n",
    "path = Path('../input/cassava-leaf-disease-classification')\n",
    "if not DEBUG: \n",
    "    path_model = Path('../input/my-cassava-model')\n",
    "    #path_data = Path('../input/my-cassava-data')\n",
    "else:\n",
    "    path_model = Path('../input/my-cassava-mini')\n",
    "    #path_data = Path('../input/my-cassava-mini')\n",
    "\n",
    "#--functions\n",
    "def get_x(row): return path/'train_images'/row['image_id']\n",
    "def get_y(row): return row['label']\n"
   ]
  },
  {
   "cell_type": "markdown",
   "metadata": {
    "papermill": {
     "duration": 0.008352,
     "end_time": "2021-01-14T04:16:53.714957",
     "exception": false,
     "start_time": "2021-01-14T04:16:53.706605",
     "status": "completed"
    },
    "tags": []
   },
   "source": [
    "# Cassava Disease Classification - Inference\n",
    "##### Objective: Classify pictures of cassava leaves into 1 of 4 disease categories or healthy.\n",
    "\n",
    "Export saved model and create a submission.csv file, with predictions on test images.\n"
   ]
  },
  {
   "cell_type": "markdown",
   "metadata": {
    "papermill": {
     "duration": 0.008053,
     "end_time": "2021-01-14T04:16:53.731303",
     "exception": false,
     "start_time": "2021-01-14T04:16:53.723250",
     "status": "completed"
    },
    "tags": []
   },
   "source": [
    "## 0. Load Prepared Data and Model\n",
    "\n",
    "- Input(s): export.pkl\n"
   ]
  },
  {
   "cell_type": "code",
   "execution_count": 4,
   "metadata": {
    "execution": {
     "iopub.execute_input": "2021-01-14T04:16:53.752236Z",
     "iopub.status.busy": "2021-01-14T04:16:53.751692Z",
     "iopub.status.idle": "2021-01-14T04:16:55.178247Z",
     "shell.execute_reply": "2021-01-14T04:16:55.176869Z"
    },
    "papermill": {
     "duration": 1.438642,
     "end_time": "2021-01-14T04:16:55.178355",
     "exception": false,
     "start_time": "2021-01-14T04:16:53.739713",
     "status": "completed"
    },
    "tags": []
   },
   "outputs": [
    {
     "name": "stdout",
     "output_type": "stream",
     "text": [
      "../input/my-cassava-mini\n"
     ]
    }
   ],
   "source": [
    "#track time\n",
    "t0 = time.time()\n",
    "\n",
    "#check if loaded model exists and load it\n",
    "if path_model.ls(file_exts='.pkl'):\n",
    "    print(path_model)\n",
    "    learn_inf = load_learner(path_model/'export.pkl')\n",
    "else:\n",
    "    print(\"No model to export\")"
   ]
  },
  {
   "cell_type": "markdown",
   "metadata": {
    "papermill": {
     "duration": 0.008492,
     "end_time": "2021-01-14T04:16:55.196055",
     "exception": false,
     "start_time": "2021-01-14T04:16:55.187563",
     "status": "completed"
    },
    "tags": []
   },
   "source": [
    "## 3. Predict"
   ]
  },
  {
   "cell_type": "code",
   "execution_count": 5,
   "metadata": {
    "execution": {
     "iopub.execute_input": "2021-01-14T04:16:55.218850Z",
     "iopub.status.busy": "2021-01-14T04:16:55.216919Z",
     "iopub.status.idle": "2021-01-14T04:16:55.219459Z",
     "shell.execute_reply": "2021-01-14T04:16:55.219875Z"
    },
    "papermill": {
     "duration": 0.015246,
     "end_time": "2021-01-14T04:16:55.219975",
     "exception": false,
     "start_time": "2021-01-14T04:16:55.204729",
     "status": "completed"
    },
    "tags": []
   },
   "outputs": [],
   "source": [
    "##Predict on one file\n",
    "#view test images - only one\n",
    "#test_img = get_image_files(path/'test_images')\n",
    "#Image.open(test_img[0])\n",
    "\n",
    "#predict one, returns a tuple, get 0th item\n",
    "#y_hat = learn_inf.predict(test_img[0])\n",
    "#y_hat[0]"
   ]
  },
  {
   "cell_type": "markdown",
   "metadata": {
    "papermill": {
     "duration": 0.008381,
     "end_time": "2021-01-14T04:16:55.236915",
     "exception": false,
     "start_time": "2021-01-14T04:16:55.228534",
     "status": "completed"
    },
    "tags": []
   },
   "source": [
    "Test dataset"
   ]
  },
  {
   "cell_type": "code",
   "execution_count": 6,
   "metadata": {
    "execution": {
     "iopub.execute_input": "2021-01-14T04:16:55.258592Z",
     "iopub.status.busy": "2021-01-14T04:16:55.257835Z",
     "iopub.status.idle": "2021-01-14T04:16:55.266117Z",
     "shell.execute_reply": "2021-01-14T04:16:55.265571Z"
    },
    "papermill": {
     "duration": 0.02077,
     "end_time": "2021-01-14T04:16:55.266203",
     "exception": false,
     "start_time": "2021-01-14T04:16:55.245433",
     "status": "completed"
    },
    "tags": []
   },
   "outputs": [],
   "source": [
    "#template\n",
    "sample_submission = pd.read_csv(path/'sample_submission.csv')\n",
    "submission = sample_submission.copy()"
   ]
  },
  {
   "cell_type": "code",
   "execution_count": 7,
   "metadata": {
    "execution": {
     "iopub.execute_input": "2021-01-14T04:16:55.294477Z",
     "iopub.status.busy": "2021-01-14T04:16:55.293942Z",
     "iopub.status.idle": "2021-01-14T04:16:55.299059Z",
     "shell.execute_reply": "2021-01-14T04:16:55.298593Z"
    },
    "papermill": {
     "duration": 0.023991,
     "end_time": "2021-01-14T04:16:55.299147",
     "exception": false,
     "start_time": "2021-01-14T04:16:55.275156",
     "status": "completed"
    },
    "tags": []
   },
   "outputs": [
    {
     "data": {
      "text/plain": [
       "['../input/cassava-leaf-disease-classification/test_images/2216849948.jpg']"
      ]
     },
     "execution_count": 7,
     "metadata": {},
     "output_type": "execute_result"
    }
   ],
   "source": [
    "#create test images id\n",
    "test_img_id = [os.path.join(path/'test_images', x) for x in submission['image_id'].values]\n",
    "\n",
    "#images in test files\n",
    "test_img_id"
   ]
  },
  {
   "cell_type": "code",
   "execution_count": 8,
   "metadata": {
    "execution": {
     "iopub.execute_input": "2021-01-14T04:16:55.325943Z",
     "iopub.status.busy": "2021-01-14T04:16:55.325362Z",
     "iopub.status.idle": "2021-01-14T04:16:55.851204Z",
     "shell.execute_reply": "2021-01-14T04:16:55.850626Z"
    },
    "papermill": {
     "duration": 0.543002,
     "end_time": "2021-01-14T04:16:55.851322",
     "exception": false,
     "start_time": "2021-01-14T04:16:55.308320",
     "status": "completed"
    },
    "tags": []
   },
   "outputs": [
    {
     "name": "stdout",
     "output_type": "stream",
     "text": [
      "1\n"
     ]
    },
    {
     "data": {
      "text/html": [],
      "text/plain": [
       "<IPython.core.display.HTML object>"
      ]
     },
     "metadata": {},
     "output_type": "display_data"
    },
    {
     "data": {
      "text/html": [
       "<div>\n",
       "<style scoped>\n",
       "    .dataframe tbody tr th:only-of-type {\n",
       "        vertical-align: middle;\n",
       "    }\n",
       "\n",
       "    .dataframe tbody tr th {\n",
       "        vertical-align: top;\n",
       "    }\n",
       "\n",
       "    .dataframe thead th {\n",
       "        text-align: right;\n",
       "    }\n",
       "</style>\n",
       "<table border=\"1\" class=\"dataframe\">\n",
       "  <thead>\n",
       "    <tr style=\"text-align: right;\">\n",
       "      <th></th>\n",
       "      <th>image_id</th>\n",
       "      <th>label</th>\n",
       "    </tr>\n",
       "  </thead>\n",
       "  <tbody>\n",
       "    <tr>\n",
       "      <th>0</th>\n",
       "      <td>2216849948.jpg</td>\n",
       "      <td>4</td>\n",
       "    </tr>\n",
       "  </tbody>\n",
       "</table>\n",
       "</div>"
      ],
      "text/plain": [
       "         image_id  label\n",
       "0  2216849948.jpg      4"
      ]
     },
     "execution_count": 8,
     "metadata": {},
     "output_type": "execute_result"
    }
   ],
   "source": [
    "test_dl = learn_inf.dls.test_dl(test_img_id)\n",
    "print(len(test_dl))\n",
    "\n",
    "#predict\n",
    "preds,_ = learn_inf.get_preds(dl=test_dl)\n",
    "#preds\n",
    "\n",
    "#submission\n",
    "submission['label'] = preds.argmax(dim=-1).numpy()\n",
    "submission.head()"
   ]
  },
  {
   "cell_type": "markdown",
   "metadata": {
    "papermill": {
     "duration": 0.010865,
     "end_time": "2021-01-14T04:16:55.873722",
     "exception": false,
     "start_time": "2021-01-14T04:16:55.862857",
     "status": "completed"
    },
    "tags": []
   },
   "source": [
    "## 4. Submit\n"
   ]
  },
  {
   "cell_type": "code",
   "execution_count": 9,
   "metadata": {
    "execution": {
     "iopub.execute_input": "2021-01-14T04:16:55.901874Z",
     "iopub.status.busy": "2021-01-14T04:16:55.901002Z",
     "iopub.status.idle": "2021-01-14T04:16:56.120377Z",
     "shell.execute_reply": "2021-01-14T04:16:56.121006Z"
    },
    "papermill": {
     "duration": 0.23618,
     "end_time": "2021-01-14T04:16:56.121166",
     "exception": false,
     "start_time": "2021-01-14T04:16:55.884986",
     "status": "completed"
    },
    "tags": []
   },
   "outputs": [
    {
     "name": "stdout",
     "output_type": "stream",
     "text": [
      "Inference time (in min) 0.03940569559733073\n"
     ]
    }
   ],
   "source": [
    "#save to csv\n",
    "submission.to_csv('submission.csv', index=False)\n",
    "\n",
    "#total inference time\n",
    "t1 = time.time()\n",
    "print (\"Inference time (in min)\", (time.time() - t0)/60)"
   ]
  }
 ],
 "metadata": {
  "kernelspec": {
   "display_name": "Python 3",
   "language": "python",
   "name": "python3"
  },
  "language_info": {
   "codemirror_mode": {
    "name": "ipython",
    "version": 3
   },
   "file_extension": ".py",
   "mimetype": "text/x-python",
   "name": "python",
   "nbconvert_exporter": "python",
   "pygments_lexer": "ipython3",
   "version": "3.7.6"
  },
  "papermill": {
   "duration": 10.905935,
   "end_time": "2021-01-14T04:16:57.153456",
   "environment_variables": {},
   "exception": null,
   "input_path": "__notebook__.ipynb",
   "output_path": "__notebook__.ipynb",
   "parameters": {},
   "start_time": "2021-01-14T04:16:46.247521",
   "version": "2.1.0"
  }
 },
 "nbformat": 4,
 "nbformat_minor": 4
}
