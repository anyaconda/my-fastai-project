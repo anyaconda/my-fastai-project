{
 "cells": [
  {
   "cell_type": "markdown",
   "metadata": {
    "colab_type": "text",
    "id": "view-in-github"
   },
   "source": [
    "<a href=\"https://colab.research.google.com/github/anyaconda/my-fastai-2020/blob/master/my02_deploy_homework.ipynb\" target=\"_parent\"><img src=\"https://colab.research.google.com/assets/colab-badge.svg\" alt=\"Open In Colab\"/></a>"
   ]
  },
  {
   "cell_type": "code",
   "execution_count": 1,
   "metadata": {
    "colab": {},
    "colab_type": "code",
    "id": "NHnjCxTxVTm9"
   },
   "outputs": [],
   "source": [
    "#hide\n",
    "from fastai.vision.all import *\n",
    "from fastai.vision.widgets import *\n"
   ]
  },
  {
   "cell_type": "markdown",
   "metadata": {
    "colab_type": "text",
    "id": "o-UcBFm7VTnB"
   },
   "source": [
    "# My go-skating App: From Model to Production"
   ]
  },
  {
   "cell_type": "markdown",
   "metadata": {
    "colab_type": "text",
    "id": "lDu1ZfMlVTod"
   },
   "source": [
    "## Turning Your Model into an Online Application\n",
    "Using the Model for Inference"
   ]
  },
  {
   "cell_type": "markdown",
   "metadata": {
    "colab_type": "text",
    "id": "HM9UsmIQaQx9"
   },
   "source": [
    "Get oriented"
   ]
  },
  {
   "cell_type": "code",
   "execution_count": 3,
   "metadata": {
    "colab": {
     "base_uri": "https://localhost:8080/",
     "height": 35
    },
    "colab_type": "code",
    "id": "9LBuoibxaa2W",
    "outputId": "2e527caf-732b-4b41-d589-bb421da564cc"
   },
   "outputs": [],
   "source": [
    "#%pwd\n",
    "#%ls"
   ]
  },
  {
   "cell_type": "code",
   "execution_count": 2,
   "metadata": {
    "colab": {
     "base_uri": "https://localhost:8080/",
     "height": 35
    },
    "colab_type": "code",
    "id": "MRbxQjsEbF-g",
    "outputId": "6f4aa16b-2475-4d14-d3aa-1aa443455d9c"
   },
   "outputs": [
    {
     "data": {
      "text/plain": [
       "(#1) [Path('export.pkl')]"
      ]
     },
     "execution_count": 2,
     "metadata": {},
     "output_type": "execute_result"
    }
   ],
   "source": [
    "#get model\n",
    "path = Path() \n",
    "path.ls(file_exts='.pkl')\n"
   ]
  },
  {
   "cell_type": "code",
   "execution_count": 5,
   "metadata": {},
   "outputs": [],
   "source": [
    "#look up function\n",
    "#load_learner?\n",
    "#returns\n",
    "#  Signature: load_learner(fname, cpu=True)\n",
    "#  Docstring: Load a `Learner` object in `fname`, optionally putting it on the `cpu`\n",
    "#  File:      c:\\anaconda3\\lib\\site-packages\\fastai\\learner.py\n",
    "#  Type:      function"
   ]
  },
  {
   "cell_type": "code",
   "execution_count": 3,
   "metadata": {
    "colab": {},
    "colab_type": "code",
    "id": "GsN6EUe-VTol"
   },
   "outputs": [],
   "source": [
    "learn_inf = load_learner(path/'export.pkl', cpu=True)\n",
    "#learn_inf.dls.vocab"
   ]
  },
  {
   "cell_type": "markdown",
   "metadata": {
    "colab_type": "text",
    "id": "TnWS02qjVTou"
   },
   "source": [
    "### Creating a Notebook App from the Model"
   ]
  },
  {
   "cell_type": "code",
   "execution_count": 4,
   "metadata": {
    "colab": {
     "base_uri": "https://localhost:8080/",
     "height": 49,
     "referenced_widgets": [
      "7a718179084e450fa673e9b31374d7cb",
      "4d09140fd2ea4d699bdc816710910f0d",
      "2575e2bffa6d412694600cb9bb9037a7"
     ]
    },
    "colab_type": "code",
    "id": "-GtDS9djVTou",
    "outputId": "30073927-c451-45de-c6fd-30d136715abd"
   },
   "outputs": [
    {
     "data": {
      "application/vnd.jupyter.widget-view+json": {
       "model_id": "a3be42fea51f4c6eb5360d51ea2cd045",
       "version_major": 2,
       "version_minor": 0
      },
      "text/plain": [
       "FileUpload(value={}, description='Upload')"
      ]
     },
     "metadata": {},
     "output_type": "display_data"
    }
   ],
   "source": [
    "#Don't run in GCP\n",
    "btn_upload = widgets.FileUpload()\n",
    "btn_upload"
   ]
  },
  {
   "cell_type": "code",
   "execution_count": 7,
   "metadata": {
    "colab": {},
    "colab_type": "code",
    "id": "sA97YM9PVTox"
   },
   "outputs": [],
   "source": [
    "#hide\n",
    "# For the book, we can't actually click an upload button, so we fake it\n",
    "#btn_upload = SimpleNamespace(data = ['images/grizzly.jpg'])"
   ]
  },
  {
   "cell_type": "code",
   "execution_count": 8,
   "metadata": {
    "colab": {},
    "colab_type": "code",
    "id": "exd3W2HIZSHh"
   },
   "outputs": [],
   "source": [
    "#hide\n",
    "# for GCP, we can't actually click an upload button, so we fake it\n",
    "#btn_upload = SimpleNamespace(data = ['img/CarolinaKostner.jpg'])"
   ]
  },
  {
   "cell_type": "code",
   "execution_count": 5,
   "metadata": {
    "colab": {},
    "colab_type": "code",
    "id": "6kjnsFHFVToz"
   },
   "outputs": [],
   "source": [
    "img = PILImage.create(btn_upload.data[-1])"
   ]
  },
  {
   "cell_type": "code",
   "execution_count": 6,
   "metadata": {
    "colab": {
     "base_uri": "https://localhost:8080/",
     "height": 102,
     "referenced_widgets": [
      "6a49cd6c1ca14e739835db1026dfa082",
      "ec1436f44cda4cd2b2ee9c078a074c60"
     ]
    },
    "colab_type": "code",
    "id": "Qo2WDbIUVTo2",
    "outputId": "0b459c62-5ecc-4659-b4ae-efe3a17de1ff"
   },
   "outputs": [
    {
     "data": {
      "application/vnd.jupyter.widget-view+json": {
       "model_id": "8939dcab37144ec69f6df5a7fbbc8512",
       "version_major": 2,
       "version_minor": 0
      },
      "text/plain": [
       "Output()"
      ]
     },
     "metadata": {},
     "output_type": "display_data"
    }
   ],
   "source": [
    "out_pl = widgets.Output()\n",
    "out_pl.clear_output()\n",
    "with out_pl: display(img.to_thumb(128,128))\n",
    "out_pl"
   ]
  },
  {
   "cell_type": "code",
   "execution_count": 7,
   "metadata": {
    "colab": {
     "base_uri": "https://localhost:8080/",
     "height": 17
    },
    "colab_type": "code",
    "id": "zNBV4aroVTo5",
    "outputId": "759c01ae-9758-4609-f842-1829ef97f4ac"
   },
   "outputs": [
    {
     "data": {
      "text/html": [],
      "text/plain": [
       "<IPython.core.display.HTML object>"
      ]
     },
     "metadata": {},
     "output_type": "display_data"
    },
    {
     "ename": "RuntimeError",
     "evalue": "DataLoader worker (pid(s) 4308, 8668, 12348, 14904) exited unexpectedly",
     "output_type": "error",
     "traceback": [
      "\u001b[1;31m---------------------------------------------------------------------------\u001b[0m",
      "\u001b[1;31mEmpty\u001b[0m                                     Traceback (most recent call last)",
      "\u001b[1;32mC:\\Anaconda3\\lib\\site-packages\\torch\\utils\\data\\dataloader.py\u001b[0m in \u001b[0;36m_try_get_data\u001b[1;34m(self, timeout)\u001b[0m\n\u001b[0;32m    778\u001b[0m         \u001b[1;32mtry\u001b[0m\u001b[1;33m:\u001b[0m\u001b[1;33m\u001b[0m\u001b[1;33m\u001b[0m\u001b[0m\n\u001b[1;32m--> 779\u001b[1;33m             \u001b[0mdata\u001b[0m \u001b[1;33m=\u001b[0m \u001b[0mself\u001b[0m\u001b[1;33m.\u001b[0m\u001b[0m_data_queue\u001b[0m\u001b[1;33m.\u001b[0m\u001b[0mget\u001b[0m\u001b[1;33m(\u001b[0m\u001b[0mtimeout\u001b[0m\u001b[1;33m=\u001b[0m\u001b[0mtimeout\u001b[0m\u001b[1;33m)\u001b[0m\u001b[1;33m\u001b[0m\u001b[1;33m\u001b[0m\u001b[0m\n\u001b[0m\u001b[0;32m    780\u001b[0m             \u001b[1;32mreturn\u001b[0m \u001b[1;33m(\u001b[0m\u001b[1;32mTrue\u001b[0m\u001b[1;33m,\u001b[0m \u001b[0mdata\u001b[0m\u001b[1;33m)\u001b[0m\u001b[1;33m\u001b[0m\u001b[1;33m\u001b[0m\u001b[0m\n",
      "\u001b[1;32mC:\\Anaconda3\\lib\\multiprocessing\\queues.py\u001b[0m in \u001b[0;36mget\u001b[1;34m(self, block, timeout)\u001b[0m\n\u001b[0;32m    104\u001b[0m                     \u001b[1;32mif\u001b[0m \u001b[1;32mnot\u001b[0m \u001b[0mself\u001b[0m\u001b[1;33m.\u001b[0m\u001b[0m_poll\u001b[0m\u001b[1;33m(\u001b[0m\u001b[0mtimeout\u001b[0m\u001b[1;33m)\u001b[0m\u001b[1;33m:\u001b[0m\u001b[1;33m\u001b[0m\u001b[1;33m\u001b[0m\u001b[0m\n\u001b[1;32m--> 105\u001b[1;33m                         \u001b[1;32mraise\u001b[0m \u001b[0mEmpty\u001b[0m\u001b[1;33m\u001b[0m\u001b[1;33m\u001b[0m\u001b[0m\n\u001b[0m\u001b[0;32m    106\u001b[0m                 \u001b[1;32melif\u001b[0m \u001b[1;32mnot\u001b[0m \u001b[0mself\u001b[0m\u001b[1;33m.\u001b[0m\u001b[0m_poll\u001b[0m\u001b[1;33m(\u001b[0m\u001b[1;33m)\u001b[0m\u001b[1;33m:\u001b[0m\u001b[1;33m\u001b[0m\u001b[1;33m\u001b[0m\u001b[0m\n",
      "\u001b[1;31mEmpty\u001b[0m: ",
      "\nDuring handling of the above exception, another exception occurred:\n",
      "\u001b[1;31mRuntimeError\u001b[0m                              Traceback (most recent call last)",
      "\u001b[1;32m<ipython-input-7-9a18687b977c>\u001b[0m in \u001b[0;36m<module>\u001b[1;34m\u001b[0m\n\u001b[1;32m----> 1\u001b[1;33m \u001b[0mpred\u001b[0m\u001b[1;33m,\u001b[0m\u001b[0mpred_idx\u001b[0m\u001b[1;33m,\u001b[0m\u001b[0mprobs\u001b[0m \u001b[1;33m=\u001b[0m \u001b[0mlearn_inf\u001b[0m\u001b[1;33m.\u001b[0m\u001b[0mpredict\u001b[0m\u001b[1;33m(\u001b[0m\u001b[0mimg\u001b[0m\u001b[1;33m)\u001b[0m\u001b[1;33m\u001b[0m\u001b[1;33m\u001b[0m\u001b[0m\n\u001b[0m",
      "\u001b[1;32mC:\\Anaconda3\\lib\\site-packages\\fastai\\learner.py\u001b[0m in \u001b[0;36mpredict\u001b[1;34m(self, item, rm_type_tfms, with_input)\u001b[0m\n\u001b[0;32m    246\u001b[0m     \u001b[1;32mdef\u001b[0m \u001b[0mpredict\u001b[0m\u001b[1;33m(\u001b[0m\u001b[0mself\u001b[0m\u001b[1;33m,\u001b[0m \u001b[0mitem\u001b[0m\u001b[1;33m,\u001b[0m \u001b[0mrm_type_tfms\u001b[0m\u001b[1;33m=\u001b[0m\u001b[1;32mNone\u001b[0m\u001b[1;33m,\u001b[0m \u001b[0mwith_input\u001b[0m\u001b[1;33m=\u001b[0m\u001b[1;32mFalse\u001b[0m\u001b[1;33m)\u001b[0m\u001b[1;33m:\u001b[0m\u001b[1;33m\u001b[0m\u001b[1;33m\u001b[0m\u001b[0m\n\u001b[0;32m    247\u001b[0m         \u001b[0mdl\u001b[0m \u001b[1;33m=\u001b[0m \u001b[0mself\u001b[0m\u001b[1;33m.\u001b[0m\u001b[0mdls\u001b[0m\u001b[1;33m.\u001b[0m\u001b[0mtest_dl\u001b[0m\u001b[1;33m(\u001b[0m\u001b[1;33m[\u001b[0m\u001b[0mitem\u001b[0m\u001b[1;33m]\u001b[0m\u001b[1;33m,\u001b[0m \u001b[0mrm_type_tfms\u001b[0m\u001b[1;33m=\u001b[0m\u001b[0mrm_type_tfms\u001b[0m\u001b[1;33m,\u001b[0m \u001b[0mnum_workers\u001b[0m\u001b[1;33m=\u001b[0m\u001b[1;36m0\u001b[0m\u001b[1;33m)\u001b[0m\u001b[1;33m\u001b[0m\u001b[1;33m\u001b[0m\u001b[0m\n\u001b[1;32m--> 248\u001b[1;33m         \u001b[0minp\u001b[0m\u001b[1;33m,\u001b[0m\u001b[0mpreds\u001b[0m\u001b[1;33m,\u001b[0m\u001b[0m_\u001b[0m\u001b[1;33m,\u001b[0m\u001b[0mdec_preds\u001b[0m \u001b[1;33m=\u001b[0m \u001b[0mself\u001b[0m\u001b[1;33m.\u001b[0m\u001b[0mget_preds\u001b[0m\u001b[1;33m(\u001b[0m\u001b[0mdl\u001b[0m\u001b[1;33m=\u001b[0m\u001b[0mdl\u001b[0m\u001b[1;33m,\u001b[0m \u001b[0mwith_input\u001b[0m\u001b[1;33m=\u001b[0m\u001b[1;32mTrue\u001b[0m\u001b[1;33m,\u001b[0m \u001b[0mwith_decoded\u001b[0m\u001b[1;33m=\u001b[0m\u001b[1;32mTrue\u001b[0m\u001b[1;33m)\u001b[0m\u001b[1;33m\u001b[0m\u001b[1;33m\u001b[0m\u001b[0m\n\u001b[0m\u001b[0;32m    249\u001b[0m         \u001b[0mi\u001b[0m \u001b[1;33m=\u001b[0m \u001b[0mgetattr\u001b[0m\u001b[1;33m(\u001b[0m\u001b[0mself\u001b[0m\u001b[1;33m.\u001b[0m\u001b[0mdls\u001b[0m\u001b[1;33m,\u001b[0m \u001b[1;34m'n_inp'\u001b[0m\u001b[1;33m,\u001b[0m \u001b[1;33m-\u001b[0m\u001b[1;36m1\u001b[0m\u001b[1;33m)\u001b[0m\u001b[1;33m\u001b[0m\u001b[1;33m\u001b[0m\u001b[0m\n\u001b[0;32m    250\u001b[0m         \u001b[0minp\u001b[0m \u001b[1;33m=\u001b[0m \u001b[1;33m(\u001b[0m\u001b[0minp\u001b[0m\u001b[1;33m,\u001b[0m\u001b[1;33m)\u001b[0m \u001b[1;32mif\u001b[0m \u001b[0mi\u001b[0m\u001b[1;33m==\u001b[0m\u001b[1;36m1\u001b[0m \u001b[1;32melse\u001b[0m \u001b[0mtuplify\u001b[0m\u001b[1;33m(\u001b[0m\u001b[0minp\u001b[0m\u001b[1;33m)\u001b[0m\u001b[1;33m\u001b[0m\u001b[1;33m\u001b[0m\u001b[0m\n",
      "\u001b[1;32mC:\\Anaconda3\\lib\\site-packages\\fastai\\learner.py\u001b[0m in \u001b[0;36mget_preds\u001b[1;34m(self, ds_idx, dl, with_input, with_decoded, with_loss, act, inner, reorder, cbs, n_workers, **kwargs)\u001b[0m\n\u001b[0;32m    233\u001b[0m         \u001b[1;32mif\u001b[0m \u001b[0mwith_loss\u001b[0m\u001b[1;33m:\u001b[0m \u001b[0mctx_mgrs\u001b[0m\u001b[1;33m.\u001b[0m\u001b[0mappend\u001b[0m\u001b[1;33m(\u001b[0m\u001b[0mself\u001b[0m\u001b[1;33m.\u001b[0m\u001b[0mloss_not_reduced\u001b[0m\u001b[1;33m(\u001b[0m\u001b[1;33m)\u001b[0m\u001b[1;33m)\u001b[0m\u001b[1;33m\u001b[0m\u001b[1;33m\u001b[0m\u001b[0m\n\u001b[0;32m    234\u001b[0m         \u001b[1;32mwith\u001b[0m \u001b[0mContextManagers\u001b[0m\u001b[1;33m(\u001b[0m\u001b[0mctx_mgrs\u001b[0m\u001b[1;33m)\u001b[0m\u001b[1;33m:\u001b[0m\u001b[1;33m\u001b[0m\u001b[1;33m\u001b[0m\u001b[0m\n\u001b[1;32m--> 235\u001b[1;33m             \u001b[0mself\u001b[0m\u001b[1;33m.\u001b[0m\u001b[0m_do_epoch_validate\u001b[0m\u001b[1;33m(\u001b[0m\u001b[0mdl\u001b[0m\u001b[1;33m=\u001b[0m\u001b[0mdl\u001b[0m\u001b[1;33m)\u001b[0m\u001b[1;33m\u001b[0m\u001b[1;33m\u001b[0m\u001b[0m\n\u001b[0m\u001b[0;32m    236\u001b[0m             \u001b[1;32mif\u001b[0m \u001b[0mact\u001b[0m \u001b[1;32mis\u001b[0m \u001b[1;32mNone\u001b[0m\u001b[1;33m:\u001b[0m \u001b[0mact\u001b[0m \u001b[1;33m=\u001b[0m \u001b[0mgetattr\u001b[0m\u001b[1;33m(\u001b[0m\u001b[0mself\u001b[0m\u001b[1;33m.\u001b[0m\u001b[0mloss_func\u001b[0m\u001b[1;33m,\u001b[0m \u001b[1;34m'activation'\u001b[0m\u001b[1;33m,\u001b[0m \u001b[0mnoop\u001b[0m\u001b[1;33m)\u001b[0m\u001b[1;33m\u001b[0m\u001b[1;33m\u001b[0m\u001b[0m\n\u001b[0;32m    237\u001b[0m             \u001b[0mres\u001b[0m \u001b[1;33m=\u001b[0m \u001b[0mcb\u001b[0m\u001b[1;33m.\u001b[0m\u001b[0mall_tensors\u001b[0m\u001b[1;33m(\u001b[0m\u001b[1;33m)\u001b[0m\u001b[1;33m\u001b[0m\u001b[1;33m\u001b[0m\u001b[0m\n",
      "\u001b[1;32mC:\\Anaconda3\\lib\\site-packages\\fastai\\learner.py\u001b[0m in \u001b[0;36m_do_epoch_validate\u001b[1;34m(self, ds_idx, dl)\u001b[0m\n\u001b[0;32m    186\u001b[0m         \u001b[1;32mif\u001b[0m \u001b[0mdl\u001b[0m \u001b[1;32mis\u001b[0m \u001b[1;32mNone\u001b[0m\u001b[1;33m:\u001b[0m \u001b[0mdl\u001b[0m \u001b[1;33m=\u001b[0m \u001b[0mself\u001b[0m\u001b[1;33m.\u001b[0m\u001b[0mdls\u001b[0m\u001b[1;33m[\u001b[0m\u001b[0mds_idx\u001b[0m\u001b[1;33m]\u001b[0m\u001b[1;33m\u001b[0m\u001b[1;33m\u001b[0m\u001b[0m\n\u001b[0;32m    187\u001b[0m         \u001b[0mself\u001b[0m\u001b[1;33m.\u001b[0m\u001b[0mdl\u001b[0m \u001b[1;33m=\u001b[0m \u001b[0mdl\u001b[0m\u001b[1;33m\u001b[0m\u001b[1;33m\u001b[0m\u001b[0m\n\u001b[1;32m--> 188\u001b[1;33m         \u001b[1;32mwith\u001b[0m \u001b[0mtorch\u001b[0m\u001b[1;33m.\u001b[0m\u001b[0mno_grad\u001b[0m\u001b[1;33m(\u001b[0m\u001b[1;33m)\u001b[0m\u001b[1;33m:\u001b[0m \u001b[0mself\u001b[0m\u001b[1;33m.\u001b[0m\u001b[0m_with_events\u001b[0m\u001b[1;33m(\u001b[0m\u001b[0mself\u001b[0m\u001b[1;33m.\u001b[0m\u001b[0mall_batches\u001b[0m\u001b[1;33m,\u001b[0m \u001b[1;34m'validate'\u001b[0m\u001b[1;33m,\u001b[0m \u001b[0mCancelValidException\u001b[0m\u001b[1;33m)\u001b[0m\u001b[1;33m\u001b[0m\u001b[1;33m\u001b[0m\u001b[0m\n\u001b[0m\u001b[0;32m    189\u001b[0m \u001b[1;33m\u001b[0m\u001b[0m\n\u001b[0;32m    190\u001b[0m     \u001b[1;32mdef\u001b[0m \u001b[0m_do_epoch\u001b[0m\u001b[1;33m(\u001b[0m\u001b[0mself\u001b[0m\u001b[1;33m)\u001b[0m\u001b[1;33m:\u001b[0m\u001b[1;33m\u001b[0m\u001b[1;33m\u001b[0m\u001b[0m\n",
      "\u001b[1;32mC:\\Anaconda3\\lib\\site-packages\\fastai\\learner.py\u001b[0m in \u001b[0;36m_with_events\u001b[1;34m(self, f, event_type, ex, final)\u001b[0m\n\u001b[0;32m    153\u001b[0m \u001b[1;33m\u001b[0m\u001b[0m\n\u001b[0;32m    154\u001b[0m     \u001b[1;32mdef\u001b[0m \u001b[0m_with_events\u001b[0m\u001b[1;33m(\u001b[0m\u001b[0mself\u001b[0m\u001b[1;33m,\u001b[0m \u001b[0mf\u001b[0m\u001b[1;33m,\u001b[0m \u001b[0mevent_type\u001b[0m\u001b[1;33m,\u001b[0m \u001b[0mex\u001b[0m\u001b[1;33m,\u001b[0m \u001b[0mfinal\u001b[0m\u001b[1;33m=\u001b[0m\u001b[0mnoop\u001b[0m\u001b[1;33m)\u001b[0m\u001b[1;33m:\u001b[0m\u001b[1;33m\u001b[0m\u001b[1;33m\u001b[0m\u001b[0m\n\u001b[1;32m--> 155\u001b[1;33m         \u001b[1;32mtry\u001b[0m\u001b[1;33m:\u001b[0m       \u001b[0mself\u001b[0m\u001b[1;33m(\u001b[0m\u001b[1;34mf'before_{event_type}'\u001b[0m\u001b[1;33m)\u001b[0m       \u001b[1;33m;\u001b[0m\u001b[0mf\u001b[0m\u001b[1;33m(\u001b[0m\u001b[1;33m)\u001b[0m\u001b[1;33m\u001b[0m\u001b[1;33m\u001b[0m\u001b[0m\n\u001b[0m\u001b[0;32m    156\u001b[0m         \u001b[1;32mexcept\u001b[0m \u001b[0mex\u001b[0m\u001b[1;33m:\u001b[0m \u001b[0mself\u001b[0m\u001b[1;33m(\u001b[0m\u001b[1;34mf'after_cancel_{event_type}'\u001b[0m\u001b[1;33m)\u001b[0m\u001b[1;33m\u001b[0m\u001b[1;33m\u001b[0m\u001b[0m\n\u001b[0;32m    157\u001b[0m         \u001b[1;32mfinally\u001b[0m\u001b[1;33m:\u001b[0m   \u001b[0mself\u001b[0m\u001b[1;33m(\u001b[0m\u001b[1;34mf'after_{event_type}'\u001b[0m\u001b[1;33m)\u001b[0m        \u001b[1;33m;\u001b[0m\u001b[0mfinal\u001b[0m\u001b[1;33m(\u001b[0m\u001b[1;33m)\u001b[0m\u001b[1;33m\u001b[0m\u001b[1;33m\u001b[0m\u001b[0m\n",
      "\u001b[1;32mC:\\Anaconda3\\lib\\site-packages\\fastai\\learner.py\u001b[0m in \u001b[0;36mall_batches\u001b[1;34m(self)\u001b[0m\n\u001b[0;32m    159\u001b[0m     \u001b[1;32mdef\u001b[0m \u001b[0mall_batches\u001b[0m\u001b[1;33m(\u001b[0m\u001b[0mself\u001b[0m\u001b[1;33m)\u001b[0m\u001b[1;33m:\u001b[0m\u001b[1;33m\u001b[0m\u001b[1;33m\u001b[0m\u001b[0m\n\u001b[0;32m    160\u001b[0m         \u001b[0mself\u001b[0m\u001b[1;33m.\u001b[0m\u001b[0mn_iter\u001b[0m \u001b[1;33m=\u001b[0m \u001b[0mlen\u001b[0m\u001b[1;33m(\u001b[0m\u001b[0mself\u001b[0m\u001b[1;33m.\u001b[0m\u001b[0mdl\u001b[0m\u001b[1;33m)\u001b[0m\u001b[1;33m\u001b[0m\u001b[1;33m\u001b[0m\u001b[0m\n\u001b[1;32m--> 161\u001b[1;33m         \u001b[1;32mfor\u001b[0m \u001b[0mo\u001b[0m \u001b[1;32min\u001b[0m \u001b[0menumerate\u001b[0m\u001b[1;33m(\u001b[0m\u001b[0mself\u001b[0m\u001b[1;33m.\u001b[0m\u001b[0mdl\u001b[0m\u001b[1;33m)\u001b[0m\u001b[1;33m:\u001b[0m \u001b[0mself\u001b[0m\u001b[1;33m.\u001b[0m\u001b[0mone_batch\u001b[0m\u001b[1;33m(\u001b[0m\u001b[1;33m*\u001b[0m\u001b[0mo\u001b[0m\u001b[1;33m)\u001b[0m\u001b[1;33m\u001b[0m\u001b[1;33m\u001b[0m\u001b[0m\n\u001b[0m\u001b[0;32m    162\u001b[0m \u001b[1;33m\u001b[0m\u001b[0m\n\u001b[0;32m    163\u001b[0m     \u001b[1;32mdef\u001b[0m \u001b[0m_do_one_batch\u001b[0m\u001b[1;33m(\u001b[0m\u001b[0mself\u001b[0m\u001b[1;33m)\u001b[0m\u001b[1;33m:\u001b[0m\u001b[1;33m\u001b[0m\u001b[1;33m\u001b[0m\u001b[0m\n",
      "\u001b[1;32mC:\\Anaconda3\\lib\\site-packages\\fastai\\data\\load.py\u001b[0m in \u001b[0;36m__iter__\u001b[1;34m(self)\u001b[0m\n\u001b[0;32m    101\u001b[0m         \u001b[0mself\u001b[0m\u001b[1;33m.\u001b[0m\u001b[0mrandomize\u001b[0m\u001b[1;33m(\u001b[0m\u001b[1;33m)\u001b[0m\u001b[1;33m\u001b[0m\u001b[1;33m\u001b[0m\u001b[0m\n\u001b[0;32m    102\u001b[0m         \u001b[0mself\u001b[0m\u001b[1;33m.\u001b[0m\u001b[0mbefore_iter\u001b[0m\u001b[1;33m(\u001b[0m\u001b[1;33m)\u001b[0m\u001b[1;33m\u001b[0m\u001b[1;33m\u001b[0m\u001b[0m\n\u001b[1;32m--> 103\u001b[1;33m         \u001b[1;32mfor\u001b[0m \u001b[0mb\u001b[0m \u001b[1;32min\u001b[0m \u001b[0m_loaders\u001b[0m\u001b[1;33m[\u001b[0m\u001b[0mself\u001b[0m\u001b[1;33m.\u001b[0m\u001b[0mfake_l\u001b[0m\u001b[1;33m.\u001b[0m\u001b[0mnum_workers\u001b[0m\u001b[1;33m==\u001b[0m\u001b[1;36m0\u001b[0m\u001b[1;33m]\u001b[0m\u001b[1;33m(\u001b[0m\u001b[0mself\u001b[0m\u001b[1;33m.\u001b[0m\u001b[0mfake_l\u001b[0m\u001b[1;33m)\u001b[0m\u001b[1;33m:\u001b[0m\u001b[1;33m\u001b[0m\u001b[1;33m\u001b[0m\u001b[0m\n\u001b[0m\u001b[0;32m    104\u001b[0m             \u001b[1;32mif\u001b[0m \u001b[0mself\u001b[0m\u001b[1;33m.\u001b[0m\u001b[0mdevice\u001b[0m \u001b[1;32mis\u001b[0m \u001b[1;32mnot\u001b[0m \u001b[1;32mNone\u001b[0m\u001b[1;33m:\u001b[0m \u001b[0mb\u001b[0m \u001b[1;33m=\u001b[0m \u001b[0mto_device\u001b[0m\u001b[1;33m(\u001b[0m\u001b[0mb\u001b[0m\u001b[1;33m,\u001b[0m \u001b[0mself\u001b[0m\u001b[1;33m.\u001b[0m\u001b[0mdevice\u001b[0m\u001b[1;33m)\u001b[0m\u001b[1;33m\u001b[0m\u001b[1;33m\u001b[0m\u001b[0m\n\u001b[0;32m    105\u001b[0m             \u001b[1;32myield\u001b[0m \u001b[0mself\u001b[0m\u001b[1;33m.\u001b[0m\u001b[0mafter_batch\u001b[0m\u001b[1;33m(\u001b[0m\u001b[0mb\u001b[0m\u001b[1;33m)\u001b[0m\u001b[1;33m\u001b[0m\u001b[1;33m\u001b[0m\u001b[0m\n",
      "\u001b[1;32mC:\\Anaconda3\\lib\\site-packages\\torch\\utils\\data\\dataloader.py\u001b[0m in \u001b[0;36m__next__\u001b[1;34m(self)\u001b[0m\n\u001b[0;32m    361\u001b[0m \u001b[1;33m\u001b[0m\u001b[0m\n\u001b[0;32m    362\u001b[0m     \u001b[1;32mdef\u001b[0m \u001b[0m__next__\u001b[0m\u001b[1;33m(\u001b[0m\u001b[0mself\u001b[0m\u001b[1;33m)\u001b[0m\u001b[1;33m:\u001b[0m\u001b[1;33m\u001b[0m\u001b[1;33m\u001b[0m\u001b[0m\n\u001b[1;32m--> 363\u001b[1;33m         \u001b[0mdata\u001b[0m \u001b[1;33m=\u001b[0m \u001b[0mself\u001b[0m\u001b[1;33m.\u001b[0m\u001b[0m_next_data\u001b[0m\u001b[1;33m(\u001b[0m\u001b[1;33m)\u001b[0m\u001b[1;33m\u001b[0m\u001b[1;33m\u001b[0m\u001b[0m\n\u001b[0m\u001b[0;32m    364\u001b[0m         \u001b[0mself\u001b[0m\u001b[1;33m.\u001b[0m\u001b[0m_num_yielded\u001b[0m \u001b[1;33m+=\u001b[0m \u001b[1;36m1\u001b[0m\u001b[1;33m\u001b[0m\u001b[1;33m\u001b[0m\u001b[0m\n\u001b[0;32m    365\u001b[0m         \u001b[1;32mif\u001b[0m \u001b[0mself\u001b[0m\u001b[1;33m.\u001b[0m\u001b[0m_dataset_kind\u001b[0m \u001b[1;33m==\u001b[0m \u001b[0m_DatasetKind\u001b[0m\u001b[1;33m.\u001b[0m\u001b[0mIterable\u001b[0m \u001b[1;32mand\u001b[0m\u001b[0;31m \u001b[0m\u001b[0;31m\\\u001b[0m\u001b[1;33m\u001b[0m\u001b[1;33m\u001b[0m\u001b[0m\n",
      "\u001b[1;32mC:\\Anaconda3\\lib\\site-packages\\torch\\utils\\data\\dataloader.py\u001b[0m in \u001b[0;36m_next_data\u001b[1;34m(self)\u001b[0m\n\u001b[0;32m    972\u001b[0m \u001b[1;33m\u001b[0m\u001b[0m\n\u001b[0;32m    973\u001b[0m             \u001b[1;32massert\u001b[0m \u001b[1;32mnot\u001b[0m \u001b[0mself\u001b[0m\u001b[1;33m.\u001b[0m\u001b[0m_shutdown\u001b[0m \u001b[1;32mand\u001b[0m \u001b[0mself\u001b[0m\u001b[1;33m.\u001b[0m\u001b[0m_tasks_outstanding\u001b[0m \u001b[1;33m>\u001b[0m \u001b[1;36m0\u001b[0m\u001b[1;33m\u001b[0m\u001b[1;33m\u001b[0m\u001b[0m\n\u001b[1;32m--> 974\u001b[1;33m             \u001b[0midx\u001b[0m\u001b[1;33m,\u001b[0m \u001b[0mdata\u001b[0m \u001b[1;33m=\u001b[0m \u001b[0mself\u001b[0m\u001b[1;33m.\u001b[0m\u001b[0m_get_data\u001b[0m\u001b[1;33m(\u001b[0m\u001b[1;33m)\u001b[0m\u001b[1;33m\u001b[0m\u001b[1;33m\u001b[0m\u001b[0m\n\u001b[0m\u001b[0;32m    975\u001b[0m             \u001b[0mself\u001b[0m\u001b[1;33m.\u001b[0m\u001b[0m_tasks_outstanding\u001b[0m \u001b[1;33m-=\u001b[0m \u001b[1;36m1\u001b[0m\u001b[1;33m\u001b[0m\u001b[1;33m\u001b[0m\u001b[0m\n\u001b[0;32m    976\u001b[0m \u001b[1;33m\u001b[0m\u001b[0m\n",
      "\u001b[1;32mC:\\Anaconda3\\lib\\site-packages\\torch\\utils\\data\\dataloader.py\u001b[0m in \u001b[0;36m_get_data\u001b[1;34m(self)\u001b[0m\n\u001b[0;32m    939\u001b[0m         \u001b[1;32melse\u001b[0m\u001b[1;33m:\u001b[0m\u001b[1;33m\u001b[0m\u001b[1;33m\u001b[0m\u001b[0m\n\u001b[0;32m    940\u001b[0m             \u001b[1;32mwhile\u001b[0m \u001b[1;32mTrue\u001b[0m\u001b[1;33m:\u001b[0m\u001b[1;33m\u001b[0m\u001b[1;33m\u001b[0m\u001b[0m\n\u001b[1;32m--> 941\u001b[1;33m                 \u001b[0msuccess\u001b[0m\u001b[1;33m,\u001b[0m \u001b[0mdata\u001b[0m \u001b[1;33m=\u001b[0m \u001b[0mself\u001b[0m\u001b[1;33m.\u001b[0m\u001b[0m_try_get_data\u001b[0m\u001b[1;33m(\u001b[0m\u001b[1;33m)\u001b[0m\u001b[1;33m\u001b[0m\u001b[1;33m\u001b[0m\u001b[0m\n\u001b[0m\u001b[0;32m    942\u001b[0m                 \u001b[1;32mif\u001b[0m \u001b[0msuccess\u001b[0m\u001b[1;33m:\u001b[0m\u001b[1;33m\u001b[0m\u001b[1;33m\u001b[0m\u001b[0m\n\u001b[0;32m    943\u001b[0m                     \u001b[1;32mreturn\u001b[0m \u001b[0mdata\u001b[0m\u001b[1;33m\u001b[0m\u001b[1;33m\u001b[0m\u001b[0m\n",
      "\u001b[1;32mC:\\Anaconda3\\lib\\site-packages\\torch\\utils\\data\\dataloader.py\u001b[0m in \u001b[0;36m_try_get_data\u001b[1;34m(self, timeout)\u001b[0m\n\u001b[0;32m    790\u001b[0m             \u001b[1;32mif\u001b[0m \u001b[0mlen\u001b[0m\u001b[1;33m(\u001b[0m\u001b[0mfailed_workers\u001b[0m\u001b[1;33m)\u001b[0m \u001b[1;33m>\u001b[0m \u001b[1;36m0\u001b[0m\u001b[1;33m:\u001b[0m\u001b[1;33m\u001b[0m\u001b[1;33m\u001b[0m\u001b[0m\n\u001b[0;32m    791\u001b[0m                 \u001b[0mpids_str\u001b[0m \u001b[1;33m=\u001b[0m \u001b[1;34m', '\u001b[0m\u001b[1;33m.\u001b[0m\u001b[0mjoin\u001b[0m\u001b[1;33m(\u001b[0m\u001b[0mstr\u001b[0m\u001b[1;33m(\u001b[0m\u001b[0mw\u001b[0m\u001b[1;33m.\u001b[0m\u001b[0mpid\u001b[0m\u001b[1;33m)\u001b[0m \u001b[1;32mfor\u001b[0m \u001b[0mw\u001b[0m \u001b[1;32min\u001b[0m \u001b[0mfailed_workers\u001b[0m\u001b[1;33m)\u001b[0m\u001b[1;33m\u001b[0m\u001b[1;33m\u001b[0m\u001b[0m\n\u001b[1;32m--> 792\u001b[1;33m                 \u001b[1;32mraise\u001b[0m \u001b[0mRuntimeError\u001b[0m\u001b[1;33m(\u001b[0m\u001b[1;34m'DataLoader worker (pid(s) {}) exited unexpectedly'\u001b[0m\u001b[1;33m.\u001b[0m\u001b[0mformat\u001b[0m\u001b[1;33m(\u001b[0m\u001b[0mpids_str\u001b[0m\u001b[1;33m)\u001b[0m\u001b[1;33m)\u001b[0m\u001b[1;33m\u001b[0m\u001b[1;33m\u001b[0m\u001b[0m\n\u001b[0m\u001b[0;32m    793\u001b[0m             \u001b[1;32mif\u001b[0m \u001b[0misinstance\u001b[0m\u001b[1;33m(\u001b[0m\u001b[0me\u001b[0m\u001b[1;33m,\u001b[0m \u001b[0mqueue\u001b[0m\u001b[1;33m.\u001b[0m\u001b[0mEmpty\u001b[0m\u001b[1;33m)\u001b[0m\u001b[1;33m:\u001b[0m\u001b[1;33m\u001b[0m\u001b[1;33m\u001b[0m\u001b[0m\n\u001b[0;32m    794\u001b[0m                 \u001b[1;32mreturn\u001b[0m \u001b[1;33m(\u001b[0m\u001b[1;32mFalse\u001b[0m\u001b[1;33m,\u001b[0m \u001b[1;32mNone\u001b[0m\u001b[1;33m)\u001b[0m\u001b[1;33m\u001b[0m\u001b[1;33m\u001b[0m\u001b[0m\n",
      "\u001b[1;31mRuntimeError\u001b[0m: DataLoader worker (pid(s) 4308, 8668, 12348, 14904) exited unexpectedly"
     ]
    }
   ],
   "source": [
    "pred,pred_idx,probs = learn_inf.predict(img)"
   ]
  },
  {
   "cell_type": "code",
   "execution_count": null,
   "metadata": {
    "colab": {
     "base_uri": "https://localhost:8080/",
     "height": 49,
     "referenced_widgets": [
      "b33381b5acac447293389569aa272c5c",
      "12ecdd0d88104737bc2e79261649a27e",
      "1568364cf4344f46bce6335294743d80"
     ]
    },
    "colab_type": "code",
    "id": "ngRIMo3MVTo8",
    "outputId": "12e4748d-1c31-4393-bcc9-19ae04c12ee4"
   },
   "outputs": [],
   "source": [
    "lbl_pred = widgets.Label()\n",
    "lbl_pred.value = f'Prediction: {pred}; Probability: {probs[pred_idx]:.04f}'\n",
    "lbl_pred"
   ]
  },
  {
   "cell_type": "code",
   "execution_count": null,
   "metadata": {
    "colab": {
     "base_uri": "https://localhost:8080/",
     "height": 49,
     "referenced_widgets": [
      "1104eeb081d946d988062cc7cfef81c4",
      "84f039d2a62642dcaff278abc6c70153",
      "7af80c537afd451bb3d6a07257c1d81f"
     ]
    },
    "colab_type": "code",
    "id": "0QiZpIUoVTpA",
    "outputId": "b4bf3b92-8f9b-44d7-d48e-6c2cff83dcf8"
   },
   "outputs": [],
   "source": [
    "btn_run = widgets.Button(description='Classify')\n",
    "btn_run"
   ]
  },
  {
   "cell_type": "code",
   "execution_count": null,
   "metadata": {
    "colab": {},
    "colab_type": "code",
    "id": "KecjUQhcVTpF"
   },
   "outputs": [],
   "source": [
    "def on_click_classify(change):\n",
    "    img = PILImage.create(btn_upload.data[-1])\n",
    "    out_pl.clear_output()\n",
    "    with out_pl: display(img.to_thumb(128,128))\n",
    "    pred,pred_idx,probs = learn_inf.predict(img)\n",
    "    lbl_pred.value = f'Prediction: {pred}; Probability: {probs[pred_idx]:.04f}'\n",
    "\n",
    "btn_run.on_click(on_click_classify)"
   ]
  },
  {
   "cell_type": "code",
   "execution_count": null,
   "metadata": {
    "colab": {},
    "colab_type": "code",
    "id": "VzsA_QkVVTpI"
   },
   "outputs": [],
   "source": [
    "#hide\n",
    "#Putting back btn_upload to a widget for next cell\n",
    "btn_upload = widgets.FileUpload()"
   ]
  },
  {
   "cell_type": "code",
   "execution_count": null,
   "metadata": {
    "colab": {
     "base_uri": "https://localhost:8080/",
     "height": 230,
     "referenced_widgets": [
      "d6796c681c68483db253737e04141c60",
      "b78b1de77f7046508b147bff6a246b23",
      "d912147bff274243bb6fef21b92d07da",
      "c822f4ec37b84ed5ad4293e1a8426928",
      "1104eeb081d946d988062cc7cfef81c4",
      "6a49cd6c1ca14e739835db1026dfa082",
      "b33381b5acac447293389569aa272c5c",
      "e9388f240aaf4b2b96316c31615d72d4",
      "939b31ddaee84817b4aa8782ca8b41a9",
      "e7485298f3644ac288f4539e4f69efda",
      "0f2d8fe73884481c840f36425a77b140",
      "84f039d2a62642dcaff278abc6c70153",
      "7af80c537afd451bb3d6a07257c1d81f",
      "12ecdd0d88104737bc2e79261649a27e",
      "1568364cf4344f46bce6335294743d80",
      "ec1436f44cda4cd2b2ee9c078a074c60"
     ]
    },
    "colab_type": "code",
    "id": "9B91qKbWVTpK",
    "outputId": "54f43f2f-9c0f-4cd6-87a1-1a1876e131e8"
   },
   "outputs": [],
   "source": [
    "VBox([widgets.Label('Go figure!  Go skating!'), \n",
    "      btn_upload, btn_run, out_pl, lbl_pred])"
   ]
  },
  {
   "cell_type": "markdown",
   "metadata": {
    "colab_type": "text",
    "id": "oNS4gN3wVTpO"
   },
   "source": [
    "### Turning Your Notebook into a Real App"
   ]
  },
  {
   "cell_type": "code",
   "execution_count": null,
   "metadata": {
    "colab": {
     "base_uri": "https://localhost:8080/",
     "height": 1000
    },
    "colab_type": "code",
    "id": "xz0ZpGcKVTpP",
    "outputId": "cf3870dd-ab6f-4998-ec44-e338c9a522a3"
   },
   "outputs": [],
   "source": [
    "#hide\n",
    "!pip install voila\n",
    "!jupyter serverextension enable voila --sys-prefix"
   ]
  },
  {
   "cell_type": "markdown",
   "metadata": {
    "colab_type": "text",
    "id": "9w9zfRttVTpT"
   },
   "source": [
    "### Deploying your app"
   ]
  }
 ],
 "metadata": {
  "colab": {
   "collapsed_sections": [],
   "include_colab_link": true,
   "name": "my02_deploy_homework.ipynb",
   "provenance": []
  },
  "environment": {
   "name": "common-cu101.m55",
   "type": "gcloud",
   "uri": "gcr.io/deeplearning-platform-release/base-cu101:m55"
  },
  "jupytext": {
   "split_at_heading": true
  },
  "kernelspec": {
   "display_name": "Python 3",
   "language": "python",
   "name": "python3"
  },
  "language_info": {
   "codemirror_mode": {
    "name": "ipython",
    "version": 3
   },
   "file_extension": ".py",
   "mimetype": "text/x-python",
   "name": "python",
   "nbconvert_exporter": "python",
   "pygments_lexer": "ipython3",
   "version": "3.7.4"
  },
  "widgets": {
   "application/vnd.jupyter.widget-state+json": {
    "0f2d8fe73884481c840f36425a77b140": {
     "model_module": "@jupyter-widgets/base",
     "model_name": "LayoutModel",
     "state": {
      "_model_module": "@jupyter-widgets/base",
      "_model_module_version": "1.2.0",
      "_model_name": "LayoutModel",
      "_view_count": null,
      "_view_module": "@jupyter-widgets/base",
      "_view_module_version": "1.2.0",
      "_view_name": "LayoutView",
      "align_content": null,
      "align_items": null,
      "align_self": null,
      "border": null,
      "bottom": null,
      "display": null,
      "flex": null,
      "flex_flow": null,
      "grid_area": null,
      "grid_auto_columns": null,
      "grid_auto_flow": null,
      "grid_auto_rows": null,
      "grid_column": null,
      "grid_gap": null,
      "grid_row": null,
      "grid_template_areas": null,
      "grid_template_columns": null,
      "grid_template_rows": null,
      "height": null,
      "justify_content": null,
      "justify_items": null,
      "left": null,
      "margin": null,
      "max_height": null,
      "max_width": null,
      "min_height": null,
      "min_width": null,
      "object_fit": null,
      "object_position": null,
      "order": null,
      "overflow": null,
      "overflow_x": null,
      "overflow_y": null,
      "padding": null,
      "right": null,
      "top": null,
      "visibility": null,
      "width": null
     }
    },
    "1104eeb081d946d988062cc7cfef81c4": {
     "model_module": "@jupyter-widgets/controls",
     "model_name": "ButtonModel",
     "state": {
      "_dom_classes": [],
      "_model_module": "@jupyter-widgets/controls",
      "_model_module_version": "1.5.0",
      "_model_name": "ButtonModel",
      "_view_count": null,
      "_view_module": "@jupyter-widgets/controls",
      "_view_module_version": "1.5.0",
      "_view_name": "ButtonView",
      "button_style": "",
      "description": "Classify",
      "disabled": false,
      "icon": "",
      "layout": "IPY_MODEL_7af80c537afd451bb3d6a07257c1d81f",
      "style": "IPY_MODEL_84f039d2a62642dcaff278abc6c70153",
      "tooltip": ""
     }
    },
    "12ecdd0d88104737bc2e79261649a27e": {
     "model_module": "@jupyter-widgets/controls",
     "model_name": "DescriptionStyleModel",
     "state": {
      "_model_module": "@jupyter-widgets/controls",
      "_model_module_version": "1.5.0",
      "_model_name": "DescriptionStyleModel",
      "_view_count": null,
      "_view_module": "@jupyter-widgets/base",
      "_view_module_version": "1.2.0",
      "_view_name": "StyleView",
      "description_width": ""
     }
    },
    "1568364cf4344f46bce6335294743d80": {
     "model_module": "@jupyter-widgets/base",
     "model_name": "LayoutModel",
     "state": {
      "_model_module": "@jupyter-widgets/base",
      "_model_module_version": "1.2.0",
      "_model_name": "LayoutModel",
      "_view_count": null,
      "_view_module": "@jupyter-widgets/base",
      "_view_module_version": "1.2.0",
      "_view_name": "LayoutView",
      "align_content": null,
      "align_items": null,
      "align_self": null,
      "border": null,
      "bottom": null,
      "display": null,
      "flex": null,
      "flex_flow": null,
      "grid_area": null,
      "grid_auto_columns": null,
      "grid_auto_flow": null,
      "grid_auto_rows": null,
      "grid_column": null,
      "grid_gap": null,
      "grid_row": null,
      "grid_template_areas": null,
      "grid_template_columns": null,
      "grid_template_rows": null,
      "height": null,
      "justify_content": null,
      "justify_items": null,
      "left": null,
      "margin": null,
      "max_height": null,
      "max_width": null,
      "min_height": null,
      "min_width": null,
      "object_fit": null,
      "object_position": null,
      "order": null,
      "overflow": null,
      "overflow_x": null,
      "overflow_y": null,
      "padding": null,
      "right": null,
      "top": null,
      "visibility": null,
      "width": null
     }
    },
    "2575e2bffa6d412694600cb9bb9037a7": {
     "model_module": "@jupyter-widgets/base",
     "model_name": "LayoutModel",
     "state": {
      "_model_module": "@jupyter-widgets/base",
      "_model_module_version": "1.2.0",
      "_model_name": "LayoutModel",
      "_view_count": null,
      "_view_module": "@jupyter-widgets/base",
      "_view_module_version": "1.2.0",
      "_view_name": "LayoutView",
      "align_content": null,
      "align_items": null,
      "align_self": null,
      "border": null,
      "bottom": null,
      "display": null,
      "flex": null,
      "flex_flow": null,
      "grid_area": null,
      "grid_auto_columns": null,
      "grid_auto_flow": null,
      "grid_auto_rows": null,
      "grid_column": null,
      "grid_gap": null,
      "grid_row": null,
      "grid_template_areas": null,
      "grid_template_columns": null,
      "grid_template_rows": null,
      "height": null,
      "justify_content": null,
      "justify_items": null,
      "left": null,
      "margin": null,
      "max_height": null,
      "max_width": null,
      "min_height": null,
      "min_width": null,
      "object_fit": null,
      "object_position": null,
      "order": null,
      "overflow": null,
      "overflow_x": null,
      "overflow_y": null,
      "padding": null,
      "right": null,
      "top": null,
      "visibility": null,
      "width": null
     }
    },
    "4d09140fd2ea4d699bdc816710910f0d": {
     "model_module": "@jupyter-widgets/controls",
     "model_name": "ButtonStyleModel",
     "state": {
      "_model_module": "@jupyter-widgets/controls",
      "_model_module_version": "1.5.0",
      "_model_name": "ButtonStyleModel",
      "_view_count": null,
      "_view_module": "@jupyter-widgets/base",
      "_view_module_version": "1.2.0",
      "_view_name": "StyleView",
      "button_color": null,
      "font_weight": ""
     }
    },
    "6a49cd6c1ca14e739835db1026dfa082": {
     "model_module": "@jupyter-widgets/output",
     "model_name": "OutputModel",
     "state": {
      "_dom_classes": [],
      "_model_module": "@jupyter-widgets/output",
      "_model_module_version": "1.0.0",
      "_model_name": "OutputModel",
      "_view_count": null,
      "_view_module": "@jupyter-widgets/output",
      "_view_module_version": "1.0.0",
      "_view_name": "OutputView",
      "layout": "IPY_MODEL_ec1436f44cda4cd2b2ee9c078a074c60",
      "msg_id": "",
      "outputs": [
       {
        "image/png": "iVBORw0KGgoAAAANSUhEUgAAAIAAAABVCAIAAAAOr3sAAAABHGlDQ1BJQ0MgUHJvZmlsZQAAeJxjYGDiyUnOLWYSYGDIzSspCnJ3UoiIjFJgv8PAyCDJwMygyWCZmFxc4BgQ4MOAE3y7BlQNBJd1QWbhVocVcKWkFicD6T9AHJdcUFTCwMAYA2Rzl5cUgNgZQLZIUjaYXQNiFwEdCGRPALHTIewlYDUQ9g6wmpAgZyD7DJDtkI7ETkJiQ+0FAeZkIxJdTQQoSa0oAdFuTgwMoDCFiCLCCiHGLAbExgwMTEsQYvmLGBgsvgLFJyDEkmYyMGxvZWCQuIUQU1nAwMDfwsCw7XxyaVEZ1GopID7NeJI5mXUSRzb3NwF70UBpE8WPmhOMJKwnubEGlse+zS6oYu3cOKtmTeb+2suHXxr8/w8A3kFTfazGM+sAAD1mSURBVHicdb13kG3pcR/W4fvOuWHim3k5Yt/mxWKXiAuWDAgEKEMCCcKWbZWkcpkiJYtFkwWaLEu2gllll6JLRVEkRarKskoUmCUGMBikCAOkIAJEWGRgw3sbXn4zb/LccM75utt/9HfOvfN2cTfUzJ1zT+jur/vXv+6vL/6v/8VvgCECEqKISjNNVV2nJKoEgBSK2I9FyYEBQFUlpaauNTWIBsCARIYhhKKgEJEQJUGTzAwAABFVVcUMEAEBEI6+/DgEVAICRDADQMD8eWhPYoiIZmagAAYgBlLbpNJJskmjlQISABmqKYABgs5dBHF2XVOF/CuaGSIQUQwFxkCEZJBE6qZqmkpVEREREEzNxFTNUM0QDczy3SuiASCAmZmaICCAmoEB+DOoqpmagZkAACIzF724VPJyQf0QkIgJAU1UVUH8rpCRAJCRAzECIrT3gkTAhooARAhAiGyGKmSMyEgEzKBqLjsAAANrJXhEFpbPCwCECGYIaFnonQIQEdDAwBAQIABqsiZBJdgAJFZALhRU1SoYl9gHAwNgMM2iAQIABDVAIEMDA6ROPn6DSgAAIGBqCoZo6E9NgGYKZmbo94AAAAgG6lZl5vIHsPy0wIhuWwoAhGxG6iaBwFBEWihoscd9xDKQpICsBnWSpqlNxBQQCBEAkZCyoaoBARiAGpoRMLlOkMyIAE1RlRQRAIlaCRoYGhKA+sGIgIb+tgs3GyOAAREAUrss/HmUEAHRDAzc7gzUIIk1CjUCEBdm05cOPl9Sf2N6482rfz5pImAEyyoFI0N/JDVgFzy2us3LwjQJM6E/qQERoaEf4rdDaAaIrj8Ey0JHFw8CmikCAaiBgh+CYKYIoIgEbEAEGLAssRepxxQBITSpMiUAlFqlaUzMEMGo9RcmksDA1BBBzTQlA0DC1j7JfYsaSjKEzogBkdTvye0fu4/4qqXOBhEBs6bRfDW47sAIMKtAwUDAkmjdQCXQgMG+3EXQHi+/uv/1lcG6Km7VL+3WO5cX3gpg3Jo3tEZrblkGhqZzXkpU1RpVyh5D/UHycyKaLwU0M3Slgq9mzFbvz0zmT2Toi1hB/TwIAEYESBgC9QKUpAyqSEDTKlVNappkIugn1c5VIxiYWEqpaeqUGmkaU8smi+hSQwRiwACGIGZJNSUTsZRMEqjmo10MrgfXBxEhIgIhUF4fBO3C8phB7vXyFcEaaaY6raUSqwH13uTm13b+mApChM3Jq8z04t6za8U5dK+DflGC9vzcPhYYkNFsBZipaGq0qVNqkqmYAQARoBmYucYMzO+W0QiMCAAB0RAVVA3MZo7TI1orJgAkROYiUC9iD4FNpGkkNRKkEVL3IsCMqggGZgRoAHM3aKbmdorkFuwXI+utFKtnB4vH+ojYTHW0U+3eqar9BjxgZodClF1Jlm+O0q6YudjsVmVgnem0tyCN1k2oekuwtrpUDAiT9vef/PpnPxFPjNYOTjx343MI4Xh5Yb08m1RbJ9OJHNpobB7lfEmAgeaACmoWSl5YGsYiVFUzOZhIlTDgcGFQlLFJzXhU1dOECEUZQhnquqmrOsbYG5QYoJpMx4cTD34A1oUYFTfREKAMWBJEMBRNqEkJgxigKAMwIxGii1dBDVtA4h4QO/+Blr2HqfWWwrnHl88/sbxyogcI9URHu82dF0bXvrY73qlMABGYSQ0NkSMRkIq6LwcmZjIzTToXsBEQQbPWgZAQxbSRBGU6//DiuceWVk8MQsnNpAa9fAO+/MnnfmNaTVVhf3rvieV3mbHjEFVHCmxqgOo+zXLMBBeUmqmpgqHiYLn3wGMnz15e7S/0ptP69qvb11+8u7A8PP/g8ZVjfQXYuLV77cW7aHT6Dav9xfLenb2dzcPVtcVT51b6C8VkNH3p+VvXXtiop6kNNCimBBQsMPYCDNkCgJnm4IQKAVSEkBQVEJmIiAhU0eEAaIcJsXM8rhIzM7P+cjzz4PDkpUF/sZQm1T3pDbA3xHKBNl8ZHdyrY0nDpZIChV7oDQkADu4123cmZRlWT/f7C7FpZG+rqg+1HFJvGIlJk47308HOtCjD4loZS2ikGU3Gi8cG5x9fPna61x/2gWRywP1y+Bfe9/7f+vivri4PHzh3OsbB6aXz0cLi0qDfDwbW1NJUgqrIiEwAIFUzOpyK2MJi2euXatrUaTyu6mk6df7YxUfXj59ZXFwZhsCnzi+dvLAUIp08tTpc7MdeceHh9bOXVw92p6fOLy+tDO/c3D7YmQwXekvH+uUgFkU8cX4lBHzhyzckASKaIhqzRcSSqccQ0TBbgJsCQDB3YaDgkB7AdWBKgqBoJjDnt9EdQwZdBrEIvcUYAiMYEZUDLHqhHBYUaHEtVGM1w+FSXDreCwUDqYmNdtLh7kLZK5bWYtmnppHJSFOlxDBYLmLB9aQZ7crkMBUlLa4Wsc8K9Wg8KXvcG1DZL65ef/En//VPjCejcyfP3t64/cSlS4+unxmGhXt7u6fP8EOPPjhc5oWVsiiK6bTe3x2bYlGE3qA01fHBZOP2Qd006yeXllZ7sYh1le5e27n24j0irMZVPS05Lg5XytBbXFjuqUDBZRGLsl8uLvVjj7du7w2X+msnl4oe7WwcxsiDlX4suShKivDAYyduvby5uzUBIAQAi4RlxF6EEiEYGKB7ZscvFhAI0dQATFVRyeM+cmBSTWIIHkhbH4EABjlGurdzlCxKgMAEZEy0sFQUPSqK2DSpt1AOl3oIFiKlphksp+OIZESMIbIkWTymoYiqGhg4UKrD8rohs5kSWizJgJckhhikSZLqAhafWn/fZ77w6U+9/Jk3PXD6nU98+wPvf789emmwf3h8BKeGp1QkFqHoRxVpGiFkkRQiE1FTNecfWk+iiFb2Y68XkHD1RJ8jvvy1u3de2U0iwGi2VBTF4sICmEnD0/002Z2unu4t9AcHcWRJACAEJsaijEtLQyNLjTLzYGFQFCXYFBDAAmMvYllgD7EAcHP29CDHiJABJYIBiIj7IDf1EBhRU8azszyWkNSjcM4IKRYUC25qnY6bepLQGED7w2Jhua8iXFAoEACLkmyCvT5zDJpUGnfTWPS4NwySVCohRArUjxh6VFciIhDA1AJzUcYarKkNGg504i2PvP8dC6eGQ/xLH/7wF6ReHy6Uq8fuTSfntRdHyQCLMgKEPiEHnk6mCMAx9IdxcRXMYHo4NYKyF0MR1gEOzo9fePbmqy9uFYvl2ljGu431Aw0xlkxK23v1dKfpLXLoMSiOD+vJ4VQNmJnYvbQiIjMjQpMEjdiYsGDsBygISkAyMwBCA3A1uAI6kGAKQkYiGaUAoiEzGQKKmroOAIxaYE2ACkYAamYAVo3T5rXR9rWxIZ58cLi2UIQAiqhiTdWEwCmR+KXFNJkmNQMkYiMkU0mTURJVABsulRwCNZiSg1pBwhACAHDg1bXhmXee+PLnf295f+/RH/rh/6yTD62eXFxYQqKpyuHueNIcNk2qpxNCCr0CAESkmjQAUPTCYNgPIYpIVVfj0aSUAtBCxNgL60v90xePrawtFGUpNUwk8UoZYwg95h6AIQgx9LBBbYAL7A0KA6umtZiUZT/EwCWHggAwYBGwR1gyRGwThAxe2nwUAYNzFwQEBIBkBikZogAgEDFRYFNAIzBFM1LnY4C6YJJq3d9tUKa3Xzh46Qt7exupvxyHa731s6SidZOqcaOig8V+iaCNVRMhUhVj4qIXRUVVm6lMD9NkVKsgAHJouERRBUNmDpFSo3VVpZTQYPX48Mm08ke/9MJf/ts/dmth8MzqCUYQEFMpA2svTAl7RQEGqpJRftNUo7qutTfgyEx9AsayLGusM9AHWD+9dPLCyqWH15ZXFwoOB/eaw53U70F/QOun+4cLDTNqo1Axa0kQzBIThiIWZXFwODKZcOB+WSwvD/ZupUD9AD2EAoHabBoJyUyBEMwzVAgwC6+EiGYKACIKkBACESJRCAhqiqYCiKhgIkYIhqQNHNxtNMlkL13/2v7GSxNTosgpATM0SUd71c6NiSEtrmOvz9W0Ge8nZoxl6PVCSkkaU9FDgf2dOk3VDIFsPNJpXZa9QAQxxBBJpNrbHk8O67Kk/qBYXVr+q3/9R671eh84cXIp9g8OD8GUCIkhRKrGNRqFAkXUkoLBwc50fJjquqkmJCILywkRibHf7xPjdDw10HIYev1Qlr2yLNFME6YxTPYl9hJH7Pe4abQa63gbRGm6Bhj18HDUG4RiGJlwMpogYFMLWBFxEKHPWIC555mRLtl/oHmiFlqvHhADIKI2iApOfKKAQHC2ITNygIpgaGgGhoj1Ybp39XB8j0e7zd7tBoHKIR8/P1xYKSVpU+ve7eqlL+yB8fELzXAlisreRjPalcFSWD3ZK3pYV7a/VVWHigTWwGRUcd/6K3h4EI6d6q+dWgxlMJFqUu/eOXjl+c2yDOtnlsp+XC1PVC/tHawfDs8XgRkUAUwb6Q/KqqrvXd/rL/RUYTqqpZHpuB4d1If7k/5Cb3l9sHwsLa8NltYGRRmdCGomabo7HRX1eK2JUotSM+FmlO5t1dNDWViLplCP5XCj3rpaIXJZqPaqWzd3KaYLUwkFTyf1+LC+eWV3tC0R+wF7QARq5iSRASMBQa1GThMiAkJABCYKsUAMYAYETvmqiqm7LQFmJGRCJnNqwcw8LNeTtPHKKARqaki1IWIchuFqsCSHO3UzSXdfHG1emdSVbd0YFX1Gg+lYqjGEyMOlUSw41To+aFSt6AVt0rSqNFTDdVyfDgzrEDGllCQd7k7v3Tx46Ut3q3GzuNIrBgWIjferW1+48998+JnVY32zBiFI0qKEhWMLf/ALXwgWFbGpRZIy83RUH+6P+sPy5MW1E+crVYkFgkhTp92t0d69avtmJdtjPNxdWEiBoilO99PBPQ1XcOkMxx5VE9m/Ux/cTUgKYtCXjRvN7sHdjRt7K+v91Nje1njz+qTahUA9AhIzNAMEQkIwDAwIIYGAqQIbIViIsSAOIURAT8AKQFMzkGRmIgqWzIwDOzxiQgiAQE1SVVOxRjDBjJLVZPVYDu/VzUHauT2++Y3RdGQAMNmR8Y7mfA6xSbo3TgCp5TSsmVaqqbGqHo8Pq4rKqr9Kg8FkMm7qaX3vxt5LX9k43K4k2eTw0BMRA7h9c/93//Wz//UPvKW/xA69x+PJ6fNrmvDqNzaRGRBMwFBVzEwPd5rJQUK0wWKx3w+jg+l02mzf2t946TDtxNEe39lJ/VAziZMhqioK+3cbCqACktQUEWz3RjICnQyag94LGxsaKsaoVUApAUoGAvfxIAiIRERIzERIRNYAooEpAAaXPhITEbTsPKoamEgy1SRKDjYZiJkIGBEZAaBpVATbjI3cwVWHafOlyeheUpXRdlVPutwh0xld2aUlKREA1NQgCVQJpgpVMx3ffHl6OJrcXu4x43TU7G1NDvdqNAyMCiCZ9LWiiF/941uPv/3MW9/3MCgCAVHo9YvH3n7u2je2OzbZtGOD8PBg+so3N5o6bd855IijvWrn5uTwLvRocRiXS+yTBtOWpEJDNE1gTcfFGAComgn0aLBYHqtT2p9sNQIRi4ilF0gQkAgJSdWIKBbBvQ4xG6AKmiZEDEiMxAgKKgDsdBUiMqKaiSoAmClYMlUzKAIiAhFGMDSsEURsDmORJhhtN+PdRF7XQcuVIGiTN8tGb10q59K3uoFpAxOhylSnY61e2d+kA6KOcwdu6xOAZuTvgShs3T7MjGElsU8q6YlnLn3y338tTRVAAQlsropluL81He3e4kjECMIFLCzG1WGx2A/DSIWZm6eBAbsjR9CWQ3cPDLlGRIO4pEMJzKPJFJUJArQ5EyIhUWRGssAhXx0BIyqTJALQgOQSUAMl8hIGAoOpqgq0LzURUTFT0yJE9nINW0QkIM2cIpKhZSofM42fiSM3H82Us6KAGUgLDJJY1dgk6VShMhNEZJeZmeaiDJqZmHqFgAiTqqkaGEd89ZsbzdRCz5Acc8L5h05cfOzYC5+7Q4FbjrVLPwEBRCA1iSgM43ChXBmG5UEYBioQ0atnOWPFTJ2yP0/O+k1EDNTMYgirxWq/6O+H0Wg0EskkjxmgGgcmDjgrcwgAEBMimKqCkamJJPWipaoXMB2bt2IDM6+KSpOaSV2Nq2mVGskEuQUmJgyMjLMyDoAaiFoyaAAMMVfsAiIjEANTLjWqpWRVY1Vj02SVWkslzmo4zvs5JMBcvwEMRDEwIzHDy1+998VPXeGASKRiUqcQ+PFvv5QkmYlZAkgAmis9+fwQQhyUS0vlylJYXggLJZUMhNlbASGQs/pgiEaEIVAI7OmugZkpkhYFLS0srq2unTh2fGVhmYnbmgcgGCLGyJ5COqfv/zlDDWABQAHZlSamTAHA1FKu/5kAklels7NQqUVFJBITMwAzABMBgIIZmqppLq4aoOWMz0t01sIvT7MRzCRZI1aJjhqrDCRXigG8jAnOKufihpKXRAnJCwyARChqVS3PfvLK2977qOuKCVNVP/jkud6Q62kDCGAIyLmQaACARKHk/jAsDOOgF3sFu9PNzsf8WaErcSESAQGSoRqIICRADEVR9MqyX4YYyl6PkMR07+DAC8VIoCZq+apmAqhmYpKTALUUVGq0AMhe/hVTMEvSmChAmqcguvonACSRRBQ4EJISEkYCVAQFVGzLN209BA0N0IAMkYGY2TKQtaR1I1VtkwamYgld7soGiqheJDEv7rb1AgMzQSZGJELyCi0F2r49OtydLq0OqumEYhTRE2eWjp1evP3iDgQFg7yGsmWFQBCICqQAbGaNVu0D+tOqdDS8qRIRS6BAno6augXFMhb9MvbKQBRDRANJKaV0OB4bKBigKWgCZkTT3FwhRoq50N6EWhIZEAKgAZKpgImYWmpAVRUMjHKFLxdSzIOgShIBAkYK1DAF8KqHZqo7l1TN8zc0U0NS06TqtUwVabSqdFLBRK2ZqyIJtDXAbI2QV45kHt0aEUJgIsp+Cbbu7t96dXP1xIOFmogGw/4gXn769LVvbgVitWQmBuZYgzEGiBECAatKk6pkXl6cFXbB1Nz7ghohGkVhQjI3CiaKIYYQmLtSfSzLwXC4UE0mTZXqCRiAqiUlYyIySGZqqGYqnqNbCmGgiIqUFIwgIJiqsJkFAkUGVchSJ2QvKSGAQ0D1QEOghIgJkchvZM4HqjmJBACmaAqAIASmYEJVwrFgZdY4u2egXmbwKlxbseyUkOvhXZ1YwQAIiQkAK/vG564/9KazHGJgktSkyt78Zx/59MeuylQZSSypJUjIxP3QWwgLfV4oQmlgYlPPK1U1t2Xki5kACBgqgoEIO1HMIcRYxqKggGrapKarbsYiDvr94bScpENJSYQIEikzugPOqzBJLdaIpHD5LccAEYnU3F+DiqgCaIsd0d9GAmy7GzzBQ0DUNmCCuUcA7w1iRABUgZQ0paRCph4WHFSqgimQGiUtlRUJoa0SW1vC9e6mtgqEpgpA/gTUJn5+dQIEgPFItjd2j60vAQdfgecunnjs7Wf2txIiiKbUNNJI5DgIS0NaitgzRDWFfG8IZmrieYrl4G9qBOZ9NYQGSFQUsSiKIkYiMlDzwOfhJ9piGEixqP16PB2JKYIiIaHT1i0xKgRCrCG88V0nPcx42uw+UlsZYKYscoaGxJQzBZi92gSrxSiUmT1AUFBHbAZglCODXwLBrPE17hHBS9Lu09VjriqYITkuzgGoQ3mm2OItI0RGbCSpMocoKSFAmmhZFs+87/HN27uEqKIpiagScrSywB5aaWoKag5ooT0vOiSE7EoNzFC9LJWTqRg5MrGqufjNlQRopiJhuVlen/KkmjQpqTswj2CaVeo4U03x+T953p/acuS3mXTd3MkIkIlyb5wnzIDeOoM50mKrCGzbEciLPGa5U08NclMEZG9vIGaqCOxuxgnyTHJn9Vvb1WEt/WRqRGheVffz5GBpYjYc9GLJTIhGgAKE41Gzt32IYGogqqDORRICg5JJa+WQa62aG6+shb/+CDmjVgBfbl3M0/yE2lqXqTq/VydtRHOxBAxbkK9uQ6pqgGGwPMiE6ezBM+D2Liak3B+XCzVoSLl5Z05P2XtA18LoUNMX85Fk7Mgr+5DcLgeYPXw2PTecbA8GAO552pCQXbX/gtlYzcCMQxgd7vcHg8A0XIxFr7D25YHDDM0I2wXlAKkrmswgn6rrATOr3P3RE11Q9R6aVl1ZS54/9gUkr1lAcMFr+3h+M4ohBPZzUbY56FZa5oVyfQwMwKuV2fEQtWLMB2RndSSHapFrXgvznsvdPRjOGkax7cqd1+mctrIHtdwKaJ1f6l6q1kySWrOxefP48dP9fo8xlv3CLGX6wE+TO1SsPUmYP4s7HVeqzXX42JwZWfdPa0XqqyeHDgAQNYLsdtyy2ntWtbZGEwIj5Dp8lhdBqw1fiTNTB+wazmb3Cl0vorUx48gRs0OxQ5Pd79j2b+b3LbcoYst5QYv+WxfhD4KuAyRolQLtQgBAGx/spf2DP/36s6vHT509d3n93IUY2VTnUxlTuE/EMxVYizOyldjMJR5VSYZpDtoMwXSus5sIzIyMsutvTc4bP7OWAsWQr9NxoQDzP5q3NFt7K9jq5j7xztxXq5j2TUTyrr75V+5x9VwBu0XffdDaSJQTum5tdCbfMZ3tdTIea+qqTnLy7MMI1dbB/o2bVzb3ti9cesPKyjF3CC0d2yreOjvungCtE7xb79xS9N6euTes806Us7i2dQo4rzJUMNCcCWZROG4KFDpX3ql0TsTunrNKsijatWKzj7U/dV7L0xr35N1B7rPc3XOrSTuqGM8IW6vqnrldIQCgWTzY/cVy5o+Idd0c7O+Z6d2ta1VFDzz49oPJzuHO7Z3NO8eOHRdJ0AItaD9vRx64JSxdUAazRZMvP6eOGV7OhmAZKbWLzMO7mRm5enLEd22hmYGzodmcsnw6aNP90orQ1zC1svObyClXKz/0hCq37SK5H2yr0P4Jw/lrdhI4ok6af5J2iWBeh67VjIA0t+37fZMhv3Tlm6uLg/F4Z+PWlbI/OHnmoeFir64mvf5AROZ9+cyWZ44+uwuPevMC7X52ZbXZIYBpFgFiG6I6zXRiz6BNwcjDIpmZBvMqeDahzoSzgFrI34JL6G71fic0//tMvvkG23b2VmdzUaU9dYZBr4OU8qlmmItaYOR8E8x3TzJjWQ6WV07u7VxfWFwerKzdvXXr2W98AwK84cL5p57+tmOraylJEs+28gqY95+YU6IjkAFx5tq7nzEHwHZfyVyAs5Y/ydFMFb3hgRxn51WlCsFl1In+PiX7BY94g7n3X1dYRw+CtmU7w9F5Uc5drhPA6yvgCNCZHfeaNw2QkImOr68vrYY7t2//+1/8t5/53GdeuX5dJC0vLj35xife8m1v/eAHP/jow4+KiM1DjA7eZLEdCbbd4+oR7z/3N1N47fv3HUVkLdftLyLCnVubc9Cx9eCtAtybd7KeV9K3+vnojR354BG95sf1p1L3+gb62o9/q5MfOY1TOQZmcPPVm9VE/vCPPvarv/4r12/dVLDppDJTQipCUdf1pUsXfvR//tH/6oMfSim99jw5wTbNxn1kw5rljTBzNjEzdu3QlL3u/yE3PB85BvfubMG8+H19ZC+IAPBaBbwOBHo9GeXE7bVCnzsk86r6rTwPzIOd+9YovGZl+AHbm/d+5Rd/+ef+75+DQEl0Z2/fVDTJ4sJiURTT6XQ0Ojx37tzP/suffcdb3p5SciLEnzznXXNybH9oYRHk8rLO27KLa97zz/z+/KmOKMC5DQJA9I0o8xAIsN2zgq81//lTH73A/a/XcR1H3nEY4RVGJuLc+0LeJs9ePfMDWtePLdqio//O7Gd5Zen8xfNPPXQpom5t31OxQAGRkkhKCRFDLF65dv0n/vk/H40niJSrv+a7XMBaEq5lFdRUTUxFVVSTShJpkibt/pWkJl5OnL06HWh3krwZIRce/YcgSRGRCJGcJplHnvcLz/XQiXLugDZbmWFaNOjQwnyue99Z24IB4NHg3FJSeOTYoyrskBu021cBDIjDW556zN71pv9n997VG3cCY6SIROPppKnrfr+PhGp2d3MjpQbKMgfjvKR0dokOSmrHIlrHW3RW2GKNWbyYN3w3lg5xtXlyqxiw0FQNESETIhAREvgPZjZHNkC+CM7tXJrP3Vsooh2QBzMviX7r8NCqcIatOlfTrdTX/Wz3pK/zlpkC7d24enq5+I6nH9o8mFy5sz2ZTjmwpAQMUFVNalJqTp86tby8LI1g3pk5/zhHNirPbsmwS4XnpTwHf+BoLd06COOe9Ij0zcwsENM8ALVMBc48bNfoAK1dt6bhKjFEz9pzquKkZ05XcgdjrsrDXBSZPeF9PSptAMRsmH5hbdWTT5Nv9PWUQQgvXHnx2DS97dE33Nsf3dvdm2A8rBovF02mE0QMgY+vroMokrVt42iWs9x5dQIiUuZyZ96vteaWI5mhjCM39JrY2eIcc+bYzEJZxi4vbAk0m19W8/iwXZvQ8mBO2eBc5M766wJ4V5S0rCqbw9E4W1lHXll9+WcE3wGKWV2WD5kTuqdggMhE9eSgnyab++P1lcVTq4sX1xbKsvz81TuNao4VRGUcRuQ7t64fO3WS2DeRgafaaGS5+7XlIZy9YN/vDgjcpmBm2bFkK5w9+P1b0vOtEtF9phM6hrd9qqMfeK0DsXbnJnSyc25y7giXjivZS2lwZKtwZw75Xo+mPAAAwN2ScPbf8VJ7j+aA1Q9m5hDi5PBwMqmm00m/oDecWj0o5U+/+NUbe/X6ysqbHjh17vjKb33mmwkQAALhynBlNa5ef/m5peNrRQjW9ltR7uNwMq7z+5ZvkuZ9Q17vqt4x4pb2mnXQmpq1voXaB/E/BRXf351jyqzWko1vXjgG93E0R0RpOd50n/J2JCCg+5HofTfabi2nI7pvLUIzdzJ3G9jS0QAxxhevXPnEH33yM5/+9EtXr4xGk+/+rg/8tXc+Jgf7Z4+vU69e6fFjD5x98vLF65v7L93efPOFM6ePn9gtzn3wQx88cfEEKhHMuP4Wyc9i7BEJ3vfyMpNvt2j/2BbOjijg/s/NqTZI4+MmwLwo3Lmp2bEtvCGgru4x631zEmyWH2THgp0eDF67il7ntrTLwuaeFiHPeDj6KffMhGbw0z/zM7/8S788nVQcw87O1qSuz5x+Q6293c3t9aWlk+tR7GR/UG7vj5956Oy7Hj5Xin5qo/rAh951/uE3VHWzcefO8urycLCIc+MjWqOf/fha2eVfNPtPzWSDzSvstR/MGsI5BXgWhG0odKfGzERkmqGSPzMo5oKD92V0gYXJdzQRgBmQl7dIXfqYk+n7TenImmgznDZQAwKIk/0eXF6jLkRsmvSvfu5f/fy/+8jCcGH92BohLpSDWBYHeztbaXVjWp04tjxYXEBmACsaePqxBxZ7/At/9CXtnX784TcAIAreuPrCnUF89IlvGy4s59b7vJp9XwvO234n/dmbPnBB718i3c/zIcGPIcrxzJ1c8JaONhpa67v95O2wjrkHzwbYXQl9ZsrMp3tj9pGa5VFo3P0wc0RGnscbArUIR93jEyC+jgcriuK3f/t3PvKRXzq2eiyltLG1UddVEct+v//R3/vo7suPja5f+ba3PfjY6hJwYaYx8trqwubBYTz20JvKM6fPnj3YPbj26jeXj5/eufni5t1bw6Vl6AgxA28lywXko0zcnCYgF+lwhi9f+5gZTB7B9F3aawG7KiN6i3l3lLVqoRYldVgo20gXIWbgEr25ZSb9eQR23w0d+QEBoJ3lAPNGd4TkcqhCCJPJ5A//4x8Oh0ORZndvd1JNR6NR3dSIuLi48LG9nf/unW+6cOqYaLp97/ATn3t2qdT+yvoBnLjz+Svv/7E/z0Sj0d5wcWl5cTmeupgq29ncWj1+TH3Gjc06A7qUdt5oWhHPVuf8+5oL8dCOCbL5D+pczcDMgmdeOYK2cDQ3AUGLTltJa9uwgnoEuau1Luio/jvcOa+P+3ST38zLKDMBOTfuoEZWPiIwgsUYP/+nn3nuuecC02h8qKY7+3tVVZmCmU6r6uDg8N98YrwXw1ufessW08e//JsN2JsfObH1pc8NTyw/8MjDuzv7u7eeO3b6IuNgef2BJo3L2J9dxcxy18X9zi/zVvlPLZndonO1GQMBYGq+K8Tm5T6nHjCDAF2lw03VG5xxxtNmbN8mEG0TUMaB+bbALFfBAI46n9eKO5vyEeHOspAc2A0yT4UA6E/VIjNAIP7iF784nU45cJJ0OBrtH+wzsU9dUYXD8QQ5/PZ/+sKJC08cX1n+8A98+JMf/9Tk+tbaA6f+yg/8Dwh279UvNY31hyeTApMuLq08e+X5G1vXP/Tu7+wXpWIuwXbrALvquIutnWCEXUo0exYHCLla3cGH+WDQpsEA4FtBECC3MGeY6T2IXTyyWWlhFh46d4Uto2bW1tTnjD2HnVne63C6Pc8R67rP2tpgZIRH/2xme3t7BipiSeTg8AAAmtQAADMjoohMJ2MCqg63+yeXTp97+PHHn66a3UAY41AmB+PJ4YlLbxmPmuXVoj8oP/qp3//CV77wN//y9zIEX/DzEdXfyEGyfWy8DxG1HZzeIISICKjKRjPwM+98WsJOAwXqUk5/EVJb4znSAXfEA8JcBOiiylGyuotdOkMX3gE4Q8r3RdfZ268pe3Rnc6TQHwxERETG06mIdI/n+gazuq4JqL9woRye27r19VgMkAf14Ua5dIqJD0eH58KigjHDx/7kdz/xBx/7kf/xw8vl8ubtu0kPTp+9FGJxBIp7DmZHhIB5/M7MUznodqZC54Ciqnpz4rwoENGMAgWax4Xz/8/vfysx+RqcP/Jb5IFHPtSmPPCahXlUHzQrNN6fBBkirK6sjMfjaV3d292ZTCad9HNkI+73BxfOnd+8c3VlUO9v3zx++lJvMAjFyuHmi6qT5WMPGvLisPfZr33m13/xF/7bD3zPGy4+/OUvf/rS+UvVoe1vH66dWJPunG2yC22J3cG536xmxqKDkdDduSOfOXZa2664mTQCHLXZ+V/nXcfr6gBb3u4+xPlaTUCbqswMeYYrZp9qIzbkENUGNwAg8uQk91i8+93v/tmf+7nrzz9XNbWozF/OPcbTb3zy5PHzJ888gISr62cnExTdqZtRUSxwwxR7AM3+4fTXfu2XLp489Y53vPvOtav1+IDDYGl1cfPu5nC4SAGTJDf7/Gi+gtvdKv6eR2Wi2YgrtS4MdImcWR7okLXSiSj4VCMPujpHiTgW61yQWiZFZ2AZASxveZm5i3m/dJ8aMC/i+5xL51Vbm8p9aQRIgBSImAFxa+veq9devruxEUM8f/bcA5cvv/d97/3sFz/fRZ3OCJj4sUcef+dbv3154Zgoh96wDHRi+YJZXU+3C2rK/jEMQyT9zY//zpUXrv73f+/vqjYHozHo9Pad6+vrlzbu3VpdW0eSotfr9XqpaQxy3SwlgbZPoVMLAogKenhroYWquskAgLeGzLMUHTgMXqnJAdZjuuOd3HgOQHn2WK55dpGYOkKfWtA4a5TO0NX1aG2Pk9N2lJftkeTCwUP+ABBzCGE8Ht+6duPrzz33iU/8f5/+k09fv3G9kVT2yl6vfOzhR7/5/PN4f54IC4OFp9/49DNvf2ZleVVNVlaWmfuDpWP9fo9Cn5aPARhz7PVKQz1omu///r9xYvXEzt5OLf2y7N99+Uv7W9vLy4s723fGo/2HH3qyoAJYp1UtIipS12ICqupjRH1rrm+7RiZmjsyIQEQUgqp2Xmg+MesiFhHhzs1NaFP+mSdBAKOcdrGRd/TMua/WY4A51M2wEX2zMfgdoE8onCVfvjCtvVyLq/L+IyIqOFII03ry8isv/+Zv/dbHPvb7L710dXNzs0p1oOCdqcQUQmiaVDf1fV7OwJ564qm3v+ntJ04cf+KxJ3f2703G47OnL508fqboR0Qk5BhDjDFGLnq8sDRcWBh+82vPbt7ZnEzqtdVjfU7SjKtkotPjq+vHjr+hv7QWer3xZDydjtX39yg2TW57zkarioRmQJTrHswUyhCYOpeL5ANaEdqo4H8KqogAFtp91J5YIHYYVjtazYc5Wh7KKuKe12fRAjJlC3YwayYm8/lhWzLIqmIiDExEgdkQJ9Px3t7uxubmpz/z6d/47Y8+++yzGxubwQcrEvWKnrV5pYrWUosdWc7MbGZMfO3G9bd/29vPnjnbH5ZLqxfrerq5sVk343Nnz/X7CyFEJCTCpWPD5aUFYlLTR558urdw7e6NO73hIiAYjwpteuWxxZUTsb8IACbSC2W5WCRtVBMAaR7iAO2mbYBZsNVuaC3zkZSoMzlfGSGEJAm3b24yojJih/M7NrRNP3JC4Jp0k0b2DgK3ZkPkGBmprur5kikThxiQGaDVE2BVV6PJ6ODgYH9//9bt288///yVq1euX79+4/qNazdv7u3vGYhv7jcDBLuPj3K43cEev+uubbtp6rNnzv3ID3z4wQceRAQAMoWqqiRN+/3++vr6mbNnjp86EYtg3qxphojVdPrcV7/cTHRhaXnQXyzKXmAkMzCLZQRCglgO+kbWSK0ibry55bmlHKDFeBmsdmzx0ZvHo2wE7t7eREBjgtaAW4NtldaRbdk5Yb6ujwImMADi8NyLL1y/eeOdb3vH4sJikgRgmmRre+vGrVt3Nzdu3Lh148b1uxsbm5sb29vbB4ej/b29vd3d8Xic2o3BmWlAX0A6F2toDq2SgYmJzXWy5EBH5L1WZvKeP/OeH/2hH9vfPQAEVVVrAtP62vqZs2cuXrrETBkPtrHIz7C/d7i/fRAoMKOZmkrkEGJgJmQu+gNERmazuq6rTpqdg239obXFytkCbY+ZFXR9uYhIyBto1IB8Om7bKqjq6bhKAjNVMDGnaNWMCYiZmMyo6JX/5uf/7d//8R/f3t35C3/uv3zz009vb2/v7x+o6pWrV2/cvr1/sC9JALCp6iTihAkgMjERFRYVj/pyAGwpEVe9tekIIohquwf2CFHsXVaIaMafffZz166/cvHc5Y3NO3VTLS8vnlg/fvLkyeNnjmOApJrtibK7VBVVGA77RYzj0aSaVGjGRBBc4tBMK1At+j3TQCGEYHVdqQoCdiA472fGLkn1M89uVU064sgVEALjrRev++e9GYdDgLl+CDOfmC4I4EMnwEA0j5YrigIjfO7Zz/7T/+ufffyTn1S1XlmePHGynkw50Gg0GgwHWzs7bh6EZApqpl3tJW9ampEM1kEpA/SNP6ra7ZMGZEbv7ZmzOGBmETGwwAHRD4CHLz/0Yz/8o+ura7fu3kHED37Xdy+uLHBkkeT71HHGmx1ptnVdjg/G9bRWgSKGuprUdbW8vDJYXAQzJKbABlpVU19zXSr+OqllxiKoIn4YtLmx49RARMQ8Go1kou61mRnAUkqA3s5oMQQE9A9Yq0AmagBeufrys89+6eVXXllcWNg7OChCoaKTZoqC06ZOh2pmouJjd1v1z54ZMG9BcneZ44eam9XK8sqFCxfPX7jw2COPPPHEE5LS3/3xv7+xcfe+3DilGoEjxxiLQJw4hRBeePHFf/IT//Q73/u+d77z29/x1reurq2o73tu90R3holtoZzbPUtFSWUZVexg/2Dn3k49rYeDASC592+qKacQijjoDcSkaRprwWWODW2dLAdJMzTvPqO6rl0NKSVXXvCF3e/3ichhFgAYKAdCJI4cYwkGKklFOXIrfUYEYvrK175a1dVgODx89RUHXSnVSZLWmlLy7i9oqVVraRNsg3yb0QEAaFuAW15afurJJ7/zfX/uO971Z0+dPLm6ulrGkgP/u1/+xZ2dbcQ5ag/s4vkLf/Uv/ZX1tfW1tfVeWRJzDBEJ9/b3Ll26uL5+/MTa8bIo6qpxji3vV2vpRQB/U4nIgFqEnuuwg4UBIh7sHkYKZqAqRByLwkRNNRkgoarVdZVSsuw5MAQCBPVfFZq6dt2ISErJF4qIqCkihsABCWMMPlaz3asIBuLEkiGDGVrRtgAZAKgpE4/G4698/avnzp/t9XsGxhgQoUl1x4rDfTjA32nZWxXJA2OBY4yrq6uXL19+z7ve9Z3f8b7HH3283+83dS0iqUqBwpWXr/z4//G/V9V0NoIbUVXe++73/Pjf+Xup8dWNzCwmDoq6RxVJRLnk4NCqc9RgZqAMDJj3LwKAT4VpUm1gxLy8tiy1NFVtFpk5qRIzEiKSqpVFL8ZY15UBpKaBVnvZL4mJJO+LdjUEDmpqYIEiAYbNjc2iiBw4xujeiplbHgYDMzGHwAbauSAvMhQF3rp1iwi27m1fu3at3xsggCGKqPtlh+c54JgmER8cBABMod/rnzp1+uLFSw9dfvDRRx65fPny2VOnL146v7y4ZGqT8bSuKwD0XdFXr73yt/7O37p55yYhA86oLlV46qk3T0bT8XgKYD6PChBdcA4GiYgCelDzodceydq1hwjkSY8RaDCCXJzuQ98JHN8/0TTN4d6hVRaKkhDJyNCIUdUQw2BYGIiIjxHLcwQAQEFVSzdBSXlPrE+NQEIVDVlAtaWUvArvuLqIEQA1BuZgqsgIecKN+2htGrlze+Pu3Xt3Nu4uDBe3tndiCIQwrWu33Mx1xNAfDPq93srq6rlz5y6eu3Dx4sXzZ889ePny6VOnl5dXFhcWEADBUkqiOp5MwIMPGTN7J+s/+Mf/8A8+/odF7LmvcACnqsdW1x9+4MGDg/FkPDFTCpgaCSHEIvYHfQ9wABaYnThEZjdyxBl8hDzmKI+mUkDzq0j+NhTnQDnyYGGwt7MXkvTLHhYFzu2fqSshQkROTY3OyKkhEnO7IU/Nuwz8q2Iisqhy4NDr9byIkecGWQohqGrTpDbEiVqMReSQ75ojkzIzFWXxrj/z7meeecedu3d/7df/wyMPP3Tu3NmNuxs3bt0cDodra2vLy8vLy8tra2snjp9YXVkui16v6BGRNLVHY1GtUzXX8Yjo7eqGvn+2LOKLV67+8af+U1n0mVm0cRTEzCnVf/37vv+d73ymntahIFNLSWOhTdNI0sl4Gpg4UggBKZeoQLq9NRkIqCkCJPdMCGZiHkizN8IO4YhIahIFSk3dECJTpAgGRJZEUjIwCoG37+3d29pwdZZFUTfJnQoz+2lijBmD+KTd7RubbZUSJSVfuYCgSR3qGJgjpRACkuUZBABIpKYhRpCc9nWe112Q91t0tR+RpGrtKDsnQEAQwIyRNH+3zlz/mRGAhcD/5z/6Bz/9L3+2KIqqaZI2DjTruvqLH/qLP/0TP1nGQsVBk4NppwhZREUTtPmQqkgSQmQOHCiEQMy5GRlMDc2/EYYyxutogQyWoKXI1QCsntb1qC57vVAEIALVprGmkaKML+7vSRqfZFYRU63rVNeNezBV/3KYWTcCEYaqqtwZErfDXwB89TG3G/iIfOG30xwAEcWUiVQEAJ0UVFXxLUke+lS7jFpVTFA9KphBZuWEiNAc2qKaWcopAiGaCSE9+5Wv/PxHPtLv9U6dOplErt+6kZIAwPHjJ/6nv/mDwcJ0PAUAEY0xIhE6uWRGgUoqbK6HR1V8h14mccxSaoOztRDBGy/VtyKZmgJiCKSmkhKiuzKMRQSA8eiwj0OOhdtQE9Ivv/xCDbb2lefjI5fOP/iAqYqKbx0QyZN3VNpQr6YmQSWPaSXRbMVe+/DkLU+r8sxNSFqyDYCYxZKqqCoSFUVBRJbL9m2hps3ozAwZGCgXJjQ3HSQUIsyMX3bJOZtEhFDGl159ZWdvV5JMq8nK8sqwv7C1s3X+3Ln/7X/5229781uSpAJjJmA863F6MgPfFn+ZD58lsJDfN2jHsoGp+ddPiSpC+70qZpl8B1M1Z1I7lGRmRNjrl5PpNAr0e73dNP4P11+JRs1//KNf+Z3f+sG/+6MX6XLdSNM0CJiSNqn2wppjWU8F6roO7jTc0SExqhISgBGSqGD+kqv2xaRqKgIInIszPikORNUJBCemfHQNMbX0LJv5fABgyDtl/TlB/UvAjJB4Loc0MyR8+NFHjh8/fufu3bputnd2DPA973nPz/7Uz5w+fkokRfJZbJ5ZGHuL+Wta8jtP4qjTz8wcJeelM3yseZZDV7HQPLRJMmPknsBPSCGoTtN0+p+37nx5dPCUhs/+6q99/evPXq+3fvE3f/3xNz29urw8nU5FtUQy7Ynm5djh46Zp8OpXrnhp16mp1CQmosz2IQf2iVCA3oQcPG90mpi5s3VoR+o5xkWDPAQGAJnbATYIxNx6VYC2wbQtOpK7SIfSYkaARRH/2U/+5D/8x/9oOp2q2vve996f+hf/4tK5C9W0AprlGNnXdd0e0M1MO1IB7ZJVRFJxUGfzS3xWvsPcle3UAyHmzwKoGRO1IEo/89yLEHvXvvLVL/7e7989vPfq7ub23v6ZM2fWjq39jb/2fW989PFqMjUz//Yd8iG6gIbgJwkLiwstz2mq/lCorYl2zRiQJzSoJUGkRgTMXZtIkpSSw/886QFQTX1UoMdvDhwiqygze4auZmoJAWNRtNwVOFxXU6K2f1X1wQce+O4PfNfp06dXlpe/73u/d2V5ZToe+/d8qeStQ2IC5sDBCyRtwttVfZz1RMxNuJZMjtAyKaUuTc1lJTMDkCTOE+e8EsBBbbfCVofDj37kV+5dfSEcX/rqC6/2iv6li5eeevJNb37Lm3/iZ37qe97/ge/5wHfVtSen0EgtoqLi1RsiwqtffVFS4sC+6IgYzFJKKUk7PAiZQywiM4MPO1Nr2Qytq1rVhzBSxv4AKUnZK5wzcJ9aFDFErqtUFEVZRDVFYv+CtxkjgZ5bqlrKTJyIiH7t618ztQsXLiACERdl4fu8TM0LgzGEohc9LzUzIsY8U0081rVLpLV0UwMI3H5jjoeF1u85tVdVlZpJSoBAxNV0amZJxAkc9C+7YG6aZjgY/vqv/upmfYDIu/e2k8r6+vo3vv6NH/7BHzx76syVl64+87a3m2oS8X4ZUXXg5e4BX/raCxzYNa+qzKHjx5umUclMjrPtKYkk8Tn+1EIjVeBAaspMYBiYASBpUhFJWcBeno4xEhEHJkLv6kFAVYtF8LOZgiccREgYzKxJqa5rU/Vv9wghxKIgoiY1aLMagA9lTin5FngRLXtlYG6axn1OCFFViqJo4Vl2/ezm3BZ2sDVtp4QkJRVxTbjrF1W/oookETPo9cp+v/f55577nd/96Lvf9syxtWO/97H/94nHn/jKl7/yIz/0w2VRAuWd8oE5xJhSCiFgrrNYEDWtk4gwhxijgcUYYxEjhzkXC56NNKlJVaM29MzCJzYE5o4Az2252LYGeDsFgoqKCnmUVQgh1nU9dbNKCQCCjx8kCDEwB0ImAvKYr9I0aTKZeJVG1RAtxhhDoSoRDAlN1AxiGTF/4SIQIwIWUnjBI4mgoqgScywLQlJVp8lCCG5iqWkcnvriABVgYiIDoLK0lna2NmfzJSuSUkpvfvjhgX338fXji0tLd5+++8Tjb3zw4uWiKIuyEJHcbIPoAzB9a8NkOgUEfPWbLwNkf8Qht7LEGEMIhMghKOQygG94zWKdDVTLLRjY7Uttu+ryBlsV77pITfKJc8xMxEiGQCJCBKKGSKYGbIwkIhRioFmAdcBQVZWZgWLTSOaoAhO7wTqTkftjmQkQVI2QQmAiLIqIiGb+PShetEJ/Cp2Lwy1k8uJzUgHxycnty2BWN6A24rmnDSGklEQlcDSzGIN0EQWgaZq2lOo2Z02T/FPem2VE5BIH8DGuCJDT2lwXgRlIZOY8O60bI9aVOmfLJre4myn6V2NaTiKozSXMfGShz/JCn/WtPsDPjjRqdDLKDoQRxBMloDzeG5pGUhLIYznVg5OZmYIkRSQD9VxMJCEi+yBiageCt61URKgmRJHKYGoI4Dlpk6Rrt4I5cNWFeqcZ/CbzhVTcq7nb8d2WIQQzK0swM9y6vgk+/qXzf5BB4TyG6+B5C+MQkQlQIOWRNgo697VvamoCLkdrJx9jq0H0jDyf32dWOpuRS0BgXW/07CHNLKmQc8556JcxB3UjNUAmywlkvmrGdoheHE51k9qSOhH5n3K3S071CQGBzJlHRG6zTnRslSfLZKm3OErUg1mnDGdfcswXaZomR1YDIAw0GwsW8lCiOeI+ozY1zdOu2+jkxXi3RAAAQSRvHgAzIAwYMldvIEmd6xfNHV6+7vItzthgICYwFTUPKi4Q8MnRmUnMj5RS8nxEVc01oABOMDhhMtd52Wa0QJFV1SfJE0K0oGYiYgocoqh/gTKGwGqoKq1KKITQriEAMERkRmi/AxHyFD5DRFHxXVpmbedhi8gDB2CORWGaunkFDmEy47T16h3NGNm3yaOIIJJHf+eeiBlxtmEJ81BqtTyPDp2Q8EJCzm+JfLK5G3YXlH3Gp1pbJkPI/JSbqdMEat6h7ZJ1bsO8i7RbpehbkD1LMV80mfjtCsvtboccrQwAZ0s591q2Lt7zP39oPPry2+jWotvpfNMDtCsi12LcDggR0cccGIBpmp/j1M5StXC4P6LAHAKxQfsQCMYhYFvIlyRElKTGWQYIRMREvmXGaU4zS+L5b+oyAPDGPWYiTJI7qNArsWBm4HVp1xwH8qpFjMXM8zhPSi4z85Y7F1LeDuXhyLpi43zzLHRy6mTVkp0enZzzyV8Q1Wp3FpA7bHpE0K0cZzhxfhKct7xI3sFi1smsayYz8G0AoAEzBEcwa5qmg9s+wsBPECNzYICgAogmbXM2E5gxADCXZqqgDGaEaCHGmOomo3sAQGiqGsF3XiaiTFMzs0gSxRACtfU4QhIRl4KIMpGhiSgREVpGP8yaefFZMcVyCKWciHXrrg3k0MrUReKFcrOZ4bt6fG+Rinb1tRgjdmxEF37dOeYia24y8onPZrkDFNshZt4V4ZcQaVxVIvr/AyAV53LaJR//AAAAAElFTkSuQmCC\n",
        "metadata": {
         "tags": []
        },
        "output_type": "display_data",
        "text/plain": "<PIL.Image.Image image mode=RGB size=128x85 at 0x7FE0735FCF98>"
       }
      ]
     }
    },
    "7a718179084e450fa673e9b31374d7cb": {
     "model_module": "@jupyter-widgets/controls",
     "model_name": "FileUploadModel",
     "state": {
      "_counter": 1,
      "_dom_classes": [],
      "_model_module": "@jupyter-widgets/controls",
      "_model_module_version": "1.5.0",
      "_model_name": "FileUploadModel",
      "_view_count": null,
      "_view_module": "@jupyter-widgets/controls",
      "_view_module_version": "1.5.0",
      "_view_name": "FileUploadView",
      "accept": "",
      "button_style": "",
      "data": [
       null
      ],
      "description": "Upload",
      "description_tooltip": null,
      "disabled": false,
      "error": "",
      "icon": "upload",
      "layout": "IPY_MODEL_2575e2bffa6d412694600cb9bb9037a7",
      "metadata": [
       {
        "lastModified": 1600146493925,
        "name": "CarolinaKostner.jpg",
        "size": 1247627,
        "type": "image/jpeg"
       }
      ],
      "multiple": false,
      "style": "IPY_MODEL_4d09140fd2ea4d699bdc816710910f0d"
     }
    },
    "7af80c537afd451bb3d6a07257c1d81f": {
     "model_module": "@jupyter-widgets/base",
     "model_name": "LayoutModel",
     "state": {
      "_model_module": "@jupyter-widgets/base",
      "_model_module_version": "1.2.0",
      "_model_name": "LayoutModel",
      "_view_count": null,
      "_view_module": "@jupyter-widgets/base",
      "_view_module_version": "1.2.0",
      "_view_name": "LayoutView",
      "align_content": null,
      "align_items": null,
      "align_self": null,
      "border": null,
      "bottom": null,
      "display": null,
      "flex": null,
      "flex_flow": null,
      "grid_area": null,
      "grid_auto_columns": null,
      "grid_auto_flow": null,
      "grid_auto_rows": null,
      "grid_column": null,
      "grid_gap": null,
      "grid_row": null,
      "grid_template_areas": null,
      "grid_template_columns": null,
      "grid_template_rows": null,
      "height": null,
      "justify_content": null,
      "justify_items": null,
      "left": null,
      "margin": null,
      "max_height": null,
      "max_width": null,
      "min_height": null,
      "min_width": null,
      "object_fit": null,
      "object_position": null,
      "order": null,
      "overflow": null,
      "overflow_x": null,
      "overflow_y": null,
      "padding": null,
      "right": null,
      "top": null,
      "visibility": null,
      "width": null
     }
    },
    "84f039d2a62642dcaff278abc6c70153": {
     "model_module": "@jupyter-widgets/controls",
     "model_name": "ButtonStyleModel",
     "state": {
      "_model_module": "@jupyter-widgets/controls",
      "_model_module_version": "1.5.0",
      "_model_name": "ButtonStyleModel",
      "_view_count": null,
      "_view_module": "@jupyter-widgets/base",
      "_view_module_version": "1.2.0",
      "_view_name": "StyleView",
      "button_color": null,
      "font_weight": ""
     }
    },
    "939b31ddaee84817b4aa8782ca8b41a9": {
     "model_module": "@jupyter-widgets/base",
     "model_name": "LayoutModel",
     "state": {
      "_model_module": "@jupyter-widgets/base",
      "_model_module_version": "1.2.0",
      "_model_name": "LayoutModel",
      "_view_count": null,
      "_view_module": "@jupyter-widgets/base",
      "_view_module_version": "1.2.0",
      "_view_name": "LayoutView",
      "align_content": null,
      "align_items": null,
      "align_self": null,
      "border": null,
      "bottom": null,
      "display": null,
      "flex": null,
      "flex_flow": null,
      "grid_area": null,
      "grid_auto_columns": null,
      "grid_auto_flow": null,
      "grid_auto_rows": null,
      "grid_column": null,
      "grid_gap": null,
      "grid_row": null,
      "grid_template_areas": null,
      "grid_template_columns": null,
      "grid_template_rows": null,
      "height": null,
      "justify_content": null,
      "justify_items": null,
      "left": null,
      "margin": null,
      "max_height": null,
      "max_width": null,
      "min_height": null,
      "min_width": null,
      "object_fit": null,
      "object_position": null,
      "order": null,
      "overflow": null,
      "overflow_x": null,
      "overflow_y": null,
      "padding": null,
      "right": null,
      "top": null,
      "visibility": null,
      "width": null
     }
    },
    "b33381b5acac447293389569aa272c5c": {
     "model_module": "@jupyter-widgets/controls",
     "model_name": "LabelModel",
     "state": {
      "_dom_classes": [],
      "_model_module": "@jupyter-widgets/controls",
      "_model_module_version": "1.5.0",
      "_model_name": "LabelModel",
      "_view_count": null,
      "_view_module": "@jupyter-widgets/controls",
      "_view_module_version": "1.5.0",
      "_view_name": "LabelView",
      "description": "",
      "description_tooltip": null,
      "layout": "IPY_MODEL_1568364cf4344f46bce6335294743d80",
      "placeholder": "​",
      "style": "IPY_MODEL_12ecdd0d88104737bc2e79261649a27e",
      "value": "Prediction: figure; Probability: 0.9925"
     }
    },
    "b78b1de77f7046508b147bff6a246b23": {
     "model_module": "@jupyter-widgets/base",
     "model_name": "LayoutModel",
     "state": {
      "_model_module": "@jupyter-widgets/base",
      "_model_module_version": "1.2.0",
      "_model_name": "LayoutModel",
      "_view_count": null,
      "_view_module": "@jupyter-widgets/base",
      "_view_module_version": "1.2.0",
      "_view_name": "LayoutView",
      "align_content": null,
      "align_items": null,
      "align_self": null,
      "border": null,
      "bottom": null,
      "display": null,
      "flex": null,
      "flex_flow": null,
      "grid_area": null,
      "grid_auto_columns": null,
      "grid_auto_flow": null,
      "grid_auto_rows": null,
      "grid_column": null,
      "grid_gap": null,
      "grid_row": null,
      "grid_template_areas": null,
      "grid_template_columns": null,
      "grid_template_rows": null,
      "height": null,
      "justify_content": null,
      "justify_items": null,
      "left": null,
      "margin": null,
      "max_height": null,
      "max_width": null,
      "min_height": null,
      "min_width": null,
      "object_fit": null,
      "object_position": null,
      "order": null,
      "overflow": null,
      "overflow_x": null,
      "overflow_y": null,
      "padding": null,
      "right": null,
      "top": null,
      "visibility": null,
      "width": null
     }
    },
    "c822f4ec37b84ed5ad4293e1a8426928": {
     "model_module": "@jupyter-widgets/controls",
     "model_name": "FileUploadModel",
     "state": {
      "_counter": 3,
      "_dom_classes": [],
      "_model_module": "@jupyter-widgets/controls",
      "_model_module_version": "1.5.0",
      "_model_name": "FileUploadModel",
      "_view_count": null,
      "_view_module": "@jupyter-widgets/controls",
      "_view_module_version": "1.5.0",
      "_view_name": "FileUploadView",
      "accept": "",
      "button_style": "",
      "data": [
       null
      ],
      "description": "Upload",
      "description_tooltip": null,
      "disabled": false,
      "error": "",
      "icon": "upload",
      "layout": "IPY_MODEL_0f2d8fe73884481c840f36425a77b140",
      "metadata": [
       {
        "lastModified": 1600151822934,
        "name": "UzuruHanyuHydro.jpg",
        "size": 104479,
        "type": "image/jpeg"
       }
      ],
      "multiple": false,
      "style": "IPY_MODEL_e7485298f3644ac288f4539e4f69efda"
     }
    },
    "d6796c681c68483db253737e04141c60": {
     "model_module": "@jupyter-widgets/controls",
     "model_name": "VBoxModel",
     "state": {
      "_dom_classes": [],
      "_model_module": "@jupyter-widgets/controls",
      "_model_module_version": "1.5.0",
      "_model_name": "VBoxModel",
      "_view_count": null,
      "_view_module": "@jupyter-widgets/controls",
      "_view_module_version": "1.5.0",
      "_view_name": "VBoxView",
      "box_style": "",
      "children": [
       "IPY_MODEL_d912147bff274243bb6fef21b92d07da",
       "IPY_MODEL_c822f4ec37b84ed5ad4293e1a8426928",
       "IPY_MODEL_1104eeb081d946d988062cc7cfef81c4",
       "IPY_MODEL_6a49cd6c1ca14e739835db1026dfa082",
       "IPY_MODEL_b33381b5acac447293389569aa272c5c"
      ],
      "layout": "IPY_MODEL_b78b1de77f7046508b147bff6a246b23"
     }
    },
    "d912147bff274243bb6fef21b92d07da": {
     "model_module": "@jupyter-widgets/controls",
     "model_name": "LabelModel",
     "state": {
      "_dom_classes": [],
      "_model_module": "@jupyter-widgets/controls",
      "_model_module_version": "1.5.0",
      "_model_name": "LabelModel",
      "_view_count": null,
      "_view_module": "@jupyter-widgets/controls",
      "_view_module_version": "1.5.0",
      "_view_name": "LabelView",
      "description": "",
      "description_tooltip": null,
      "layout": "IPY_MODEL_939b31ddaee84817b4aa8782ca8b41a9",
      "placeholder": "​",
      "style": "IPY_MODEL_e9388f240aaf4b2b96316c31615d72d4",
      "value": "Select your skater!"
     }
    },
    "e7485298f3644ac288f4539e4f69efda": {
     "model_module": "@jupyter-widgets/controls",
     "model_name": "ButtonStyleModel",
     "state": {
      "_model_module": "@jupyter-widgets/controls",
      "_model_module_version": "1.5.0",
      "_model_name": "ButtonStyleModel",
      "_view_count": null,
      "_view_module": "@jupyter-widgets/base",
      "_view_module_version": "1.2.0",
      "_view_name": "StyleView",
      "button_color": null,
      "font_weight": ""
     }
    },
    "e9388f240aaf4b2b96316c31615d72d4": {
     "model_module": "@jupyter-widgets/controls",
     "model_name": "DescriptionStyleModel",
     "state": {
      "_model_module": "@jupyter-widgets/controls",
      "_model_module_version": "1.5.0",
      "_model_name": "DescriptionStyleModel",
      "_view_count": null,
      "_view_module": "@jupyter-widgets/base",
      "_view_module_version": "1.2.0",
      "_view_name": "StyleView",
      "description_width": ""
     }
    },
    "ec1436f44cda4cd2b2ee9c078a074c60": {
     "model_module": "@jupyter-widgets/base",
     "model_name": "LayoutModel",
     "state": {
      "_model_module": "@jupyter-widgets/base",
      "_model_module_version": "1.2.0",
      "_model_name": "LayoutModel",
      "_view_count": null,
      "_view_module": "@jupyter-widgets/base",
      "_view_module_version": "1.2.0",
      "_view_name": "LayoutView",
      "align_content": null,
      "align_items": null,
      "align_self": null,
      "border": null,
      "bottom": null,
      "display": null,
      "flex": null,
      "flex_flow": null,
      "grid_area": null,
      "grid_auto_columns": null,
      "grid_auto_flow": null,
      "grid_auto_rows": null,
      "grid_column": null,
      "grid_gap": null,
      "grid_row": null,
      "grid_template_areas": null,
      "grid_template_columns": null,
      "grid_template_rows": null,
      "height": null,
      "justify_content": null,
      "justify_items": null,
      "left": null,
      "margin": null,
      "max_height": null,
      "max_width": null,
      "min_height": null,
      "min_width": null,
      "object_fit": null,
      "object_position": null,
      "order": null,
      "overflow": null,
      "overflow_x": null,
      "overflow_y": null,
      "padding": null,
      "right": null,
      "top": null,
      "visibility": null,
      "width": null
     }
    }
   }
  }
 },
 "nbformat": 4,
 "nbformat_minor": 1
}
