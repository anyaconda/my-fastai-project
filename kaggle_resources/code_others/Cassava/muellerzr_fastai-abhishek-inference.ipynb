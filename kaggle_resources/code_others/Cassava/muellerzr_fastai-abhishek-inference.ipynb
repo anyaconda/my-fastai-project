{
 "cells": [
  {
   "cell_type": "markdown",
   "metadata": {
    "papermill": {
     "duration": 0.017087,
     "end_time": "2020-11-28T00:21:35.977965",
     "exception": false,
     "start_time": "2020-11-28T00:21:35.960878",
     "status": "completed"
    },
    "tags": []
   },
   "source": [
    "## fastai Abhishek Inference Module\n",
    "\n",
    "This will be an inference module based on my previous notebook [here](https://www.kaggle.com/muellerzr/recreating-abhishek-s-tez-with-fastai)\n",
    "\n",
    "We'll be showing how to import our exported learner, perform a 15x TTA (as is done with his notebook), as well as recreate our transform pipeline"
   ]
  },
  {
   "cell_type": "markdown",
   "metadata": {
    "papermill": {
     "duration": 0.01232,
     "end_time": "2020-11-28T00:21:36.003106",
     "exception": false,
     "start_time": "2020-11-28T00:21:35.990786",
     "status": "completed"
    },
    "tags": []
   },
   "source": [
    "## Our Imports\n",
    "\n",
    "Let's grab all our imports"
   ]
  },
  {
   "cell_type": "code",
   "execution_count": 1,
   "metadata": {
    "_cell_guid": "b1076dfc-b9ad-4769-8c92-a6c4dae69d19",
    "_uuid": "8f2839f25d086af736a60e9eeb907d3b93b6e0e5",
    "execution": {
     "iopub.execute_input": "2020-11-28T00:21:36.034992Z",
     "iopub.status.busy": "2020-11-28T00:21:36.034392Z",
     "iopub.status.idle": "2020-11-28T00:21:37.362332Z",
     "shell.execute_reply": "2020-11-28T00:21:37.361479Z"
    },
    "papermill": {
     "duration": 1.346682,
     "end_time": "2020-11-28T00:21:37.362448",
     "exception": false,
     "start_time": "2020-11-28T00:21:36.015766",
     "status": "completed"
    },
    "tags": []
   },
   "outputs": [
    {
     "name": "stdout",
     "output_type": "stream",
     "text": [
      "/kaggle/input/efficientnet-pytorch/EfficientNet-PyTorch/EfficientNet-PyTorch-master\n",
      "/kaggle/working\n"
     ]
    }
   ],
   "source": [
    "%cd ../input/efficientnet-pytorch/EfficientNet-PyTorch/EfficientNet-PyTorch-master\n",
    "from efficientnet_pytorch import EfficientNet\n",
    "%cd -"
   ]
  },
  {
   "cell_type": "code",
   "execution_count": 2,
   "metadata": {
    "_cell_guid": "79c7e3d0-c299-4dcb-8224-4455121ee9b0",
    "_uuid": "d629ff2d2480ee46fbb7e2d37f6b5fab8052498a",
    "execution": {
     "iopub.execute_input": "2020-11-28T00:21:37.394751Z",
     "iopub.status.busy": "2020-11-28T00:21:37.394015Z",
     "iopub.status.idle": "2020-11-28T00:21:38.997109Z",
     "shell.execute_reply": "2020-11-28T00:21:38.995988Z"
    },
    "papermill": {
     "duration": 1.620702,
     "end_time": "2020-11-28T00:21:38.997288",
     "exception": false,
     "start_time": "2020-11-28T00:21:37.376586",
     "status": "completed"
    },
    "tags": []
   },
   "outputs": [],
   "source": [
    "from fastai.vision.all import *"
   ]
  },
  {
   "cell_type": "markdown",
   "metadata": {
    "papermill": {
     "duration": 0.013366,
     "end_time": "2020-11-28T00:21:39.024447",
     "exception": false,
     "start_time": "2020-11-28T00:21:39.011081",
     "status": "completed"
    },
    "tags": []
   },
   "source": [
    "## Bringing in the Items We Need\n",
    "\n",
    "When we export a `Learner` object, it expects *everything* we had be available when we load it back in. Specifically our **functions** should be in the available namespace. Below we've done just that, bringing back `AlbumentationsTransform`, our `get_x` and `get_y`, and our `LeafModel`:"
   ]
  },
  {
   "cell_type": "code",
   "execution_count": 3,
   "metadata": {
    "execution": {
     "iopub.execute_input": "2020-11-28T00:21:39.061236Z",
     "iopub.status.busy": "2020-11-28T00:21:39.059385Z",
     "iopub.status.idle": "2020-11-28T00:21:39.061980Z",
     "shell.execute_reply": "2020-11-28T00:21:39.062522Z"
    },
    "papermill": {
     "duration": 0.024754,
     "end_time": "2020-11-28T00:21:39.062646",
     "exception": false,
     "start_time": "2020-11-28T00:21:39.037892",
     "status": "completed"
    },
    "tags": []
   },
   "outputs": [],
   "source": [
    "class AlbumentationsTransform(RandTransform):\n",
    "    \"A transform handler for multiple `Albumentation` transforms\"\n",
    "    split_idx,order=None,2\n",
    "    def __init__(self, train_aug, valid_aug): store_attr()\n",
    "    \n",
    "    def before_call(self, b, split_idx):\n",
    "        self.idx = split_idx\n",
    "    \n",
    "    def encodes(self, img: PILImage):\n",
    "        if self.idx == 0:\n",
    "            aug_img = self.train_aug(image=np.array(img))['image']\n",
    "        else:\n",
    "            aug_img = self.valid_aug(image=np.array(img))['image']\n",
    "        return PILImage.create(aug_img)"
   ]
  },
  {
   "cell_type": "code",
   "execution_count": 4,
   "metadata": {
    "execution": {
     "iopub.execute_input": "2020-11-28T00:21:39.104230Z",
     "iopub.status.busy": "2020-11-28T00:21:39.103484Z",
     "iopub.status.idle": "2020-11-28T00:21:39.106921Z",
     "shell.execute_reply": "2020-11-28T00:21:39.107521Z"
    },
    "papermill": {
     "duration": 0.027193,
     "end_time": "2020-11-28T00:21:39.107664",
     "exception": false,
     "start_time": "2020-11-28T00:21:39.080471",
     "status": "completed"
    },
    "tags": []
   },
   "outputs": [],
   "source": [
    "def get_x(row): return data_path/row['image_id']\n",
    "def get_y(row): return row['label']"
   ]
  },
  {
   "cell_type": "code",
   "execution_count": 5,
   "metadata": {
    "execution": {
     "iopub.execute_input": "2020-11-28T00:21:39.157701Z",
     "iopub.status.busy": "2020-11-28T00:21:39.156812Z",
     "iopub.status.idle": "2020-11-28T00:21:39.161087Z",
     "shell.execute_reply": "2020-11-28T00:21:39.162183Z"
    },
    "papermill": {
     "duration": 0.035209,
     "end_time": "2020-11-28T00:21:39.162348",
     "exception": false,
     "start_time": "2020-11-28T00:21:39.127139",
     "status": "completed"
    },
    "tags": []
   },
   "outputs": [],
   "source": [
    "class LeafModel(Module):\n",
    "    def __init__(self, num_classes):\n",
    "\n",
    "        self.effnet = EfficientNet.from_pretrained(\"efficientnet-b3\")\n",
    "        self.dropout = nn.Dropout(0.1)\n",
    "        self.out = nn.Linear(1536, num_classes)\n",
    "\n",
    "    def forward(self, image):\n",
    "        batch_size, _, _, _ = image.shape\n",
    "\n",
    "        x = self.effnet.extract_features(image)\n",
    "        x = F.adaptive_avg_pool2d(x, 1).reshape(batch_size, -1)\n",
    "        outputs = self.out(self.dropout(x))\n",
    "        return outputs"
   ]
  },
  {
   "cell_type": "markdown",
   "metadata": {
    "papermill": {
     "duration": 0.020789,
     "end_time": "2020-11-28T00:21:39.203596",
     "exception": false,
     "start_time": "2020-11-28T00:21:39.182807",
     "status": "completed"
    },
    "tags": []
   },
   "source": [
    "We'll also need that `data_path`"
   ]
  },
  {
   "cell_type": "code",
   "execution_count": 6,
   "metadata": {
    "execution": {
     "iopub.execute_input": "2020-11-28T00:21:39.252536Z",
     "iopub.status.busy": "2020-11-28T00:21:39.251551Z",
     "iopub.status.idle": "2020-11-28T00:21:39.254190Z",
     "shell.execute_reply": "2020-11-28T00:21:39.253402Z"
    },
    "papermill": {
     "duration": 0.029957,
     "end_time": "2020-11-28T00:21:39.254328",
     "exception": false,
     "start_time": "2020-11-28T00:21:39.224371",
     "status": "completed"
    },
    "tags": []
   },
   "outputs": [],
   "source": [
    "path = Path(\"../input\")\n",
    "data_path = path/'cassava-leaf-disease-classification'"
   ]
  },
  {
   "cell_type": "markdown",
   "metadata": {
    "papermill": {
     "duration": 0.020544,
     "end_time": "2020-11-28T00:21:39.295604",
     "exception": false,
     "start_time": "2020-11-28T00:21:39.275060",
     "status": "completed"
    },
    "tags": []
   },
   "source": [
    "And now we can load our model back in with a simple `load_learner`"
   ]
  },
  {
   "cell_type": "code",
   "execution_count": 7,
   "metadata": {
    "execution": {
     "iopub.execute_input": "2020-11-28T00:21:39.341970Z",
     "iopub.status.busy": "2020-11-28T00:21:39.340947Z",
     "iopub.status.idle": "2020-11-28T00:21:45.179839Z",
     "shell.execute_reply": "2020-11-28T00:21:45.178674Z"
    },
    "papermill": {
     "duration": 5.862257,
     "end_time": "2020-11-28T00:21:45.179963",
     "exception": false,
     "start_time": "2020-11-28T00:21:39.317706",
     "status": "completed"
    },
    "tags": []
   },
   "outputs": [],
   "source": [
    "learn = load_learner(Path('../input/abishektez/baseline'), cpu=False)"
   ]
  },
  {
   "cell_type": "markdown",
   "metadata": {
    "papermill": {
     "duration": 0.014099,
     "end_time": "2020-11-28T00:21:45.208673",
     "exception": false,
     "start_time": "2020-11-28T00:21:45.194574",
     "status": "completed"
    },
    "tags": []
   },
   "source": [
    "## Performing TTA\n",
    "\n",
    "For our TTA we will be doing a 15x ensemble similar to what was performed there. \n",
    "\n",
    "> Inference code is based off my kernel [here](https://www.kaggle.com/muellerzr/submission-notebook)"
   ]
  },
  {
   "cell_type": "code",
   "execution_count": 8,
   "metadata": {
    "execution": {
     "iopub.execute_input": "2020-11-28T00:21:45.245569Z",
     "iopub.status.busy": "2020-11-28T00:21:45.244120Z",
     "iopub.status.idle": "2020-11-28T00:21:45.248463Z",
     "shell.execute_reply": "2020-11-28T00:21:45.247951Z"
    },
    "papermill": {
     "duration": 0.025258,
     "end_time": "2020-11-28T00:21:45.248552",
     "exception": false,
     "start_time": "2020-11-28T00:21:45.223294",
     "status": "completed"
    },
    "tags": []
   },
   "outputs": [
    {
     "data": {
      "text/plain": [
       "<fastai.learner.Learner at 0x7f7462ba2090>"
      ]
     },
     "execution_count": 8,
     "metadata": {},
     "output_type": "execute_result"
    }
   ],
   "source": [
    "learn.to_native_fp32()"
   ]
  },
  {
   "cell_type": "code",
   "execution_count": 9,
   "metadata": {
    "execution": {
     "iopub.execute_input": "2020-11-28T00:21:45.282523Z",
     "iopub.status.busy": "2020-11-28T00:21:45.281822Z",
     "iopub.status.idle": "2020-11-28T00:21:45.299376Z",
     "shell.execute_reply": "2020-11-28T00:21:45.299971Z"
    },
    "papermill": {
     "duration": 0.036966,
     "end_time": "2020-11-28T00:21:45.300101",
     "exception": false,
     "start_time": "2020-11-28T00:21:45.263135",
     "status": "completed"
    },
    "tags": []
   },
   "outputs": [
    {
     "data": {
      "text/html": [
       "<div>\n",
       "<style scoped>\n",
       "    .dataframe tbody tr th:only-of-type {\n",
       "        vertical-align: middle;\n",
       "    }\n",
       "\n",
       "    .dataframe tbody tr th {\n",
       "        vertical-align: top;\n",
       "    }\n",
       "\n",
       "    .dataframe thead th {\n",
       "        text-align: right;\n",
       "    }\n",
       "</style>\n",
       "<table border=\"1\" class=\"dataframe\">\n",
       "  <thead>\n",
       "    <tr style=\"text-align: right;\">\n",
       "      <th></th>\n",
       "      <th>image_id</th>\n",
       "      <th>label</th>\n",
       "    </tr>\n",
       "  </thead>\n",
       "  <tbody>\n",
       "    <tr>\n",
       "      <th>0</th>\n",
       "      <td>2216849948.jpg</td>\n",
       "      <td>4</td>\n",
       "    </tr>\n",
       "  </tbody>\n",
       "</table>\n",
       "</div>"
      ],
      "text/plain": [
       "         image_id  label\n",
       "0  2216849948.jpg      4"
      ]
     },
     "execution_count": 9,
     "metadata": {},
     "output_type": "execute_result"
    }
   ],
   "source": [
    "sample_df = pd.read_csv(data_path/'sample_submission.csv')\n",
    "sample_df.head()"
   ]
  },
  {
   "cell_type": "code",
   "execution_count": 10,
   "metadata": {
    "execution": {
     "iopub.execute_input": "2020-11-28T00:21:45.336406Z",
     "iopub.status.busy": "2020-11-28T00:21:45.335748Z",
     "iopub.status.idle": "2020-11-28T00:21:45.339341Z",
     "shell.execute_reply": "2020-11-28T00:21:45.339835Z"
    },
    "papermill": {
     "duration": 0.024441,
     "end_time": "2020-11-28T00:21:45.339966",
     "exception": false,
     "start_time": "2020-11-28T00:21:45.315525",
     "status": "completed"
    },
    "tags": []
   },
   "outputs": [],
   "source": [
    "sample_copy = sample_df.copy()\n",
    "sample_copy['image_id'] = sample_copy['image_id'].apply(lambda x: f'test_images/{x}')"
   ]
  },
  {
   "cell_type": "markdown",
   "metadata": {
    "papermill": {
     "duration": 0.017872,
     "end_time": "2020-11-28T00:21:45.373792",
     "exception": false,
     "start_time": "2020-11-28T00:21:45.355920",
     "status": "completed"
    },
    "tags": []
   },
   "source": [
    "Let's build our `test_dl` and grab our predictions:"
   ]
  },
  {
   "cell_type": "code",
   "execution_count": 11,
   "metadata": {
    "execution": {
     "iopub.execute_input": "2020-11-28T00:21:45.424726Z",
     "iopub.status.busy": "2020-11-28T00:21:45.423344Z",
     "iopub.status.idle": "2020-11-28T00:21:45.427568Z",
     "shell.execute_reply": "2020-11-28T00:21:45.427016Z"
    },
    "papermill": {
     "duration": 0.031405,
     "end_time": "2020-11-28T00:21:45.427692",
     "exception": false,
     "start_time": "2020-11-28T00:21:45.396287",
     "status": "completed"
    },
    "tags": []
   },
   "outputs": [],
   "source": [
    "test_dl = learn.dls.test_dl(sample_copy)"
   ]
  },
  {
   "cell_type": "code",
   "execution_count": 12,
   "metadata": {
    "execution": {
     "iopub.execute_input": "2020-11-28T00:21:45.463323Z",
     "iopub.status.busy": "2020-11-28T00:21:45.462614Z",
     "iopub.status.idle": "2020-11-28T00:21:48.800786Z",
     "shell.execute_reply": "2020-11-28T00:21:48.799802Z"
    },
    "papermill": {
     "duration": 3.357656,
     "end_time": "2020-11-28T00:21:48.800897",
     "exception": false,
     "start_time": "2020-11-28T00:21:45.443241",
     "status": "completed"
    },
    "tags": []
   },
   "outputs": [
    {
     "data": {
      "text/html": [
       "\n",
       "    <div>\n",
       "        <style>\n",
       "            /* Turns off some styling */\n",
       "            progress {\n",
       "                /* gets rid of default border in Firefox and Opera. */\n",
       "                border: none;\n",
       "                /* Needs to be in here for Safari polyfill so background images work as expected. */\n",
       "                background-size: auto;\n",
       "            }\n",
       "            .progress-bar-interrupted, .progress-bar-interrupted::-webkit-progress-bar {\n",
       "                background: #F44336;\n",
       "            }\n",
       "        </style>\n",
       "      <progress value='0' class='' max='10' style='width:300px; height:20px; vertical-align: middle;'></progress>\n",
       "      \n",
       "    </div>\n",
       "    \n"
      ],
      "text/plain": [
       "<IPython.core.display.HTML object>"
      ]
     },
     "metadata": {},
     "output_type": "display_data"
    },
    {
     "data": {
      "text/html": [],
      "text/plain": [
       "<IPython.core.display.HTML object>"
      ]
     },
     "metadata": {},
     "output_type": "display_data"
    }
   ],
   "source": [
    "preds, _ = learn.tta(dl=test_dl, n=15, beta=0)"
   ]
  },
  {
   "cell_type": "code",
   "execution_count": 13,
   "metadata": {
    "execution": {
     "iopub.execute_input": "2020-11-28T00:21:48.841006Z",
     "iopub.status.busy": "2020-11-28T00:21:48.839634Z",
     "iopub.status.idle": "2020-11-28T00:21:48.843413Z",
     "shell.execute_reply": "2020-11-28T00:21:48.843847Z"
    },
    "papermill": {
     "duration": 0.025507,
     "end_time": "2020-11-28T00:21:48.843968",
     "exception": false,
     "start_time": "2020-11-28T00:21:48.818461",
     "status": "completed"
    },
    "tags": []
   },
   "outputs": [],
   "source": [
    "sample_df['label'] = preds.argmax(dim=-1).numpy()"
   ]
  },
  {
   "cell_type": "code",
   "execution_count": 14,
   "metadata": {
    "execution": {
     "iopub.execute_input": "2020-11-28T00:21:48.882018Z",
     "iopub.status.busy": "2020-11-28T00:21:48.881468Z",
     "iopub.status.idle": "2020-11-28T00:21:49.118046Z",
     "shell.execute_reply": "2020-11-28T00:21:49.117119Z"
    },
    "papermill": {
     "duration": 0.257165,
     "end_time": "2020-11-28T00:21:49.118189",
     "exception": false,
     "start_time": "2020-11-28T00:21:48.861024",
     "status": "completed"
    },
    "tags": []
   },
   "outputs": [],
   "source": [
    "sample_df.to_csv('submission.csv',index=False)"
   ]
  }
 ],
 "metadata": {
  "kernelspec": {
   "display_name": "Python 3",
   "language": "python",
   "name": "python3"
  },
  "language_info": {
   "codemirror_mode": {
    "name": "ipython",
    "version": 3
   },
   "file_extension": ".py",
   "mimetype": "text/x-python",
   "name": "python",
   "nbconvert_exporter": "python",
   "pygments_lexer": "ipython3",
   "version": "3.7.6"
  },
  "papermill": {
   "duration": 18.761404,
   "end_time": "2020-11-28T00:21:50.317630",
   "environment_variables": {},
   "exception": null,
   "input_path": "__notebook__.ipynb",
   "output_path": "__notebook__.ipynb",
   "parameters": {},
   "start_time": "2020-11-28T00:21:31.556226",
   "version": "2.1.0"
  }
 },
 "nbformat": 4,
 "nbformat_minor": 4
}
