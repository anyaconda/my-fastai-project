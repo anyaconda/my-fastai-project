{
 "cells": [
  {
   "cell_type": "code",
   "execution_count": 1,
   "metadata": {
    "_cell_guid": "b1076dfc-b9ad-4769-8c92-a6c4dae69d19",
    "_uuid": "8f2839f25d086af736a60e9eeb907d3b93b6e0e5",
    "execution": {
     "iopub.execute_input": "2021-01-13T08:09:57.395069Z",
     "iopub.status.busy": "2021-01-13T08:09:57.394154Z",
     "iopub.status.idle": "2021-01-13T08:09:57.397055Z",
     "shell.execute_reply": "2021-01-13T08:09:57.397580Z"
    },
    "papermill": {
     "duration": 0.019238,
     "end_time": "2021-01-13T08:09:57.397729",
     "exception": false,
     "start_time": "2021-01-13T08:09:57.378491",
     "status": "completed"
    },
    "tags": []
   },
   "outputs": [],
   "source": [
    "tez_path = '../input/tez-lib/'\n",
    "effnet_path = '../input/efficientnet-pytorch/'\n",
    "import sys\n",
    "sys.path.append(tez_path)\n",
    "sys.path.append(effnet_path)"
   ]
  },
  {
   "cell_type": "code",
   "execution_count": 2,
   "metadata": {
    "_cell_guid": "79c7e3d0-c299-4dcb-8224-4455121ee9b0",
    "_uuid": "d629ff2d2480ee46fbb7e2d37f6b5fab8052498a",
    "execution": {
     "iopub.execute_input": "2021-01-13T08:09:57.418517Z",
     "iopub.status.busy": "2021-01-13T08:09:57.417874Z",
     "iopub.status.idle": "2021-01-13T08:10:00.457621Z",
     "shell.execute_reply": "2021-01-13T08:10:00.456517Z"
    },
    "papermill": {
     "duration": 3.051901,
     "end_time": "2021-01-13T08:10:00.457745",
     "exception": false,
     "start_time": "2021-01-13T08:09:57.405844",
     "status": "completed"
    },
    "tags": []
   },
   "outputs": [],
   "source": [
    "import os\n",
    "import albumentations\n",
    "import pandas as pd\n",
    "import numpy as np\n",
    "\n",
    "import tez\n",
    "from tez.datasets import ImageDataset\n",
    "\n",
    "import torch\n",
    "import torch.nn as nn\n",
    "from torch.nn import functional as F\n",
    "\n",
    "from efficientnet_pytorch import EfficientNet"
   ]
  },
  {
   "cell_type": "code",
   "execution_count": 3,
   "metadata": {
    "execution": {
     "iopub.execute_input": "2021-01-13T08:10:00.484707Z",
     "iopub.status.busy": "2021-01-13T08:10:00.482948Z",
     "iopub.status.idle": "2021-01-13T08:10:00.485501Z",
     "shell.execute_reply": "2021-01-13T08:10:00.486000Z"
    },
    "papermill": {
     "duration": 0.019567,
     "end_time": "2021-01-13T08:10:00.486117",
     "exception": false,
     "start_time": "2021-01-13T08:10:00.466550",
     "status": "completed"
    },
    "tags": []
   },
   "outputs": [],
   "source": [
    "class LeafModel(tez.Model):\n",
    "    def __init__(self, num_classes):\n",
    "        super().__init__()\n",
    "\n",
    "        self.effnet = EfficientNet.from_name(\"efficientnet-b4\")\n",
    "        self.dropout = nn.Dropout(0.1)\n",
    "        self.out = nn.Linear(1792, num_classes)\n",
    "        self.step_scheduler_after = \"epoch\"\n",
    "\n",
    "    def forward(self, image, targets=None):\n",
    "        batch_size, _, _, _ = image.shape\n",
    "\n",
    "        x = self.effnet.extract_features(image)\n",
    "        x = F.adaptive_avg_pool2d(x, 1).reshape(batch_size, -1)\n",
    "        outputs = self.out(self.dropout(x))\n",
    "        return outputs, None, None"
   ]
  },
  {
   "cell_type": "code",
   "execution_count": 4,
   "metadata": {
    "execution": {
     "iopub.execute_input": "2021-01-13T08:10:00.510320Z",
     "iopub.status.busy": "2021-01-13T08:10:00.509551Z",
     "iopub.status.idle": "2021-01-13T08:10:00.512366Z",
     "shell.execute_reply": "2021-01-13T08:10:00.511892Z"
    },
    "papermill": {
     "duration": 0.018472,
     "end_time": "2021-01-13T08:10:00.512461",
     "exception": false,
     "start_time": "2021-01-13T08:10:00.493989",
     "status": "completed"
    },
    "tags": []
   },
   "outputs": [],
   "source": [
    "# augmentations taken from: https://www.kaggle.com/khyeh0719/pytorch-efficientnet-baseline-inference-tta\n",
    "test_aug = albumentations.Compose([\n",
    "    albumentations.RandomResizedCrop(256, 256),\n",
    "    albumentations.Transpose(p=0.5),\n",
    "    albumentations.HorizontalFlip(p=0.5),\n",
    "    albumentations.VerticalFlip(p=0.5),\n",
    "    albumentations.HueSaturationValue(\n",
    "        hue_shift_limit=0.2, \n",
    "        sat_shift_limit=0.2,\n",
    "        val_shift_limit=0.2, \n",
    "        p=0.5\n",
    "    ),\n",
    "    albumentations.RandomBrightnessContrast(\n",
    "        brightness_limit=(-0.1,0.1), \n",
    "        contrast_limit=(-0.1, 0.1), \n",
    "        p=0.5\n",
    "    ),\n",
    "    albumentations.Normalize(\n",
    "        mean=[0.485, 0.456, 0.406], \n",
    "        std=[0.229, 0.224, 0.225], \n",
    "        max_pixel_value=255.0, \n",
    "        p=1.0\n",
    "    )\n",
    "], p=1.)"
   ]
  },
  {
   "cell_type": "code",
   "execution_count": 5,
   "metadata": {
    "execution": {
     "iopub.execute_input": "2021-01-13T08:10:00.535838Z",
     "iopub.status.busy": "2021-01-13T08:10:00.535073Z",
     "iopub.status.idle": "2021-01-13T08:10:00.547385Z",
     "shell.execute_reply": "2021-01-13T08:10:00.546753Z"
    },
    "papermill": {
     "duration": 0.027124,
     "end_time": "2021-01-13T08:10:00.547475",
     "exception": false,
     "start_time": "2021-01-13T08:10:00.520351",
     "status": "completed"
    },
    "tags": []
   },
   "outputs": [],
   "source": [
    "dfx = pd.read_csv(\"../input/cassava-leaf-disease-classification/sample_submission.csv\")\n",
    "image_path = \"../input/cassava-leaf-disease-classification/test_images/\"\n",
    "test_image_paths = [os.path.join(image_path, x) for x in dfx.image_id.values]\n",
    "# fake targets\n",
    "test_targets = dfx.label.values\n",
    "test_dataset = ImageDataset(\n",
    "    image_paths=test_image_paths,\n",
    "    targets=test_targets,\n",
    "    #resize=None,\n",
    "    augmentations=test_aug,\n",
    ")"
   ]
  },
  {
   "cell_type": "code",
   "execution_count": 6,
   "metadata": {
    "execution": {
     "iopub.execute_input": "2021-01-13T08:10:00.572438Z",
     "iopub.status.busy": "2021-01-13T08:10:00.571854Z",
     "iopub.status.idle": "2021-01-13T08:10:20.715230Z",
     "shell.execute_reply": "2021-01-13T08:10:20.714554Z"
    },
    "papermill": {
     "duration": 20.159923,
     "end_time": "2021-01-13T08:10:20.715357",
     "exception": false,
     "start_time": "2021-01-13T08:10:00.555434",
     "status": "completed"
    },
    "tags": []
   },
   "outputs": [],
   "source": [
    "train_dfx = pd.read_csv(\"../input/cassava-leaf-disease-classification/train.csv\")\n",
    "model0 = LeafModel(num_classes=train_dfx.label.nunique())\n",
    "model0.load(\"../input/casava-training-code/model_fold0.bin\")\n",
    "\n",
    "model1 = LeafModel(num_classes=train_dfx.label.nunique())\n",
    "model1.load(\"../input/casava-training-code/model_fold1.bin\")\n",
    "\n",
    "model2 = LeafModel(num_classes=train_dfx.label.nunique())\n",
    "model2.load(\"../input/casava-training-code/model_fold2.bin\")\n",
    "\n",
    "model3 = LeafModel(num_classes=train_dfx.label.nunique())\n",
    "model3.load(\"../input/casava-training-code/model_fold3.bin\")\n",
    "\n",
    "model4 = LeafModel(num_classes=train_dfx.label.nunique())\n",
    "model4.load(\"../input/casava-training-code/model_fold4.bin\")"
   ]
  },
  {
   "cell_type": "code",
   "execution_count": 7,
   "metadata": {
    "execution": {
     "iopub.execute_input": "2021-01-13T08:10:20.742407Z",
     "iopub.status.busy": "2021-01-13T08:10:20.741018Z",
     "iopub.status.idle": "2021-01-13T08:10:20.743732Z",
     "shell.execute_reply": "2021-01-13T08:10:20.744333Z"
    },
    "papermill": {
     "duration": 0.020477,
     "end_time": "2021-01-13T08:10:20.744453",
     "exception": false,
     "start_time": "2021-01-13T08:10:20.723976",
     "status": "completed"
    },
    "tags": []
   },
   "outputs": [],
   "source": [
    "# run inference 5 times with 5 different model\n",
    "\n",
    "model_list = [model0, model1, model2, model3, model4]\n",
    "\n",
    "def run_inference(model):\n",
    "    final_preds = None\n",
    "    for j in range(5):\n",
    "        preds = model.predict(test_dataset, batch_size=64, n_jobs=-1)\n",
    "        temp_preds = None\n",
    "        for p in preds:\n",
    "            if temp_preds is None:\n",
    "                temp_preds = p\n",
    "            else:\n",
    "                temp_preds = np.vstack((temp_preds, p))\n",
    "        if final_preds is None:\n",
    "            final_preds = temp_preds\n",
    "        else:\n",
    "            final_preds += temp_preds\n",
    "    final_preds /= 5\n",
    "    final_preds = final_preds.argmax(axis=1)\n",
    "    return final_preds\n",
    "\n",
    "\n"
   ]
  },
  {
   "cell_type": "code",
   "execution_count": 8,
   "metadata": {
    "execution": {
     "iopub.execute_input": "2021-01-13T08:10:20.768796Z",
     "iopub.status.busy": "2021-01-13T08:10:20.767843Z",
     "iopub.status.idle": "2021-01-13T08:10:25.830659Z",
     "shell.execute_reply": "2021-01-13T08:10:25.831658Z"
    },
    "papermill": {
     "duration": 5.078777,
     "end_time": "2021-01-13T08:10:25.831825",
     "exception": false,
     "start_time": "2021-01-13T08:10:20.753048",
     "status": "completed"
    },
    "tags": []
   },
   "outputs": [
    {
     "name": "stderr",
     "output_type": "stream",
     "text": [
      "100%|██████████| 1/1 [00:00<00:00,  1.05it/s, stage=test]\n",
      "100%|██████████| 1/1 [00:00<00:00,  6.16it/s, stage=test]\n",
      "100%|██████████| 1/1 [00:00<00:00,  6.94it/s, stage=test]\n",
      "100%|██████████| 1/1 [00:00<00:00,  6.98it/s, stage=test]\n",
      "100%|██████████| 1/1 [00:00<00:00,  7.18it/s, stage=test]\n",
      "100%|██████████| 1/1 [00:00<00:00,  6.89it/s, stage=test]\n",
      "100%|██████████| 1/1 [00:00<00:00,  7.22it/s, stage=test]\n",
      "100%|██████████| 1/1 [00:00<00:00,  7.13it/s, stage=test]\n",
      "100%|██████████| 1/1 [00:00<00:00,  7.00it/s, stage=test]\n",
      "100%|██████████| 1/1 [00:00<00:00,  7.21it/s, stage=test]\n",
      "100%|██████████| 1/1 [00:00<00:00,  7.41it/s, stage=test]\n",
      "100%|██████████| 1/1 [00:00<00:00,  7.17it/s, stage=test]\n",
      "100%|██████████| 1/1 [00:00<00:00,  7.32it/s, stage=test]\n",
      "100%|██████████| 1/1 [00:00<00:00,  7.34it/s, stage=test]\n",
      "100%|██████████| 1/1 [00:00<00:00,  7.24it/s, stage=test]\n",
      "100%|██████████| 1/1 [00:00<00:00,  7.22it/s, stage=test]\n",
      "100%|██████████| 1/1 [00:00<00:00,  7.28it/s, stage=test]\n",
      "100%|██████████| 1/1 [00:00<00:00,  7.27it/s, stage=test]\n",
      "100%|██████████| 1/1 [00:00<00:00,  7.42it/s, stage=test]\n",
      "100%|██████████| 1/1 [00:00<00:00,  4.54it/s, stage=test]\n",
      "100%|██████████| 1/1 [00:00<00:00,  4.80it/s, stage=test]\n",
      "100%|██████████| 1/1 [00:00<00:00,  5.26it/s, stage=test]\n",
      "100%|██████████| 1/1 [00:00<00:00,  7.15it/s, stage=test]\n",
      "100%|██████████| 1/1 [00:00<00:00,  7.07it/s, stage=test]\n",
      "100%|██████████| 1/1 [00:00<00:00,  6.97it/s, stage=test]\n"
     ]
    }
   ],
   "source": [
    "new_df = pd.DataFrame()\n",
    "new_df['model0'] = run_inference(model_list[0])\n",
    "new_df['model1'] = run_inference(model_list[1])\n",
    "new_df['model2'] = run_inference(model_list[2])\n",
    "new_df['model3'] = run_inference(model_list[3])\n",
    "new_df['model4'] = run_inference(model_list[4])"
   ]
  },
  {
   "cell_type": "code",
   "execution_count": 9,
   "metadata": {
    "execution": {
     "iopub.execute_input": "2021-01-13T08:10:25.939347Z",
     "iopub.status.busy": "2021-01-13T08:10:25.938703Z",
     "iopub.status.idle": "2021-01-13T08:10:25.943061Z",
     "shell.execute_reply": "2021-01-13T08:10:25.942569Z"
    },
    "papermill": {
     "duration": 0.061608,
     "end_time": "2021-01-13T08:10:25.943153",
     "exception": false,
     "start_time": "2021-01-13T08:10:25.881545",
     "status": "completed"
    },
    "tags": []
   },
   "outputs": [],
   "source": [
    "from collections import Counter\n",
    "def most_common(lst):\n",
    "    data = Counter(lst)\n",
    "    return max(lst, key=data.get)\n",
    "\n",
    "final_preds = list()\n",
    "for index, row in new_df.iterrows():\n",
    "    out_list = [row['model0'], row['model1'], row['model2'], row['model3'], row['model4']]\n",
    "    final_preds.append(most_common(out_list))\n",
    "    "
   ]
  },
  {
   "cell_type": "code",
   "execution_count": 10,
   "metadata": {
    "execution": {
     "iopub.execute_input": "2021-01-13T08:10:26.046329Z",
     "iopub.status.busy": "2021-01-13T08:10:26.045444Z",
     "iopub.status.idle": "2021-01-13T08:10:26.240139Z",
     "shell.execute_reply": "2021-01-13T08:10:26.239377Z"
    },
    "papermill": {
     "duration": 0.248141,
     "end_time": "2021-01-13T08:10:26.240314",
     "exception": false,
     "start_time": "2021-01-13T08:10:25.992173",
     "status": "completed"
    },
    "tags": []
   },
   "outputs": [],
   "source": [
    "dfx.label = final_preds\n",
    "dfx.to_csv(\"submission.csv\", index=False)"
   ]
  }
 ],
 "metadata": {
  "kernelspec": {
   "display_name": "Python 3",
   "language": "python",
   "name": "python3"
  },
  "language_info": {
   "codemirror_mode": {
    "name": "ipython",
    "version": 3
   },
   "file_extension": ".py",
   "mimetype": "text/x-python",
   "name": "python",
   "nbconvert_exporter": "python",
   "pygments_lexer": "ipython3",
   "version": "3.7.6"
  },
  "papermill": {
   "duration": 33.655075,
   "end_time": "2021-01-13T08:10:26.797760",
   "environment_variables": {},
   "exception": null,
   "input_path": "__notebook__.ipynb",
   "output_path": "__notebook__.ipynb",
   "parameters": {},
   "start_time": "2021-01-13T08:09:53.142685",
   "version": "2.1.0"
  }
 },
 "nbformat": 4,
 "nbformat_minor": 4
}
