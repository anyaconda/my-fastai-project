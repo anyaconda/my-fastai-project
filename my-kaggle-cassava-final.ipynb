{
 "cells": [
  {
   "cell_type": "code",
   "execution_count": 1,
   "metadata": {
    "execution": {
     "iopub.execute_input": "2021-02-18T10:04:25.168220Z",
     "iopub.status.busy": "2021-02-18T10:04:25.167454Z",
     "iopub.status.idle": "2021-02-18T10:04:25.170452Z",
     "shell.execute_reply": "2021-02-18T10:04:25.169933Z"
    },
    "papermill": {
     "duration": 0.023328,
     "end_time": "2021-02-18T10:04:25.170619",
     "exception": false,
     "start_time": "2021-02-18T10:04:25.147291",
     "status": "completed"
    },
    "tags": []
   },
   "outputs": [],
   "source": [
    "#meta 2/16/2021 Clean Cassava 0-Data, 1-Prep Data, 2-Model\n",
    "#my Cassava learning summary\n",
    "#input: kaggle Cassava image files and train dataset\n",
    "#output: K-Fold exports of models in .pkl format\n",
    "#based on my work + concise code example by noelmat\n",
    "\n",
    "#history\n",
    "#02/17/2021 CLEAN CASSAVA CODE 1-Prep Data, 2-Model\n",
    "#     Successfully runs in Kaggle kernel, CPU only, no GPU acceleration\n",
    "#     MINI_FLG=1, proved with 1% of data that data prep and modeling code finishes\n",
    "#     Manual step: create a temp folder with mini set of images\n",
    "#     $param - to set MINI vs FULL params\n",
    "\n",
    "#here 02/17/2021 CLEAN CASSAVA CODE 1-Prep Data, 2-Model\n",
    "#     MINI_FLG=0. Full - start and at least get 1 model?"
   ]
  },
  {
   "cell_type": "markdown",
   "metadata": {
    "papermill": {
     "duration": 0.014513,
     "end_time": "2021-02-18T10:04:25.200173",
     "exception": false,
     "start_time": "2021-02-18T10:04:25.185660",
     "status": "completed"
    },
    "tags": []
   },
   "source": [
    "# Cassava Leaf Disease Classification\n",
    "Identify the type of disease present on a Cassava Leaf image"
   ]
  },
  {
   "cell_type": "code",
   "execution_count": 2,
   "metadata": {
    "execution": {
     "iopub.execute_input": "2021-02-18T10:04:25.235444Z",
     "iopub.status.busy": "2021-02-18T10:04:25.234689Z",
     "iopub.status.idle": "2021-02-18T10:04:25.237458Z",
     "shell.execute_reply": "2021-02-18T10:04:25.237038Z"
    },
    "papermill": {
     "duration": 0.022414,
     "end_time": "2021-02-18T10:04:25.237576",
     "exception": false,
     "start_time": "2021-02-18T10:04:25.215162",
     "status": "completed"
    },
    "tags": []
   },
   "outputs": [],
   "source": [
    "#------ global constants, vars and functions ------\n",
    "SEED = 24\n",
    "MINI_FLG = 0 #$mydelta $mini\n",
    "MINI_DS_SIZE = 0.01 #$mydelta $mini\n",
    "BS_SIZE = 32 #$mydelta from 64\n",
    "N_EPOCHS = 10 #$mydelta $mini\n",
    "N_FREEZE_EPOCHS = 5 #$mydelta $mini\n",
    "K_FOLDS=5\n",
    "MODEL = 'Res50' #$mydelta $mini\n",
    "\n",
    "def free_gpu_cache():\n",
    "    torch.cuda.empty_cache()"
   ]
  },
  {
   "cell_type": "code",
   "execution_count": 3,
   "metadata": {
    "execution": {
     "iopub.execute_input": "2021-02-18T10:04:25.271542Z",
     "iopub.status.busy": "2021-02-18T10:04:25.270951Z",
     "iopub.status.idle": "2021-02-18T10:04:28.320316Z",
     "shell.execute_reply": "2021-02-18T10:04:28.319636Z"
    },
    "papermill": {
     "duration": 3.068052,
     "end_time": "2021-02-18T10:04:28.320478",
     "exception": false,
     "start_time": "2021-02-18T10:04:25.252426",
     "status": "completed"
    },
    "tags": []
   },
   "outputs": [],
   "source": [
    "#import pandas as pd # data processing, CSV file I/O (e.g. pd.read_csv)\n",
    "\n",
    "#stratified split\n",
    "from sklearn.model_selection import StratifiedShuffleSplit\n",
    "from sklearn.model_selection import StratifiedKFold\n",
    "\n",
    "#modeling\n",
    "from fastai.vision.all import *\n"
   ]
  },
  {
   "cell_type": "markdown",
   "metadata": {
    "papermill": {
     "duration": 0.016807,
     "end_time": "2021-02-18T10:04:28.354347",
     "exception": false,
     "start_time": "2021-02-18T10:04:28.337540",
     "status": "completed"
    },
    "tags": []
   },
   "source": [
    "## 0. Load Data\n",
    "21397 train images and 1 test image\n",
    "\n",
    "- input: images\n",
    "- output: labels\n",
    "- train dataset maps images to labels\n"
   ]
  },
  {
   "cell_type": "code",
   "execution_count": 4,
   "metadata": {
    "execution": {
     "iopub.execute_input": "2021-02-18T10:04:28.397380Z",
     "iopub.status.busy": "2021-02-18T10:04:28.396502Z",
     "iopub.status.idle": "2021-02-18T10:04:28.402471Z",
     "shell.execute_reply": "2021-02-18T10:04:28.402041Z"
    },
    "papermill": {
     "duration": 0.030837,
     "end_time": "2021-02-18T10:04:28.402583",
     "exception": false,
     "start_time": "2021-02-18T10:04:28.371746",
     "status": "completed"
    },
    "tags": []
   },
   "outputs": [
    {
     "data": {
      "text/plain": [
       "(#7) [Path('/kaggle/input/cassava-leaf-disease-classification/train_tfrecords'),Path('/kaggle/input/cassava-leaf-disease-classification/sample_submission.csv'),Path('/kaggle/input/cassava-leaf-disease-classification/test_tfrecords'),Path('/kaggle/input/cassava-leaf-disease-classification/label_num_to_disease_map.json'),Path('/kaggle/input/cassava-leaf-disease-classification/train_images'),Path('/kaggle/input/cassava-leaf-disease-classification/train.csv'),Path('/kaggle/input/cassava-leaf-disease-classification/test_images')]"
      ]
     },
     "execution_count": 4,
     "metadata": {},
     "output_type": "execute_result"
    }
   ],
   "source": [
    "path = Path('/kaggle/input/cassava-leaf-disease-classification/')\n",
    "path.ls()"
   ]
  },
  {
   "cell_type": "code",
   "execution_count": 5,
   "metadata": {
    "execution": {
     "iopub.execute_input": "2021-02-18T10:04:28.442707Z",
     "iopub.status.busy": "2021-02-18T10:04:28.442202Z",
     "iopub.status.idle": "2021-02-18T10:04:28.486139Z",
     "shell.execute_reply": "2021-02-18T10:04:28.486550Z"
    },
    "papermill": {
     "duration": 0.066086,
     "end_time": "2021-02-18T10:04:28.486705",
     "exception": false,
     "start_time": "2021-02-18T10:04:28.420619",
     "status": "completed"
    },
    "tags": []
   },
   "outputs": [
    {
     "name": "stdout",
     "output_type": "stream",
     "text": [
      "image_id    object\n",
      "label        int64\n",
      "dtype: object\n"
     ]
    },
    {
     "data": {
      "text/html": [
       "<div>\n",
       "<style scoped>\n",
       "    .dataframe tbody tr th:only-of-type {\n",
       "        vertical-align: middle;\n",
       "    }\n",
       "\n",
       "    .dataframe tbody tr th {\n",
       "        vertical-align: top;\n",
       "    }\n",
       "\n",
       "    .dataframe thead th {\n",
       "        text-align: right;\n",
       "    }\n",
       "</style>\n",
       "<table border=\"1\" class=\"dataframe\">\n",
       "  <thead>\n",
       "    <tr style=\"text-align: right;\">\n",
       "      <th></th>\n",
       "      <th>image_id</th>\n",
       "      <th>label</th>\n",
       "    </tr>\n",
       "  </thead>\n",
       "  <tbody>\n",
       "    <tr>\n",
       "      <th>0</th>\n",
       "      <td>1000015157.jpg</td>\n",
       "      <td>0</td>\n",
       "    </tr>\n",
       "    <tr>\n",
       "      <th>1</th>\n",
       "      <td>1000201771.jpg</td>\n",
       "      <td>3</td>\n",
       "    </tr>\n",
       "    <tr>\n",
       "      <th>2</th>\n",
       "      <td>100042118.jpg</td>\n",
       "      <td>1</td>\n",
       "    </tr>\n",
       "    <tr>\n",
       "      <th>3</th>\n",
       "      <td>1000723321.jpg</td>\n",
       "      <td>1</td>\n",
       "    </tr>\n",
       "    <tr>\n",
       "      <th>4</th>\n",
       "      <td>1000812911.jpg</td>\n",
       "      <td>3</td>\n",
       "    </tr>\n",
       "  </tbody>\n",
       "</table>\n",
       "</div>"
      ],
      "text/plain": [
       "         image_id  label\n",
       "0  1000015157.jpg      0\n",
       "1  1000201771.jpg      3\n",
       "2   100042118.jpg      1\n",
       "3  1000723321.jpg      1\n",
       "4  1000812911.jpg      3"
      ]
     },
     "execution_count": 5,
     "metadata": {},
     "output_type": "execute_result"
    }
   ],
   "source": [
    "train_df = pd.read_csv(path/'train.csv')\n",
    "print(train_df.dtypes)\n",
    "train_df.head()"
   ]
  },
  {
   "cell_type": "code",
   "execution_count": 6,
   "metadata": {
    "execution": {
     "iopub.execute_input": "2021-02-18T10:04:28.528872Z",
     "iopub.status.busy": "2021-02-18T10:04:28.528074Z",
     "iopub.status.idle": "2021-02-18T10:04:28.680625Z",
     "shell.execute_reply": "2021-02-18T10:04:28.681172Z"
    },
    "papermill": {
     "duration": 0.176928,
     "end_time": "2021-02-18T10:04:28.681491",
     "exception": false,
     "start_time": "2021-02-18T10:04:28.504563",
     "status": "completed"
    },
    "tags": []
   },
   "outputs": [
    {
     "name": "stdout",
     "output_type": "stream",
     "text": [
      "0     1087\n",
      "1     2189\n",
      "2     2386\n",
      "3    13158\n",
      "4     2577\n",
      "Name: label, dtype: int64\n"
     ]
    },
    {
     "data": {
      "image/png": "[encoded data removed]",
      "text/plain": [
       "<Figure size 432x288 with 1 Axes>"
      ]
     },
     "metadata": {
      "needs_background": "light"
     },
     "output_type": "display_data"
    }
   ],
   "source": [
    "print(train_df['label'].value_counts().sort_index())\n",
    "train_df['label'].value_counts().plot(kind='bar');"
   ]
  },
  {
   "cell_type": "markdown",
   "metadata": {
    "papermill": {
     "duration": 0.01694,
     "end_time": "2021-02-18T10:04:28.715988",
     "exception": false,
     "start_time": "2021-02-18T10:04:28.699048",
     "status": "completed"
    },
    "tags": []
   },
   "source": [
    "## 1. Prep Data\n",
    "### 1.1 Full or Mini dataset\n"
   ]
  },
  {
   "cell_type": "code",
   "execution_count": 7,
   "metadata": {
    "execution": {
     "iopub.execute_input": "2021-02-18T10:04:28.760571Z",
     "iopub.status.busy": "2021-02-18T10:04:28.759808Z",
     "iopub.status.idle": "2021-02-18T10:04:28.763211Z",
     "shell.execute_reply": "2021-02-18T10:04:28.762740Z"
    },
    "papermill": {
     "duration": 0.026186,
     "end_time": "2021-02-18T10:04:28.763337",
     "exception": false,
     "start_time": "2021-02-18T10:04:28.737151",
     "status": "completed"
    },
    "tags": []
   },
   "outputs": [],
   "source": [
    "#train mini subsample for rapid iteration\n",
    "if MINI_FLG:\n",
    "    #stratified subsample\n",
    "    X_mini = train_df['image_id']\n",
    "    y_mini = train_df['label']\n",
    "    sss_mini = StratifiedShuffleSplit(n_splits=1, test_size=MINI_DS_SIZE, random_state=SEED)\n",
    "    \n",
    "    for train_idx_mini, valid_idx_mini in sss_mini.split(X_mini, y_mini):\n",
    "        print(\"TRAIN:\", train_idx_mini, \"VALID:\", valid_idx_mini)\n",
    "        y_train_mini, y_valid_mini = y_mini[train_idx_mini], y_mini[valid_idx_mini]\n",
    "\n",
    "    y_train_mini.value_counts().sort_index()\n",
    "    y_train_mini.value_counts().sort_index().plot(kind='bar');"
   ]
  },
  {
   "cell_type": "code",
   "execution_count": 8,
   "metadata": {
    "execution": {
     "iopub.execute_input": "2021-02-18T10:04:28.802737Z",
     "iopub.status.busy": "2021-02-18T10:04:28.801953Z",
     "iopub.status.idle": "2021-02-18T10:04:28.804861Z",
     "shell.execute_reply": "2021-02-18T10:04:28.804453Z"
    },
    "papermill": {
     "duration": 0.024717,
     "end_time": "2021-02-18T10:04:28.804995",
     "exception": false,
     "start_time": "2021-02-18T10:04:28.780278",
     "status": "completed"
    },
    "tags": []
   },
   "outputs": [],
   "source": [
    "#train subsample\n",
    "if MINI_FLG:\n",
    "    #update train_df with train index \n",
    "    train_df = train_df.loc[train_df.index.isin(valid_idx_mini)].reset_index(drop=True)\n",
    "    print(train_df.shape)\n",
    "    print(train_df.dtypes)\n",
    "    print(train_df.head())\n"
   ]
  },
  {
   "cell_type": "code",
   "execution_count": 9,
   "metadata": {
    "execution": {
     "iopub.execute_input": "2021-02-18T10:04:28.844315Z",
     "iopub.status.busy": "2021-02-18T10:04:28.843486Z",
     "iopub.status.idle": "2021-02-18T10:04:28.959414Z",
     "shell.execute_reply": "2021-02-18T10:04:28.960104Z"
    },
    "papermill": {
     "duration": 0.138161,
     "end_time": "2021-02-18T10:04:28.960305",
     "exception": false,
     "start_time": "2021-02-18T10:04:28.822144",
     "status": "completed"
    },
    "tags": []
   },
   "outputs": [
    {
     "name": "stdout",
     "output_type": "stream",
     "text": [
      "0     1087\n",
      "1     2189\n",
      "2     2386\n",
      "3    13158\n",
      "4     2577\n",
      "Name: label, dtype: int64\n"
     ]
    },
    {
     "data": {
      "image/png": "[encoded data removed]",
      "text/plain": [
       "<Figure size 432x288 with 1 Axes>"
      ]
     },
     "metadata": {
      "needs_background": "light"
     },
     "output_type": "display_data"
    }
   ],
   "source": [
    "print(train_df['label'].value_counts().sort_index())\n",
    "train_df['label'].value_counts().sort_index().plot(kind='bar');"
   ]
  },
  {
   "cell_type": "markdown",
   "metadata": {
    "papermill": {
     "duration": 0.018086,
     "end_time": "2021-02-18T10:04:28.996761",
     "exception": false,
     "start_time": "2021-02-18T10:04:28.978675",
     "status": "completed"
    },
    "tags": []
   },
   "source": [
    "### 1.2 K-fold Stratified Split\n",
    "For cross validation, create `stratified k-folds` preserving the percentage of samples for each class.  Provides train/valid indices to split data into cv train/valid sets. "
   ]
  },
  {
   "cell_type": "code",
   "execution_count": 10,
   "metadata": {
    "_cell_guid": "b1076dfc-b9ad-4769-8c92-a6c4dae69d19",
    "_uuid": "8f2839f25d086af736a60e9eeb907d3b93b6e0e5",
    "execution": {
     "iopub.execute_input": "2021-02-18T10:04:29.040401Z",
     "iopub.status.busy": "2021-02-18T10:04:29.039568Z",
     "iopub.status.idle": "2021-02-18T10:04:29.049819Z",
     "shell.execute_reply": "2021-02-18T10:04:29.050513Z"
    },
    "papermill": {
     "duration": 0.035839,
     "end_time": "2021-02-18T10:04:29.050696",
     "exception": false,
     "start_time": "2021-02-18T10:04:29.014857",
     "status": "completed"
    },
    "tags": []
   },
   "outputs": [
    {
     "name": "stdout",
     "output_type": "stream",
     "text": [
      "splits and shapes:  dict_keys([0, 1, 2, 3, 4]) (17117,) (4280,)\n"
     ]
    }
   ],
   "source": [
    "#define X&y\n",
    "X = train_df\n",
    "y = train_df['label']\n",
    "\n",
    "\n",
    "#split for cv\n",
    "cv = StratifiedKFold(n_splits=K_FOLDS, shuffle=True, random_state=SEED)\n",
    "splits = {}\n",
    "\n",
    "for i,(tr_idx,val_idx) in enumerate(cv.split(X, y)):\n",
    "    splits[i] = [tr_idx, val_idx] #class list of numpy arrays\n",
    "    \n",
    "#preview\n",
    "print(\"splits and shapes: \", splits.keys(), splits[0][0].shape, splits[0][1].shape)\n",
    "#splits #class dict {k,v} k: fold number, v: list of 2 numpy array of indices: train/valid\n",
    "#splits[0] #class a list of 2 numpy array of indices: train/valid"
   ]
  },
  {
   "cell_type": "markdown",
   "metadata": {
    "papermill": {
     "duration": 0.018512,
     "end_time": "2021-02-18T10:04:29.087987",
     "exception": false,
     "start_time": "2021-02-18T10:04:29.069475",
     "status": "completed"
    },
    "tags": []
   },
   "source": [
    "### 1.3 Data Struct\n",
    "dict {image_id, label}"
   ]
  },
  {
   "cell_type": "code",
   "execution_count": 11,
   "metadata": {
    "execution": {
     "iopub.execute_input": "2021-02-18T10:04:29.130107Z",
     "iopub.status.busy": "2021-02-18T10:04:29.129315Z",
     "iopub.status.idle": "2021-02-18T10:04:29.145498Z",
     "shell.execute_reply": "2021-02-18T10:04:29.146175Z"
    },
    "papermill": {
     "duration": 0.039842,
     "end_time": "2021-02-18T10:04:29.146370",
     "exception": false,
     "start_time": "2021-02-18T10:04:29.106528",
     "status": "completed"
    },
    "tags": []
   },
   "outputs": [
    {
     "name": "stdout",
     "output_type": "stream",
     "text": [
      "                label\n",
      "image_id             \n",
      "1000015157.jpg      0\n"
     ]
    },
    {
     "data": {
      "text/plain": [
       "21397"
      ]
     },
     "execution_count": 11,
     "metadata": {},
     "output_type": "execute_result"
    }
   ],
   "source": [
    "df = train_df.set_index('image_id')\n",
    "print(df.head(1))\n",
    "\n",
    "labels = df.to_dict()['label'] #class dict\n",
    "len(labels)"
   ]
  },
  {
   "cell_type": "code",
   "execution_count": 12,
   "metadata": {
    "execution": {
     "iopub.execute_input": "2021-02-18T10:04:29.190718Z",
     "iopub.status.busy": "2021-02-18T10:04:29.189892Z",
     "iopub.status.idle": "2021-02-18T10:04:29.195507Z",
     "shell.execute_reply": "2021-02-18T10:04:29.194913Z"
    },
    "papermill": {
     "duration": 0.029944,
     "end_time": "2021-02-18T10:04:29.195666",
     "exception": false,
     "start_time": "2021-02-18T10:04:29.165722",
     "status": "completed"
    },
    "tags": []
   },
   "outputs": [
    {
     "name": "stdout",
     "output_type": "stream",
     "text": [
      "CPU times: user 3 µs, sys: 0 ns, total: 3 µs\n",
      "Wall time: 6.91 µs\n"
     ]
    },
    {
     "data": {
      "text/plain": [
       "3"
      ]
     },
     "execution_count": 12,
     "metadata": {},
     "output_type": "execute_result"
    }
   ],
   "source": [
    "%%time\n",
    "#lookup image label\n",
    "labels['1003987001.jpg']"
   ]
  },
  {
   "cell_type": "code",
   "execution_count": 13,
   "metadata": {
    "execution": {
     "iopub.execute_input": "2021-02-18T10:04:29.239947Z",
     "iopub.status.busy": "2021-02-18T10:04:29.239185Z",
     "iopub.status.idle": "2021-02-18T10:04:29.242074Z",
     "shell.execute_reply": "2021-02-18T10:04:29.241647Z"
    },
    "papermill": {
     "duration": 0.026422,
     "end_time": "2021-02-18T10:04:29.242189",
     "exception": false,
     "start_time": "2021-02-18T10:04:29.215767",
     "status": "completed"
    },
    "tags": []
   },
   "outputs": [],
   "source": [
    "def get_label(labels, x):\n",
    "    x = Path(x)\n",
    "    return labels[x.name]"
   ]
  },
  {
   "cell_type": "code",
   "execution_count": 14,
   "metadata": {
    "execution": {
     "iopub.execute_input": "2021-02-18T10:04:29.287232Z",
     "iopub.status.busy": "2021-02-18T10:04:29.286418Z",
     "iopub.status.idle": "2021-02-18T10:04:29.290291Z",
     "shell.execute_reply": "2021-02-18T10:04:29.289870Z"
    },
    "papermill": {
     "duration": 0.028224,
     "end_time": "2021-02-18T10:04:29.290407",
     "exception": false,
     "start_time": "2021-02-18T10:04:29.262183",
     "status": "completed"
    },
    "tags": []
   },
   "outputs": [
    {
     "data": {
      "text/plain": [
       "(21397, 1)"
      ]
     },
     "execution_count": 14,
     "metadata": {},
     "output_type": "execute_result"
    }
   ],
   "source": [
    "#$acdelete 1235188286.jpg\n",
    "get_label(labels,path/'train_images/1003987001.jpg')\n",
    "#labels['1235188286.jpg']\n",
    "#labels\n",
    "df.shape"
   ]
  },
  {
   "cell_type": "code",
   "execution_count": 15,
   "metadata": {
    "execution": {
     "iopub.execute_input": "2021-02-18T10:04:29.336282Z",
     "iopub.status.busy": "2021-02-18T10:04:29.335559Z",
     "iopub.status.idle": "2021-02-18T10:04:29.339920Z",
     "shell.execute_reply": "2021-02-18T10:04:29.340360Z"
    },
    "papermill": {
     "duration": 0.029896,
     "end_time": "2021-02-18T10:04:29.340494",
     "exception": false,
     "start_time": "2021-02-18T10:04:29.310598",
     "status": "completed"
    },
    "tags": []
   },
   "outputs": [
    {
     "name": "stdout",
     "output_type": "stream",
     "text": [
      "CPU times: user 146 µs, sys: 36 µs, total: 182 µs\n",
      "Wall time: 186 µs\n"
     ]
    },
    {
     "data": {
      "text/plain": [
       "0"
      ]
     },
     "execution_count": 15,
     "metadata": {},
     "output_type": "execute_result"
    }
   ],
   "source": [
    "%%time\n",
    "#use fn to lookup image label - one image\n",
    "get_label(labels,path/'train_images'/train_df.iloc[0,0])"
   ]
  },
  {
   "cell_type": "code",
   "execution_count": 16,
   "metadata": {
    "execution": {
     "iopub.execute_input": "2021-02-18T10:04:29.385921Z",
     "iopub.status.busy": "2021-02-18T10:04:29.385383Z",
     "iopub.status.idle": "2021-02-18T10:04:29.389177Z",
     "shell.execute_reply": "2021-02-18T10:04:29.388639Z"
    },
    "papermill": {
     "duration": 0.028072,
     "end_time": "2021-02-18T10:04:29.389336",
     "exception": false,
     "start_time": "2021-02-18T10:04:29.361264",
     "status": "completed"
    },
    "tags": []
   },
   "outputs": [],
   "source": [
    "def get_splits(FOLD, x):\n",
    "    return splits[FOLD]"
   ]
  },
  {
   "cell_type": "code",
   "execution_count": 17,
   "metadata": {
    "execution": {
     "iopub.execute_input": "2021-02-18T10:04:29.436833Z",
     "iopub.status.busy": "2021-02-18T10:04:29.436318Z",
     "iopub.status.idle": "2021-02-18T10:04:29.439925Z",
     "shell.execute_reply": "2021-02-18T10:04:29.439512Z"
    },
    "papermill": {
     "duration": 0.028904,
     "end_time": "2021-02-18T10:04:29.440087",
     "exception": false,
     "start_time": "2021-02-18T10:04:29.411183",
     "status": "completed"
    },
    "tags": []
   },
   "outputs": [],
   "source": [
    "#manual step - create a temp folder with mini train images\n",
    "if MINI_FLG:\n",
    "    str_mini_images = json.dumps(list(labels.keys()))\n",
    "    print(str_mini_images)\n",
    "     "
   ]
  },
  {
   "cell_type": "code",
   "execution_count": 18,
   "metadata": {
    "execution": {
     "iopub.execute_input": "2021-02-18T10:04:29.492328Z",
     "iopub.status.busy": "2021-02-18T10:04:29.491568Z",
     "iopub.status.idle": "2021-02-18T10:04:29.494049Z",
     "shell.execute_reply": "2021-02-18T10:04:29.494417Z"
    },
    "papermill": {
     "duration": 0.033272,
     "end_time": "2021-02-18T10:04:29.494552",
     "exception": false,
     "start_time": "2021-02-18T10:04:29.461280",
     "status": "completed"
    },
    "tags": []
   },
   "outputs": [],
   "source": [
    "#mystop\n",
    "#to process this cell manually\n",
    "\n",
    "#create temp mini train folder\n",
    "if MINI_FLG:\n",
    "    if not os.path.exists('/kaggle/working/mini_folder/'):\n",
    "        os.makedirs('mini_folder/')\n",
    "\n",
    "    os.chdir('../input/cassava-leaf-disease-classification/train_images')\n",
    "    \n",
    "    #copy mini files\n",
    "    #!cp 1761091007.jpg  /kaggle/working/mini_folder\n",
    "    #!cp '1003987001.jpg' '1004672608.jpg' /kaggle/working/mini_folder\n",
    "    !cp \"1003987001.jpg\" \"1009361983.jpg\" \"1018973237.jpg\" \"1022283943.jpg\" \"1072929806.jpg\" \"1094294460.jpg\" \"1100677588.jpg\" \"1119593200.jpg\" \"1120933008.jpg\" \"1148267148.jpg\" \"1171170982.jpg\" \"1207471454.jpg\" \"1252538311.jpg\" \"1257722336.jpg\" \"1265114019.jpg\" \"12688038.jpg\" \"1269902527.jpg\" \"1288923505.jpg\" \"1293702189.jpg\" \"1298749911.jpg\" \"1311772076.jpg\" \"1327003472.jpg\" \"1329605336.jpg\" \"1334904382.jpg\" \"1359200021.jpg\" \"1364299181.jpg\" \"1390241299.jpg\" \"1423499316.jpg\" \"146995101.jpg\" \"1478209787.jpg\" \"1488108256.jpg\" \"1505418979.jpg\" \"1510384617.jpg\" \"151804791.jpg\" \"1524143324.jpg\" \"1547490615.jpg\" \"1551517348.jpg\" \"1620145508.jpg\" \"1621972953.jpg\" \"1634561629.jpg\" \"1659810136.jpg\" \"1660974563.jpg\" \"1689265715.jpg\" \"169189292.jpg\" \"1733574271.jpg\" \"1765348139.jpg\" \"1776479289.jpg\" \"1788823125.jpg\" \"1790319061.jpg\" \"1837622218.jpg\" \"1853237353.jpg\" \"186667196.jpg\" \"1869765535.jpg\" \"191741846.jpg\" \"1921186959.jpg\" \"1924021542.jpg\" \"1972409682.jpg\" \"2006215409.jpg\" \"2021244568.jpg\" \"2051265559.jpg\" \"2097195239.jpg\" \"2119378021.jpg\" \"2166665213.jpg\" \"2167697247.jpg\" \"2173342901.jpg\" \"2179767086.jpg\" \"2189576451.jpg\" \"219119835.jpg\" \"2222998086.jpg\" \"2256445671.jpg\" \"2318255553.jpg\" \"2321781860.jpg\" \"232348694.jpg\" \"2353083243.jpg\" \"2433407680.jpg\" \"2438476273.jpg\" \"2476543961.jpg\" \"2485888948.jpg\" \"2494580860.jpg\" \"2512237524.jpg\" \"2520781924.jpg\" \"2530320825.jpg\" \"2539159693.jpg\" \"2540204490.jpg\" \"254949924.jpg\" \"2550003581.jpg\" \"2680534189.jpg\" \"2725353705.jpg\" \"2729556493.jpg\" \"2735085014.jpg\" \"2753152635.jpg\" \"276208116.jpg\" \"2782668721.jpg\" \"2795551857.jpg\" \"279831330.jpg\" \"2865650772.jpg\" \"2869232623.jpg\" \"2889971119.jpg\" \"2914451670.jpg\" \"296732943.jpg\" \"297361079.jpg\" \"2992877889.jpg\" \"3022337655.jpg\" \"3031606396.jpg\" \"3044369161.jpg\" \"3052425388.jpg\" \"3057571955.jpg\" \"3102075869.jpg\" \"3118659210.jpg\" \"3159203508.jpg\" \"318227226.jpg\" \"3209323639.jpg\" \"3277182366.jpg\" \"3278774878.jpg\" \"3298093070.jpg\" \"3313790300.jpg\" \"3315008356.jpg\" \"3335092693.jpg\" \"3347996516.jpg\" \"3376184680.jpg\" \"3395851593.jpg\" \"3430125708.jpg\" \"3440246067.jpg\" \"3460216646.jpg\" \"3464808111.jpg\" \"3480553170.jpg\" \"3480744448.jpg\" \"3485950795.jpg\" \"3501238872.jpg\" \"3501265654.jpg\" \"35180724.jpg\" \"3549527627.jpg\" \"3570668460.jpg\" \"3571106948.jpg\" \"3581888901.jpg\" \"3594393384.jpg\" \"3608399345.jpg\" \"3615932083.jpg\" \"3624585.jpg\" \"3626187971.jpg\" \"3630824057.jpg\" \"3636364733.jpg\" \"3662748819.jpg\" \"3672385003.jpg\" \"3703003342.jpg\" \"3703439317.jpg\" \"3714169299.jpg\" \"3719137724.jpg\" \"3725380699.jpg\" \"3728785468.jpg\" \"3743115520.jpg\" \"375108909.jpg\" \"3753582415.jpg\" \"3775506887.jpg\" \"3803338258.jpg\" \"3808126182.jpg\" \"3889929360.jpg\" \"3899862618.jpg\" \"3924823843.jpg\" \"396060343.jpg\" \"3961117682.jpg\" \"397477697.jpg\" \"3979130498.jpg\" \"3982368414.jpg\" \"3997023855.jpg\" \"4033546541.jpg\" \"4034095153.jpg\" \"4040452479.jpg\" \"4096966485.jpg\" \"4173521076.jpg\" \"4184062100.jpg\" \"4207597254.jpg\" \"4215244581.jpg\" \"422690051.jpg\" \"4240447884.jpg\" \"4261378787.jpg\" \"436011038.jpg\" \"444416814.jpg\" \"493875479.jpg\" \"503366497.jpg\" \"50441514.jpg\" \"525349447.jpg\" \"548412421.jpg\" \"551051657.jpg\" \"553204190.jpg\" \"560477016.jpg\" \"570097057.jpg\" \"585067161.jpg\" \"598088658.jpg\" \"602912992.jpg\" \"610094717.jpg\" \"625250328.jpg\" \"646999993.jpg\" \"651123589.jpg\" \"65235972.jpg\" \"682271538.jpg\" \"692997740.jpg\" \"706776365.jpg\" \"731031258.jpg\" \"739346655.jpg\" \"745723934.jpg\" \"746746526.jpg\" \"752382759.jpg\" \"773130398.jpg\" \"782115033.jpg\" \"84689733.jpg\" \"854773586.jpg\" \"878183173.jpg\" \"888983519.jpg\" \"915715866.jpg\" \"941512047.jpg\" \"942738737.jpg\" \"949971770.jpg\" \"996927503.jpg\" /kaggle/working/mini_folder "
   ]
  },
  {
   "cell_type": "code",
   "execution_count": 19,
   "metadata": {
    "execution": {
     "iopub.execute_input": "2021-02-18T10:04:29.540859Z",
     "iopub.status.busy": "2021-02-18T10:04:29.540167Z",
     "iopub.status.idle": "2021-02-18T10:04:29.542624Z",
     "shell.execute_reply": "2021-02-18T10:04:29.543099Z"
    },
    "papermill": {
     "duration": 0.027603,
     "end_time": "2021-02-18T10:04:29.543251",
     "exception": false,
     "start_time": "2021-02-18T10:04:29.515648",
     "status": "completed"
    },
    "tags": []
   },
   "outputs": [],
   "source": [
    "#mystop \n",
    "#to process above cell manually"
   ]
  },
  {
   "cell_type": "markdown",
   "metadata": {
    "papermill": {
     "duration": 0.021132,
     "end_time": "2021-02-18T10:04:29.585484",
     "exception": false,
     "start_time": "2021-02-18T10:04:29.564352",
     "status": "completed"
    },
    "tags": []
   },
   "source": [
    "\n",
    "### 1.4 From Data to Dataloaders\n",
    "with DataBlock"
   ]
  },
  {
   "cell_type": "code",
   "execution_count": 20,
   "metadata": {
    "execution": {
     "iopub.execute_input": "2021-02-18T10:04:29.636904Z",
     "iopub.status.busy": "2021-02-18T10:04:29.636123Z",
     "iopub.status.idle": "2021-02-18T10:04:29.639166Z",
     "shell.execute_reply": "2021-02-18T10:04:29.638726Z"
    },
    "papermill": {
     "duration": 0.031956,
     "end_time": "2021-02-18T10:04:29.639287",
     "exception": false,
     "start_time": "2021-02-18T10:04:29.607331",
     "status": "completed"
    },
    "tags": []
   },
   "outputs": [],
   "source": [
    "if MINI_FLG:\n",
    "    path_images = '/kaggle/working/mini_folder/' #$mydelta $mini\n",
    "else:\n",
    "    path_images = path/'train_images'\n",
    "\n",
    "#wrap dataloaders code into a function\n",
    "def get_data(labels,split,bs=BS_SIZE, presize=500, resize=384): #$mydelta $param\n",
    "    tfms = [Rotate(90), Warp(magnitude=0.4, p=1.),Zoom(min_zoom=0.9, max_zoom=1.3), Brightness(max_lighting=0.5), Flip(), Contrast(), Resize(resize)]\n",
    "    comp = setup_aug_tfms(tfms)\n",
    "    return DataBlock(blocks=(ImageBlock, CategoryBlock),\n",
    "        get_items=lambda p: get_image_files(p),\n",
    "        get_y=partial(get_label, labels),\n",
    "        splitter=partial(get_splits, split),\n",
    "        item_tfms=[Resize(presize)],\n",
    "        batch_tfms=[*comp, Normalize.from_stats(*imagenet_stats)]).dataloaders(path_images,bs=bs,num_workers=8)        \n",
    "        #batch_tfms=[*comp, Normalize.from_stats(*imagenet_stats)]).dataloaders(path/'train_images',bs=bs,num_workers=8) #$mydelta $mini"
   ]
  },
  {
   "cell_type": "code",
   "execution_count": 21,
   "metadata": {
    "execution": {
     "iopub.execute_input": "2021-02-18T10:04:29.687301Z",
     "iopub.status.busy": "2021-02-18T10:04:29.686549Z",
     "iopub.status.idle": "2021-02-18T10:04:29.689056Z",
     "shell.execute_reply": "2021-02-18T10:04:29.689430Z"
    },
    "papermill": {
     "duration": 0.028349,
     "end_time": "2021-02-18T10:04:29.689567",
     "exception": false,
     "start_time": "2021-02-18T10:04:29.661218",
     "status": "completed"
    },
    "tags": []
   },
   "outputs": [],
   "source": [
    "#preview $todo\n",
    "#dls = get_data(0,0)\n",
    "#dls.train.show_batch()"
   ]
  },
  {
   "cell_type": "markdown",
   "metadata": {
    "papermill": {
     "duration": 0.023631,
     "end_time": "2021-02-18T10:04:29.734635",
     "exception": false,
     "start_time": "2021-02-18T10:04:29.711004",
     "status": "completed"
    },
    "tags": []
   },
   "source": [
    "## 2. Model"
   ]
  },
  {
   "cell_type": "code",
   "execution_count": 22,
   "metadata": {
    "execution": {
     "iopub.execute_input": "2021-02-18T10:04:29.813043Z",
     "iopub.status.busy": "2021-02-18T10:04:29.812081Z",
     "iopub.status.idle": "2021-02-18T10:04:29.823445Z",
     "shell.execute_reply": "2021-02-18T10:04:29.824215Z"
    },
    "papermill": {
     "duration": 0.054293,
     "end_time": "2021-02-18T10:04:29.824436",
     "exception": false,
     "start_time": "2021-02-18T10:04:29.770143",
     "status": "completed"
    },
    "tags": []
   },
   "outputs": [],
   "source": [
    "os.makedirs('/root/.cache/torch/hub/checkpoints/', exist_ok=True)"
   ]
  },
  {
   "cell_type": "code",
   "execution_count": 23,
   "metadata": {
    "execution": {
     "iopub.execute_input": "2021-02-18T10:04:29.910683Z",
     "iopub.status.busy": "2021-02-18T10:04:29.909843Z",
     "iopub.status.idle": "2021-02-18T10:04:33.858488Z",
     "shell.execute_reply": "2021-02-18T10:04:33.858905Z"
    },
    "papermill": {
     "duration": 3.997857,
     "end_time": "2021-02-18T10:04:33.859108",
     "exception": false,
     "start_time": "2021-02-18T10:04:29.861251",
     "status": "completed"
    },
    "tags": []
   },
   "outputs": [],
   "source": [
    "if MODEL == 'Res18':\n",
    "    !cp /kaggle/input/fastai-pretrained/resnet18-5c106cde.pth /root/.cache/torch/hub/checkpoints/\n",
    "else:\n",
    "    !cp /kaggle/input/fastai-pretrained/resnet50-19c8e357.pth /root/.cache/torch/hub/checkpoints/"
   ]
  },
  {
   "cell_type": "code",
   "execution_count": 24,
   "metadata": {
    "execution": {
     "iopub.execute_input": "2021-02-18T10:04:33.919528Z",
     "iopub.status.busy": "2021-02-18T10:04:33.918811Z"
    },
    "papermill": {
     "duration": null,
     "end_time": null,
     "exception": false,
     "start_time": "2021-02-18T10:04:33.882421",
     "status": "running"
    },
    "tags": []
   },
   "outputs": [
    {
     "data": {
      "text/html": [
       "<table border=\"1\" class=\"dataframe\">\n",
       "  <thead>\n",
       "    <tr style=\"text-align: left;\">\n",
       "      <th>epoch</th>\n",
       "      <th>train_loss</th>\n",
       "      <th>valid_loss</th>\n",
       "      <th>accuracy</th>\n",
       "      <th>time</th>\n",
       "    </tr>\n",
       "  </thead>\n",
       "  <tbody>\n",
       "    <tr>\n",
       "      <td>0</td>\n",
       "      <td>0.994424</td>\n",
       "      <td>0.733318</td>\n",
       "      <td>0.751869</td>\n",
       "      <td>07:05</td>\n",
       "    </tr>\n",
       "    <tr>\n",
       "      <td>1</td>\n",
       "      <td>0.827021</td>\n",
       "      <td>0.510419</td>\n",
       "      <td>0.823364</td>\n",
       "      <td>06:53</td>\n",
       "    </tr>\n",
       "    <tr>\n",
       "      <td>2</td>\n",
       "      <td>0.736498</td>\n",
       "      <td>0.519044</td>\n",
       "      <td>0.820093</td>\n",
       "      <td>06:54</td>\n",
       "    </tr>\n",
       "    <tr>\n",
       "      <td>3</td>\n",
       "      <td>0.677345</td>\n",
       "      <td>0.392076</td>\n",
       "      <td>0.865421</td>\n",
       "      <td>06:54</td>\n",
       "    </tr>\n",
       "    <tr>\n",
       "      <td>4</td>\n",
       "      <td>0.673317</td>\n",
       "      <td>0.371923</td>\n",
       "      <td>0.875701</td>\n",
       "      <td>06:55</td>\n",
       "    </tr>\n",
       "  </tbody>\n",
       "</table>"
      ],
      "text/plain": [
       "<IPython.core.display.HTML object>"
      ]
     },
     "metadata": {},
     "output_type": "display_data"
    },
    {
     "data": {
      "text/html": [
       "<table border=\"1\" class=\"dataframe\">\n",
       "  <thead>\n",
       "    <tr style=\"text-align: left;\">\n",
       "      <th>epoch</th>\n",
       "      <th>train_loss</th>\n",
       "      <th>valid_loss</th>\n",
       "      <th>accuracy</th>\n",
       "      <th>time</th>\n",
       "    </tr>\n",
       "  </thead>\n",
       "  <tbody>\n",
       "    <tr>\n",
       "      <td>0</td>\n",
       "      <td>0.660578</td>\n",
       "      <td>0.380359</td>\n",
       "      <td>0.871028</td>\n",
       "      <td>08:29</td>\n",
       "    </tr>\n",
       "    <tr>\n",
       "      <td>1</td>\n",
       "      <td>0.673073</td>\n",
       "      <td>0.379166</td>\n",
       "      <td>0.867757</td>\n",
       "      <td>08:28</td>\n",
       "    </tr>\n",
       "    <tr>\n",
       "      <td>2</td>\n",
       "      <td>0.657479</td>\n",
       "      <td>0.366927</td>\n",
       "      <td>0.874766</td>\n",
       "      <td>08:29</td>\n",
       "    </tr>\n",
       "    <tr>\n",
       "      <td>3</td>\n",
       "      <td>0.639237</td>\n",
       "      <td>0.377197</td>\n",
       "      <td>0.871028</td>\n",
       "      <td>08:28</td>\n",
       "    </tr>\n",
       "    <tr>\n",
       "      <td>4</td>\n",
       "      <td>0.654256</td>\n",
       "      <td>0.362757</td>\n",
       "      <td>0.879206</td>\n",
       "      <td>08:29</td>\n",
       "    </tr>\n",
       "    <tr>\n",
       "      <td>5</td>\n",
       "      <td>0.653172</td>\n",
       "      <td>0.369516</td>\n",
       "      <td>0.877336</td>\n",
       "      <td>08:28</td>\n",
       "    </tr>\n",
       "    <tr>\n",
       "      <td>6</td>\n",
       "      <td>0.612121</td>\n",
       "      <td>0.358490</td>\n",
       "      <td>0.882009</td>\n",
       "      <td>08:28</td>\n",
       "    </tr>\n",
       "    <tr>\n",
       "      <td>7</td>\n",
       "      <td>0.624337</td>\n",
       "      <td>0.356867</td>\n",
       "      <td>0.885748</td>\n",
       "      <td>08:27</td>\n",
       "    </tr>\n",
       "    <tr>\n",
       "      <td>8</td>\n",
       "      <td>0.596927</td>\n",
       "      <td>0.352105</td>\n",
       "      <td>0.886215</td>\n",
       "      <td>08:29</td>\n",
       "    </tr>\n",
       "    <tr>\n",
       "      <td>9</td>\n",
       "      <td>0.620951</td>\n",
       "      <td>0.351986</td>\n",
       "      <td>0.885280</td>\n",
       "      <td>08:28</td>\n",
       "    </tr>\n",
       "  </tbody>\n",
       "</table>"
      ],
      "text/plain": [
       "<IPython.core.display.HTML object>"
      ]
     },
     "metadata": {},
     "output_type": "display_data"
    },
    {
     "name": "stdout",
     "output_type": "stream",
     "text": [
      "Fold Training time (in min) 120.02064240376154\n"
     ]
    },
    {
     "data": {
      "text/html": [
       "<table border=\"1\" class=\"dataframe\">\n",
       "  <thead>\n",
       "    <tr style=\"text-align: left;\">\n",
       "      <th>epoch</th>\n",
       "      <th>train_loss</th>\n",
       "      <th>valid_loss</th>\n",
       "      <th>accuracy</th>\n",
       "      <th>time</th>\n",
       "    </tr>\n",
       "  </thead>\n",
       "  <tbody>\n",
       "    <tr>\n",
       "      <td>0</td>\n",
       "      <td>0.944132</td>\n",
       "      <td>0.556483</td>\n",
       "      <td>0.807009</td>\n",
       "      <td>06:53</td>\n",
       "    </tr>\n",
       "    <tr>\n",
       "      <td>1</td>\n",
       "      <td>0.825317</td>\n",
       "      <td>0.551728</td>\n",
       "      <td>0.811682</td>\n",
       "      <td>06:53</td>\n",
       "    </tr>\n",
       "    <tr>\n",
       "      <td>2</td>\n",
       "      <td>0.731669</td>\n",
       "      <td>0.488140</td>\n",
       "      <td>0.830841</td>\n",
       "      <td>06:53</td>\n",
       "    </tr>\n",
       "    <tr>\n",
       "      <td>3</td>\n",
       "      <td>0.702749</td>\n",
       "      <td>0.399918</td>\n",
       "      <td>0.862850</td>\n",
       "      <td>06:55</td>\n",
       "    </tr>\n",
       "    <tr>\n",
       "      <td>4</td>\n",
       "      <td>0.665796</td>\n",
       "      <td>0.379867</td>\n",
       "      <td>0.869159</td>\n",
       "      <td>06:53</td>\n",
       "    </tr>\n",
       "  </tbody>\n",
       "</table>"
      ],
      "text/plain": [
       "<IPython.core.display.HTML object>"
      ]
     },
     "metadata": {},
     "output_type": "display_data"
    },
    {
     "data": {
      "text/html": [
       "<table border=\"1\" class=\"dataframe\">\n",
       "  <thead>\n",
       "    <tr style=\"text-align: left;\">\n",
       "      <th>epoch</th>\n",
       "      <th>train_loss</th>\n",
       "      <th>valid_loss</th>\n",
       "      <th>accuracy</th>\n",
       "      <th>time</th>\n",
       "    </tr>\n",
       "  </thead>\n",
       "  <tbody>\n",
       "    <tr>\n",
       "      <td>0</td>\n",
       "      <td>0.666511</td>\n",
       "      <td>0.383730</td>\n",
       "      <td>0.869159</td>\n",
       "      <td>08:30</td>\n",
       "    </tr>\n",
       "    <tr>\n",
       "      <td>1</td>\n",
       "      <td>0.690406</td>\n",
       "      <td>0.401161</td>\n",
       "      <td>0.859813</td>\n",
       "      <td>08:30</td>\n",
       "    </tr>\n",
       "    <tr>\n",
       "      <td>2</td>\n",
       "      <td>0.656716</td>\n",
       "      <td>0.382778</td>\n",
       "      <td>0.872430</td>\n",
       "      <td>08:30</td>\n",
       "    </tr>\n",
       "    <tr>\n",
       "      <td>3</td>\n",
       "      <td>0.647202</td>\n",
       "      <td>0.362642</td>\n",
       "      <td>0.876168</td>\n",
       "      <td>08:29</td>\n",
       "    </tr>\n",
       "    <tr>\n",
       "      <td>4</td>\n",
       "      <td>0.659650</td>\n",
       "      <td>0.363589</td>\n",
       "      <td>0.875467</td>\n",
       "      <td>08:28</td>\n",
       "    </tr>\n",
       "    <tr>\n",
       "      <td>5</td>\n",
       "      <td>0.626586</td>\n",
       "      <td>0.362268</td>\n",
       "      <td>0.871963</td>\n",
       "      <td>08:29</td>\n",
       "    </tr>\n",
       "    <tr>\n",
       "      <td>6</td>\n",
       "      <td>0.611901</td>\n",
       "      <td>0.346816</td>\n",
       "      <td>0.878037</td>\n",
       "      <td>08:29</td>\n",
       "    </tr>\n",
       "    <tr>\n",
       "      <td>7</td>\n",
       "      <td>0.600516</td>\n",
       "      <td>0.341823</td>\n",
       "      <td>0.879439</td>\n",
       "      <td>08:28</td>\n",
       "    </tr>\n",
       "    <tr>\n",
       "      <td>8</td>\n",
       "      <td>0.622270</td>\n",
       "      <td>0.340427</td>\n",
       "      <td>0.878972</td>\n",
       "      <td>08:28</td>\n",
       "    </tr>\n",
       "    <tr>\n",
       "      <td>9</td>\n",
       "      <td>0.638644</td>\n",
       "      <td>0.339655</td>\n",
       "      <td>0.880607</td>\n",
       "      <td>08:27</td>\n",
       "    </tr>\n",
       "  </tbody>\n",
       "</table>"
      ],
      "text/plain": [
       "<IPython.core.display.HTML object>"
      ]
     },
     "metadata": {},
     "output_type": "display_data"
    },
    {
     "name": "stdout",
     "output_type": "stream",
     "text": [
      "Fold Training time (in min) 119.4225635210673\n"
     ]
    },
    {
     "data": {
      "text/html": [
       "<table border=\"1\" class=\"dataframe\">\n",
       "  <thead>\n",
       "    <tr style=\"text-align: left;\">\n",
       "      <th>epoch</th>\n",
       "      <th>train_loss</th>\n",
       "      <th>valid_loss</th>\n",
       "      <th>accuracy</th>\n",
       "      <th>time</th>\n",
       "    </tr>\n",
       "  </thead>\n",
       "  <tbody>\n",
       "    <tr>\n",
       "      <td>0</td>\n",
       "      <td>0.918463</td>\n",
       "      <td>0.639152</td>\n",
       "      <td>0.782426</td>\n",
       "      <td>06:55</td>\n",
       "    </tr>\n",
       "    <tr>\n",
       "      <td>1</td>\n",
       "      <td>0.815032</td>\n",
       "      <td>0.646821</td>\n",
       "      <td>0.818883</td>\n",
       "      <td>06:52</td>\n",
       "    </tr>\n",
       "    <tr>\n",
       "      <td>2</td>\n",
       "      <td>0.746395</td>\n",
       "      <td>0.420480</td>\n",
       "      <td>0.855574</td>\n",
       "      <td>06:53</td>\n",
       "    </tr>\n",
       "    <tr>\n",
       "      <td>3</td>\n",
       "      <td>0.665377</td>\n",
       "      <td>0.379223</td>\n",
       "      <td>0.864688</td>\n",
       "      <td>06:52</td>\n",
       "    </tr>\n",
       "    <tr>\n",
       "      <td>4</td>\n",
       "      <td>0.671594</td>\n",
       "      <td>0.369667</td>\n",
       "      <td>0.871699</td>\n",
       "      <td>06:53</td>\n",
       "    </tr>\n",
       "  </tbody>\n",
       "</table>"
      ],
      "text/plain": [
       "<IPython.core.display.HTML object>"
      ]
     },
     "metadata": {},
     "output_type": "display_data"
    },
    {
     "data": {
      "text/html": [
       "<table border=\"1\" class=\"dataframe\">\n",
       "  <thead>\n",
       "    <tr style=\"text-align: left;\">\n",
       "      <th>epoch</th>\n",
       "      <th>train_loss</th>\n",
       "      <th>valid_loss</th>\n",
       "      <th>accuracy</th>\n",
       "      <th>time</th>\n",
       "    </tr>\n",
       "  </thead>\n",
       "  <tbody>\n",
       "    <tr>\n",
       "      <td>0</td>\n",
       "      <td>0.686341</td>\n",
       "      <td>0.367995</td>\n",
       "      <td>0.874503</td>\n",
       "      <td>08:28</td>\n",
       "    </tr>\n",
       "    <tr>\n",
       "      <td>1</td>\n",
       "      <td>0.673925</td>\n",
       "      <td>0.369685</td>\n",
       "      <td>0.870530</td>\n",
       "      <td>08:29</td>\n",
       "    </tr>\n",
       "    <tr>\n",
       "      <td>2</td>\n",
       "      <td>0.650042</td>\n",
       "      <td>0.375259</td>\n",
       "      <td>0.871465</td>\n",
       "      <td>08:28</td>\n",
       "    </tr>\n",
       "    <tr>\n",
       "      <td>3</td>\n",
       "      <td>0.656833</td>\n",
       "      <td>0.351019</td>\n",
       "      <td>0.882215</td>\n",
       "      <td>08:28</td>\n",
       "    </tr>\n",
       "    <tr>\n",
       "      <td>4</td>\n",
       "      <td>0.664519</td>\n",
       "      <td>0.374133</td>\n",
       "      <td>0.870764</td>\n",
       "      <td>08:29</td>\n",
       "    </tr>\n",
       "    <tr>\n",
       "      <td>5</td>\n",
       "      <td>0.631171</td>\n",
       "      <td>0.342798</td>\n",
       "      <td>0.881748</td>\n",
       "      <td>08:28</td>\n",
       "    </tr>\n",
       "    <tr>\n",
       "      <td>6</td>\n",
       "      <td>0.643679</td>\n",
       "      <td>0.343448</td>\n",
       "      <td>0.881281</td>\n",
       "      <td>08:28</td>\n",
       "    </tr>\n",
       "    <tr>\n",
       "      <td>7</td>\n",
       "      <td>0.601335</td>\n",
       "      <td>0.337572</td>\n",
       "      <td>0.883851</td>\n",
       "      <td>08:27</td>\n",
       "    </tr>\n",
       "    <tr>\n",
       "      <td>8</td>\n",
       "      <td>0.614254</td>\n",
       "      <td>0.334611</td>\n",
       "      <td>0.883150</td>\n",
       "      <td>08:28</td>\n",
       "    </tr>\n",
       "    <tr>\n",
       "      <td>9</td>\n",
       "      <td>0.596133</td>\n",
       "      <td>0.336497</td>\n",
       "      <td>0.885487</td>\n",
       "      <td>08:27</td>\n",
       "    </tr>\n",
       "  </tbody>\n",
       "</table>"
      ],
      "text/plain": [
       "<IPython.core.display.HTML object>"
      ]
     },
     "metadata": {},
     "output_type": "display_data"
    },
    {
     "name": "stdout",
     "output_type": "stream",
     "text": [
      "Fold Training time (in min) 119.2590734799703\n"
     ]
    },
    {
     "data": {
      "text/html": [
       "<table border=\"1\" class=\"dataframe\">\n",
       "  <thead>\n",
       "    <tr style=\"text-align: left;\">\n",
       "      <th>epoch</th>\n",
       "      <th>train_loss</th>\n",
       "      <th>valid_loss</th>\n",
       "      <th>accuracy</th>\n",
       "      <th>time</th>\n",
       "    </tr>\n",
       "  </thead>\n",
       "  <tbody>\n",
       "    <tr>\n",
       "      <td>0</td>\n",
       "      <td>0.956214</td>\n",
       "      <td>0.575304</td>\n",
       "      <td>0.806964</td>\n",
       "      <td>06:51</td>\n",
       "    </tr>\n",
       "    <tr>\n",
       "      <td>1</td>\n",
       "      <td>0.816911</td>\n",
       "      <td>0.522326</td>\n",
       "      <td>0.815144</td>\n",
       "      <td>06:52</td>\n",
       "    </tr>\n",
       "    <tr>\n",
       "      <td>2</td>\n",
       "      <td>0.776532</td>\n",
       "      <td>0.435496</td>\n",
       "      <td>0.849030</td>\n",
       "      <td>06:52</td>\n",
       "    </tr>\n",
       "    <tr>\n",
       "      <td>3</td>\n",
       "      <td>0.707015</td>\n",
       "      <td>0.362408</td>\n",
       "      <td>0.878476</td>\n",
       "      <td>06:52</td>\n",
       "    </tr>\n",
       "    <tr>\n",
       "      <td>4</td>\n",
       "      <td>0.648564</td>\n",
       "      <td>0.352910</td>\n",
       "      <td>0.885955</td>\n",
       "      <td>06:51</td>\n",
       "    </tr>\n",
       "  </tbody>\n",
       "</table>"
      ],
      "text/plain": [
       "<IPython.core.display.HTML object>"
      ]
     },
     "metadata": {},
     "output_type": "display_data"
    },
    {
     "data": {
      "text/html": [
       "<table border=\"1\" class=\"dataframe\">\n",
       "  <thead>\n",
       "    <tr style=\"text-align: left;\">\n",
       "      <th>epoch</th>\n",
       "      <th>train_loss</th>\n",
       "      <th>valid_loss</th>\n",
       "      <th>accuracy</th>\n",
       "      <th>time</th>\n",
       "    </tr>\n",
       "  </thead>\n",
       "  <tbody>\n",
       "    <tr>\n",
       "      <td>0</td>\n",
       "      <td>0.672893</td>\n",
       "      <td>0.349946</td>\n",
       "      <td>0.881514</td>\n",
       "      <td>08:29</td>\n",
       "    </tr>\n",
       "    <tr>\n",
       "      <td>1</td>\n",
       "      <td>0.682285</td>\n",
       "      <td>0.365855</td>\n",
       "      <td>0.872400</td>\n",
       "      <td>08:29</td>\n",
       "    </tr>\n",
       "    <tr>\n",
       "      <td>2</td>\n",
       "      <td>0.653964</td>\n",
       "      <td>0.362630</td>\n",
       "      <td>0.878476</td>\n",
       "      <td>08:28</td>\n",
       "    </tr>\n",
       "    <tr>\n",
       "      <td>3</td>\n",
       "      <td>0.651952</td>\n",
       "      <td>0.341906</td>\n",
       "      <td>0.888292</td>\n",
       "      <td>08:29</td>\n",
       "    </tr>\n",
       "    <tr>\n",
       "      <td>4</td>\n",
       "      <td>0.637182</td>\n",
       "      <td>0.338195</td>\n",
       "      <td>0.886656</td>\n",
       "      <td>08:29</td>\n",
       "    </tr>\n",
       "    <tr>\n",
       "      <td>5</td>\n",
       "      <td>0.635114</td>\n",
       "      <td>0.331009</td>\n",
       "      <td>0.888993</td>\n",
       "      <td>08:29</td>\n",
       "    </tr>\n",
       "    <tr>\n",
       "      <td>6</td>\n",
       "      <td>0.606110</td>\n",
       "      <td>0.326547</td>\n",
       "      <td>0.888993</td>\n",
       "      <td>08:29</td>\n",
       "    </tr>\n",
       "    <tr>\n",
       "      <td>7</td>\n",
       "      <td>0.601186</td>\n",
       "      <td>0.322557</td>\n",
       "      <td>0.888993</td>\n",
       "      <td>08:28</td>\n",
       "    </tr>\n",
       "    <tr>\n",
       "      <td>8</td>\n",
       "      <td>0.613863</td>\n",
       "      <td>0.318654</td>\n",
       "      <td>0.893199</td>\n",
       "      <td>08:30</td>\n",
       "    </tr>\n",
       "    <tr>\n",
       "      <td>9</td>\n",
       "      <td>0.606345</td>\n",
       "      <td>0.320031</td>\n",
       "      <td>0.892498</td>\n",
       "      <td>08:29</td>\n",
       "    </tr>\n",
       "  </tbody>\n",
       "</table>"
      ],
      "text/plain": [
       "<IPython.core.display.HTML object>"
      ]
     },
     "metadata": {},
     "output_type": "display_data"
    },
    {
     "name": "stdout",
     "output_type": "stream",
     "text": [
      "Fold Training time (in min) 119.28110342025757\n"
     ]
    },
    {
     "data": {
      "text/html": [
       "<table border=\"1\" class=\"dataframe\">\n",
       "  <thead>\n",
       "    <tr style=\"text-align: left;\">\n",
       "      <th>epoch</th>\n",
       "      <th>train_loss</th>\n",
       "      <th>valid_loss</th>\n",
       "      <th>accuracy</th>\n",
       "      <th>time</th>\n",
       "    </tr>\n",
       "  </thead>\n",
       "  <tbody>\n",
       "    <tr>\n",
       "      <td>0</td>\n",
       "      <td>0.958655</td>\n",
       "      <td>0.845355</td>\n",
       "      <td>0.716756</td>\n",
       "      <td>06:54</td>\n",
       "    </tr>\n",
       "    <tr>\n",
       "      <td>1</td>\n",
       "      <td>0.815101</td>\n",
       "      <td>0.491080</td>\n",
       "      <td>0.836177</td>\n",
       "      <td>06:53</td>\n",
       "    </tr>\n",
       "    <tr>\n",
       "      <td>2</td>\n",
       "      <td>0.741776</td>\n",
       "      <td>0.509512</td>\n",
       "      <td>0.817247</td>\n",
       "      <td>06:53</td>\n",
       "    </tr>\n",
       "    <tr>\n",
       "      <td>3</td>\n",
       "      <td>0.685321</td>\n",
       "      <td>0.359920</td>\n",
       "      <td>0.876373</td>\n",
       "      <td>06:55</td>\n",
       "    </tr>\n",
       "    <tr>\n",
       "      <td>4</td>\n",
       "      <td>0.664806</td>\n",
       "      <td>0.357743</td>\n",
       "      <td>0.877308</td>\n",
       "      <td>06:54</td>\n",
       "    </tr>\n",
       "  </tbody>\n",
       "</table>"
      ],
      "text/plain": [
       "<IPython.core.display.HTML object>"
      ]
     },
     "metadata": {},
     "output_type": "display_data"
    },
    {
     "data": {
      "text/html": [
       "\n",
       "    <div>\n",
       "        <style>\n",
       "            /* Turns off some styling */\n",
       "            progress {\n",
       "                /* gets rid of default border in Firefox and Opera. */\n",
       "                border: none;\n",
       "                /* Needs to be in here for Safari polyfill so background images work as expected. */\n",
       "                background-size: auto;\n",
       "            }\n",
       "            .progress-bar-interrupted, .progress-bar-interrupted::-webkit-progress-bar {\n",
       "                background: #F44336;\n",
       "            }\n",
       "        </style>\n",
       "      <progress value='3' class='' max='10' style='width:300px; height:20px; vertical-align: middle;'></progress>\n",
       "      30.00% [3/10 25:29<59:28]\n",
       "    </div>\n",
       "    \n",
       "<table border=\"1\" class=\"dataframe\">\n",
       "  <thead>\n",
       "    <tr style=\"text-align: left;\">\n",
       "      <th>epoch</th>\n",
       "      <th>train_loss</th>\n",
       "      <th>valid_loss</th>\n",
       "      <th>accuracy</th>\n",
       "      <th>time</th>\n",
       "    </tr>\n",
       "  </thead>\n",
       "  <tbody>\n",
       "    <tr>\n",
       "      <td>0</td>\n",
       "      <td>0.658906</td>\n",
       "      <td>0.353454</td>\n",
       "      <td>0.878243</td>\n",
       "      <td>08:29</td>\n",
       "    </tr>\n",
       "    <tr>\n",
       "      <td>1</td>\n",
       "      <td>0.670479</td>\n",
       "      <td>0.350711</td>\n",
       "      <td>0.879878</td>\n",
       "      <td>08:29</td>\n",
       "    </tr>\n",
       "    <tr>\n",
       "      <td>2</td>\n",
       "      <td>0.678283</td>\n",
       "      <td>0.366150</td>\n",
       "      <td>0.880580</td>\n",
       "      <td>08:29</td>\n",
       "    </tr>\n",
       "  </tbody>\n",
       "</table><p>\n",
       "\n",
       "    <div>\n",
       "        <style>\n",
       "            /* Turns off some styling */\n",
       "            progress {\n",
       "                /* gets rid of default border in Firefox and Opera. */\n",
       "                border: none;\n",
       "                /* Needs to be in here for Safari polyfill so background images work as expected. */\n",
       "                background-size: auto;\n",
       "            }\n",
       "            .progress-bar-interrupted, .progress-bar-interrupted::-webkit-progress-bar {\n",
       "                background: #F44336;\n",
       "            }\n",
       "        </style>\n",
       "      <progress value='93' class='' max='534' style='width:300px; height:20px; vertical-align: middle;'></progress>\n",
       "      17.42% [93/534 01:22<06:31 0.6559]\n",
       "    </div>\n",
       "    "
      ],
      "text/plain": [
       "<IPython.core.display.HTML object>"
      ]
     },
     "metadata": {},
     "output_type": "display_data"
    }
   ],
   "source": [
    "#track time\n",
    "t0 = time.time()\n",
    "\n",
    "for split in range(K_FOLDS): #$mini\n",
    "    #track fold time\n",
    "    t1 = time.time()\n",
    "\n",
    "    dls = get_data(labels,split,bs=BS_SIZE)\n",
    "    \n",
    "    free_gpu_cache() #$mydelta\n",
    "    \n",
    "    learn = cnn_learner(dls, models.resnet50, metrics=[accuracy]).to_fp16() #$mydelta $param models.resnet18\n",
    "    learn.freeze()\n",
    "    # learn.lr_find()\n",
    "    learn.fit_one_cycle(N_FREEZE_EPOCHS, 5e-3, cbs=[MixUp()]) #$mydelta $param\n",
    "    #learn.save(f'resnet50-frozen-fold_{split}') #$mydelta\n",
    "    learn.unfreeze()\n",
    "    learn.fit_one_cycle(N_EPOCHS, slice(1e-5, 1e-4), cbs=[MixUp()]) #$mydelta $param\n",
    "    #learn.save(f'resnet50-full-fold_{split}') #$mydelta\n",
    "    \n",
    "    #export model\n",
    "    learn.export(f'/kaggle/working/model_{split}.pkl') \n",
    "    \n",
    "    print (\"Fold Training time (in min)\", (time.time() - t1)/60)\n",
    "    \n",
    "print (\"Total Training time (in min)\", (time.time() - t0)/60)"
   ]
  },
  {
   "cell_type": "markdown",
   "metadata": {
    "papermill": {
     "duration": null,
     "end_time": null,
     "exception": null,
     "start_time": null,
     "status": "pending"
    },
    "tags": []
   },
   "source": [
    "Exported models are ready for K-Fold inference"
   ]
  }
 ],
 "metadata": {
  "kernelspec": {
   "display_name": "Python 3",
   "language": "python",
   "name": "python3"
  },
  "language_info": {
   "codemirror_mode": {
    "name": "ipython",
    "version": 3
   },
   "file_extension": ".py",
   "mimetype": "text/x-python",
   "name": "python",
   "nbconvert_exporter": "python",
   "pygments_lexer": "ipython3",
   "version": "3.6.4"
  },
  "papermill": {
   "default_parameters": {},
   "duration": null,
   "end_time": null,
   "environment_variables": {},
   "exception": null,
   "input_path": "__notebook__.ipynb",
   "output_path": "__notebook__.ipynb",
   "parameters": {},
   "start_time": "2021-02-18T10:04:20.278487",
   "version": "2.2.2"
  }
 },
 "nbformat": 4,
 "nbformat_minor": 4
}